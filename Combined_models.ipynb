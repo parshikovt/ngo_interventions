{
 "cells": [
  {
   "cell_type": "code",
   "execution_count": 1,
   "metadata": {},
   "outputs": [],
   "source": [
    "import torch\n",
    "from datasets import load_dataset\n",
    "from transformers import AutoTokenizer, DistilBertForSequenceClassification\n",
    "from transformers import Trainer, TrainingArguments,DataCollatorForLanguageModeling\n",
    "\n",
    "from copy import deepcopy\n",
    "from torch.utils.data import Dataset\n",
    "import tqdm\n",
    "import csv\n",
    "from torch.utils.data import DataLoader\n",
    "\n",
    "\n",
    "import pandas as pd\n",
    "from sklearn.metrics import accuracy_score,balanced_accuracy_score,precision_score,recall_score,f1_score,roc_auc_score\n",
    "\n",
    "from sklearn.utils import compute_class_weight\n",
    "\n",
    "import evaluate\n",
    "\n",
    "accuracy = evaluate.load(\"accuracy\")\n",
    "balanced_accuracy = evaluate.load(\"hyperml/balanced_accuracy\")\n",
    "precision = evaluate.load(\"precision\")\n",
    "recall = evaluate.load(\"recall\")\n",
    "f1 = evaluate.load(\"f1\")\n",
    "roc_auc = evaluate.load(\"roc_auc\")\n",
    "\n",
    "import numpy as np\n",
    "def compute_metrics(eval_pred):\n",
    "    # print(eval_pred)\n",
    "    predictions, labels = eval_pred\n",
    "    predictions = np.argmax(predictions, axis=1)\n",
    "    return {\"balanced_accuracy\":round(balanced_accuracy.compute(predictions=predictions, references=labels)['balanced_accuracy'],2),\"precision\":round(precision.compute(predictions=predictions, references=labels)['precision'],2),\"recall\":round(recall.compute(predictions=predictions, references=labels)['recall'],2),\"f1\":round(f1.compute(predictions=predictions, references=labels)['f1'],2)} #,round(roc_auc.compute(predictions=predictions, references=labels)['roc_auc'],2))\n",
    "\n",
    "import matplotlib.pyplot as plt"
   ]
  },
  {
   "cell_type": "code",
   "execution_count": 2,
   "metadata": {},
   "outputs": [],
   "source": [
    "from transformers import AutoTokenizer, AutoConfig, AutoModel, DistilBertForSequenceClassification\n",
    "\n",
    "import torch\n",
    "\n",
    "class CustomModel(torch.nn.Module):\n",
    "    \"\"\"\n",
    "    This takes a transformer backbone and puts a slightly-modified classification head on top.\n",
    "    \n",
    "    \"\"\"\n",
    "\n",
    "    def __init__(self, num_extra_dims, num_labels=2):\n",
    "        # num_extra_dims corresponds to the number of extra dimensions of numerical/categorical data\n",
    "\n",
    "        super().__init__()\n",
    "        \n",
    "        self.config = AutoConfig.from_pretrained(\"distilbert-base-uncased\", num_labels=num_labels)\n",
    "        self.transformer=AutoModel.from_pretrained(\"distilbert-base-uncased\",config=self.config)\n",
    "        # self.transformer = DistilBertForSequenceClassification.from_pretrained(\"distilbert-base-uncased\", num_labels=num_labels)\n",
    "        self.tokenizer = AutoTokenizer.from_pretrained(\"distilbert-base-uncased\")\n",
    "        num_hidden_size = self.transformer.config.hidden_size # May be different depending on which model you use. Common sizes are 768 and 1024. Look in the config.json file \n",
    "\n",
    "        self.linear_layer_1 = torch.nn.Linear(num_hidden_size+num_extra_dims, 32)\n",
    "        # Output size is 1 since this is a binary classification problem\n",
    "        self.linear_layer_2 = torch.nn.Linear(32, 16)\n",
    "        self.linear_layer_output = torch.nn.Linear(16, 2)\n",
    "        self.relu = torch.nn.LeakyReLU(0.6)\n",
    "        self.dropout_1 = torch.nn.Dropout(0.5)\n",
    "\n",
    "\n",
    "    def forward(self, input_ids, extra_features, attention_mask=None, labels=None):\n",
    "        \"\"\"\n",
    "        extra_features should be of shape [batch_size, dim] \n",
    "        where dim is the number of additional numerical/categorical dimensions\n",
    "        \"\"\"\n",
    "\n",
    "        hidden_states = self.transformer(input_ids=input_ids, attention_mask=attention_mask) # [batch size, sequence length, hidden size]\n",
    "\n",
    "        cls_embeds = hidden_states.last_hidden_state[:, 0, :] # [batch size, hidden size]\n",
    "\n",
    "        concat = torch.cat((cls_embeds, extra_features), dim=-1) # [batch size, hidden size+num extra dims]\n",
    "\n",
    "        output_1 = self.relu(self.linear_layer_1(concat)) # [batch size, num labels]\n",
    "        output_2 = self.relu(self.linear_layer_2(output_1))\n",
    "        final_output = self.linear_layer_output(output_2)\n",
    "\n",
    "        return final_output"
   ]
  },
  {
   "cell_type": "code",
   "execution_count": 3,
   "metadata": {},
   "outputs": [
    {
     "name": "stdout",
     "output_type": "stream",
     "text": [
      "cuda\n"
     ]
    }
   ],
   "source": [
    "if torch.cuda.is_available():\n",
    "    device='cuda'\n",
    "else:\n",
    "    device='cpu'\n",
    "print(device)"
   ]
  },
  {
   "cell_type": "code",
   "execution_count": 4,
   "metadata": {},
   "outputs": [],
   "source": [
    "class TwitterDataset(Dataset):\n",
    "    \"\"\"\n",
    "    Implement TwitterDataset in Pytorch\n",
    "    \"\"\"\n",
    "    def __init__(self, path, tokenizer, device, name):\n",
    "        \n",
    "        self.label_to_id = {\"no_answer\": 0, \"answer\": 1}\n",
    "        self.id_to_label = {0: \"no_answer\", 1: \"answer\"}\n",
    "        \n",
    "        self.tokenizer = tokenizer\n",
    "        self.pad_id=tokenizer.encode(tokenizer.pad_token,add_special_tokens=False)[0]\n",
    "        self.text_samples = []\n",
    "        self.labels = []\n",
    "        self.samples=[]\n",
    "        dropped=0\n",
    "        \n",
    "        print(\"Building Twitter Dataset...\",end='')\n",
    "        \n",
    "        with open(path, \"r\") as read_obj:\n",
    "            reader = csv.reader(read_obj)\n",
    "            for ind,sample in enumerate(reader):\n",
    "                if ind!=0:\n",
    "                    # print(sample[4])\n",
    "                    try:\n",
    "                        self.text_samples.append(sample[4])\n",
    "                        # tokens=tokenizer(sample[4],return_tensors=\"pt\")\n",
    "                        # tokens['input_ids']=tokens['input_ids'].squeeze(0)\n",
    "                        # tokens['attention_mask']=tokens['attention_mask'].squeeze(0)\n",
    "                        label=torch.tensor(int(sample[8]))\n",
    "                        tokenized=tokenizer(sample[4],return_tensors=\"pt\",padding=True,truncation=True)\n",
    "                        # print(sample[4])\n",
    "                        dictionary={\"text\": sample[4], \"label\": int(sample[8])}\n",
    "                        tokenized['input_ids']=tokenized['input_ids'].squeeze(0).to(device)\n",
    "                        tokenized['attention_mask']=tokenized['attention_mask'].squeeze(0).to(device)\n",
    "                        \n",
    "                        if name in ['airlines','banks']:\n",
    "                            rate_following=(float(sample[-16])+0.00001)/(float(sample[-17])+0.00001)\n",
    "                            num_mentions = float(sample[-9])\n",
    "                            num_links = float(sample[-8])\n",
    "                            num_full_words =float(sample[-7])\n",
    "                            num_tokenized_words=float(sample[-6])\n",
    "                            num_hashtags=float(sample[-5])\n",
    "                            num_NGO_mentions=float(sample[-4])\n",
    "                            num_exclamation=float(sample[-3])\n",
    "                            num_question=float(sample[-2])\n",
    "                            sentiment=1 if sample[-1]=='positive' else (-1 if sample[-1]=='negative' else 0)\n",
    "                            # self.features.append([rate_following,num_mentions,num_links,num_full_words,num_tokenized_words,num_hashtags,num_NGO_mentions,num_exclamation,num_question,sentiment])\n",
    "                            dictionary['features']=[rate_following,num_mentions,num_links,num_full_words,num_tokenized_words,num_hashtags,num_NGO_mentions,num_exclamation,num_question,sentiment]\n",
    "                        elif name in ['icrc','other_ngo']:\n",
    "                            rate_following=(float(sample[-17])+0.00001)/(float(sample[-18])+0.00001)\n",
    "                            num_mentions = float(sample[-10])\n",
    "                            num_links = float(sample[-9])\n",
    "                            num_full_words =float(sample[-8])\n",
    "                            num_tokenized_words=float(sample[-7])\n",
    "                            num_hashtags=float(sample[-6])\n",
    "                            num_NGO_mentions=float(sample[-5])\n",
    "                            num_exclamation=float(sample[-4])\n",
    "                            num_question=float(sample[-3])\n",
    "                            # has_question=float(sample[-2])\n",
    "                            sentiment=1 if sample[-1]=='positive' else (-1 if sample[-1]=='negative' else 0)\n",
    "                            # self.features.append([rate_following,num_mentions,num_links,num_full_words,num_tokenized_words,num_hashtags,num_NGO_mentions,num_exclamation,num_question, sentiment])\n",
    "                            dictionary['features']=[rate_following,num_mentions,num_links,num_full_words,num_tokenized_words,num_hashtags,num_NGO_mentions,num_exclamation,num_question,sentiment]\n",
    "                        else:\n",
    "                            rate_following=(float(sample[-20])+0.00001)/(float(sample[-21])+0.00001)\n",
    "                            num_mentions = float(sample[-13])\n",
    "                            num_links = float(sample[-12])\n",
    "                            num_full_words =float(sample[-11])\n",
    "                            num_tokenized_words=float(sample[-10])\n",
    "                            num_hashtags=float(sample[-9])\n",
    "                            num_NGO_mentions=float(sample[-8])\n",
    "                            num_exclamation=float(sample[-7])\n",
    "                            num_question=float(sample[-6])\n",
    "                            # has_question=float(sample[-2])\n",
    "                            sentiment=1 if sample[-4]=='positive' else (-1 if sample[-4]=='negative' else 0)\n",
    "                            # self.features.append([rate_following,num_mentions,num_links,num_full_words,num_tokenized_words,num_hashtags,num_NGO_mentions,num_exclamation,num_question,sentiment])\n",
    "                            dictionary['features']=[rate_following,num_mentions,num_links,num_full_words,num_tokenized_words,num_hashtags,num_NGO_mentions,num_exclamation,num_question,sentiment]\n",
    "                        \n",
    "                        for key in tokenized.keys():\n",
    "                            dictionary[key]=tokenized[key]\n",
    "                        self.samples.append(dictionary)\n",
    "                    except:\n",
    "                        dropped+=1\n",
    "                        continue\n",
    "                    \n",
    "        print(f\"Dropped out {dropped} samples\")\n",
    "\n",
    "    def __len__(self):\n",
    "        return len(self.samples)\n",
    "    \n",
    "    def __getitem__(self, index):\n",
    "        return deepcopy(self.samples[index])\n",
    "    \n",
    "    \n",
    "    \n",
    "    def collate_fn(self, batch):\n",
    "        # try:\n",
    "            batch_text = [sample['text'] for sample in batch]\n",
    "            batch_ids=self.tokenizer(batch_text,return_tensors=\"pt\",padding=True).to(device) #for sample in batch_padded]\n",
    "            \n",
    "            tensor_batch_ids = batch_ids #torch.tensor(batch_ids)\n",
    "            \n",
    "            batch_labels = [sample['label'] for sample in batch]\n",
    "            tensor_labels = torch.tensor(batch_labels,device=device).long()\n",
    "            \n",
    "            # batch_labels = [sample['label'] for sample in batch]\n",
    "            # tensor_labels = torch.tensor(batch_labels,device=device).long()\n",
    "            \n",
    "            batch_features=[sample['features'] for sample in batch]\n",
    "            extra_features=torch.tensor(batch_features,device=device).float()\n",
    "            # extra_features=torch.tensor(batch_features).float()\n",
    "            \n",
    "            return tensor_batch_ids, tensor_labels, extra_features\n",
    "        # except:\n",
    "            # print(batch)\n",
    "    "
   ]
  },
  {
   "cell_type": "code",
   "execution_count": 5,
   "metadata": {},
   "outputs": [],
   "source": [
    "def training(name,num_epochs):\n",
    "    run_name = f\"combined-nd-well-answering-{name}\"\n",
    "\n",
    "    model = CustomModel(10)\n",
    "    model=model.to(device)\n",
    "    \n",
    "    train_data=TwitterDataset(f\"./data/train_wa_{name}.csv\",model.tokenizer,device,name)\n",
    "    test_data=TwitterDataset(f\"./data/eval_wa_{name}.csv\",model.tokenizer,device,name)\n",
    "    \n",
    "    labels=[]\n",
    "    for i in train_data:\n",
    "        labels.append(i['label'])\n",
    "    # for i in test_data:\n",
    "    #     labels.append(i['label'])\n",
    "    \n",
    "    class_weights=compute_class_weight('balanced',classes=np.unique(labels),y=np.array(labels))\n",
    "    class_weights=torch.tensor(class_weights,dtype=torch.float,device=device)\n",
    "    \n",
    "    class CustomTrainer(Trainer):\n",
    "        \n",
    "        def compute_loss(self, model, inputs, return_outputs=False):\n",
    "            # print(inputs)\n",
    "            # print(inputs)\n",
    "            labels = inputs[1]\n",
    "            # forward pass\n",
    "            input_ids=inputs[0].get(\"input_ids\")\n",
    "            attention_mask=inputs[0].get(\"attention_mask\")\n",
    "            extra_features=inputs[2]\n",
    "            logits = model(input_ids,extra_features,attention_mask)\n",
    "            # logits = outputs.get(\"logits\")\n",
    "            # # compute custom loss (suppose one has 3 labels with different weights)\n",
    "            loss_fct = torch.nn.CrossEntropyLoss(weight=class_weights,reduction='mean') #weight=torch.tensor([1.0, 2.0, 3.0])\n",
    "            loss = loss_fct(logits.view(-1, self.model.config.num_labels), labels.view(-1))\n",
    "            return (loss, logits) if return_outputs else loss\n",
    "        \n",
    "        def prediction_step(self,model,inputs,prediction_loss_only=None,ignore_keys=None):\n",
    "            \n",
    "            # labels may be popped when computing the loss (label smoothing for instance) so we grab them first.\n",
    "            labels = inputs[1]\n",
    "            # forward pass\n",
    "            input_ids=inputs[0].get(\"input_ids\")\n",
    "            attention_mask=inputs[0].get(\"attention_mask\")\n",
    "            extra_features=inputs[2]\n",
    "\n",
    "            with torch.no_grad():\n",
    "                loss, logits = self.compute_loss(model, inputs, return_outputs=True)\n",
    "                loss = loss.mean().detach()\n",
    "\n",
    "            return (loss, logits, labels)\n",
    "        \n",
    "    training_args = TrainingArguments(\n",
    "                    output_dir=f\"models/{run_name}\",\n",
    "                    num_train_epochs=num_epochs,\n",
    "                    evaluation_strategy = \"epoch\",\n",
    "                    logging_steps=200,\n",
    "                    per_device_train_batch_size=8,\n",
    "                    learning_rate=0.000005,\n",
    "                    remove_unused_columns=False,\n",
    "                    dataloader_pin_memory= False,\n",
    "                    weight_decay=0.01)\n",
    "    \n",
    "    trainer = CustomTrainer(model=model,\n",
    "                    args=training_args,\n",
    "                    train_dataset=train_data,\n",
    "                    eval_dataset=test_data,\n",
    "                    data_collator=train_data.collate_fn,\n",
    "                    compute_metrics=compute_metrics\n",
    "                    )\n",
    "    \n",
    "    return trainer"
   ]
  },
  {
   "cell_type": "code",
   "execution_count": 12,
   "metadata": {},
   "outputs": [],
   "source": [
    "def plot_save_results(trainer,name,top=2):\n",
    "    train_epoch=[]\n",
    "    train_loss=[]\n",
    "\n",
    "    eval_epoch=[]\n",
    "    eval_loss=[]\n",
    "    eval_acc=[]\n",
    "    eval_f1=[]\n",
    "    for i in trainer.state.log_history:\n",
    "        try:\n",
    "            if 'eval_loss' in i.keys():\n",
    "                eval_loss.append(i['eval_loss'])\n",
    "                eval_epoch.append(i['epoch'])\n",
    "                eval_acc.append(i['eval_balanced_accuracy'])\n",
    "                eval_f1.append(i['eval_f1'])\n",
    "            else:\n",
    "                train_loss.append(i['loss'])\n",
    "                train_epoch.append(i['epoch'])\n",
    "        except:\n",
    "            pass\n",
    "    \n",
    "    f=open(\"combined_nd/\"+name+'.txt','a')\n",
    "    f.write(str(trainer.state.log_history))\n",
    "    f.close()\n",
    "\n",
    "    plt.scatter(train_epoch,train_loss,s=10)\n",
    "    plt.ylim([0,top])\n",
    "    plt.plot(eval_epoch,eval_loss,'ro-.')\n",
    "    plt.plot(eval_epoch,eval_acc,'go--')\n",
    "    plt.plot(eval_epoch,eval_f1,'mo:')\n",
    "    plt.legend([\"train_loss\",\"eval_loss\",\"eval_balanced_accuracy\",\"eval_f1\"])\n",
    "    plt.xlabel(\"#epoch\")\n",
    "    plt.ylabel(\"loss\")\n",
    "    plt.title(name)\n",
    "    None"
   ]
  },
  {
   "cell_type": "code",
   "execution_count": 7,
   "metadata": {},
   "outputs": [],
   "source": [
    "def evaluation(trainer,dataset_name, eval_data,device):\n",
    "    # this function should be called in the train loop to monitor the performance in validation set while training.\n",
    "    \n",
    "    trainer.model.eval()\n",
    "    \n",
    "    with torch.no_grad():\n",
    "        epoch_loss=0\n",
    "        predictions=[]\n",
    "        targets=[]\n",
    "        for data in tqdm.tqdm(eval_data,desc=\"Testing\"):\n",
    "            # YOUR CODE HERE\n",
    "            loss=0\n",
    "            # print(data)\n",
    "            \n",
    "            # forward pass\n",
    "            model_loss,out=trainer.compute_loss(trainer.model, data, return_outputs=True)\n",
    "            \n",
    "            # print(out)\n",
    "            labels = data[1]\n",
    "            \n",
    "            targets.extend(labels.tolist())\n",
    "            predictions.extend(out.argmax(dim=-1).tolist())\n",
    "            loss+=model_loss\n",
    "                \n",
    "            epoch_loss+=loss.item()/len(data)\n",
    "\n",
    "\n",
    "        print(\"Evaluation for dataset \"+dataset_name)\n",
    "        ba=balanced_accuracy_score(targets, predictions)\n",
    "        pr=precision_score(targets, predictions)\n",
    "        rec=recall_score(targets, predictions)\n",
    "        f1=f1_score(targets, predictions)\n",
    "        print(f\"Test model loss={epoch_loss / len(eval_data)}\")\n",
    "        print(f\"Balanced_accuracy: {ba}\")\n",
    "        print(f\"Precision: {pr}\")\n",
    "        print(f\"Recall: {rec}\")\n",
    "        print(f\"F1: {f1}\")\n",
    "        try:\n",
    "            print(f\"Roc_auc: {roc_auc_score(targets, predictions)}\")\n",
    "        except:\n",
    "            print(\"Impossible to define ROC_AUC - only one class presents!\")\n",
    "    print(f\"Number of ones in predictions: {sum(predictions)}\")\n",
    "    print(f\"Number of predictions: {len(predictions)}\\n\")\n",
    "    return predictions,targets,ba,pr,rec,f1"
   ]
  },
  {
   "cell_type": "code",
   "execution_count": 8,
   "metadata": {},
   "outputs": [],
   "source": [
    "def evaluate_all_datasets(trainer):\n",
    "    well_answering=TwitterDataset(f\"./data/test_wa_{name}.csv\",trainer.model.tokenizer,device,name)\n",
    "    well_answering_data_loader=DataLoader(well_answering,batch_size=10,shuffle=False,collate_fn=well_answering.collate_fn)\n",
    "    wa=evaluation(trainer,\"well_answering\",well_answering_data_loader,device)\n",
    "    \n",
    "    wa_only_ones=TwitterDataset(f\"./data/oo_wa_{name}.csv\",trainer.model.tokenizer,device,name)\n",
    "    wa_only_ones_data_loader=DataLoader(wa_only_ones,batch_size=10,shuffle=False,collate_fn=wa_only_ones.collate_fn)\n",
    "    wa_oo=evaluation(trainer,\"well_answering only ones\",wa_only_ones_data_loader,device)\n",
    "    \n",
    "    wa_only_zeros=TwitterDataset(f\"./data/oz_wa_{name}.csv\",trainer.model.tokenizer,device,name)\n",
    "    wa_only_zeros_data_loader=DataLoader(wa_only_zeros,batch_size=10,shuffle=False,collate_fn=wa_only_zeros.collate_fn)\n",
    "    wa_oz=evaluation(trainer,\"well_answering only zeros\",wa_only_zeros_data_loader,device)\n",
    "    \n",
    "    low_answering=TwitterDataset(f\"./data/la_10k_{name}.csv\",trainer.model.tokenizer,device,name)\n",
    "    low_answering_data_loader=DataLoader(low_answering,batch_size=10,shuffle=False,collate_fn=low_answering.collate_fn)\n",
    "    la=evaluation(trainer,\"low_answering\",low_answering_data_loader,device)\n",
    "\n",
    "    only_ones=TwitterDataset(f\"./data/oo_{name}.csv\",trainer.model.tokenizer,device,name)\n",
    "    only_ones_data_loader=DataLoader(only_ones,batch_size=10,shuffle=False,collate_fn=only_ones.collate_fn)\n",
    "    oo=evaluation(trainer,\"low_answering only ones\",only_ones_data_loader,device)\n",
    "    \n",
    "    only_zeros=TwitterDataset(f\"./data/oz_10k_{name}.csv\",trainer.model.tokenizer,device,name)\n",
    "    only_zeros_data_loader=DataLoader(only_zeros,batch_size=10,shuffle=False,collate_fn=only_zeros.collate_fn)\n",
    "    oz=evaluation(trainer,\"low_answering only zeros\",only_zeros_data_loader,device)\n",
    "    \n",
    "    \n",
    "    metrics=[\"balanced_accuracy\",\"precision\",\"recall\",\"f1\"]\n",
    "    fig, ax = plt.subplots()\n",
    "    ax.bar(np.arange(4),[wa[2],wa[3],wa[4],wa[5]],width=0.15,align='edge')\n",
    "    ax.bar(np.arange(4)+0.15,[wa_oo[2],wa_oo[3],wa_oo[4],wa_oo[5]],width=0.15,align='edge')\n",
    "    ax.bar(np.arange(4)+0.3,[wa_oz[2],wa_oz[3],wa_oz[4],wa_oz[5]],width=0.15,align='edge')\n",
    "    ax.bar(np.arange(4)+0.45,[la[2],la[3],la[4],la[5]],width=0.15,align='edge')\n",
    "    ax.bar(np.arange(4)+0.60,[oo[2],oo[3],oo[4],oo[5]],width=0.15,align='edge')\n",
    "    ax.bar(np.arange(4)+0.75,[oz[2],oz[3],oz[4],oz[5]],width=0.15,align='edge')\n",
    "    labels = [item.get_text() for item in ax.get_xticklabels()]\n",
    "    labels = [metrics[ind//2-1] if (ind%2==0) and (ind!=len(labels)-1) and (ind!=0) else '' for ind,label in enumerate(labels) ]\n",
    "    ax.set_xticklabels(labels)\n",
    "    # plt.plot(metrics, [wa[2],wa[3],wa[4],wa[5]],'1')\n",
    "    # plt.plot(metrics,[wa_oo[2],wa_oo[3],wa_oo[4],wa_oo[5]],'2')\n",
    "    # plt.plot(metrics,[wa_oz[2],wa_oz[3],wa_oz[4],wa_oz[5]],'3')\n",
    "    # plt.plot(metrics,[la[2],la[3],la[4],la[5]],'4')\n",
    "    # plt.plot(metrics,[oo[2],oo[3],oo[4],oo[5]],'8')\n",
    "    # plt.plot(metrics,[oz[2],oz[3],oz[4],oz[5]],'s')\n",
    "    ax.legend([\"wa\",\"wa_oo\",\"wa_oz\",\"la\",\"la_oo\",\"la_oz\"])\n",
    "    plt.xlabel(\"metrics\")\n",
    "    plt.ylabel(\"value\")\n",
    "    plt.title(name)\n",
    "    \n",
    "    return wa[0:2],wa_oo[:2],wa_oz[:2],la[:2],oo[:2],oz[:2]"
   ]
  },
  {
   "cell_type": "markdown",
   "metadata": {},
   "source": [
    "### NGOs"
   ]
  },
  {
   "cell_type": "code",
   "execution_count": 9,
   "metadata": {},
   "outputs": [],
   "source": [
    "name=\"ngos\""
   ]
  },
  {
   "cell_type": "code",
   "execution_count": 10,
   "metadata": {},
   "outputs": [
    {
     "name": "stderr",
     "output_type": "stream",
     "text": [
      "Some weights of the model checkpoint at distilbert-base-uncased were not used when initializing DistilBertModel: ['vocab_layer_norm.weight', 'vocab_layer_norm.bias', 'vocab_transform.bias', 'vocab_transform.weight', 'vocab_projector.weight', 'vocab_projector.bias']\n",
      "- This IS expected if you are initializing DistilBertModel from the checkpoint of a model trained on another task or with another architecture (e.g. initializing a BertForSequenceClassification model from a BertForPreTraining model).\n",
      "- This IS NOT expected if you are initializing DistilBertModel from the checkpoint of a model that you expect to be exactly identical (initializing a BertForSequenceClassification model from a BertForSequenceClassification model).\n"
     ]
    },
    {
     "name": "stdout",
     "output_type": "stream",
     "text": [
      "Building Twitter Dataset...Dropped out 353 samples\n",
      "Building Twitter Dataset...Dropped out 73 samples\n"
     ]
    }
   ],
   "source": [
    "trainer=training(name,10)"
   ]
  },
  {
   "cell_type": "code",
   "execution_count": 11,
   "metadata": {},
   "outputs": [
    {
     "name": "stderr",
     "output_type": "stream",
     "text": [
      "c:\\ProgramData\\Anaconda3\\envs\\modern_nlp\\lib\\site-packages\\transformers\\optimization.py:395: FutureWarning: This implementation of AdamW is deprecated and will be removed in a future version. Use the PyTorch implementation torch.optim.AdamW instead, or set `no_deprecation_warning=True` to disable this warning\n",
      "  FutureWarning,\n"
     ]
    },
    {
     "data": {
      "application/vnd.jupyter.widget-view+json": {
       "model_id": "f5b467308314438985b4ca3fe252b52b",
       "version_major": 2,
       "version_minor": 0
      },
      "text/plain": [
       "  0%|          | 0/40770 [00:00<?, ?it/s]"
      ]
     },
     "metadata": {},
     "output_type": "display_data"
    },
    {
     "name": "stdout",
     "output_type": "stream",
     "text": [
      "{'loss': 172.9473, 'learning_rate': 4.9754721609026244e-06, 'epoch': 0.05}\n",
      "{'loss': 91.2087, 'learning_rate': 4.950944321805249e-06, 'epoch': 0.1}\n",
      "{'loss': 107.8964, 'learning_rate': 4.926416482707873e-06, 'epoch': 0.15}\n",
      "{'loss': 71.697, 'learning_rate': 4.901888643610498e-06, 'epoch': 0.2}\n",
      "{'loss': 76.6478, 'learning_rate': 4.877360804513123e-06, 'epoch': 0.25}\n",
      "{'loss': 76.1126, 'learning_rate': 4.852832965415747e-06, 'epoch': 0.29}\n",
      "{'loss': 15.1379, 'learning_rate': 4.828305126318372e-06, 'epoch': 0.34}\n",
      "{'loss': 6.1402, 'learning_rate': 4.803777287220997e-06, 'epoch': 0.39}\n",
      "{'loss': 2.5275, 'learning_rate': 4.779249448123621e-06, 'epoch': 0.44}\n",
      "{'loss': 1.08, 'learning_rate': 4.754721609026245e-06, 'epoch': 0.49}\n",
      "{'loss': 0.7512, 'learning_rate': 4.73019376992887e-06, 'epoch': 0.54}\n",
      "{'loss': 0.7432, 'learning_rate': 4.705665930831494e-06, 'epoch': 0.59}\n",
      "{'loss': 3.3279, 'learning_rate': 4.6811380917341185e-06, 'epoch': 0.64}\n",
      "{'loss': 2.8137, 'learning_rate': 4.6566102526367426e-06, 'epoch': 0.69}\n",
      "{'loss': 0.9124, 'learning_rate': 4.632082413539367e-06, 'epoch': 0.74}\n",
      "{'loss': 1.0721, 'learning_rate': 4.607554574441992e-06, 'epoch': 0.78}\n",
      "{'loss': 0.8057, 'learning_rate': 4.583026735344617e-06, 'epoch': 0.83}\n",
      "{'loss': 1.9429, 'learning_rate': 4.558498896247241e-06, 'epoch': 0.88}\n",
      "{'loss': 2.5113, 'learning_rate': 4.533971057149866e-06, 'epoch': 0.93}\n",
      "{'loss': 1.4057, 'learning_rate': 4.50944321805249e-06, 'epoch': 0.98}\n"
     ]
    },
    {
     "data": {
      "application/vnd.jupyter.widget-view+json": {
       "model_id": "ca3a35ea17d94094a75d9305455bbe59",
       "version_major": 2,
       "version_minor": 0
      },
      "text/plain": [
       "  0%|          | 0/764 [00:00<?, ?it/s]"
      ]
     },
     "metadata": {},
     "output_type": "display_data"
    },
    {
     "name": "stdout",
     "output_type": "stream",
     "text": [
      "{'eval_loss': 1.206368327140808, 'eval_balanced_accuracy': 0.64, 'eval_precision': 0.93, 'eval_recall': 0.28, 'eval_f1': 0.43, 'eval_runtime': 10.8702, 'eval_samples_per_second': 561.996, 'eval_steps_per_second': 70.284, 'epoch': 1.0}\n",
      "{'loss': 1.1438, 'learning_rate': 4.484915378955114e-06, 'epoch': 1.03}\n",
      "{'loss': 1.0151, 'learning_rate': 4.460387539857739e-06, 'epoch': 1.08}\n",
      "{'loss': 2.8981, 'learning_rate': 4.435859700760363e-06, 'epoch': 1.13}\n",
      "{'loss': 1.0935, 'learning_rate': 4.411331861662988e-06, 'epoch': 1.18}\n",
      "{'loss': 1.4399, 'learning_rate': 4.386804022565612e-06, 'epoch': 1.23}\n",
      "{'loss': 0.735, 'learning_rate': 4.362276183468237e-06, 'epoch': 1.28}\n",
      "{'loss': 0.6992, 'learning_rate': 4.3377483443708615e-06, 'epoch': 1.32}\n",
      "{'loss': 0.6855, 'learning_rate': 4.313220505273486e-06, 'epoch': 1.37}\n",
      "{'loss': 0.8983, 'learning_rate': 4.28869266617611e-06, 'epoch': 1.42}\n",
      "{'loss': 0.841, 'learning_rate': 4.2641648270787344e-06, 'epoch': 1.47}\n",
      "{'loss': 0.8927, 'learning_rate': 4.239636987981359e-06, 'epoch': 1.52}\n",
      "{'loss': 1.0972, 'learning_rate': 4.215109148883983e-06, 'epoch': 1.57}\n",
      "{'loss': 1.5668, 'learning_rate': 4.190581309786608e-06, 'epoch': 1.62}\n",
      "{'loss': 0.6355, 'learning_rate': 4.166053470689232e-06, 'epoch': 1.67}\n",
      "{'loss': 0.6221, 'learning_rate': 4.141525631591857e-06, 'epoch': 1.72}\n",
      "{'loss': 1.8252, 'learning_rate': 4.116997792494482e-06, 'epoch': 1.77}\n",
      "{'loss': 3.3193, 'learning_rate': 4.092469953397106e-06, 'epoch': 1.82}\n",
      "{'loss': 1.0065, 'learning_rate': 4.067942114299731e-06, 'epoch': 1.86}\n",
      "{'loss': 1.1685, 'learning_rate': 4.043414275202355e-06, 'epoch': 1.91}\n",
      "{'loss': 1.3947, 'learning_rate': 4.01888643610498e-06, 'epoch': 1.96}\n"
     ]
    },
    {
     "data": {
      "application/vnd.jupyter.widget-view+json": {
       "model_id": "d04536ac5787497cb891356438afac77",
       "version_major": 2,
       "version_minor": 0
      },
      "text/plain": [
       "  0%|          | 0/764 [00:00<?, ?it/s]"
      ]
     },
     "metadata": {},
     "output_type": "display_data"
    },
    {
     "name": "stdout",
     "output_type": "stream",
     "text": [
      "{'eval_loss': 1.4685581922531128, 'eval_balanced_accuracy': 0.67, 'eval_precision': 0.6, 'eval_recall': 0.35, 'eval_f1': 0.44, 'eval_runtime': 10.453, 'eval_samples_per_second': 584.425, 'eval_steps_per_second': 73.089, 'epoch': 2.0}\n",
      "{'loss': 1.2196, 'learning_rate': 3.994358597007604e-06, 'epoch': 2.01}\n",
      "{'loss': 1.3467, 'learning_rate': 3.9698307579102286e-06, 'epoch': 2.06}\n",
      "{'loss': 0.8301, 'learning_rate': 3.9453029188128526e-06, 'epoch': 2.11}\n",
      "{'loss': 1.1858, 'learning_rate': 3.9207750797154774e-06, 'epoch': 2.16}\n",
      "{'loss': 0.8395, 'learning_rate': 3.8962472406181014e-06, 'epoch': 2.21}\n",
      "{'loss': 0.9628, 'learning_rate': 3.871719401520726e-06, 'epoch': 2.26}\n",
      "{'loss': 1.0665, 'learning_rate': 3.847191562423351e-06, 'epoch': 2.31}\n",
      "{'loss': 0.8585, 'learning_rate': 3.822663723325975e-06, 'epoch': 2.35}\n",
      "{'loss': 1.2153, 'learning_rate': 3.7981358842285996e-06, 'epoch': 2.4}\n",
      "{'loss': 0.6631, 'learning_rate': 3.773608045131224e-06, 'epoch': 2.45}\n",
      "{'loss': 1.1766, 'learning_rate': 3.749080206033849e-06, 'epoch': 2.5}\n",
      "{'loss': 0.8255, 'learning_rate': 3.724552366936473e-06, 'epoch': 2.55}\n",
      "{'loss': 3.1921, 'learning_rate': 3.700024527839098e-06, 'epoch': 2.6}\n",
      "{'loss': 0.8424, 'learning_rate': 3.6754966887417222e-06, 'epoch': 2.65}\n",
      "{'loss': 1.7056, 'learning_rate': 3.6509688496443467e-06, 'epoch': 2.7}\n",
      "{'loss': 0.6311, 'learning_rate': 3.626441010546971e-06, 'epoch': 2.75}\n",
      "{'loss': 0.8717, 'learning_rate': 3.601913171449596e-06, 'epoch': 2.8}\n",
      "{'loss': 1.5205, 'learning_rate': 3.57738533235222e-06, 'epoch': 2.85}\n",
      "{'loss': 0.8246, 'learning_rate': 3.5528574932548444e-06, 'epoch': 2.89}\n",
      "{'loss': 3.0877, 'learning_rate': 3.528329654157469e-06, 'epoch': 2.94}\n",
      "{'loss': 1.7068, 'learning_rate': 3.5038018150600933e-06, 'epoch': 2.99}\n"
     ]
    },
    {
     "data": {
      "application/vnd.jupyter.widget-view+json": {
       "model_id": "cd0cb8f9ddfc4f84ac4e58ead627d2b1",
       "version_major": 2,
       "version_minor": 0
      },
      "text/plain": [
       "  0%|          | 0/764 [00:00<?, ?it/s]"
      ]
     },
     "metadata": {},
     "output_type": "display_data"
    },
    {
     "name": "stdout",
     "output_type": "stream",
     "text": [
      "{'eval_loss': 1.2895973920822144, 'eval_balanced_accuracy': 0.68, 'eval_precision': 0.93, 'eval_recall': 0.36, 'eval_f1': 0.52, 'eval_runtime': 10.594, 'eval_samples_per_second': 576.647, 'eval_steps_per_second': 72.116, 'epoch': 3.0}\n",
      "{'loss': 1.9334, 'learning_rate': 3.479273975962718e-06, 'epoch': 3.04}\n",
      "{'loss': 0.886, 'learning_rate': 3.454746136865342e-06, 'epoch': 3.09}\n",
      "{'loss': 1.148, 'learning_rate': 3.430218297767967e-06, 'epoch': 3.14}\n",
      "{'loss': 0.8541, 'learning_rate': 3.4056904586705915e-06, 'epoch': 3.19}\n",
      "{'loss': 0.8956, 'learning_rate': 3.381162619573216e-06, 'epoch': 3.24}\n",
      "{'loss': 1.2651, 'learning_rate': 3.3566347804758404e-06, 'epoch': 3.29}\n",
      "{'loss': 2.4344, 'learning_rate': 3.3321069413784644e-06, 'epoch': 3.34}\n",
      "{'loss': 1.0483, 'learning_rate': 3.3075791022810893e-06, 'epoch': 3.38}\n",
      "{'loss': 0.685, 'learning_rate': 3.2830512631837137e-06, 'epoch': 3.43}\n",
      "{'loss': 2.4754, 'learning_rate': 3.2585234240863386e-06, 'epoch': 3.48}\n",
      "{'loss': 0.8198, 'learning_rate': 3.2339955849889626e-06, 'epoch': 3.53}\n",
      "{'loss': 0.7421, 'learning_rate': 3.2094677458915874e-06, 'epoch': 3.58}\n",
      "{'loss': 0.906, 'learning_rate': 3.1849399067942115e-06, 'epoch': 3.63}\n",
      "{'loss': 1.8453, 'learning_rate': 3.1604120676968363e-06, 'epoch': 3.68}\n",
      "{'loss': 0.8177, 'learning_rate': 3.1358842285994608e-06, 'epoch': 3.73}\n",
      "{'loss': 1.1354, 'learning_rate': 3.1113563895020848e-06, 'epoch': 3.78}\n",
      "{'loss': 0.601, 'learning_rate': 3.0868285504047096e-06, 'epoch': 3.83}\n",
      "{'loss': 0.6255, 'learning_rate': 3.0623007113073337e-06, 'epoch': 3.88}\n",
      "{'loss': 0.8777, 'learning_rate': 3.0377728722099585e-06, 'epoch': 3.92}\n",
      "{'loss': 0.9126, 'learning_rate': 3.013245033112583e-06, 'epoch': 3.97}\n"
     ]
    },
    {
     "data": {
      "application/vnd.jupyter.widget-view+json": {
       "model_id": "60f950f74cd14319ab0241e0c5060566",
       "version_major": 2,
       "version_minor": 0
      },
      "text/plain": [
       "  0%|          | 0/764 [00:00<?, ?it/s]"
      ]
     },
     "metadata": {},
     "output_type": "display_data"
    },
    {
     "name": "stdout",
     "output_type": "stream",
     "text": [
      "{'eval_loss': 0.6643683910369873, 'eval_balanced_accuracy': 0.76, 'eval_precision': 0.88, 'eval_recall': 0.52, 'eval_f1': 0.65, 'eval_runtime': 10.6263, 'eval_samples_per_second': 574.896, 'eval_steps_per_second': 71.897, 'epoch': 4.0}\n",
      "{'loss': 0.808, 'learning_rate': 2.988717194015208e-06, 'epoch': 4.02}\n",
      "{'loss': 1.0626, 'learning_rate': 2.964189354917832e-06, 'epoch': 4.07}\n",
      "{'loss': 0.6393, 'learning_rate': 2.9396615158204567e-06, 'epoch': 4.12}\n",
      "{'loss': 0.5401, 'learning_rate': 2.9151336767230807e-06, 'epoch': 4.17}\n",
      "{'loss': 1.2889, 'learning_rate': 2.8906058376257056e-06, 'epoch': 4.22}\n",
      "{'loss': 1.5206, 'learning_rate': 2.86607799852833e-06, 'epoch': 4.27}\n",
      "{'loss': 1.9207, 'learning_rate': 2.841550159430954e-06, 'epoch': 4.32}\n",
      "{'loss': 0.4883, 'learning_rate': 2.817022320333579e-06, 'epoch': 4.37}\n",
      "{'loss': 1.5475, 'learning_rate': 2.7924944812362033e-06, 'epoch': 4.42}\n",
      "{'loss': 0.8053, 'learning_rate': 2.7679666421388278e-06, 'epoch': 4.46}\n",
      "{'loss': 2.6318, 'learning_rate': 2.743438803041452e-06, 'epoch': 4.51}\n",
      "{'loss': 2.3139, 'learning_rate': 2.718910963944077e-06, 'epoch': 4.56}\n",
      "{'loss': 0.6612, 'learning_rate': 2.694383124846701e-06, 'epoch': 4.61}\n",
      "{'loss': 1.1151, 'learning_rate': 2.669855285749326e-06, 'epoch': 4.66}\n",
      "{'loss': 0.5732, 'learning_rate': 2.6453274466519504e-06, 'epoch': 4.71}\n",
      "{'loss': 0.5627, 'learning_rate': 2.6207996075545744e-06, 'epoch': 4.76}\n",
      "{'loss': 0.8259, 'learning_rate': 2.5962717684571993e-06, 'epoch': 4.81}\n",
      "{'loss': 0.7627, 'learning_rate': 2.5717439293598233e-06, 'epoch': 4.86}\n",
      "{'loss': 0.6631, 'learning_rate': 2.547216090262448e-06, 'epoch': 4.91}\n",
      "{'loss': 1.3654, 'learning_rate': 2.5226882511650726e-06, 'epoch': 4.95}\n"
     ]
    },
    {
     "data": {
      "application/vnd.jupyter.widget-view+json": {
       "model_id": "5781d836df10457b803dc32c52d9e080",
       "version_major": 2,
       "version_minor": 0
      },
      "text/plain": [
       "  0%|          | 0/764 [00:00<?, ?it/s]"
      ]
     },
     "metadata": {},
     "output_type": "display_data"
    },
    {
     "name": "stdout",
     "output_type": "stream",
     "text": [
      "{'eval_loss': 0.6296812295913696, 'eval_balanced_accuracy': 0.79, 'eval_precision': 0.9, 'eval_recall': 0.59, 'eval_f1': 0.72, 'eval_runtime': 10.5925, 'eval_samples_per_second': 576.729, 'eval_steps_per_second': 72.127, 'epoch': 5.0}\n",
      "{'loss': 0.816, 'learning_rate': 2.498160412067697e-06, 'epoch': 5.0}\n",
      "{'loss': 0.5779, 'learning_rate': 2.4736325729703215e-06, 'epoch': 5.05}\n",
      "{'loss': 1.0152, 'learning_rate': 2.449104733872946e-06, 'epoch': 5.1}\n",
      "{'loss': 0.4827, 'learning_rate': 2.4245768947755703e-06, 'epoch': 5.15}\n",
      "{'loss': 2.9243, 'learning_rate': 2.4000490556781948e-06, 'epoch': 5.2}\n",
      "{'loss': 0.9369, 'learning_rate': 2.3755212165808196e-06, 'epoch': 5.25}\n",
      "{'loss': 1.0338, 'learning_rate': 2.350993377483444e-06, 'epoch': 5.3}\n",
      "{'loss': 0.6348, 'learning_rate': 2.3264655383860685e-06, 'epoch': 5.35}\n",
      "{'loss': 0.9137, 'learning_rate': 2.301937699288693e-06, 'epoch': 5.4}\n",
      "{'loss': 1.1478, 'learning_rate': 2.2774098601913174e-06, 'epoch': 5.45}\n",
      "{'loss': 1.4638, 'learning_rate': 2.252882021093942e-06, 'epoch': 5.49}\n",
      "{'loss': 0.8491, 'learning_rate': 2.2283541819965663e-06, 'epoch': 5.54}\n",
      "{'loss': 0.5191, 'learning_rate': 2.2038263428991907e-06, 'epoch': 5.59}\n",
      "{'loss': 0.5084, 'learning_rate': 2.179298503801815e-06, 'epoch': 5.64}\n",
      "{'loss': 1.162, 'learning_rate': 2.1547706647044396e-06, 'epoch': 5.69}\n",
      "{'loss': 0.7243, 'learning_rate': 2.130242825607064e-06, 'epoch': 5.74}\n",
      "{'loss': 0.597, 'learning_rate': 2.105714986509689e-06, 'epoch': 5.79}\n",
      "{'loss': 0.4724, 'learning_rate': 2.0811871474123133e-06, 'epoch': 5.84}\n",
      "{'loss': 0.659, 'learning_rate': 2.0566593083149374e-06, 'epoch': 5.89}\n",
      "{'loss': 2.3118, 'learning_rate': 2.032131469217562e-06, 'epoch': 5.94}\n",
      "{'loss': 0.6825, 'learning_rate': 2.0076036301201867e-06, 'epoch': 5.98}\n"
     ]
    },
    {
     "data": {
      "application/vnd.jupyter.widget-view+json": {
       "model_id": "4da28994a2554d6e99f9437f944abfdd",
       "version_major": 2,
       "version_minor": 0
      },
      "text/plain": [
       "  0%|          | 0/764 [00:00<?, ?it/s]"
      ]
     },
     "metadata": {},
     "output_type": "display_data"
    },
    {
     "name": "stdout",
     "output_type": "stream",
     "text": [
      "{'eval_loss': 0.9419264793395996, 'eval_balanced_accuracy': 0.85, 'eval_precision': 0.94, 'eval_recall': 0.71, 'eval_f1': 0.81, 'eval_runtime': 10.5546, 'eval_samples_per_second': 578.801, 'eval_steps_per_second': 72.386, 'epoch': 6.0}\n",
      "{'loss': 1.7737, 'learning_rate': 1.983075791022811e-06, 'epoch': 6.03}\n",
      "{'loss': 0.6691, 'learning_rate': 1.9585479519254355e-06, 'epoch': 6.08}\n",
      "{'loss': 0.4072, 'learning_rate': 1.93402011282806e-06, 'epoch': 6.13}\n",
      "{'loss': 1.1617, 'learning_rate': 1.9094922737306844e-06, 'epoch': 6.18}\n",
      "{'loss': 0.7927, 'learning_rate': 1.884964434633309e-06, 'epoch': 6.23}\n",
      "{'loss': 2.8727, 'learning_rate': 1.8604365955359335e-06, 'epoch': 6.28}\n",
      "{'loss': 0.4588, 'learning_rate': 1.835908756438558e-06, 'epoch': 6.33}\n",
      "{'loss': 0.6417, 'learning_rate': 1.8113809173411822e-06, 'epoch': 6.38}\n",
      "{'loss': 0.5945, 'learning_rate': 1.7868530782438068e-06, 'epoch': 6.43}\n",
      "{'loss': 0.9327, 'learning_rate': 1.7623252391464313e-06, 'epoch': 6.48}\n",
      "{'loss': 0.4391, 'learning_rate': 1.7377974000490557e-06, 'epoch': 6.52}\n",
      "{'loss': 0.4327, 'learning_rate': 1.7132695609516804e-06, 'epoch': 6.57}\n",
      "{'loss': 0.7454, 'learning_rate': 1.6887417218543048e-06, 'epoch': 6.62}\n",
      "{'loss': 0.5292, 'learning_rate': 1.6642138827569292e-06, 'epoch': 6.67}\n",
      "{'loss': 0.5569, 'learning_rate': 1.6396860436595539e-06, 'epoch': 6.72}\n",
      "{'loss': 1.7673, 'learning_rate': 1.6151582045621783e-06, 'epoch': 6.77}\n",
      "{'loss': 0.6151, 'learning_rate': 1.5906303654648028e-06, 'epoch': 6.82}\n",
      "{'loss': 0.6989, 'learning_rate': 1.566102526367427e-06, 'epoch': 6.87}\n",
      "{'loss': 0.7413, 'learning_rate': 1.5415746872700516e-06, 'epoch': 6.92}\n",
      "{'loss': 1.1994, 'learning_rate': 1.517046848172676e-06, 'epoch': 6.97}\n"
     ]
    },
    {
     "data": {
      "application/vnd.jupyter.widget-view+json": {
       "model_id": "ddab3c53460d4c1b9e1c79522e15de2e",
       "version_major": 2,
       "version_minor": 0
      },
      "text/plain": [
       "  0%|          | 0/764 [00:00<?, ?it/s]"
      ]
     },
     "metadata": {},
     "output_type": "display_data"
    },
    {
     "name": "stdout",
     "output_type": "stream",
     "text": [
      "{'eval_loss': 0.7860576510429382, 'eval_balanced_accuracy': 0.85, 'eval_precision': 0.98, 'eval_recall': 0.71, 'eval_f1': 0.82, 'eval_runtime': 10.5604, 'eval_samples_per_second': 578.482, 'eval_steps_per_second': 72.346, 'epoch': 7.0}\n",
      "{'loss': 0.9729, 'learning_rate': 1.4925190090753005e-06, 'epoch': 7.01}\n",
      "{'loss': 0.4034, 'learning_rate': 1.4679911699779252e-06, 'epoch': 7.06}\n",
      "{'loss': 2.3301, 'learning_rate': 1.4434633308805496e-06, 'epoch': 7.11}\n",
      "{'loss': 0.6576, 'learning_rate': 1.418935491783174e-06, 'epoch': 7.16}\n",
      "{'loss': 0.7867, 'learning_rate': 1.3944076526857985e-06, 'epoch': 7.21}\n",
      "{'loss': 0.6642, 'learning_rate': 1.3698798135884231e-06, 'epoch': 7.26}\n",
      "{'loss': 0.7754, 'learning_rate': 1.3453519744910474e-06, 'epoch': 7.31}\n",
      "{'loss': 0.554, 'learning_rate': 1.3208241353936718e-06, 'epoch': 7.36}\n",
      "{'loss': 0.5742, 'learning_rate': 1.2962962962962962e-06, 'epoch': 7.41}\n",
      "{'loss': 0.5432, 'learning_rate': 1.271768457198921e-06, 'epoch': 7.46}\n",
      "{'loss': 0.3595, 'learning_rate': 1.2472406181015453e-06, 'epoch': 7.51}\n",
      "{'loss': 0.5292, 'learning_rate': 1.2227127790041698e-06, 'epoch': 7.55}\n",
      "{'loss': 0.7775, 'learning_rate': 1.1981849399067944e-06, 'epoch': 7.6}\n",
      "{'loss': 0.5999, 'learning_rate': 1.1736571008094187e-06, 'epoch': 7.65}\n",
      "{'loss': 1.3414, 'learning_rate': 1.1491292617120433e-06, 'epoch': 7.7}\n",
      "{'loss': 0.6023, 'learning_rate': 1.1246014226146677e-06, 'epoch': 7.75}\n",
      "{'loss': 0.7408, 'learning_rate': 1.1000735835172922e-06, 'epoch': 7.8}\n",
      "{'loss': 0.8845, 'learning_rate': 1.0755457444199168e-06, 'epoch': 7.85}\n",
      "{'loss': 0.4062, 'learning_rate': 1.051017905322541e-06, 'epoch': 7.9}\n",
      "{'loss': 0.7466, 'learning_rate': 1.0264900662251657e-06, 'epoch': 7.95}\n",
      "{'loss': 0.3735, 'learning_rate': 1.0019622271277902e-06, 'epoch': 8.0}\n"
     ]
    },
    {
     "data": {
      "application/vnd.jupyter.widget-view+json": {
       "model_id": "e24dd3ff1fd443f2a8f74aead98ea87e",
       "version_major": 2,
       "version_minor": 0
      },
      "text/plain": [
       "  0%|          | 0/764 [00:00<?, ?it/s]"
      ]
     },
     "metadata": {},
     "output_type": "display_data"
    },
    {
     "name": "stdout",
     "output_type": "stream",
     "text": [
      "{'eval_loss': 0.6612171530723572, 'eval_balanced_accuracy': 0.88, 'eval_precision': 0.98, 'eval_recall': 0.75, 'eval_f1': 0.85, 'eval_runtime': 10.5872, 'eval_samples_per_second': 577.015, 'eval_steps_per_second': 72.162, 'epoch': 8.0}\n",
      "{'loss': 0.6123, 'learning_rate': 9.774343880304146e-07, 'epoch': 8.05}\n",
      "{'loss': 0.4481, 'learning_rate': 9.529065489330391e-07, 'epoch': 8.09}\n",
      "{'loss': 0.4969, 'learning_rate': 9.283787098356635e-07, 'epoch': 8.14}\n",
      "{'loss': 1.7265, 'learning_rate': 9.03850870738288e-07, 'epoch': 8.19}\n",
      "{'loss': 0.5901, 'learning_rate': 8.793230316409126e-07, 'epoch': 8.24}\n",
      "{'loss': 0.4512, 'learning_rate': 8.54795192543537e-07, 'epoch': 8.29}\n",
      "{'loss': 0.5228, 'learning_rate': 8.302673534461615e-07, 'epoch': 8.34}\n",
      "{'loss': 0.5471, 'learning_rate': 8.057395143487859e-07, 'epoch': 8.39}\n",
      "{'loss': 0.438, 'learning_rate': 7.812116752514104e-07, 'epoch': 8.44}\n",
      "{'loss': 0.4143, 'learning_rate': 7.566838361540349e-07, 'epoch': 8.49}\n",
      "{'loss': 0.506, 'learning_rate': 7.321559970566594e-07, 'epoch': 8.54}\n",
      "{'loss': 0.5415, 'learning_rate': 7.07628157959284e-07, 'epoch': 8.58}\n",
      "{'loss': 0.7611, 'learning_rate': 6.831003188619083e-07, 'epoch': 8.63}\n",
      "{'loss': 0.3482, 'learning_rate': 6.585724797645328e-07, 'epoch': 8.68}\n",
      "{'loss': 0.5075, 'learning_rate': 6.340446406671573e-07, 'epoch': 8.73}\n",
      "{'loss': 0.5292, 'learning_rate': 6.095168015697817e-07, 'epoch': 8.78}\n",
      "{'loss': 1.738, 'learning_rate': 5.849889624724063e-07, 'epoch': 8.83}\n",
      "{'loss': 0.7041, 'learning_rate': 5.604611233750307e-07, 'epoch': 8.88}\n",
      "{'loss': 0.3322, 'learning_rate': 5.359332842776551e-07, 'epoch': 8.93}\n",
      "{'loss': 0.4253, 'learning_rate': 5.114054451802797e-07, 'epoch': 8.98}\n"
     ]
    },
    {
     "data": {
      "application/vnd.jupyter.widget-view+json": {
       "model_id": "9858eddec05c42fd87d87735c5ce0e1c",
       "version_major": 2,
       "version_minor": 0
      },
      "text/plain": [
       "  0%|          | 0/764 [00:00<?, ?it/s]"
      ]
     },
     "metadata": {},
     "output_type": "display_data"
    },
    {
     "name": "stdout",
     "output_type": "stream",
     "text": [
      "{'eval_loss': 0.4466888904571533, 'eval_balanced_accuracy': 0.89, 'eval_precision': 0.98, 'eval_recall': 0.78, 'eval_f1': 0.87, 'eval_runtime': 10.5394, 'eval_samples_per_second': 579.635, 'eval_steps_per_second': 72.49, 'epoch': 9.0}\n",
      "{'loss': 0.2762, 'learning_rate': 4.868776060829041e-07, 'epoch': 9.03}\n",
      "{'loss': 0.5705, 'learning_rate': 4.623497669855286e-07, 'epoch': 9.08}\n",
      "{'loss': 0.4643, 'learning_rate': 4.3782192788815305e-07, 'epoch': 9.12}\n",
      "{'loss': 0.5346, 'learning_rate': 4.1329408879077754e-07, 'epoch': 9.17}\n",
      "{'loss': 0.4664, 'learning_rate': 3.887662496934021e-07, 'epoch': 9.22}\n",
      "{'loss': 0.5326, 'learning_rate': 3.642384105960265e-07, 'epoch': 9.27}\n",
      "{'loss': 0.528, 'learning_rate': 3.39710571498651e-07, 'epoch': 9.32}\n",
      "{'loss': 0.4491, 'learning_rate': 3.1518273240127546e-07, 'epoch': 9.37}\n",
      "{'loss': 0.2031, 'learning_rate': 2.9065489330389995e-07, 'epoch': 9.42}\n",
      "{'loss': 0.314, 'learning_rate': 2.6612705420652444e-07, 'epoch': 9.47}\n",
      "{'loss': 0.9486, 'learning_rate': 2.415992151091489e-07, 'epoch': 9.52}\n",
      "{'loss': 1.644, 'learning_rate': 2.1707137601177337e-07, 'epoch': 9.57}\n",
      "{'loss': 0.916, 'learning_rate': 1.9254353691439787e-07, 'epoch': 9.61}\n",
      "{'loss': 0.3217, 'learning_rate': 1.6801569781702233e-07, 'epoch': 9.66}\n",
      "{'loss': 0.4398, 'learning_rate': 1.4348785871964682e-07, 'epoch': 9.71}\n",
      "{'loss': 0.6969, 'learning_rate': 1.1896001962227129e-07, 'epoch': 9.76}\n",
      "{'loss': 0.8755, 'learning_rate': 9.443218052489576e-08, 'epoch': 9.81}\n",
      "{'loss': 0.2665, 'learning_rate': 6.990434142752025e-08, 'epoch': 9.86}\n",
      "{'loss': 0.3407, 'learning_rate': 4.537650233014471e-08, 'epoch': 9.91}\n",
      "{'loss': 0.2097, 'learning_rate': 2.0848663232769196e-08, 'epoch': 9.96}\n"
     ]
    },
    {
     "data": {
      "application/vnd.jupyter.widget-view+json": {
       "model_id": "93a8e60fa5e6454fb9397ffc3c52fc8e",
       "version_major": 2,
       "version_minor": 0
      },
      "text/plain": [
       "  0%|          | 0/764 [00:00<?, ?it/s]"
      ]
     },
     "metadata": {},
     "output_type": "display_data"
    },
    {
     "name": "stdout",
     "output_type": "stream",
     "text": [
      "{'eval_loss': 0.4304501712322235, 'eval_balanced_accuracy': 0.89, 'eval_precision': 0.99, 'eval_recall': 0.78, 'eval_f1': 0.87, 'eval_runtime': 10.4969, 'eval_samples_per_second': 581.979, 'eval_steps_per_second': 72.783, 'epoch': 10.0}\n",
      "{'train_runtime': 2592.5801, 'train_samples_per_second': 125.805, 'train_steps_per_second': 15.726, 'train_loss': 3.9848197005091563, 'epoch': 10.0}\n"
     ]
    },
    {
     "data": {
      "text/plain": [
       "TrainOutput(global_step=40770, training_loss=3.9848197005091563, metrics={'train_runtime': 2592.5801, 'train_samples_per_second': 125.805, 'train_steps_per_second': 15.726, 'train_loss': 3.9848197005091563, 'epoch': 10.0})"
      ]
     },
     "execution_count": 11,
     "metadata": {},
     "output_type": "execute_result"
    }
   ],
   "source": [
    "trainer.train()"
   ]
  },
  {
   "cell_type": "code",
   "execution_count": 15,
   "metadata": {},
   "outputs": [
    {
     "data": {
      "image/png": "[encoded data removed]",
      "text/plain": [
       "<Figure size 640x480 with 1 Axes>"
      ]
     },
     "metadata": {},
     "output_type": "display_data"
    }
   ],
   "source": [
    "plot_save_results(trainer,name)"
   ]
  },
  {
   "cell_type": "code",
   "execution_count": 16,
   "metadata": {},
   "outputs": [
    {
     "name": "stdout",
     "output_type": "stream",
     "text": [
      "Building Twitter Dataset...Dropped out 26 samples\n"
     ]
    },
    {
     "name": "stderr",
     "output_type": "stream",
     "text": [
      "Testing: 100%|██████████| 204/204 [00:03<00:00, 56.87it/s]\n"
     ]
    },
    {
     "name": "stdout",
     "output_type": "stream",
     "text": [
      "Evaluation for dataset well_answering\n",
      "Test model loss=0.16268297324740422\n",
      "Balanced_accuracy: 0.9080021118222941\n",
      "Precision: 0.9852941176470589\n",
      "Recall: 0.8170731707317073\n",
      "F1: 0.8933333333333334\n",
      "Roc_auc: 0.9080021118222938\n",
      "Number of ones in predictions: 136\n",
      "Number of predictions: 2035\n",
      "\n",
      "Building Twitter Dataset...Dropped out 65 samples\n"
     ]
    },
    {
     "name": "stderr",
     "output_type": "stream",
     "text": [
      "Testing: 100%|██████████| 333/333 [00:05<00:00, 60.14it/s]\n",
      "c:\\ProgramData\\Anaconda3\\envs\\modern_nlp\\lib\\site-packages\\sklearn\\metrics\\_classification.py:1987: UserWarning: y_pred contains classes not in y_true\n",
      "  warnings.warn(\"y_pred contains classes not in y_true\")\n"
     ]
    },
    {
     "name": "stdout",
     "output_type": "stream",
     "text": [
      "Evaluation for dataset well_answering only ones\n",
      "Test model loss=0.6725334755028589\n",
      "Balanced_accuracy: 0.7267529340956966\n",
      "Precision: 1.0\n",
      "Recall: 0.7267529340956966\n",
      "F1: 0.841756709654932\n",
      "Impossible to define ROC_AUC - only one class presents!\n",
      "Number of ones in predictions: 2415\n",
      "Number of predictions: 3323\n",
      "\n",
      "Building Twitter Dataset...Dropped out 98 samples\n"
     ]
    },
    {
     "name": "stderr",
     "output_type": "stream",
     "text": [
      "Testing: 100%|██████████| 991/991 [00:16<00:00, 60.34it/s]\n",
      "c:\\ProgramData\\Anaconda3\\envs\\modern_nlp\\lib\\site-packages\\sklearn\\metrics\\_classification.py:1987: UserWarning: y_pred contains classes not in y_true\n",
      "  warnings.warn(\"y_pred contains classes not in y_true\")\n",
      "c:\\ProgramData\\Anaconda3\\envs\\modern_nlp\\lib\\site-packages\\sklearn\\metrics\\_classification.py:1318: UndefinedMetricWarning: Recall is ill-defined and being set to 0.0 due to no true samples. Use `zero_division` parameter to control this behavior.\n",
      "  _warn_prf(average, modifier, msg_start, len(result))\n"
     ]
    },
    {
     "name": "stdout",
     "output_type": "stream",
     "text": [
      "Evaluation for dataset well_answering only zeros\n",
      "Test model loss=0.011112663351541914\n",
      "Balanced_accuracy: 0.9940416077560089\n",
      "Precision: 0.0\n",
      "Recall: 0.0\n",
      "F1: 0.0\n",
      "Impossible to define ROC_AUC - only one class presents!\n",
      "Number of ones in predictions: 59\n",
      "Number of predictions: 9902\n",
      "\n",
      "Building Twitter Dataset...Dropped out 54 samples\n"
     ]
    },
    {
     "name": "stderr",
     "output_type": "stream",
     "text": [
      "Testing: 100%|██████████| 995/995 [00:17<00:00, 56.42it/s]\n"
     ]
    },
    {
     "name": "stdout",
     "output_type": "stream",
     "text": [
      "Evaluation for dataset low_answering\n",
      "Test model loss=0.8083548685442198\n",
      "Balanced_accuracy: 0.6211802719418664\n",
      "Precision: 0.02862595419847328\n",
      "Recall: 0.6069364161849711\n",
      "F1: 0.05467326217130955\n",
      "Roc_auc: 0.6211802719418664\n",
      "Number of ones in predictions: 3668\n",
      "Number of predictions: 9946\n",
      "\n",
      "Building Twitter Dataset...Dropped out 35 samples\n"
     ]
    },
    {
     "name": "stderr",
     "output_type": "stream",
     "text": [
      "Testing: 100%|██████████| 119/119 [00:02<00:00, 58.59it/s]\n",
      "c:\\ProgramData\\Anaconda3\\envs\\modern_nlp\\lib\\site-packages\\sklearn\\metrics\\_classification.py:1987: UserWarning: y_pred contains classes not in y_true\n",
      "  warnings.warn(\"y_pred contains classes not in y_true\")\n"
     ]
    },
    {
     "name": "stdout",
     "output_type": "stream",
     "text": [
      "Evaluation for dataset low_answering only ones\n",
      "Test model loss=0.9171408419286987\n",
      "Balanced_accuracy: 0.6210970464135022\n",
      "Precision: 1.0\n",
      "Recall: 0.6210970464135022\n",
      "F1: 0.7662675689744924\n",
      "Impossible to define ROC_AUC - only one class presents!\n",
      "Number of ones in predictions: 736\n",
      "Number of predictions: 1185\n",
      "\n",
      "Building Twitter Dataset...Dropped out 84 samples\n"
     ]
    },
    {
     "name": "stderr",
     "output_type": "stream",
     "text": [
      "Testing: 100%|██████████| 992/992 [00:17<00:00, 58.18it/s]\n",
      "c:\\ProgramData\\Anaconda3\\envs\\modern_nlp\\lib\\site-packages\\sklearn\\metrics\\_classification.py:1987: UserWarning: y_pred contains classes not in y_true\n",
      "  warnings.warn(\"y_pred contains classes not in y_true\")\n",
      "c:\\ProgramData\\Anaconda3\\envs\\modern_nlp\\lib\\site-packages\\sklearn\\metrics\\_classification.py:1318: UndefinedMetricWarning: Recall is ill-defined and being set to 0.0 due to no true samples. Use `zero_division` parameter to control this behavior.\n",
      "  _warn_prf(average, modifier, msg_start, len(result))\n",
      "c:\\ProgramData\\Anaconda3\\envs\\modern_nlp\\lib\\site-packages\\ipykernel_launcher.py:37: UserWarning: FixedFormatter should only be used together with FixedLocator\n"
     ]
    },
    {
     "name": "stdout",
     "output_type": "stream",
     "text": [
      "Evaluation for dataset low_answering only zeros\n",
      "Test model loss=0.04788879970418671\n",
      "Balanced_accuracy: 0.9738805970149254\n",
      "Precision: 0.0\n",
      "Recall: 0.0\n",
      "F1: 0.0\n",
      "Impossible to define ROC_AUC - only one class presents!\n",
      "Number of ones in predictions: 259\n",
      "Number of predictions: 9916\n",
      "\n"
     ]
    },
    {
     "data": {
      "image/png": "[encoded data removed]",
      "text/plain": [
       "<Figure size 640x480 with 1 Axes>"
      ]
     },
     "metadata": {},
     "output_type": "display_data"
    }
   ],
   "source": [
    "a=evaluate_all_datasets(trainer)"
   ]
  },
  {
   "cell_type": "markdown",
   "metadata": {},
   "source": [
    "##### Generalization"
   ]
  },
  {
   "cell_type": "code",
   "execution_count": null,
   "metadata": {},
   "outputs": [],
   "source": [
    "# model=CustomModel.from_pretrained(\"models/well-answering-ngos/checkpoint-41000/\")\n",
    "# model=model.to(device)"
   ]
  },
  {
   "cell_type": "code",
   "execution_count": 17,
   "metadata": {},
   "outputs": [
    {
     "name": "stdout",
     "output_type": "stream",
     "text": [
      "Building Twitter Dataset...Dropped out 4 samples\n"
     ]
    },
    {
     "name": "stderr",
     "output_type": "stream",
     "text": [
      "Testing: 100%|██████████| 58/58 [00:00<00:00, 60.80it/s]\n"
     ]
    },
    {
     "name": "stdout",
     "output_type": "stream",
     "text": [
      "Evaluation for dataset well_answering\n",
      "Test model loss=0.6759935817413629\n",
      "Balanced_accuracy: 0.6905175548462689\n",
      "Precision: 0.28152492668621704\n",
      "Recall: 0.9056603773584906\n",
      "F1: 0.4295302013422819\n",
      "Roc_auc: 0.6905175548462689\n",
      "Number of ones in predictions: 341\n",
      "Number of predictions: 573\n",
      "\n",
      "Building Twitter Dataset...Dropped out 12 samples\n"
     ]
    },
    {
     "name": "stderr",
     "output_type": "stream",
     "text": [
      "Testing: 100%|██████████| 210/210 [00:03<00:00, 56.88it/s]\n",
      "c:\\ProgramData\\Anaconda3\\envs\\modern_nlp\\lib\\site-packages\\sklearn\\metrics\\_classification.py:1987: UserWarning: y_pred contains classes not in y_true\n",
      "  warnings.warn(\"y_pred contains classes not in y_true\")\n"
     ]
    },
    {
     "name": "stdout",
     "output_type": "stream",
     "text": [
      "Evaluation for dataset well_answering only ones\n",
      "Test model loss=0.357996100461894\n",
      "Balanced_accuracy: 0.8876135820181731\n",
      "Precision: 1.0\n",
      "Recall: 0.8876135820181731\n",
      "F1: 0.9404611097035722\n",
      "Impossible to define ROC_AUC - only one class presents!\n",
      "Number of ones in predictions: 1856\n",
      "Number of predictions: 2091\n",
      "\n",
      "Building Twitter Dataset...Dropped out 83 samples\n"
     ]
    },
    {
     "name": "stderr",
     "output_type": "stream",
     "text": [
      "Testing: 100%|██████████| 936/936 [00:16<00:00, 57.75it/s]\n",
      "c:\\ProgramData\\Anaconda3\\envs\\modern_nlp\\lib\\site-packages\\sklearn\\metrics\\_classification.py:1987: UserWarning: y_pred contains classes not in y_true\n",
      "  warnings.warn(\"y_pred contains classes not in y_true\")\n",
      "c:\\ProgramData\\Anaconda3\\envs\\modern_nlp\\lib\\site-packages\\sklearn\\metrics\\_classification.py:1318: UndefinedMetricWarning: Recall is ill-defined and being set to 0.0 due to no true samples. Use `zero_division` parameter to control this behavior.\n",
      "  _warn_prf(average, modifier, msg_start, len(result))\n"
     ]
    },
    {
     "name": "stdout",
     "output_type": "stream",
     "text": [
      "Evaluation for dataset well_answering only zeros\n",
      "Test model loss=1.2910315353911577\n",
      "Balanced_accuracy: 0.42099636519136197\n",
      "Precision: 0.0\n",
      "Recall: 0.0\n",
      "F1: 0.0\n",
      "Impossible to define ROC_AUC - only one class presents!\n",
      "Number of ones in predictions: 5416\n",
      "Number of predictions: 9354\n",
      "\n",
      "Building Twitter Dataset...Dropped out 88 samples\n"
     ]
    },
    {
     "name": "stderr",
     "output_type": "stream",
     "text": [
      "Testing: 100%|██████████| 992/992 [00:17<00:00, 55.13it/s]\n"
     ]
    },
    {
     "name": "stdout",
     "output_type": "stream",
     "text": [
      "Evaluation for dataset low_answering\n",
      "Test model loss=1.3643404749292194\n",
      "Balanced_accuracy: 0.5147279740154284\n",
      "Precision: 0.006324232608360327\n",
      "Recall: 0.6833333333333333\n",
      "F1: 0.012532477456824087\n",
      "Roc_auc: 0.5147279740154284\n",
      "Number of ones in predictions: 6483\n",
      "Number of predictions: 9912\n",
      "\n",
      "Building Twitter Dataset...Dropped out 0 samples\n"
     ]
    },
    {
     "name": "stderr",
     "output_type": "stream",
     "text": [
      "Testing: 100%|██████████| 7/7 [00:00<00:00, 90.91it/s]\n",
      "c:\\ProgramData\\Anaconda3\\envs\\modern_nlp\\lib\\site-packages\\sklearn\\metrics\\_classification.py:1987: UserWarning: y_pred contains classes not in y_true\n",
      "  warnings.warn(\"y_pred contains classes not in y_true\")\n"
     ]
    },
    {
     "name": "stdout",
     "output_type": "stream",
     "text": [
      "Evaluation for dataset low_answering only ones\n",
      "Test model loss=0.8672265041442143\n",
      "Balanced_accuracy: 0.6885245901639344\n",
      "Precision: 1.0\n",
      "Recall: 0.6885245901639344\n",
      "F1: 0.8155339805825244\n",
      "Impossible to define ROC_AUC - only one class presents!\n",
      "Number of ones in predictions: 42\n",
      "Number of predictions: 61\n",
      "\n",
      "Building Twitter Dataset...Dropped out 90 samples\n"
     ]
    },
    {
     "name": "stderr",
     "output_type": "stream",
     "text": [
      "Testing: 100%|██████████| 991/991 [00:17<00:00, 57.78it/s]\n",
      "c:\\ProgramData\\Anaconda3\\envs\\modern_nlp\\lib\\site-packages\\sklearn\\metrics\\_classification.py:1987: UserWarning: y_pred contains classes not in y_true\n",
      "  warnings.warn(\"y_pred contains classes not in y_true\")\n",
      "c:\\ProgramData\\Anaconda3\\envs\\modern_nlp\\lib\\site-packages\\sklearn\\metrics\\_classification.py:1318: UndefinedMetricWarning: Recall is ill-defined and being set to 0.0 due to no true samples. Use `zero_division` parameter to control this behavior.\n",
      "  _warn_prf(average, modifier, msg_start, len(result))\n",
      "c:\\ProgramData\\Anaconda3\\envs\\modern_nlp\\lib\\site-packages\\ipykernel_launcher.py:37: UserWarning: FixedFormatter should only be used together with FixedLocator\n"
     ]
    },
    {
     "name": "stdout",
     "output_type": "stream",
     "text": [
      "Evaluation for dataset low_answering only zeros\n",
      "Test model loss=1.373752009364774\n",
      "Balanced_accuracy: 0.34712411705348134\n",
      "Precision: 0.0\n",
      "Recall: 0.0\n",
      "F1: 0.0\n",
      "Impossible to define ROC_AUC - only one class presents!\n",
      "Number of ones in predictions: 6470\n",
      "Number of predictions: 9910\n",
      "\n"
     ]
    },
    {
     "data": {
      "image/png": "[encoded data removed]",
      "text/plain": [
       "<Figure size 640x480 with 1 Axes>"
      ]
     },
     "metadata": {},
     "output_type": "display_data"
    }
   ],
   "source": [
    "name=\"banks\"\n",
    "a=evaluate_all_datasets(trainer)"
   ]
  },
  {
   "cell_type": "code",
   "execution_count": 18,
   "metadata": {},
   "outputs": [
    {
     "name": "stdout",
     "output_type": "stream",
     "text": [
      "Building Twitter Dataset...Dropped out 2 samples\n"
     ]
    },
    {
     "name": "stderr",
     "output_type": "stream",
     "text": [
      "Testing: 100%|██████████| 46/46 [00:00<00:00, 59.66it/s]\n"
     ]
    },
    {
     "name": "stdout",
     "output_type": "stream",
     "text": [
      "Evaluation for dataset well_answering\n",
      "Test model loss=0.48981688668330514\n",
      "Balanced_accuracy: 0.5157170727822902\n",
      "Precision: 0.4105504587155963\n",
      "Recall: 0.9728260869565217\n",
      "F1: 0.5774193548387097\n",
      "Roc_auc: 0.5157170727822902\n",
      "Number of ones in predictions: 436\n",
      "Number of predictions: 457\n",
      "\n",
      "Building Twitter Dataset...Dropped out 9 samples\n"
     ]
    },
    {
     "name": "stderr",
     "output_type": "stream",
     "text": [
      "Testing: 100%|██████████| 356/356 [00:05<00:00, 59.63it/s]\n",
      "c:\\ProgramData\\Anaconda3\\envs\\modern_nlp\\lib\\site-packages\\sklearn\\metrics\\_classification.py:1987: UserWarning: y_pred contains classes not in y_true\n",
      "  warnings.warn(\"y_pred contains classes not in y_true\")\n"
     ]
    },
    {
     "name": "stdout",
     "output_type": "stream",
     "text": [
      "Evaluation for dataset well_answering only ones\n",
      "Test model loss=0.3900194248784731\n",
      "Balanced_accuracy: 0.9620573355817875\n",
      "Precision: 1.0\n",
      "Recall: 0.9620573355817875\n",
      "F1: 0.9806617963042544\n",
      "Impossible to define ROC_AUC - only one class presents!\n",
      "Number of ones in predictions: 3423\n",
      "Number of predictions: 3558\n",
      "\n",
      "Building Twitter Dataset...Dropped out 33 samples\n"
     ]
    },
    {
     "name": "stderr",
     "output_type": "stream",
     "text": [
      "Testing: 100%|██████████| 558/558 [00:09<00:00, 57.53it/s]\n",
      "c:\\ProgramData\\Anaconda3\\envs\\modern_nlp\\lib\\site-packages\\sklearn\\metrics\\_classification.py:1987: UserWarning: y_pred contains classes not in y_true\n",
      "  warnings.warn(\"y_pred contains classes not in y_true\")\n",
      "c:\\ProgramData\\Anaconda3\\envs\\modern_nlp\\lib\\site-packages\\sklearn\\metrics\\_classification.py:1318: UndefinedMetricWarning: Recall is ill-defined and being set to 0.0 due to no true samples. Use `zero_division` parameter to control this behavior.\n",
      "  _warn_prf(average, modifier, msg_start, len(result))\n"
     ]
    },
    {
     "name": "stdout",
     "output_type": "stream",
     "text": [
      "Evaluation for dataset well_answering only zeros\n",
      "Test model loss=2.1455836008384073\n",
      "Balanced_accuracy: 0.06725251076040172\n",
      "Precision: 0.0\n",
      "Recall: 0.0\n",
      "F1: 0.0\n",
      "Impossible to define ROC_AUC - only one class presents!\n",
      "Number of ones in predictions: 5201\n",
      "Number of predictions: 5576\n",
      "\n",
      "Building Twitter Dataset...Dropped out 58 samples\n"
     ]
    },
    {
     "name": "stderr",
     "output_type": "stream",
     "text": [
      "Testing: 100%|██████████| 942/942 [00:14<00:00, 63.29it/s]\n"
     ]
    },
    {
     "name": "stdout",
     "output_type": "stream",
     "text": [
      "Evaluation for dataset low_answering\n",
      "Test model loss=0.9312858469019708\n",
      "Balanced_accuracy: 0.5072135169825693\n",
      "Precision: 0.21579581553291707\n",
      "Recall: 0.9810756972111554\n",
      "F1: 0.3537757026129119\n",
      "Roc_auc: 0.5072135169825693\n",
      "Number of ones in predictions: 9129\n",
      "Number of predictions: 9414\n",
      "\n",
      "Building Twitter Dataset...Dropped out 10 samples\n"
     ]
    },
    {
     "name": "stderr",
     "output_type": "stream",
     "text": [
      "Testing: 100%|██████████| 201/201 [00:02<00:00, 68.84it/s]\n",
      "c:\\ProgramData\\Anaconda3\\envs\\modern_nlp\\lib\\site-packages\\sklearn\\metrics\\_classification.py:1987: UserWarning: y_pred contains classes not in y_true\n",
      "  warnings.warn(\"y_pred contains classes not in y_true\")\n"
     ]
    },
    {
     "name": "stdout",
     "output_type": "stream",
     "text": [
      "Evaluation for dataset low_answering only ones\n",
      "Test model loss=0.2541641352119413\n",
      "Balanced_accuracy: 0.9810756972111554\n",
      "Precision: 1.0\n",
      "Recall: 0.9810756972111554\n",
      "F1: 0.9904474610356964\n",
      "Impossible to define ROC_AUC - only one class presents!\n",
      "Number of ones in predictions: 1970\n",
      "Number of predictions: 2008\n",
      "\n",
      "Building Twitter Dataset...Dropped out 48 samples\n"
     ]
    },
    {
     "name": "stderr",
     "output_type": "stream",
     "text": [
      "Testing: 100%|██████████| 741/741 [00:11<00:00, 66.14it/s]\n",
      "c:\\ProgramData\\Anaconda3\\envs\\modern_nlp\\lib\\site-packages\\sklearn\\metrics\\_classification.py:1987: UserWarning: y_pred contains classes not in y_true\n",
      "  warnings.warn(\"y_pred contains classes not in y_true\")\n",
      "c:\\ProgramData\\Anaconda3\\envs\\modern_nlp\\lib\\site-packages\\sklearn\\metrics\\_classification.py:1318: UndefinedMetricWarning: Recall is ill-defined and being set to 0.0 due to no true samples. Use `zero_division` parameter to control this behavior.\n",
      "  _warn_prf(average, modifier, msg_start, len(result))\n",
      "c:\\ProgramData\\Anaconda3\\envs\\modern_nlp\\lib\\site-packages\\ipykernel_launcher.py:37: UserWarning: FixedFormatter should only be used together with FixedLocator\n"
     ]
    },
    {
     "name": "stdout",
     "output_type": "stream",
     "text": [
      "Evaluation for dataset low_answering only zeros\n",
      "Test model loss=2.2675276943492957\n",
      "Balanced_accuracy: 0.03335133675398326\n",
      "Precision: 0.0\n",
      "Recall: 0.0\n",
      "F1: 0.0\n",
      "Impossible to define ROC_AUC - only one class presents!\n",
      "Number of ones in predictions: 7159\n",
      "Number of predictions: 7406\n",
      "\n"
     ]
    },
    {
     "data": {
      "image/png": "[encoded data removed]",
      "text/plain": [
       "<Figure size 640x480 with 1 Axes>"
      ]
     },
     "metadata": {},
     "output_type": "display_data"
    }
   ],
   "source": [
    "name=\"airlines\"\n",
    "a=evaluate_all_datasets(trainer)"
   ]
  },
  {
   "cell_type": "markdown",
   "metadata": {},
   "source": [
    "### Banks"
   ]
  },
  {
   "cell_type": "code",
   "execution_count": 19,
   "metadata": {},
   "outputs": [],
   "source": [
    "name=\"banks\""
   ]
  },
  {
   "cell_type": "code",
   "execution_count": 20,
   "metadata": {},
   "outputs": [
    {
     "name": "stderr",
     "output_type": "stream",
     "text": [
      "Some weights of the model checkpoint at distilbert-base-uncased were not used when initializing DistilBertModel: ['vocab_layer_norm.weight', 'vocab_layer_norm.bias', 'vocab_transform.bias', 'vocab_transform.weight', 'vocab_projector.weight', 'vocab_projector.bias']\n",
      "- This IS expected if you are initializing DistilBertModel from the checkpoint of a model trained on another task or with another architecture (e.g. initializing a BertForSequenceClassification model from a BertForPreTraining model).\n",
      "- This IS NOT expected if you are initializing DistilBertModel from the checkpoint of a model that you expect to be exactly identical (initializing a BertForSequenceClassification model from a BertForSequenceClassification model).\n"
     ]
    },
    {
     "name": "stdout",
     "output_type": "stream",
     "text": [
      "Building Twitter Dataset...Dropped out 83 samples\n",
      "Building Twitter Dataset...Dropped out 11 samples\n"
     ]
    }
   ],
   "source": [
    "trainer=training(name,10)"
   ]
  },
  {
   "cell_type": "code",
   "execution_count": 21,
   "metadata": {},
   "outputs": [
    {
     "name": "stderr",
     "output_type": "stream",
     "text": [
      "c:\\ProgramData\\Anaconda3\\envs\\modern_nlp\\lib\\site-packages\\transformers\\optimization.py:395: FutureWarning: This implementation of AdamW is deprecated and will be removed in a future version. Use the PyTorch implementation torch.optim.AdamW instead, or set `no_deprecation_warning=True` to disable this warning\n",
      "  FutureWarning,\n"
     ]
    },
    {
     "data": {
      "application/vnd.jupyter.widget-view+json": {
       "model_id": "705f0256a1874560a07282189ad86898",
       "version_major": 2,
       "version_minor": 0
      },
      "text/plain": [
       "  0%|          | 0/11440 [00:00<?, ?it/s]"
      ]
     },
     "metadata": {},
     "output_type": "display_data"
    },
    {
     "name": "stdout",
     "output_type": "stream",
     "text": [
      "{'loss': 112.2932, 'learning_rate': 4.912587412587413e-06, 'epoch': 0.17}\n",
      "{'loss': 3.4782, 'learning_rate': 4.8251748251748255e-06, 'epoch': 0.35}\n",
      "{'loss': 52.311, 'learning_rate': 4.737762237762238e-06, 'epoch': 0.52}\n",
      "{'loss': 36.9748, 'learning_rate': 4.650349650349651e-06, 'epoch': 0.7}\n",
      "{'loss': 27.7578, 'learning_rate': 4.562937062937063e-06, 'epoch': 0.87}\n"
     ]
    },
    {
     "data": {
      "application/vnd.jupyter.widget-view+json": {
       "model_id": "ca800984bd084fdeaf9fd523e14ddbda",
       "version_major": 2,
       "version_minor": 0
      },
      "text/plain": [
       "  0%|          | 0/215 [00:00<?, ?it/s]"
      ]
     },
     "metadata": {},
     "output_type": "display_data"
    },
    {
     "name": "stdout",
     "output_type": "stream",
     "text": [
      "{'eval_loss': 16.434947967529297, 'eval_balanced_accuracy': 0.76, 'eval_precision': 0.76, 'eval_recall': 0.57, 'eval_f1': 0.65, 'eval_runtime': 3.2659, 'eval_samples_per_second': 526.654, 'eval_steps_per_second': 65.832, 'epoch': 1.0}\n",
      "{'loss': 53.6631, 'learning_rate': 4.475524475524476e-06, 'epoch': 1.05}\n",
      "{'loss': 43.4968, 'learning_rate': 4.388111888111888e-06, 'epoch': 1.22}\n",
      "{'loss': 10.7054, 'learning_rate': 4.300699300699301e-06, 'epoch': 1.4}\n",
      "{'loss': 38.7354, 'learning_rate': 4.213286713286714e-06, 'epoch': 1.57}\n",
      "{'loss': 38.4976, 'learning_rate': 4.125874125874127e-06, 'epoch': 1.75}\n",
      "{'loss': 18.2375, 'learning_rate': 4.0384615384615385e-06, 'epoch': 1.92}\n"
     ]
    },
    {
     "data": {
      "application/vnd.jupyter.widget-view+json": {
       "model_id": "5b8414937b1b4c759a04d4bb5a3d0088",
       "version_major": 2,
       "version_minor": 0
      },
      "text/plain": [
       "  0%|          | 0/215 [00:00<?, ?it/s]"
      ]
     },
     "metadata": {},
     "output_type": "display_data"
    },
    {
     "name": "stdout",
     "output_type": "stream",
     "text": [
      "{'eval_loss': 9.884767532348633, 'eval_balanced_accuracy': 0.83, 'eval_precision': 0.75, 'eval_recall': 0.7, 'eval_f1': 0.73, 'eval_runtime': 3.222, 'eval_samples_per_second': 533.829, 'eval_steps_per_second': 66.729, 'epoch': 2.0}\n",
      "{'loss': 42.2008, 'learning_rate': 3.951048951048951e-06, 'epoch': 2.1}\n",
      "{'loss': 13.1963, 'learning_rate': 3.863636363636364e-06, 'epoch': 2.27}\n",
      "{'loss': 24.8374, 'learning_rate': 3.776223776223776e-06, 'epoch': 2.45}\n",
      "{'loss': 16.6368, 'learning_rate': 3.6888111888111896e-06, 'epoch': 2.62}\n",
      "{'loss': 5.016, 'learning_rate': 3.6013986013986017e-06, 'epoch': 2.8}\n",
      "{'loss': 7.293, 'learning_rate': 3.5139860139860142e-06, 'epoch': 2.97}\n"
     ]
    },
    {
     "data": {
      "application/vnd.jupyter.widget-view+json": {
       "model_id": "ed245b0b5af14796aa05f1c2f207ba37",
       "version_major": 2,
       "version_minor": 0
      },
      "text/plain": [
       "  0%|          | 0/215 [00:00<?, ?it/s]"
      ]
     },
     "metadata": {},
     "output_type": "display_data"
    },
    {
     "name": "stdout",
     "output_type": "stream",
     "text": [
      "{'eval_loss': 3.859708309173584, 'eval_balanced_accuracy': 0.87, 'eval_precision': 0.74, 'eval_recall': 0.8, 'eval_f1': 0.77, 'eval_runtime': 3.111, 'eval_samples_per_second': 552.877, 'eval_steps_per_second': 69.11, 'epoch': 3.0}\n",
      "{'loss': 4.9781, 'learning_rate': 3.426573426573427e-06, 'epoch': 3.15}\n",
      "{'loss': 2.3305, 'learning_rate': 3.3391608391608394e-06, 'epoch': 3.32}\n",
      "{'loss': 9.4031, 'learning_rate': 3.251748251748252e-06, 'epoch': 3.5}\n",
      "{'loss': 2.3315, 'learning_rate': 3.164335664335665e-06, 'epoch': 3.67}\n",
      "{'loss': 1.1933, 'learning_rate': 3.0769230769230774e-06, 'epoch': 3.85}\n"
     ]
    },
    {
     "data": {
      "application/vnd.jupyter.widget-view+json": {
       "model_id": "11357541e93741868f03679b5374ac63",
       "version_major": 2,
       "version_minor": 0
      },
      "text/plain": [
       "  0%|          | 0/215 [00:00<?, ?it/s]"
      ]
     },
     "metadata": {},
     "output_type": "display_data"
    },
    {
     "name": "stdout",
     "output_type": "stream",
     "text": [
      "{'eval_loss': 0.3802974224090576, 'eval_balanced_accuracy': 0.87, 'eval_precision': 0.79, 'eval_recall': 0.78, 'eval_f1': 0.79, 'eval_runtime': 3.1626, 'eval_samples_per_second': 543.853, 'eval_steps_per_second': 67.982, 'epoch': 4.0}\n",
      "{'loss': 0.5333, 'learning_rate': 2.98951048951049e-06, 'epoch': 4.02}\n",
      "{'loss': 0.7617, 'learning_rate': 2.902097902097902e-06, 'epoch': 4.2}\n",
      "{'loss': 0.8375, 'learning_rate': 2.8146853146853147e-06, 'epoch': 4.37}\n",
      "{'loss': 1.2191, 'learning_rate': 2.7272727272727272e-06, 'epoch': 4.55}\n",
      "{'loss': 0.8305, 'learning_rate': 2.63986013986014e-06, 'epoch': 4.72}\n",
      "{'loss': 0.8014, 'learning_rate': 2.5524475524475528e-06, 'epoch': 4.9}\n"
     ]
    },
    {
     "data": {
      "application/vnd.jupyter.widget-view+json": {
       "model_id": "9e40cace08514eeeaf52abdb1ff73f97",
       "version_major": 2,
       "version_minor": 0
      },
      "text/plain": [
       "  0%|          | 0/215 [00:00<?, ?it/s]"
      ]
     },
     "metadata": {},
     "output_type": "display_data"
    },
    {
     "name": "stdout",
     "output_type": "stream",
     "text": [
      "{'eval_loss': 0.38250237703323364, 'eval_balanced_accuracy': 0.9, 'eval_precision': 0.79, 'eval_recall': 0.85, 'eval_f1': 0.82, 'eval_runtime': 3.111, 'eval_samples_per_second': 552.877, 'eval_steps_per_second': 69.11, 'epoch': 5.0}\n",
      "{'loss': 1.4461, 'learning_rate': 2.4650349650349653e-06, 'epoch': 5.07}\n",
      "{'loss': 0.8601, 'learning_rate': 2.377622377622378e-06, 'epoch': 5.24}\n",
      "{'loss': 1.1467, 'learning_rate': 2.2902097902097904e-06, 'epoch': 5.42}\n",
      "{'loss': 0.8571, 'learning_rate': 2.202797202797203e-06, 'epoch': 5.59}\n",
      "{'loss': 0.6532, 'learning_rate': 2.1153846153846155e-06, 'epoch': 5.77}\n",
      "{'loss': 0.7435, 'learning_rate': 2.027972027972028e-06, 'epoch': 5.94}\n"
     ]
    },
    {
     "data": {
      "application/vnd.jupyter.widget-view+json": {
       "model_id": "64d11234d0694aad8b39627ac837d168",
       "version_major": 2,
       "version_minor": 0
      },
      "text/plain": [
       "  0%|          | 0/215 [00:00<?, ?it/s]"
      ]
     },
     "metadata": {},
     "output_type": "display_data"
    },
    {
     "name": "stdout",
     "output_type": "stream",
     "text": [
      "{'eval_loss': 0.5209167003631592, 'eval_balanced_accuracy': 0.91, 'eval_precision': 0.83, 'eval_recall': 0.86, 'eval_f1': 0.84, 'eval_runtime': 3.225, 'eval_samples_per_second': 533.334, 'eval_steps_per_second': 66.667, 'epoch': 6.0}\n",
      "{'loss': 1.0801, 'learning_rate': 1.9405594405594406e-06, 'epoch': 6.12}\n",
      "{'loss': 0.8038, 'learning_rate': 1.8531468531468532e-06, 'epoch': 6.29}\n",
      "{'loss': 1.1407, 'learning_rate': 1.7657342657342657e-06, 'epoch': 6.47}\n",
      "{'loss': 0.5111, 'learning_rate': 1.6783216783216785e-06, 'epoch': 6.64}\n",
      "{'loss': 0.5286, 'learning_rate': 1.590909090909091e-06, 'epoch': 6.82}\n",
      "{'loss': 0.717, 'learning_rate': 1.5034965034965034e-06, 'epoch': 6.99}\n"
     ]
    },
    {
     "data": {
      "application/vnd.jupyter.widget-view+json": {
       "model_id": "c0cce0f161be4dde9f68c026278006f3",
       "version_major": 2,
       "version_minor": 0
      },
      "text/plain": [
       "  0%|          | 0/215 [00:00<?, ?it/s]"
      ]
     },
     "metadata": {},
     "output_type": "display_data"
    },
    {
     "name": "stdout",
     "output_type": "stream",
     "text": [
      "{'eval_loss': 0.39678677916526794, 'eval_balanced_accuracy': 0.92, 'eval_precision': 0.84, 'eval_recall': 0.87, 'eval_f1': 0.86, 'eval_runtime': 3.081, 'eval_samples_per_second': 558.26, 'eval_steps_per_second': 69.783, 'epoch': 7.0}\n",
      "{'loss': 0.8643, 'learning_rate': 1.4160839160839162e-06, 'epoch': 7.17}\n",
      "{'loss': 0.6528, 'learning_rate': 1.3286713286713287e-06, 'epoch': 7.34}\n",
      "{'loss': 0.8544, 'learning_rate': 1.2412587412587413e-06, 'epoch': 7.52}\n",
      "{'loss': 0.7671, 'learning_rate': 1.153846153846154e-06, 'epoch': 7.69}\n",
      "{'loss': 0.3633, 'learning_rate': 1.0664335664335666e-06, 'epoch': 7.87}\n"
     ]
    },
    {
     "data": {
      "application/vnd.jupyter.widget-view+json": {
       "model_id": "4b54764e40c54dab82c26d0253daef6d",
       "version_major": 2,
       "version_minor": 0
      },
      "text/plain": [
       "  0%|          | 0/215 [00:00<?, ?it/s]"
      ]
     },
     "metadata": {},
     "output_type": "display_data"
    },
    {
     "name": "stdout",
     "output_type": "stream",
     "text": [
      "{'eval_loss': 0.3679986000061035, 'eval_balanced_accuracy': 0.93, 'eval_precision': 0.85, 'eval_recall': 0.9, 'eval_f1': 0.87, 'eval_runtime': 3.229, 'eval_samples_per_second': 532.672, 'eval_steps_per_second': 66.584, 'epoch': 8.0}\n",
      "{'loss': 1.1778, 'learning_rate': 9.790209790209791e-07, 'epoch': 8.04}\n",
      "{'loss': 0.5404, 'learning_rate': 8.916083916083917e-07, 'epoch': 8.22}\n",
      "{'loss': 0.6495, 'learning_rate': 8.041958041958043e-07, 'epoch': 8.39}\n",
      "{'loss': 0.6953, 'learning_rate': 7.167832167832168e-07, 'epoch': 8.57}\n",
      "{'loss': 0.5577, 'learning_rate': 6.293706293706295e-07, 'epoch': 8.74}\n",
      "{'loss': 0.8162, 'learning_rate': 5.41958041958042e-07, 'epoch': 8.92}\n"
     ]
    },
    {
     "data": {
      "application/vnd.jupyter.widget-view+json": {
       "model_id": "16e30a44f1644732a29727fe5ca380a5",
       "version_major": 2,
       "version_minor": 0
      },
      "text/plain": [
       "  0%|          | 0/215 [00:00<?, ?it/s]"
      ]
     },
     "metadata": {},
     "output_type": "display_data"
    },
    {
     "name": "stdout",
     "output_type": "stream",
     "text": [
      "{'eval_loss': 0.3266451060771942, 'eval_balanced_accuracy': 0.94, 'eval_precision': 0.85, 'eval_recall': 0.91, 'eval_f1': 0.88, 'eval_runtime': 3.142, 'eval_samples_per_second': 547.422, 'eval_steps_per_second': 68.428, 'epoch': 9.0}\n",
      "{'loss': 0.7586, 'learning_rate': 4.5454545454545457e-07, 'epoch': 9.09}\n",
      "{'loss': 1.0431, 'learning_rate': 3.6713286713286713e-07, 'epoch': 9.27}\n",
      "{'loss': 0.5284, 'learning_rate': 2.7972027972027973e-07, 'epoch': 9.44}\n",
      "{'loss': 1.1005, 'learning_rate': 1.9230769230769234e-07, 'epoch': 9.62}\n",
      "{'loss': 0.5362, 'learning_rate': 1.048951048951049e-07, 'epoch': 9.79}\n",
      "{'loss': 0.514, 'learning_rate': 1.7482517482517483e-08, 'epoch': 9.97}\n"
     ]
    },
    {
     "data": {
      "application/vnd.jupyter.widget-view+json": {
       "model_id": "ecc97dad296a420c9454157b98e52e00",
       "version_major": 2,
       "version_minor": 0
      },
      "text/plain": [
       "  0%|          | 0/215 [00:00<?, ?it/s]"
      ]
     },
     "metadata": {},
     "output_type": "display_data"
    },
    {
     "name": "stdout",
     "output_type": "stream",
     "text": [
      "{'eval_loss': 0.33009010553359985, 'eval_balanced_accuracy': 0.93, 'eval_precision': 0.86, 'eval_recall': 0.89, 'eval_f1': 0.88, 'eval_runtime': 3.292, 'eval_samples_per_second': 522.479, 'eval_steps_per_second': 65.31, 'epoch': 10.0}\n",
      "{'train_runtime': 752.4617, 'train_samples_per_second': 121.588, 'train_steps_per_second': 15.203, 'train_loss': 10.376258624016822, 'epoch': 10.0}\n"
     ]
    },
    {
     "data": {
      "text/plain": [
       "TrainOutput(global_step=11440, training_loss=10.376258624016822, metrics={'train_runtime': 752.4617, 'train_samples_per_second': 121.588, 'train_steps_per_second': 15.203, 'train_loss': 10.376258624016822, 'epoch': 10.0})"
      ]
     },
     "execution_count": 21,
     "metadata": {},
     "output_type": "execute_result"
    }
   ],
   "source": [
    "trainer.train()"
   ]
  },
  {
   "cell_type": "code",
   "execution_count": 22,
   "metadata": {},
   "outputs": [
    {
     "data": {
      "image/png": "[encoded data removed]",
      "text/plain": [
       "<Figure size 640x480 with 1 Axes>"
      ]
     },
     "metadata": {},
     "output_type": "display_data"
    }
   ],
   "source": [
    "plot_save_results(trainer,name)"
   ]
  },
  {
   "cell_type": "code",
   "execution_count": 23,
   "metadata": {},
   "outputs": [
    {
     "name": "stdout",
     "output_type": "stream",
     "text": [
      "Building Twitter Dataset...Dropped out 4 samples\n"
     ]
    },
    {
     "name": "stderr",
     "output_type": "stream",
     "text": [
      "Testing: 100%|██████████| 58/58 [00:00<00:00, 58.83it/s]\n"
     ]
    },
    {
     "name": "stdout",
     "output_type": "stream",
     "text": [
      "Evaluation for dataset well_answering\n",
      "Test model loss=0.14906353554848967\n",
      "Balanced_accuracy: 0.9436285402609996\n",
      "Precision: 0.8818181818181818\n",
      "Recall: 0.9150943396226415\n",
      "F1: 0.8981481481481483\n",
      "Roc_auc: 0.9436285402609995\n",
      "Number of ones in predictions: 110\n",
      "Number of predictions: 573\n",
      "\n",
      "Building Twitter Dataset...Dropped out 12 samples\n"
     ]
    },
    {
     "name": "stderr",
     "output_type": "stream",
     "text": [
      "Testing: 100%|██████████| 210/210 [00:03<00:00, 54.78it/s]\n",
      "c:\\ProgramData\\Anaconda3\\envs\\modern_nlp\\lib\\site-packages\\sklearn\\metrics\\_classification.py:1987: UserWarning: y_pred contains classes not in y_true\n",
      "  warnings.warn(\"y_pred contains classes not in y_true\")\n"
     ]
    },
    {
     "name": "stdout",
     "output_type": "stream",
     "text": [
      "Evaluation for dataset well_answering only ones\n",
      "Test model loss=0.5068807847916137\n",
      "Balanced_accuracy: 0.8321377331420373\n",
      "Precision: 1.0\n",
      "Recall: 0.8321377331420373\n",
      "F1: 0.9083790133124511\n",
      "Impossible to define ROC_AUC - only one class presents!\n",
      "Number of ones in predictions: 1740\n",
      "Number of predictions: 2091\n",
      "\n",
      "Building Twitter Dataset...Dropped out 83 samples\n"
     ]
    },
    {
     "name": "stderr",
     "output_type": "stream",
     "text": [
      "Testing: 100%|██████████| 936/936 [00:16<00:00, 56.56it/s]\n",
      "c:\\ProgramData\\Anaconda3\\envs\\modern_nlp\\lib\\site-packages\\sklearn\\metrics\\_classification.py:1987: UserWarning: y_pred contains classes not in y_true\n",
      "  warnings.warn(\"y_pred contains classes not in y_true\")\n",
      "c:\\ProgramData\\Anaconda3\\envs\\modern_nlp\\lib\\site-packages\\sklearn\\metrics\\_classification.py:1318: UndefinedMetricWarning: Recall is ill-defined and being set to 0.0 due to no true samples. Use `zero_division` parameter to control this behavior.\n",
      "  _warn_prf(average, modifier, msg_start, len(result))\n"
     ]
    },
    {
     "name": "stdout",
     "output_type": "stream",
     "text": [
      "Evaluation for dataset well_answering only zeros\n",
      "Test model loss=0.04675608934924808\n",
      "Balanced_accuracy: 0.9560615779345735\n",
      "Precision: 0.0\n",
      "Recall: 0.0\n",
      "F1: 0.0\n",
      "Impossible to define ROC_AUC - only one class presents!\n",
      "Number of ones in predictions: 411\n",
      "Number of predictions: 9354\n",
      "\n",
      "Building Twitter Dataset...Dropped out 88 samples\n"
     ]
    },
    {
     "name": "stderr",
     "output_type": "stream",
     "text": [
      "Testing: 100%|██████████| 992/992 [00:18<00:00, 53.02it/s]\n"
     ]
    },
    {
     "name": "stdout",
     "output_type": "stream",
     "text": [
      "Evaluation for dataset low_answering\n",
      "Test model loss=0.27751372969629234\n",
      "Balanced_accuracy: 0.6245432399512789\n",
      "Precision: 0.011990407673860911\n",
      "Recall: 0.5\n",
      "F1: 0.023419203747072598\n",
      "Roc_auc: 0.6245432399512789\n",
      "Number of ones in predictions: 2502\n",
      "Number of predictions: 9912\n",
      "\n",
      "Building Twitter Dataset...Dropped out 0 samples\n"
     ]
    },
    {
     "name": "stderr",
     "output_type": "stream",
     "text": [
      "Testing: 100%|██████████| 7/7 [00:00<00:00, 85.36it/s]\n",
      "c:\\ProgramData\\Anaconda3\\envs\\modern_nlp\\lib\\site-packages\\sklearn\\metrics\\_classification.py:1987: UserWarning: y_pred contains classes not in y_true\n",
      "  warnings.warn(\"y_pred contains classes not in y_true\")\n"
     ]
    },
    {
     "name": "stdout",
     "output_type": "stream",
     "text": [
      "Evaluation for dataset low_answering only ones\n",
      "Test model loss=0.9521705479848953\n",
      "Balanced_accuracy: 0.5081967213114754\n",
      "Precision: 1.0\n",
      "Recall: 0.5081967213114754\n",
      "F1: 0.673913043478261\n",
      "Impossible to define ROC_AUC - only one class presents!\n",
      "Number of ones in predictions: 31\n",
      "Number of predictions: 61\n",
      "\n",
      "Building Twitter Dataset...Dropped out 90 samples\n"
     ]
    },
    {
     "name": "stderr",
     "output_type": "stream",
     "text": [
      "Testing: 100%|██████████| 991/991 [00:18<00:00, 54.68it/s]\n",
      "c:\\ProgramData\\Anaconda3\\envs\\modern_nlp\\lib\\site-packages\\sklearn\\metrics\\_classification.py:1987: UserWarning: y_pred contains classes not in y_true\n",
      "  warnings.warn(\"y_pred contains classes not in y_true\")\n",
      "c:\\ProgramData\\Anaconda3\\envs\\modern_nlp\\lib\\site-packages\\sklearn\\metrics\\_classification.py:1318: UndefinedMetricWarning: Recall is ill-defined and being set to 0.0 due to no true samples. Use `zero_division` parameter to control this behavior.\n",
      "  _warn_prf(average, modifier, msg_start, len(result))\n",
      "c:\\ProgramData\\Anaconda3\\envs\\modern_nlp\\lib\\site-packages\\ipykernel_launcher.py:37: UserWarning: FixedFormatter should only be used together with FixedLocator\n"
     ]
    },
    {
     "name": "stdout",
     "output_type": "stream",
     "text": [
      "Evaluation for dataset low_answering only zeros\n",
      "Test model loss=0.26329340445212324\n",
      "Balanced_accuracy: 0.7491422805247225\n",
      "Precision: 0.0\n",
      "Recall: 0.0\n",
      "F1: 0.0\n",
      "Impossible to define ROC_AUC - only one class presents!\n",
      "Number of ones in predictions: 2486\n",
      "Number of predictions: 9910\n",
      "\n"
     ]
    },
    {
     "data": {
      "image/png": "[encoded data removed]",
      "text/plain": [
       "<Figure size 640x480 with 1 Axes>"
      ]
     },
     "metadata": {},
     "output_type": "display_data"
    }
   ],
   "source": [
    "a=evaluate_all_datasets(trainer)"
   ]
  },
  {
   "cell_type": "markdown",
   "metadata": {},
   "source": [
    "##### Generalization"
   ]
  },
  {
   "cell_type": "code",
   "execution_count": null,
   "metadata": {},
   "outputs": [],
   "source": [
    "# model=DistilBertForSequenceClassification.from_pretrained(\"models/combined-well-answering-banks/checkpoint-28500/\")\n",
    "# model=model.to(device)"
   ]
  },
  {
   "cell_type": "code",
   "execution_count": 24,
   "metadata": {},
   "outputs": [
    {
     "name": "stdout",
     "output_type": "stream",
     "text": [
      "Building Twitter Dataset...Dropped out 26 samples\n"
     ]
    },
    {
     "name": "stderr",
     "output_type": "stream",
     "text": [
      "Testing: 100%|██████████| 204/204 [00:03<00:00, 52.19it/s]\n"
     ]
    },
    {
     "name": "stdout",
     "output_type": "stream",
     "text": [
      "Evaluation for dataset well_answering\n",
      "Test model loss=0.8548382893691655\n",
      "Balanced_accuracy: 0.5666169128286687\n",
      "Precision: 0.09305210918114144\n",
      "Recall: 0.9146341463414634\n",
      "F1: 0.16891891891891891\n",
      "Roc_auc: 0.5666169128286687\n",
      "Number of ones in predictions: 1612\n",
      "Number of predictions: 2035\n",
      "\n",
      "Building Twitter Dataset...Dropped out 65 samples\n"
     ]
    },
    {
     "name": "stderr",
     "output_type": "stream",
     "text": [
      "Testing: 100%|██████████| 333/333 [00:06<00:00, 55.21it/s]\n",
      "c:\\ProgramData\\Anaconda3\\envs\\modern_nlp\\lib\\site-packages\\sklearn\\metrics\\_classification.py:1987: UserWarning: y_pred contains classes not in y_true\n",
      "  warnings.warn(\"y_pred contains classes not in y_true\")\n"
     ]
    },
    {
     "name": "stdout",
     "output_type": "stream",
     "text": [
      "Evaluation for dataset well_answering only ones\n",
      "Test model loss=0.4093730795785443\n",
      "Balanced_accuracy: 0.9070117363827866\n",
      "Precision: 1.0\n",
      "Recall: 0.9070117363827866\n",
      "F1: 0.9512387565093894\n",
      "Impossible to define ROC_AUC - only one class presents!\n",
      "Number of ones in predictions: 3014\n",
      "Number of predictions: 3323\n",
      "\n",
      "Building Twitter Dataset...Dropped out 98 samples\n"
     ]
    },
    {
     "name": "stderr",
     "output_type": "stream",
     "text": [
      "Testing: 100%|██████████| 991/991 [00:17<00:00, 58.23it/s]\n",
      "c:\\ProgramData\\Anaconda3\\envs\\modern_nlp\\lib\\site-packages\\sklearn\\metrics\\_classification.py:1987: UserWarning: y_pred contains classes not in y_true\n",
      "  warnings.warn(\"y_pred contains classes not in y_true\")\n",
      "c:\\ProgramData\\Anaconda3\\envs\\modern_nlp\\lib\\site-packages\\sklearn\\metrics\\_classification.py:1318: UndefinedMetricWarning: Recall is ill-defined and being set to 0.0 due to no true samples. Use `zero_division` parameter to control this behavior.\n",
      "  _warn_prf(average, modifier, msg_start, len(result))\n"
     ]
    },
    {
     "name": "stdout",
     "output_type": "stream",
     "text": [
      "Evaluation for dataset well_answering only zeros\n",
      "Test model loss=0.9802382860446768\n",
      "Balanced_accuracy: 0.2292466168450818\n",
      "Precision: 0.0\n",
      "Recall: 0.0\n",
      "F1: 0.0\n",
      "Impossible to define ROC_AUC - only one class presents!\n",
      "Number of ones in predictions: 7632\n",
      "Number of predictions: 9902\n",
      "\n",
      "Building Twitter Dataset...Dropped out 54 samples\n"
     ]
    },
    {
     "name": "stderr",
     "output_type": "stream",
     "text": [
      "Testing: 100%|██████████| 995/995 [00:18<00:00, 54.58it/s]\n"
     ]
    },
    {
     "name": "stdout",
     "output_type": "stream",
     "text": [
      "Evaluation for dataset low_answering\n",
      "Test model loss=1.0249022914935997\n",
      "Balanced_accuracy: 0.5253588836531461\n",
      "Precision: 0.018425460636515914\n",
      "Recall: 0.8901734104046243\n",
      "F1: 0.036103622084163636\n",
      "Roc_auc: 0.5253588836531461\n",
      "Number of ones in predictions: 8358\n",
      "Number of predictions: 9946\n",
      "\n",
      "Building Twitter Dataset...Dropped out 35 samples\n"
     ]
    },
    {
     "name": "stderr",
     "output_type": "stream",
     "text": [
      "Testing: 100%|██████████| 119/119 [00:02<00:00, 57.02it/s]\n",
      "c:\\ProgramData\\Anaconda3\\envs\\modern_nlp\\lib\\site-packages\\sklearn\\metrics\\_classification.py:1987: UserWarning: y_pred contains classes not in y_true\n",
      "  warnings.warn(\"y_pred contains classes not in y_true\")\n"
     ]
    },
    {
     "name": "stdout",
     "output_type": "stream",
     "text": [
      "Evaluation for dataset low_answering only ones\n",
      "Test model loss=0.4289175398199079\n",
      "Balanced_accuracy: 0.9164556962025316\n",
      "Precision: 1.0\n",
      "Recall: 0.9164556962025316\n",
      "F1: 0.9564068692206077\n",
      "Impossible to define ROC_AUC - only one class presents!\n",
      "Number of ones in predictions: 1086\n",
      "Number of predictions: 1185\n",
      "\n",
      "Building Twitter Dataset...Dropped out 84 samples\n"
     ]
    },
    {
     "name": "stderr",
     "output_type": "stream",
     "text": [
      "Testing: 100%|██████████| 992/992 [00:17<00:00, 57.06it/s]\n",
      "c:\\ProgramData\\Anaconda3\\envs\\modern_nlp\\lib\\site-packages\\sklearn\\metrics\\_classification.py:1987: UserWarning: y_pred contains classes not in y_true\n",
      "  warnings.warn(\"y_pred contains classes not in y_true\")\n",
      "c:\\ProgramData\\Anaconda3\\envs\\modern_nlp\\lib\\site-packages\\sklearn\\metrics\\_classification.py:1318: UndefinedMetricWarning: Recall is ill-defined and being set to 0.0 due to no true samples. Use `zero_division` parameter to control this behavior.\n",
      "  _warn_prf(average, modifier, msg_start, len(result))\n",
      "c:\\ProgramData\\Anaconda3\\envs\\modern_nlp\\lib\\site-packages\\ipykernel_launcher.py:37: UserWarning: FixedFormatter should only be used together with FixedLocator\n"
     ]
    },
    {
     "name": "stdout",
     "output_type": "stream",
     "text": [
      "Evaluation for dataset low_answering only zeros\n",
      "Test model loss=1.099508946168145\n",
      "Balanced_accuracy: 0.1509681323114159\n",
      "Precision: 0.0\n",
      "Recall: 0.0\n",
      "F1: 0.0\n",
      "Impossible to define ROC_AUC - only one class presents!\n",
      "Number of ones in predictions: 8419\n",
      "Number of predictions: 9916\n",
      "\n"
     ]
    },
    {
     "data": {
      "image/png": "[encoded data removed]",
      "text/plain": [
       "<Figure size 640x480 with 1 Axes>"
      ]
     },
     "metadata": {},
     "output_type": "display_data"
    }
   ],
   "source": [
    "name=\"ngos\"\n",
    "a=evaluate_all_datasets(trainer)"
   ]
  },
  {
   "cell_type": "code",
   "execution_count": 25,
   "metadata": {},
   "outputs": [
    {
     "name": "stdout",
     "output_type": "stream",
     "text": [
      "Building Twitter Dataset...Dropped out 2 samples\n"
     ]
    },
    {
     "name": "stderr",
     "output_type": "stream",
     "text": [
      "Testing: 100%|██████████| 46/46 [00:00<00:00, 58.82it/s]\n"
     ]
    },
    {
     "name": "stdout",
     "output_type": "stream",
     "text": [
      "Evaluation for dataset well_answering\n",
      "Test model loss=0.5598057491191919\n",
      "Balanced_accuracy: 0.5203256888039497\n",
      "Precision: 0.41299303944315546\n",
      "Recall: 0.967391304347826\n",
      "F1: 0.5788617886178862\n",
      "Roc_auc: 0.5203256888039497\n",
      "Number of ones in predictions: 431\n",
      "Number of predictions: 457\n",
      "\n",
      "Building Twitter Dataset...Dropped out 9 samples\n"
     ]
    },
    {
     "name": "stderr",
     "output_type": "stream",
     "text": [
      "Testing: 100%|██████████| 356/356 [00:06<00:00, 58.76it/s]\n",
      "c:\\ProgramData\\Anaconda3\\envs\\modern_nlp\\lib\\site-packages\\sklearn\\metrics\\_classification.py:1987: UserWarning: y_pred contains classes not in y_true\n",
      "  warnings.warn(\"y_pred contains classes not in y_true\")\n"
     ]
    },
    {
     "name": "stdout",
     "output_type": "stream",
     "text": [
      "Evaluation for dataset well_answering only ones\n",
      "Test model loss=0.5763416985522479\n",
      "Balanced_accuracy: 0.962619449128724\n",
      "Precision: 1.0\n",
      "Recall: 0.962619449128724\n",
      "F1: 0.9809537448088214\n",
      "Impossible to define ROC_AUC - only one class presents!\n",
      "Number of ones in predictions: 3425\n",
      "Number of predictions: 3558\n",
      "\n",
      "Building Twitter Dataset...Dropped out 33 samples\n"
     ]
    },
    {
     "name": "stderr",
     "output_type": "stream",
     "text": [
      "Testing: 100%|██████████| 558/558 [00:10<00:00, 55.78it/s]\n",
      "c:\\ProgramData\\Anaconda3\\envs\\modern_nlp\\lib\\site-packages\\sklearn\\metrics\\_classification.py:1987: UserWarning: y_pred contains classes not in y_true\n",
      "  warnings.warn(\"y_pred contains classes not in y_true\")\n",
      "c:\\ProgramData\\Anaconda3\\envs\\modern_nlp\\lib\\site-packages\\sklearn\\metrics\\_classification.py:1318: UndefinedMetricWarning: Recall is ill-defined and being set to 0.0 due to no true samples. Use `zero_division` parameter to control this behavior.\n",
      "  _warn_prf(average, modifier, msg_start, len(result))\n"
     ]
    },
    {
     "name": "stdout",
     "output_type": "stream",
     "text": [
      "Evaluation for dataset well_answering only zeros\n",
      "Test model loss=1.247455639508747\n",
      "Balanced_accuracy: 0.0746054519368723\n",
      "Precision: 0.0\n",
      "Recall: 0.0\n",
      "F1: 0.0\n",
      "Impossible to define ROC_AUC - only one class presents!\n",
      "Number of ones in predictions: 5160\n",
      "Number of predictions: 5576\n",
      "\n",
      "Building Twitter Dataset...Dropped out 58 samples\n"
     ]
    },
    {
     "name": "stderr",
     "output_type": "stream",
     "text": [
      "Testing: 100%|██████████| 942/942 [00:15<00:00, 62.19it/s]\n"
     ]
    },
    {
     "name": "stdout",
     "output_type": "stream",
     "text": [
      "Evaluation for dataset low_answering\n",
      "Test model loss=0.8353048911119121\n",
      "Balanced_accuracy: 0.5109854936182895\n",
      "Precision: 0.21713653952459921\n",
      "Recall: 0.9780876494023905\n",
      "F1: 0.355378630236135\n",
      "Roc_auc: 0.5109854936182895\n",
      "Number of ones in predictions: 9045\n",
      "Number of predictions: 9414\n",
      "\n",
      "Building Twitter Dataset...Dropped out 10 samples\n"
     ]
    },
    {
     "name": "stderr",
     "output_type": "stream",
     "text": [
      "Testing: 100%|██████████| 201/201 [00:02<00:00, 68.07it/s]\n",
      "c:\\ProgramData\\Anaconda3\\envs\\modern_nlp\\lib\\site-packages\\sklearn\\metrics\\_classification.py:1987: UserWarning: y_pred contains classes not in y_true\n",
      "  warnings.warn(\"y_pred contains classes not in y_true\")\n"
     ]
    },
    {
     "name": "stdout",
     "output_type": "stream",
     "text": [
      "Evaluation for dataset low_answering only ones\n",
      "Test model loss=0.3837819962606304\n",
      "Balanced_accuracy: 0.9780876494023905\n",
      "Precision: 1.0\n",
      "Recall: 0.9780876494023905\n",
      "F1: 0.9889224572004028\n",
      "Impossible to define ROC_AUC - only one class presents!\n",
      "Number of ones in predictions: 1964\n",
      "Number of predictions: 2008\n",
      "\n",
      "Building Twitter Dataset...Dropped out 48 samples\n"
     ]
    },
    {
     "name": "stderr",
     "output_type": "stream",
     "text": [
      "Testing: 100%|██████████| 741/741 [00:11<00:00, 65.10it/s]\n",
      "c:\\ProgramData\\Anaconda3\\envs\\modern_nlp\\lib\\site-packages\\sklearn\\metrics\\_classification.py:1987: UserWarning: y_pred contains classes not in y_true\n",
      "  warnings.warn(\"y_pred contains classes not in y_true\")\n",
      "c:\\ProgramData\\Anaconda3\\envs\\modern_nlp\\lib\\site-packages\\sklearn\\metrics\\_classification.py:1318: UndefinedMetricWarning: Recall is ill-defined and being set to 0.0 due to no true samples. Use `zero_division` parameter to control this behavior.\n",
      "  _warn_prf(average, modifier, msg_start, len(result))\n",
      "c:\\ProgramData\\Anaconda3\\envs\\modern_nlp\\lib\\site-packages\\ipykernel_launcher.py:37: UserWarning: FixedFormatter should only be used together with FixedLocator\n"
     ]
    },
    {
     "name": "stdout",
     "output_type": "stream",
     "text": [
      "Evaluation for dataset low_answering only zeros\n",
      "Test model loss=1.2624096803926834\n",
      "Balanced_accuracy: 0.0438833378341885\n",
      "Precision: 0.0\n",
      "Recall: 0.0\n",
      "F1: 0.0\n",
      "Impossible to define ROC_AUC - only one class presents!\n",
      "Number of ones in predictions: 7081\n",
      "Number of predictions: 7406\n",
      "\n"
     ]
    },
    {
     "data": {
      "image/png": "[encoded data removed]",
      "text/plain": [
       "<Figure size 640x480 with 1 Axes>"
      ]
     },
     "metadata": {},
     "output_type": "display_data"
    }
   ],
   "source": [
    "name=\"airlines\"\n",
    "a=evaluate_all_datasets(trainer)"
   ]
  },
  {
   "cell_type": "markdown",
   "metadata": {},
   "source": [
    "### Airlines"
   ]
  },
  {
   "cell_type": "code",
   "execution_count": 26,
   "metadata": {},
   "outputs": [],
   "source": [
    "name=\"airlines\""
   ]
  },
  {
   "cell_type": "code",
   "execution_count": 27,
   "metadata": {},
   "outputs": [
    {
     "name": "stderr",
     "output_type": "stream",
     "text": [
      "Some weights of the model checkpoint at distilbert-base-uncased were not used when initializing DistilBertModel: ['vocab_layer_norm.weight', 'vocab_layer_norm.bias', 'vocab_transform.bias', 'vocab_transform.weight', 'vocab_projector.weight', 'vocab_projector.bias']\n",
      "- This IS expected if you are initializing DistilBertModel from the checkpoint of a model trained on another task or with another architecture (e.g. initializing a BertForSequenceClassification model from a BertForPreTraining model).\n",
      "- This IS NOT expected if you are initializing DistilBertModel from the checkpoint of a model that you expect to be exactly identical (initializing a BertForSequenceClassification model from a BertForSequenceClassification model).\n"
     ]
    },
    {
     "name": "stdout",
     "output_type": "stream",
     "text": [
      "Building Twitter Dataset...Dropped out 31 samples\n",
      "Building Twitter Dataset...Dropped out 6 samples\n"
     ]
    }
   ],
   "source": [
    "trainer=training(name,10)"
   ]
  },
  {
   "cell_type": "code",
   "execution_count": 28,
   "metadata": {},
   "outputs": [
    {
     "name": "stderr",
     "output_type": "stream",
     "text": [
      "c:\\ProgramData\\Anaconda3\\envs\\modern_nlp\\lib\\site-packages\\transformers\\optimization.py:395: FutureWarning: This implementation of AdamW is deprecated and will be removed in a future version. Use the PyTorch implementation torch.optim.AdamW instead, or set `no_deprecation_warning=True` to disable this warning\n",
      "  FutureWarning,\n"
     ]
    },
    {
     "data": {
      "application/vnd.jupyter.widget-view+json": {
       "model_id": "1cc4c1f6a2024a149410c5a7a2ad279b",
       "version_major": 2,
       "version_minor": 0
      },
      "text/plain": [
       "  0%|          | 0/9140 [00:00<?, ?it/s]"
      ]
     },
     "metadata": {},
     "output_type": "display_data"
    },
    {
     "name": "stdout",
     "output_type": "stream",
     "text": [
      "{'loss': 127.2934, 'learning_rate': 4.890590809628009e-06, 'epoch': 0.22}\n",
      "{'loss': 65.6935, 'learning_rate': 4.781181619256018e-06, 'epoch': 0.44}\n",
      "{'loss': 87.488, 'learning_rate': 4.6717724288840265e-06, 'epoch': 0.66}\n",
      "{'loss': 67.8403, 'learning_rate': 4.562363238512035e-06, 'epoch': 0.88}\n"
     ]
    },
    {
     "data": {
      "application/vnd.jupyter.widget-view+json": {
       "model_id": "ca0881fdcc5e4aaf89f95a580e2de5d8",
       "version_major": 2,
       "version_minor": 0
      },
      "text/plain": [
       "  0%|          | 0/172 [00:00<?, ?it/s]"
      ]
     },
     "metadata": {},
     "output_type": "display_data"
    },
    {
     "name": "stdout",
     "output_type": "stream",
     "text": [
      "{'eval_loss': 30.88973045349121, 'eval_balanced_accuracy': 0.7, 'eval_precision': 0.64, 'eval_recall': 0.66, 'eval_f1': 0.65, 'eval_runtime': 2.541, 'eval_samples_per_second': 539.158, 'eval_steps_per_second': 67.69, 'epoch': 1.0}\n",
      "{'loss': 40.7966, 'learning_rate': 4.452954048140044e-06, 'epoch': 1.09}\n",
      "{'loss': 57.8547, 'learning_rate': 4.343544857768053e-06, 'epoch': 1.31}\n",
      "{'loss': 23.9623, 'learning_rate': 4.234135667396061e-06, 'epoch': 1.53}\n",
      "{'loss': 42.5664, 'learning_rate': 4.12472647702407e-06, 'epoch': 1.75}\n",
      "{'loss': 12.319, 'learning_rate': 4.015317286652079e-06, 'epoch': 1.97}\n"
     ]
    },
    {
     "data": {
      "application/vnd.jupyter.widget-view+json": {
       "model_id": "fd3db798bccd4e568de2b6a7072813cb",
       "version_major": 2,
       "version_minor": 0
      },
      "text/plain": [
       "  0%|          | 0/172 [00:00<?, ?it/s]"
      ]
     },
     "metadata": {},
     "output_type": "display_data"
    },
    {
     "name": "stdout",
     "output_type": "stream",
     "text": [
      "{'eval_loss': 3.1997270584106445, 'eval_balanced_accuracy': 0.73, 'eval_precision': 0.65, 'eval_recall': 0.73, 'eval_f1': 0.69, 'eval_runtime': 2.54, 'eval_samples_per_second': 539.37, 'eval_steps_per_second': 67.717, 'epoch': 2.0}\n",
      "{'loss': 2.1592, 'learning_rate': 3.905908096280087e-06, 'epoch': 2.19}\n",
      "{'loss': 1.4801, 'learning_rate': 3.7964989059080965e-06, 'epoch': 2.41}\n",
      "{'loss': 1.2803, 'learning_rate': 3.6870897155361052e-06, 'epoch': 2.63}\n",
      "{'loss': 1.1941, 'learning_rate': 3.577680525164114e-06, 'epoch': 2.84}\n"
     ]
    },
    {
     "data": {
      "application/vnd.jupyter.widget-view+json": {
       "model_id": "c8383e9a9bdb4701856ea2262cd790b4",
       "version_major": 2,
       "version_minor": 0
      },
      "text/plain": [
       "  0%|          | 0/172 [00:00<?, ?it/s]"
      ]
     },
     "metadata": {},
     "output_type": "display_data"
    },
    {
     "name": "stdout",
     "output_type": "stream",
     "text": [
      "{'eval_loss': 0.8152212500572205, 'eval_balanced_accuracy': 0.75, 'eval_precision': 0.67, 'eval_recall': 0.77, 'eval_f1': 0.71, 'eval_runtime': 2.536, 'eval_samples_per_second': 540.221, 'eval_steps_per_second': 67.823, 'epoch': 3.0}\n",
      "{'loss': 1.161, 'learning_rate': 3.4682713347921226e-06, 'epoch': 3.06}\n",
      "{'loss': 1.1217, 'learning_rate': 3.3588621444201313e-06, 'epoch': 3.28}\n",
      "{'loss': 1.2022, 'learning_rate': 3.24945295404814e-06, 'epoch': 3.5}\n",
      "{'loss': 1.4088, 'learning_rate': 3.1400437636761488e-06, 'epoch': 3.72}\n",
      "{'loss': 1.0453, 'learning_rate': 3.0306345733041575e-06, 'epoch': 3.94}\n"
     ]
    },
    {
     "data": {
      "application/vnd.jupyter.widget-view+json": {
       "model_id": "7fa805aacd424a40950bc0a03a8f41f8",
       "version_major": 2,
       "version_minor": 0
      },
      "text/plain": [
       "  0%|          | 0/172 [00:00<?, ?it/s]"
      ]
     },
     "metadata": {},
     "output_type": "display_data"
    },
    {
     "name": "stdout",
     "output_type": "stream",
     "text": [
      "{'eval_loss': 0.5306604504585266, 'eval_balanced_accuracy': 0.77, 'eval_precision': 0.65, 'eval_recall': 0.85, 'eval_f1': 0.74, 'eval_runtime': 2.512, 'eval_samples_per_second': 545.382, 'eval_steps_per_second': 68.471, 'epoch': 4.0}\n",
      "{'loss': 1.3857, 'learning_rate': 2.921225382932166e-06, 'epoch': 4.16}\n",
      "{'loss': 0.8578, 'learning_rate': 2.811816192560175e-06, 'epoch': 4.38}\n",
      "{'loss': 1.2912, 'learning_rate': 2.7024070021881844e-06, 'epoch': 4.6}\n",
      "{'loss': 1.4081, 'learning_rate': 2.592997811816193e-06, 'epoch': 4.81}\n"
     ]
    },
    {
     "data": {
      "application/vnd.jupyter.widget-view+json": {
       "model_id": "98ba286b32b34aa0984895dada9658a8",
       "version_major": 2,
       "version_minor": 0
      },
      "text/plain": [
       "  0%|          | 0/172 [00:00<?, ?it/s]"
      ]
     },
     "metadata": {},
     "output_type": "display_data"
    },
    {
     "name": "stdout",
     "output_type": "stream",
     "text": [
      "{'eval_loss': 0.9039907455444336, 'eval_balanced_accuracy': 0.79, 'eval_precision': 0.68, 'eval_recall': 0.85, 'eval_f1': 0.76, 'eval_runtime': 2.529, 'eval_samples_per_second': 541.716, 'eval_steps_per_second': 68.011, 'epoch': 5.0}\n",
      "{'loss': 1.1771, 'learning_rate': 2.4835886214442014e-06, 'epoch': 5.03}\n",
      "{'loss': 1.017, 'learning_rate': 2.37417943107221e-06, 'epoch': 5.25}\n",
      "{'loss': 0.8433, 'learning_rate': 2.2647702407002188e-06, 'epoch': 5.47}\n",
      "{'loss': 0.8843, 'learning_rate': 2.1553610503282275e-06, 'epoch': 5.69}\n",
      "{'loss': 0.6579, 'learning_rate': 2.0459518599562366e-06, 'epoch': 5.91}\n"
     ]
    },
    {
     "data": {
      "application/vnd.jupyter.widget-view+json": {
       "model_id": "0e8f228ee8404481806888b5644fead6",
       "version_major": 2,
       "version_minor": 0
      },
      "text/plain": [
       "  0%|          | 0/172 [00:00<?, ?it/s]"
      ]
     },
     "metadata": {},
     "output_type": "display_data"
    },
    {
     "name": "stdout",
     "output_type": "stream",
     "text": [
      "{'eval_loss': 0.6724916696548462, 'eval_balanced_accuracy': 0.81, 'eval_precision': 0.8, 'eval_recall': 0.74, 'eval_f1': 0.77, 'eval_runtime': 2.57, 'eval_samples_per_second': 533.074, 'eval_steps_per_second': 66.926, 'epoch': 6.0}\n",
      "{'loss': 1.1278, 'learning_rate': 1.9365426695842453e-06, 'epoch': 6.13}\n",
      "{'loss': 0.8202, 'learning_rate': 1.8271334792122538e-06, 'epoch': 6.35}\n",
      "{'loss': 0.9531, 'learning_rate': 1.7177242888402625e-06, 'epoch': 6.56}\n",
      "{'loss': 0.9924, 'learning_rate': 1.6083150984682714e-06, 'epoch': 6.78}\n"
     ]
    },
    {
     "data": {
      "application/vnd.jupyter.widget-view+json": {
       "model_id": "ab7bc4ba9ef8414f82fb9a71e305935f",
       "version_major": 2,
       "version_minor": 0
      },
      "text/plain": [
       "  0%|          | 0/172 [00:00<?, ?it/s]"
      ]
     },
     "metadata": {},
     "output_type": "display_data"
    },
    {
     "name": "stdout",
     "output_type": "stream",
     "text": [
      "{'eval_loss': 0.44543546438217163, 'eval_balanced_accuracy': 0.82, 'eval_precision': 0.82, 'eval_recall': 0.76, 'eval_f1': 0.79, 'eval_runtime': 2.574, 'eval_samples_per_second': 532.246, 'eval_steps_per_second': 66.822, 'epoch': 7.0}\n",
      "{'loss': 0.6762, 'learning_rate': 1.4989059080962803e-06, 'epoch': 7.0}\n",
      "{'loss': 0.7114, 'learning_rate': 1.389496717724289e-06, 'epoch': 7.22}\n",
      "{'loss': 0.9752, 'learning_rate': 1.2800875273522977e-06, 'epoch': 7.44}\n",
      "{'loss': 0.6359, 'learning_rate': 1.1706783369803064e-06, 'epoch': 7.66}\n",
      "{'loss': 0.8991, 'learning_rate': 1.0612691466083151e-06, 'epoch': 7.88}\n"
     ]
    },
    {
     "data": {
      "application/vnd.jupyter.widget-view+json": {
       "model_id": "50f5f8e4ca9448e1b368640a92ee1e6c",
       "version_major": 2,
       "version_minor": 0
      },
      "text/plain": [
       "  0%|          | 0/172 [00:00<?, ?it/s]"
      ]
     },
     "metadata": {},
     "output_type": "display_data"
    },
    {
     "name": "stdout",
     "output_type": "stream",
     "text": [
      "{'eval_loss': 0.4640646278858185, 'eval_balanced_accuracy': 0.85, 'eval_precision': 0.79, 'eval_recall': 0.84, 'eval_f1': 0.82, 'eval_runtime': 2.556, 'eval_samples_per_second': 535.994, 'eval_steps_per_second': 67.293, 'epoch': 8.0}\n",
      "{'loss': 0.6554, 'learning_rate': 9.518599562363239e-07, 'epoch': 8.1}\n",
      "{'loss': 0.6164, 'learning_rate': 8.424507658643327e-07, 'epoch': 8.32}\n",
      "{'loss': 0.7124, 'learning_rate': 7.330415754923414e-07, 'epoch': 8.53}\n",
      "{'loss': 0.8283, 'learning_rate': 6.236323851203501e-07, 'epoch': 8.75}\n",
      "{'loss': 0.6076, 'learning_rate': 5.14223194748359e-07, 'epoch': 8.97}\n"
     ]
    },
    {
     "data": {
      "application/vnd.jupyter.widget-view+json": {
       "model_id": "66339b7e65fa4789abd18ff8e11286bd",
       "version_major": 2,
       "version_minor": 0
      },
      "text/plain": [
       "  0%|          | 0/172 [00:00<?, ?it/s]"
      ]
     },
     "metadata": {},
     "output_type": "display_data"
    },
    {
     "name": "stdout",
     "output_type": "stream",
     "text": [
      "{'eval_loss': 0.4450599253177643, 'eval_balanced_accuracy': 0.85, 'eval_precision': 0.82, 'eval_recall': 0.83, 'eval_f1': 0.83, 'eval_runtime': 2.634, 'eval_samples_per_second': 520.122, 'eval_steps_per_second': 65.3, 'epoch': 9.0}\n",
      "{'loss': 0.6923, 'learning_rate': 4.0481400437636766e-07, 'epoch': 9.19}\n",
      "{'loss': 0.6701, 'learning_rate': 2.954048140043764e-07, 'epoch': 9.41}\n",
      "{'loss': 0.5903, 'learning_rate': 1.8599562363238514e-07, 'epoch': 9.63}\n",
      "{'loss': 0.6251, 'learning_rate': 7.658643326039388e-08, 'epoch': 9.85}\n"
     ]
    },
    {
     "data": {
      "application/vnd.jupyter.widget-view+json": {
       "model_id": "7047a1dec0ad472da3a1189abd33c833",
       "version_major": 2,
       "version_minor": 0
      },
      "text/plain": [
       "  0%|          | 0/172 [00:00<?, ?it/s]"
      ]
     },
     "metadata": {},
     "output_type": "display_data"
    },
    {
     "name": "stdout",
     "output_type": "stream",
     "text": [
      "{'eval_loss': 0.4663190245628357, 'eval_balanced_accuracy': 0.86, 'eval_precision': 0.83, 'eval_recall': 0.83, 'eval_f1': 0.83, 'eval_runtime': 2.67, 'eval_samples_per_second': 513.108, 'eval_steps_per_second': 64.419, 'epoch': 10.0}\n",
      "{'train_runtime': 600.94, 'train_samples_per_second': 121.643, 'train_steps_per_second': 15.21, 'train_loss': 12.287254237502617, 'epoch': 10.0}\n"
     ]
    },
    {
     "data": {
      "text/plain": [
       "TrainOutput(global_step=9140, training_loss=12.287254237502617, metrics={'train_runtime': 600.94, 'train_samples_per_second': 121.643, 'train_steps_per_second': 15.21, 'train_loss': 12.287254237502617, 'epoch': 10.0})"
      ]
     },
     "execution_count": 28,
     "metadata": {},
     "output_type": "execute_result"
    }
   ],
   "source": [
    "trainer.train()"
   ]
  },
  {
   "cell_type": "code",
   "execution_count": 29,
   "metadata": {},
   "outputs": [
    {
     "data": {
      "image/png": "[encoded data removed]",
      "text/plain": [
       "<Figure size 640x480 with 1 Axes>"
      ]
     },
     "metadata": {},
     "output_type": "display_data"
    }
   ],
   "source": [
    "plot_save_results(trainer,name)"
   ]
  },
  {
   "cell_type": "code",
   "execution_count": 30,
   "metadata": {},
   "outputs": [
    {
     "name": "stdout",
     "output_type": "stream",
     "text": [
      "Building Twitter Dataset...Dropped out 2 samples\n"
     ]
    },
    {
     "name": "stderr",
     "output_type": "stream",
     "text": [
      "Testing: 100%|██████████| 46/46 [00:00<00:00, 58.38it/s]\n"
     ]
    },
    {
     "name": "stdout",
     "output_type": "stream",
     "text": [
      "Evaluation for dataset well_answering\n",
      "Test model loss=0.13988345397123392\n",
      "Balanced_accuracy: 0.8736363274406753\n",
      "Precision: 0.8693181818181818\n",
      "Recall: 0.8315217391304348\n",
      "F1: 0.8499999999999999\n",
      "Roc_auc: 0.8736363274406752\n",
      "Number of ones in predictions: 176\n",
      "Number of predictions: 457\n",
      "\n",
      "Building Twitter Dataset...Dropped out 9 samples\n"
     ]
    },
    {
     "name": "stderr",
     "output_type": "stream",
     "text": [
      "Testing: 100%|██████████| 356/356 [00:06<00:00, 57.04it/s]\n",
      "c:\\ProgramData\\Anaconda3\\envs\\modern_nlp\\lib\\site-packages\\sklearn\\metrics\\_classification.py:1987: UserWarning: y_pred contains classes not in y_true\n",
      "  warnings.warn(\"y_pred contains classes not in y_true\")\n"
     ]
    },
    {
     "name": "stdout",
     "output_type": "stream",
     "text": [
      "Evaluation for dataset well_answering only ones\n",
      "Test model loss=0.3242259899482188\n",
      "Balanced_accuracy: 0.7956717256885891\n",
      "Precision: 1.0\n",
      "Recall: 0.7956717256885891\n",
      "F1: 0.8862106745969635\n",
      "Impossible to define ROC_AUC - only one class presents!\n",
      "Number of ones in predictions: 2831\n",
      "Number of predictions: 3558\n",
      "\n",
      "Building Twitter Dataset...Dropped out 33 samples\n"
     ]
    },
    {
     "name": "stderr",
     "output_type": "stream",
     "text": [
      "Testing: 100%|██████████| 558/558 [00:10<00:00, 54.44it/s]\n",
      "c:\\ProgramData\\Anaconda3\\envs\\modern_nlp\\lib\\site-packages\\sklearn\\metrics\\_classification.py:1987: UserWarning: y_pred contains classes not in y_true\n",
      "  warnings.warn(\"y_pred contains classes not in y_true\")\n",
      "c:\\ProgramData\\Anaconda3\\envs\\modern_nlp\\lib\\site-packages\\sklearn\\metrics\\_classification.py:1318: UndefinedMetricWarning: Recall is ill-defined and being set to 0.0 due to no true samples. Use `zero_division` parameter to control this behavior.\n",
      "  _warn_prf(average, modifier, msg_start, len(result))\n"
     ]
    },
    {
     "name": "stdout",
     "output_type": "stream",
     "text": [
      "Evaluation for dataset well_answering only zeros\n",
      "Test model loss=0.1161313234753863\n",
      "Balanced_accuracy: 0.8558106169296987\n",
      "Precision: 0.0\n",
      "Recall: 0.0\n",
      "F1: 0.0\n",
      "Impossible to define ROC_AUC - only one class presents!\n",
      "Number of ones in predictions: 804\n",
      "Number of predictions: 5576\n",
      "\n",
      "Building Twitter Dataset...Dropped out 58 samples\n"
     ]
    },
    {
     "name": "stderr",
     "output_type": "stream",
     "text": [
      "Testing: 100%|██████████| 942/942 [00:15<00:00, 61.46it/s]\n"
     ]
    },
    {
     "name": "stdout",
     "output_type": "stream",
     "text": [
      "Evaluation for dataset low_answering\n",
      "Test model loss=0.2883600843365063\n",
      "Balanced_accuracy: 0.6705706878131547\n",
      "Precision: 0.34480234260614934\n",
      "Recall: 0.7036852589641435\n",
      "F1: 0.4628234523419587\n",
      "Roc_auc: 0.6705706878131548\n",
      "Number of ones in predictions: 4098\n",
      "Number of predictions: 9414\n",
      "\n",
      "Building Twitter Dataset...Dropped out 10 samples\n"
     ]
    },
    {
     "name": "stderr",
     "output_type": "stream",
     "text": [
      "Testing: 100%|██████████| 201/201 [00:03<00:00, 66.21it/s]\n",
      "c:\\ProgramData\\Anaconda3\\envs\\modern_nlp\\lib\\site-packages\\sklearn\\metrics\\_classification.py:1987: UserWarning: y_pred contains classes not in y_true\n",
      "  warnings.warn(\"y_pred contains classes not in y_true\")\n"
     ]
    },
    {
     "name": "stdout",
     "output_type": "stream",
     "text": [
      "Evaluation for dataset low_answering only ones\n",
      "Test model loss=0.34522110694528213\n",
      "Balanced_accuracy: 0.7036852589641435\n",
      "Precision: 1.0\n",
      "Recall: 0.7036852589641435\n",
      "F1: 0.8260742472961122\n",
      "Impossible to define ROC_AUC - only one class presents!\n",
      "Number of ones in predictions: 1413\n",
      "Number of predictions: 2008\n",
      "\n",
      "Building Twitter Dataset...Dropped out 48 samples\n"
     ]
    },
    {
     "name": "stderr",
     "output_type": "stream",
     "text": [
      "Testing: 100%|██████████| 741/741 [00:11<00:00, 64.50it/s]\n",
      "c:\\ProgramData\\Anaconda3\\envs\\modern_nlp\\lib\\site-packages\\sklearn\\metrics\\_classification.py:1987: UserWarning: y_pred contains classes not in y_true\n",
      "  warnings.warn(\"y_pred contains classes not in y_true\")\n",
      "c:\\ProgramData\\Anaconda3\\envs\\modern_nlp\\lib\\site-packages\\sklearn\\metrics\\_classification.py:1318: UndefinedMetricWarning: Recall is ill-defined and being set to 0.0 due to no true samples. Use `zero_division` parameter to control this behavior.\n",
      "  _warn_prf(average, modifier, msg_start, len(result))\n",
      "c:\\ProgramData\\Anaconda3\\envs\\modern_nlp\\lib\\site-packages\\ipykernel_launcher.py:37: UserWarning: FixedFormatter should only be used together with FixedLocator\n"
     ]
    },
    {
     "name": "stdout",
     "output_type": "stream",
     "text": [
      "Evaluation for dataset low_answering only zeros\n",
      "Test model loss=0.26519950986699475\n",
      "Balanced_accuracy: 0.6374561166621658\n",
      "Precision: 0.0\n",
      "Recall: 0.0\n",
      "F1: 0.0\n",
      "Impossible to define ROC_AUC - only one class presents!\n",
      "Number of ones in predictions: 2685\n",
      "Number of predictions: 7406\n",
      "\n"
     ]
    },
    {
     "data": {
      "image/png": "[encoded data removed]",
      "text/plain": [
       "<Figure size 640x480 with 1 Axes>"
      ]
     },
     "metadata": {},
     "output_type": "display_data"
    }
   ],
   "source": [
    "a=evaluate_all_datasets(trainer)"
   ]
  },
  {
   "cell_type": "markdown",
   "metadata": {},
   "source": [
    "##### Generalization"
   ]
  },
  {
   "cell_type": "code",
   "execution_count": 31,
   "metadata": {},
   "outputs": [],
   "source": [
    "# model=DistilBertForSequenceClassification.from_pretrained(\"models/well-answering-airlines/checkpoint9000\")\n",
    "# model=model.to(device)"
   ]
  },
  {
   "cell_type": "code",
   "execution_count": 32,
   "metadata": {},
   "outputs": [
    {
     "name": "stdout",
     "output_type": "stream",
     "text": [
      "Building Twitter Dataset...Dropped out 26 samples\n"
     ]
    },
    {
     "name": "stderr",
     "output_type": "stream",
     "text": [
      "Testing: 100%|██████████| 204/204 [00:03<00:00, 59.74it/s]\n"
     ]
    },
    {
     "name": "stdout",
     "output_type": "stream",
     "text": [
      "Evaluation for dataset well_answering\n",
      "Test model loss=0.180163103167966\n",
      "Balanced_accuracy: 0.627097156861467\n",
      "Precision: 0.178117048346056\n",
      "Recall: 0.4268292682926829\n",
      "F1: 0.2513464991023339\n",
      "Roc_auc: 0.627097156861467\n",
      "Number of ones in predictions: 393\n",
      "Number of predictions: 2035\n",
      "\n",
      "Building Twitter Dataset...Dropped out 65 samples\n"
     ]
    },
    {
     "name": "stderr",
     "output_type": "stream",
     "text": [
      "Testing: 100%|██████████| 333/333 [00:05<00:00, 57.93it/s]\n",
      "c:\\ProgramData\\Anaconda3\\envs\\modern_nlp\\lib\\site-packages\\sklearn\\metrics\\_classification.py:1987: UserWarning: y_pred contains classes not in y_true\n",
      "  warnings.warn(\"y_pred contains classes not in y_true\")\n"
     ]
    },
    {
     "name": "stdout",
     "output_type": "stream",
     "text": [
      "Evaluation for dataset well_answering only ones\n",
      "Test model loss=0.5330805361151575\n",
      "Balanced_accuracy: 0.45109840505567256\n",
      "Precision: 1.0\n",
      "Recall: 0.45109840505567256\n",
      "F1: 0.6217337204479468\n",
      "Impossible to define ROC_AUC - only one class presents!\n",
      "Number of ones in predictions: 1499\n",
      "Number of predictions: 3323\n",
      "\n",
      "Building Twitter Dataset...Dropped out 98 samples\n"
     ]
    },
    {
     "name": "stderr",
     "output_type": "stream",
     "text": [
      "Testing: 100%|██████████| 991/991 [00:17<00:00, 58.11it/s]\n",
      "c:\\ProgramData\\Anaconda3\\envs\\modern_nlp\\lib\\site-packages\\sklearn\\metrics\\_classification.py:1987: UserWarning: y_pred contains classes not in y_true\n",
      "  warnings.warn(\"y_pred contains classes not in y_true\")\n",
      "c:\\ProgramData\\Anaconda3\\envs\\modern_nlp\\lib\\site-packages\\sklearn\\metrics\\_classification.py:1318: UndefinedMetricWarning: Recall is ill-defined and being set to 0.0 due to no true samples. Use `zero_division` parameter to control this behavior.\n",
      "  _warn_prf(average, modifier, msg_start, len(result))\n"
     ]
    },
    {
     "name": "stdout",
     "output_type": "stream",
     "text": [
      "Evaluation for dataset well_answering only zeros\n",
      "Test model loss=0.13168981212469763\n",
      "Balanced_accuracy: 0.8263987073318522\n",
      "Precision: 0.0\n",
      "Recall: 0.0\n",
      "F1: 0.0\n",
      "Impossible to define ROC_AUC - only one class presents!\n",
      "Number of ones in predictions: 1719\n",
      "Number of predictions: 9902\n",
      "\n",
      "Building Twitter Dataset...Dropped out 54 samples\n"
     ]
    },
    {
     "name": "stderr",
     "output_type": "stream",
     "text": [
      "Testing: 100%|██████████| 995/995 [00:18<00:00, 53.74it/s]\n"
     ]
    },
    {
     "name": "stdout",
     "output_type": "stream",
     "text": [
      "Evaluation for dataset low_answering\n",
      "Test model loss=0.09296231231897117\n",
      "Balanced_accuracy: 0.6231448091326286\n",
      "Precision: 0.05989847715736041\n",
      "Recall: 0.34104046242774566\n",
      "F1: 0.10189982728842832\n",
      "Roc_auc: 0.6231448091326286\n",
      "Number of ones in predictions: 985\n",
      "Number of predictions: 9946\n",
      "\n",
      "Building Twitter Dataset...Dropped out 35 samples\n"
     ]
    },
    {
     "name": "stderr",
     "output_type": "stream",
     "text": [
      "Testing: 100%|██████████| 119/119 [00:02<00:00, 56.03it/s]\n",
      "c:\\ProgramData\\Anaconda3\\envs\\modern_nlp\\lib\\site-packages\\sklearn\\metrics\\_classification.py:1987: UserWarning: y_pred contains classes not in y_true\n",
      "  warnings.warn(\"y_pred contains classes not in y_true\")\n"
     ]
    },
    {
     "name": "stdout",
     "output_type": "stream",
     "text": [
      "Evaluation for dataset low_answering only ones\n",
      "Test model loss=0.5792376674523874\n",
      "Balanced_accuracy: 0.4059071729957806\n",
      "Precision: 1.0\n",
      "Recall: 0.4059071729957806\n",
      "F1: 0.5774309723889556\n",
      "Impossible to define ROC_AUC - only one class presents!\n",
      "Number of ones in predictions: 481\n",
      "Number of predictions: 1185\n",
      "\n",
      "Building Twitter Dataset...Dropped out 84 samples\n"
     ]
    },
    {
     "name": "stderr",
     "output_type": "stream",
     "text": [
      "Testing: 100%|██████████| 992/992 [00:17<00:00, 56.07it/s]\n",
      "c:\\ProgramData\\Anaconda3\\envs\\modern_nlp\\lib\\site-packages\\sklearn\\metrics\\_classification.py:1987: UserWarning: y_pred contains classes not in y_true\n",
      "  warnings.warn(\"y_pred contains classes not in y_true\")\n",
      "c:\\ProgramData\\Anaconda3\\envs\\modern_nlp\\lib\\site-packages\\sklearn\\metrics\\_classification.py:1318: UndefinedMetricWarning: Recall is ill-defined and being set to 0.0 due to no true samples. Use `zero_division` parameter to control this behavior.\n",
      "  _warn_prf(average, modifier, msg_start, len(result))\n",
      "c:\\ProgramData\\Anaconda3\\envs\\modern_nlp\\lib\\site-packages\\ipykernel_launcher.py:37: UserWarning: FixedFormatter should only be used together with FixedLocator\n"
     ]
    },
    {
     "name": "stdout",
     "output_type": "stream",
     "text": [
      "Evaluation for dataset low_answering only zeros\n",
      "Test model loss=0.06254304394686738\n",
      "Balanced_accuracy: 0.9378781766841469\n",
      "Precision: 0.0\n",
      "Recall: 0.0\n",
      "F1: 0.0\n",
      "Impossible to define ROC_AUC - only one class presents!\n",
      "Number of ones in predictions: 616\n",
      "Number of predictions: 9916\n",
      "\n"
     ]
    },
    {
     "data": {
      "image/png": "[encoded data removed]",
      "text/plain": [
       "<Figure size 640x480 with 1 Axes>"
      ]
     },
     "metadata": {},
     "output_type": "display_data"
    }
   ],
   "source": [
    "name=\"ngos\"\n",
    "a=evaluate_all_datasets(trainer)"
   ]
  },
  {
   "cell_type": "code",
   "execution_count": 33,
   "metadata": {},
   "outputs": [
    {
     "name": "stdout",
     "output_type": "stream",
     "text": [
      "Building Twitter Dataset...Dropped out 4 samples\n"
     ]
    },
    {
     "name": "stderr",
     "output_type": "stream",
     "text": [
      "Testing: 100%|██████████| 58/58 [00:00<00:00, 58.88it/s]\n"
     ]
    },
    {
     "name": "stdout",
     "output_type": "stream",
     "text": [
      "Evaluation for dataset well_answering\n",
      "Test model loss=0.24240125946957483\n",
      "Balanced_accuracy: 0.6347723324310128\n",
      "Precision: 0.35251798561151076\n",
      "Recall: 0.46226415094339623\n",
      "F1: 0.39999999999999997\n",
      "Roc_auc: 0.6347723324310129\n",
      "Number of ones in predictions: 139\n",
      "Number of predictions: 573\n",
      "\n",
      "Building Twitter Dataset...Dropped out 12 samples\n"
     ]
    },
    {
     "name": "stderr",
     "output_type": "stream",
     "text": [
      "Testing: 100%|██████████| 210/210 [00:03<00:00, 54.46it/s]\n",
      "c:\\ProgramData\\Anaconda3\\envs\\modern_nlp\\lib\\site-packages\\sklearn\\metrics\\_classification.py:1987: UserWarning: y_pred contains classes not in y_true\n",
      "  warnings.warn(\"y_pred contains classes not in y_true\")\n"
     ]
    },
    {
     "name": "stdout",
     "output_type": "stream",
     "text": [
      "Evaluation for dataset well_answering only ones\n",
      "Test model loss=0.5052048952333509\n",
      "Balanced_accuracy: 0.4921090387374462\n",
      "Precision: 1.0\n",
      "Recall: 0.4921090387374462\n",
      "F1: 0.6596153846153846\n",
      "Impossible to define ROC_AUC - only one class presents!\n",
      "Number of ones in predictions: 1029\n",
      "Number of predictions: 2091\n",
      "\n",
      "Building Twitter Dataset...Dropped out 83 samples\n"
     ]
    },
    {
     "name": "stderr",
     "output_type": "stream",
     "text": [
      "Testing: 100%|██████████| 936/936 [00:16<00:00, 56.33it/s]\n",
      "c:\\ProgramData\\Anaconda3\\envs\\modern_nlp\\lib\\site-packages\\sklearn\\metrics\\_classification.py:1987: UserWarning: y_pred contains classes not in y_true\n",
      "  warnings.warn(\"y_pred contains classes not in y_true\")\n",
      "c:\\ProgramData\\Anaconda3\\envs\\modern_nlp\\lib\\site-packages\\sklearn\\metrics\\_classification.py:1318: UndefinedMetricWarning: Recall is ill-defined and being set to 0.0 due to no true samples. Use `zero_division` parameter to control this behavior.\n",
      "  _warn_prf(average, modifier, msg_start, len(result))\n"
     ]
    },
    {
     "name": "stdout",
     "output_type": "stream",
     "text": [
      "Evaluation for dataset well_answering only zeros\n",
      "Test model loss=0.14419125702943197\n",
      "Balanced_accuracy: 0.807141329912337\n",
      "Precision: 0.0\n",
      "Recall: 0.0\n",
      "F1: 0.0\n",
      "Impossible to define ROC_AUC - only one class presents!\n",
      "Number of ones in predictions: 1804\n",
      "Number of predictions: 9354\n",
      "\n",
      "Building Twitter Dataset...Dropped out 88 samples\n"
     ]
    },
    {
     "name": "stderr",
     "output_type": "stream",
     "text": [
      "Testing: 100%|██████████| 992/992 [00:18<00:00, 53.61it/s]\n"
     ]
    },
    {
     "name": "stdout",
     "output_type": "stream",
     "text": [
      "Evaluation for dataset low_answering\n",
      "Test model loss=0.1284876636740182\n",
      "Balanced_accuracy: 0.5711835160373528\n",
      "Precision: 0.011457670273711012\n",
      "Recall: 0.3\n",
      "F1: 0.02207234825260576\n",
      "Roc_auc: 0.5711835160373528\n",
      "Number of ones in predictions: 1571\n",
      "Number of predictions: 9912\n",
      "\n",
      "Building Twitter Dataset...Dropped out 0 samples\n"
     ]
    },
    {
     "name": "stderr",
     "output_type": "stream",
     "text": [
      "Testing: 100%|██████████| 7/7 [00:00<00:00, 86.42it/s]\n",
      "c:\\ProgramData\\Anaconda3\\envs\\modern_nlp\\lib\\site-packages\\sklearn\\metrics\\_classification.py:1987: UserWarning: y_pred contains classes not in y_true\n",
      "  warnings.warn(\"y_pred contains classes not in y_true\")\n"
     ]
    },
    {
     "name": "stdout",
     "output_type": "stream",
     "text": [
      "Evaluation for dataset low_answering only ones\n",
      "Test model loss=0.6668312776656377\n",
      "Balanced_accuracy: 0.3114754098360656\n",
      "Precision: 1.0\n",
      "Recall: 0.3114754098360656\n",
      "F1: 0.475\n",
      "Impossible to define ROC_AUC - only one class presents!\n",
      "Number of ones in predictions: 19\n",
      "Number of predictions: 61\n",
      "\n",
      "Building Twitter Dataset...Dropped out 90 samples\n"
     ]
    },
    {
     "name": "stderr",
     "output_type": "stream",
     "text": [
      "Testing: 100%|██████████| 991/991 [00:17<00:00, 56.44it/s]\n",
      "c:\\ProgramData\\Anaconda3\\envs\\modern_nlp\\lib\\site-packages\\sklearn\\metrics\\_classification.py:1987: UserWarning: y_pred contains classes not in y_true\n",
      "  warnings.warn(\"y_pred contains classes not in y_true\")\n",
      "c:\\ProgramData\\Anaconda3\\envs\\modern_nlp\\lib\\site-packages\\sklearn\\metrics\\_classification.py:1318: UndefinedMetricWarning: Recall is ill-defined and being set to 0.0 due to no true samples. Use `zero_division` parameter to control this behavior.\n",
      "  _warn_prf(average, modifier, msg_start, len(result))\n",
      "c:\\ProgramData\\Anaconda3\\envs\\modern_nlp\\lib\\site-packages\\ipykernel_launcher.py:37: UserWarning: FixedFormatter should only be used together with FixedLocator\n"
     ]
    },
    {
     "name": "stdout",
     "output_type": "stream",
     "text": [
      "Evaluation for dataset low_answering only zeros\n",
      "Test model loss=0.12372273551046434\n",
      "Balanced_accuracy: 0.8416750756811302\n",
      "Precision: 0.0\n",
      "Recall: 0.0\n",
      "F1: 0.0\n",
      "Impossible to define ROC_AUC - only one class presents!\n",
      "Number of ones in predictions: 1569\n",
      "Number of predictions: 9910\n",
      "\n"
     ]
    },
    {
     "data": {
      "image/png": "[encoded data removed]",
      "text/plain": [
       "<Figure size 640x480 with 1 Axes>"
      ]
     },
     "metadata": {},
     "output_type": "display_data"
    }
   ],
   "source": [
    "name=\"banks\"\n",
    "a=evaluate_all_datasets(trainer)"
   ]
  },
  {
   "cell_type": "markdown",
   "metadata": {},
   "source": [
    "### ICRC"
   ]
  },
  {
   "cell_type": "code",
   "execution_count": 34,
   "metadata": {},
   "outputs": [],
   "source": [
    "name=\"icrc\""
   ]
  },
  {
   "cell_type": "code",
   "execution_count": 35,
   "metadata": {},
   "outputs": [
    {
     "name": "stderr",
     "output_type": "stream",
     "text": [
      "Some weights of the model checkpoint at distilbert-base-uncased were not used when initializing DistilBertModel: ['vocab_layer_norm.weight', 'vocab_layer_norm.bias', 'vocab_transform.bias', 'vocab_transform.weight', 'vocab_projector.weight', 'vocab_projector.bias']\n",
      "- This IS expected if you are initializing DistilBertModel from the checkpoint of a model trained on another task or with another architecture (e.g. initializing a BertForSequenceClassification model from a BertForPreTraining model).\n",
      "- This IS NOT expected if you are initializing DistilBertModel from the checkpoint of a model that you expect to be exactly identical (initializing a BertForSequenceClassification model from a BertForSequenceClassification model).\n"
     ]
    },
    {
     "name": "stdout",
     "output_type": "stream",
     "text": [
      "Building Twitter Dataset...Dropped out 216 samples\n",
      "Building Twitter Dataset...Dropped out 45 samples\n"
     ]
    }
   ],
   "source": [
    "trainer=training(name,10)"
   ]
  },
  {
   "cell_type": "code",
   "execution_count": 36,
   "metadata": {},
   "outputs": [
    {
     "name": "stderr",
     "output_type": "stream",
     "text": [
      "c:\\ProgramData\\Anaconda3\\envs\\modern_nlp\\lib\\site-packages\\transformers\\optimization.py:395: FutureWarning: This implementation of AdamW is deprecated and will be removed in a future version. Use the PyTorch implementation torch.optim.AdamW instead, or set `no_deprecation_warning=True` to disable this warning\n",
      "  FutureWarning,\n"
     ]
    },
    {
     "data": {
      "application/vnd.jupyter.widget-view+json": {
       "model_id": "4f0735191c2941cab26686203d448403",
       "version_major": 2,
       "version_minor": 0
      },
      "text/plain": [
       "  0%|          | 0/21840 [00:00<?, ?it/s]"
      ]
     },
     "metadata": {},
     "output_type": "display_data"
    },
    {
     "name": "stdout",
     "output_type": "stream",
     "text": [
      "{'loss': 122.4773, 'learning_rate': 4.954212454212455e-06, 'epoch': 0.09}\n",
      "{'loss': 49.4414, 'learning_rate': 4.908424908424909e-06, 'epoch': 0.18}\n",
      "{'loss': 0.6071, 'learning_rate': 4.862637362637363e-06, 'epoch': 0.27}\n",
      "{'loss': 8.0714, 'learning_rate': 4.816849816849818e-06, 'epoch': 0.37}\n",
      "{'loss': 64.4364, 'learning_rate': 4.771062271062271e-06, 'epoch': 0.46}\n",
      "{'loss': 49.8135, 'learning_rate': 4.725274725274726e-06, 'epoch': 0.55}\n",
      "{'loss': 23.0205, 'learning_rate': 4.6794871794871795e-06, 'epoch': 0.64}\n",
      "{'loss': 5.33, 'learning_rate': 4.633699633699634e-06, 'epoch': 0.73}\n",
      "{'loss': 17.2848, 'learning_rate': 4.587912087912088e-06, 'epoch': 0.82}\n",
      "{'loss': 0.6318, 'learning_rate': 4.542124542124542e-06, 'epoch': 0.92}\n"
     ]
    },
    {
     "data": {
      "application/vnd.jupyter.widget-view+json": {
       "model_id": "1110f223aedd41b08532bf66db68e842",
       "version_major": 2,
       "version_minor": 0
      },
      "text/plain": [
       "  0%|          | 0/409 [00:00<?, ?it/s]"
      ]
     },
     "metadata": {},
     "output_type": "display_data"
    },
    {
     "name": "stdout",
     "output_type": "stream",
     "text": [
      "{'eval_loss': 45.845211029052734, 'eval_balanced_accuracy': 0.66, 'eval_precision': 0.86, 'eval_recall': 0.33, 'eval_f1': 0.48, 'eval_runtime': 5.766, 'eval_samples_per_second': 567.118, 'eval_steps_per_second': 70.933, 'epoch': 1.0}\n",
      "{'loss': 11.354, 'learning_rate': 4.496336996336997e-06, 'epoch': 1.01}\n",
      "{'loss': 0.7333, 'learning_rate': 4.45054945054945e-06, 'epoch': 1.1}\n",
      "{'loss': 80.4256, 'learning_rate': 4.404761904761905e-06, 'epoch': 1.19}\n",
      "{'loss': 8.4272, 'learning_rate': 4.358974358974359e-06, 'epoch': 1.28}\n",
      "{'loss': 71.4329, 'learning_rate': 4.313186813186814e-06, 'epoch': 1.37}\n",
      "{'loss': 17.5419, 'learning_rate': 4.267399267399268e-06, 'epoch': 1.47}\n",
      "{'loss': 5.3385, 'learning_rate': 4.221611721611722e-06, 'epoch': 1.56}\n",
      "{'loss': 9.7762, 'learning_rate': 4.175824175824177e-06, 'epoch': 1.65}\n",
      "{'loss': 22.6957, 'learning_rate': 4.13003663003663e-06, 'epoch': 1.74}\n",
      "{'loss': 37.1638, 'learning_rate': 4.084249084249085e-06, 'epoch': 1.83}\n",
      "{'loss': 7.9467, 'learning_rate': 4.0384615384615385e-06, 'epoch': 1.92}\n"
     ]
    },
    {
     "data": {
      "application/vnd.jupyter.widget-view+json": {
       "model_id": "5d6f7fccfd9a4236bd42ba4186569c19",
       "version_major": 2,
       "version_minor": 0
      },
      "text/plain": [
       "  0%|          | 0/409 [00:00<?, ?it/s]"
      ]
     },
     "metadata": {},
     "output_type": "display_data"
    },
    {
     "name": "stdout",
     "output_type": "stream",
     "text": [
      "{'eval_loss': 34.84709930419922, 'eval_balanced_accuracy': 0.67, 'eval_precision': 0.89, 'eval_recall': 0.34, 'eval_f1': 0.49, 'eval_runtime': 5.786, 'eval_samples_per_second': 565.157, 'eval_steps_per_second': 70.688, 'epoch': 2.0}\n",
      "{'loss': 63.5708, 'learning_rate': 3.992673992673993e-06, 'epoch': 2.01}\n",
      "{'loss': 5.7983, 'learning_rate': 3.946886446886447e-06, 'epoch': 2.11}\n",
      "{'loss': 32.9987, 'learning_rate': 3.901098901098901e-06, 'epoch': 2.2}\n",
      "{'loss': 84.9948, 'learning_rate': 3.855311355311356e-06, 'epoch': 2.29}\n",
      "{'loss': 7.4863, 'learning_rate': 3.80952380952381e-06, 'epoch': 2.38}\n",
      "{'loss': 23.8286, 'learning_rate': 3.763736263736264e-06, 'epoch': 2.47}\n",
      "{'loss': 23.7822, 'learning_rate': 3.7179487179487184e-06, 'epoch': 2.56}\n",
      "{'loss': 39.174, 'learning_rate': 3.672161172161173e-06, 'epoch': 2.66}\n",
      "{'loss': 10.3491, 'learning_rate': 3.6263736263736266e-06, 'epoch': 2.75}\n",
      "{'loss': 3.3799, 'learning_rate': 3.580586080586081e-06, 'epoch': 2.84}\n",
      "{'loss': 0.6611, 'learning_rate': 3.5347985347985352e-06, 'epoch': 2.93}\n"
     ]
    },
    {
     "data": {
      "application/vnd.jupyter.widget-view+json": {
       "model_id": "dfcd0ce532f5477dbbad21491e46b294",
       "version_major": 2,
       "version_minor": 0
      },
      "text/plain": [
       "  0%|          | 0/409 [00:00<?, ?it/s]"
      ]
     },
     "metadata": {},
     "output_type": "display_data"
    },
    {
     "name": "stdout",
     "output_type": "stream",
     "text": [
      "{'eval_loss': 23.35444450378418, 'eval_balanced_accuracy': 0.68, 'eval_precision': 0.96, 'eval_recall': 0.37, 'eval_f1': 0.53, 'eval_runtime': 5.765, 'eval_samples_per_second': 567.216, 'eval_steps_per_second': 70.945, 'epoch': 3.0}\n",
      "{'loss': 6.5676, 'learning_rate': 3.4890109890109893e-06, 'epoch': 3.02}\n",
      "{'loss': 15.0322, 'learning_rate': 3.4432234432234434e-06, 'epoch': 3.11}\n",
      "{'loss': 1.7139, 'learning_rate': 3.397435897435898e-06, 'epoch': 3.21}\n",
      "{'loss': 2.9969, 'learning_rate': 3.3516483516483516e-06, 'epoch': 3.3}\n",
      "{'loss': 24.5909, 'learning_rate': 3.305860805860806e-06, 'epoch': 3.39}\n",
      "{'loss': 5.3353, 'learning_rate': 3.2600732600732602e-06, 'epoch': 3.48}\n",
      "{'loss': 34.0671, 'learning_rate': 3.2142857142857147e-06, 'epoch': 3.57}\n",
      "{'loss': 15.5943, 'learning_rate': 3.1684981684981684e-06, 'epoch': 3.66}\n",
      "{'loss': 3.9291, 'learning_rate': 3.122710622710623e-06, 'epoch': 3.75}\n",
      "{'loss': 20.8602, 'learning_rate': 3.0769230769230774e-06, 'epoch': 3.85}\n",
      "{'loss': 21.3238, 'learning_rate': 3.031135531135531e-06, 'epoch': 3.94}\n"
     ]
    },
    {
     "data": {
      "application/vnd.jupyter.widget-view+json": {
       "model_id": "6ca72c30d79c49a69c01d5271192b0bb",
       "version_major": 2,
       "version_minor": 0
      },
      "text/plain": [
       "  0%|          | 0/409 [00:00<?, ?it/s]"
      ]
     },
     "metadata": {},
     "output_type": "display_data"
    },
    {
     "name": "stdout",
     "output_type": "stream",
     "text": [
      "{'eval_loss': 12.024331092834473, 'eval_balanced_accuracy': 0.82, 'eval_precision': 0.79, 'eval_recall': 0.66, 'eval_f1': 0.72, 'eval_runtime': 5.796, 'eval_samples_per_second': 564.179, 'eval_steps_per_second': 70.565, 'epoch': 4.0}\n",
      "{'loss': 0.5398, 'learning_rate': 2.9853479853479856e-06, 'epoch': 4.03}\n",
      "{'loss': 3.3319, 'learning_rate': 2.9395604395604397e-06, 'epoch': 4.12}\n",
      "{'loss': 2.2826, 'learning_rate': 2.8937728937728942e-06, 'epoch': 4.21}\n",
      "{'loss': 7.5734, 'learning_rate': 2.847985347985348e-06, 'epoch': 4.3}\n",
      "{'loss': 2.963, 'learning_rate': 2.8021978021978024e-06, 'epoch': 4.4}\n",
      "{'loss': 0.5256, 'learning_rate': 2.756410256410257e-06, 'epoch': 4.49}\n",
      "{'loss': 0.9655, 'learning_rate': 2.7106227106227106e-06, 'epoch': 4.58}\n",
      "{'loss': 1.7738, 'learning_rate': 2.664835164835165e-06, 'epoch': 4.67}\n",
      "{'loss': 5.4202, 'learning_rate': 2.6190476190476192e-06, 'epoch': 4.76}\n",
      "{'loss': 6.0375, 'learning_rate': 2.5732600732600733e-06, 'epoch': 4.85}\n",
      "{'loss': 5.8561, 'learning_rate': 2.5274725274725274e-06, 'epoch': 4.95}\n"
     ]
    },
    {
     "data": {
      "application/vnd.jupyter.widget-view+json": {
       "model_id": "c3868c960185497a9a5b42889d8db352",
       "version_major": 2,
       "version_minor": 0
      },
      "text/plain": [
       "  0%|          | 0/409 [00:00<?, ?it/s]"
      ]
     },
     "metadata": {},
     "output_type": "display_data"
    },
    {
     "name": "stdout",
     "output_type": "stream",
     "text": [
      "{'eval_loss': 1.4676787853240967, 'eval_balanced_accuracy': 0.86, 'eval_precision': 0.8, 'eval_recall': 0.74, 'eval_f1': 0.77, 'eval_runtime': 5.839, 'eval_samples_per_second': 560.028, 'eval_steps_per_second': 70.046, 'epoch': 5.0}\n",
      "{'loss': 3.3026, 'learning_rate': 2.481684981684982e-06, 'epoch': 5.04}\n",
      "{'loss': 0.5907, 'learning_rate': 2.435897435897436e-06, 'epoch': 5.13}\n",
      "{'loss': 0.7818, 'learning_rate': 2.3901098901098905e-06, 'epoch': 5.22}\n",
      "{'loss': 0.6901, 'learning_rate': 2.3443223443223446e-06, 'epoch': 5.31}\n",
      "{'loss': 1.3011, 'learning_rate': 2.2985347985347987e-06, 'epoch': 5.4}\n",
      "{'loss': 0.5763, 'learning_rate': 2.252747252747253e-06, 'epoch': 5.49}\n",
      "{'loss': 0.6457, 'learning_rate': 2.206959706959707e-06, 'epoch': 5.59}\n",
      "{'loss': 0.4709, 'learning_rate': 2.1611721611721614e-06, 'epoch': 5.68}\n",
      "{'loss': 0.8001, 'learning_rate': 2.1153846153846155e-06, 'epoch': 5.77}\n",
      "{'loss': 1.15, 'learning_rate': 2.0695970695970696e-06, 'epoch': 5.86}\n",
      "{'loss': 1.007, 'learning_rate': 2.023809523809524e-06, 'epoch': 5.95}\n"
     ]
    },
    {
     "data": {
      "application/vnd.jupyter.widget-view+json": {
       "model_id": "6edd1dedc2324b328fe03c57779d38b6",
       "version_major": 2,
       "version_minor": 0
      },
      "text/plain": [
       "  0%|          | 0/409 [00:00<?, ?it/s]"
      ]
     },
     "metadata": {},
     "output_type": "display_data"
    },
    {
     "name": "stdout",
     "output_type": "stream",
     "text": [
      "{'eval_loss': 0.6761752963066101, 'eval_balanced_accuracy': 0.83, 'eval_precision': 0.98, 'eval_recall': 0.66, 'eval_f1': 0.79, 'eval_runtime': 5.858, 'eval_samples_per_second': 558.211, 'eval_steps_per_second': 69.819, 'epoch': 6.0}\n",
      "{'loss': 1.3471, 'learning_rate': 1.9780219780219782e-06, 'epoch': 6.04}\n",
      "{'loss': 0.688, 'learning_rate': 1.9322344322344323e-06, 'epoch': 6.14}\n",
      "{'loss': 0.4721, 'learning_rate': 1.8864468864468866e-06, 'epoch': 6.23}\n",
      "{'loss': 1.3875, 'learning_rate': 1.840659340659341e-06, 'epoch': 6.32}\n",
      "{'loss': 1.7547, 'learning_rate': 1.794871794871795e-06, 'epoch': 6.41}\n",
      "{'loss': 0.4905, 'learning_rate': 1.7490842490842491e-06, 'epoch': 6.5}\n",
      "{'loss': 0.9164, 'learning_rate': 1.7032967032967034e-06, 'epoch': 6.59}\n",
      "{'loss': 0.5184, 'learning_rate': 1.6575091575091575e-06, 'epoch': 6.68}\n",
      "{'loss': 0.6126, 'learning_rate': 1.611721611721612e-06, 'epoch': 6.78}\n",
      "{'loss': 0.9967, 'learning_rate': 1.5659340659340661e-06, 'epoch': 6.87}\n",
      "{'loss': 0.6957, 'learning_rate': 1.5201465201465202e-06, 'epoch': 6.96}\n"
     ]
    },
    {
     "data": {
      "application/vnd.jupyter.widget-view+json": {
       "model_id": "28b1dc7d260c4503829e78f35572ecc8",
       "version_major": 2,
       "version_minor": 0
      },
      "text/plain": [
       "  0%|          | 0/409 [00:00<?, ?it/s]"
      ]
     },
     "metadata": {},
     "output_type": "display_data"
    },
    {
     "name": "stdout",
     "output_type": "stream",
     "text": [
      "{'eval_loss': 0.7811883091926575, 'eval_balanced_accuracy': 0.88, 'eval_precision': 0.93, 'eval_recall': 0.77, 'eval_f1': 0.84, 'eval_runtime': 5.864, 'eval_samples_per_second': 557.64, 'eval_steps_per_second': 69.748, 'epoch': 7.0}\n",
      "{'loss': 0.3639, 'learning_rate': 1.4743589743589745e-06, 'epoch': 7.05}\n",
      "{'loss': 1.1511, 'learning_rate': 1.4285714285714286e-06, 'epoch': 7.14}\n",
      "{'loss': 0.3927, 'learning_rate': 1.382783882783883e-06, 'epoch': 7.23}\n",
      "{'loss': 1.8388, 'learning_rate': 1.336996336996337e-06, 'epoch': 7.33}\n",
      "{'loss': 0.4529, 'learning_rate': 1.2912087912087915e-06, 'epoch': 7.42}\n",
      "{'loss': 0.4264, 'learning_rate': 1.2454212454212456e-06, 'epoch': 7.51}\n",
      "{'loss': 0.3708, 'learning_rate': 1.1996336996336997e-06, 'epoch': 7.6}\n",
      "{'loss': 0.6894, 'learning_rate': 1.153846153846154e-06, 'epoch': 7.69}\n",
      "{'loss': 0.4913, 'learning_rate': 1.1080586080586081e-06, 'epoch': 7.78}\n",
      "{'loss': 0.5183, 'learning_rate': 1.0622710622710622e-06, 'epoch': 7.88}\n",
      "{'loss': 1.1062, 'learning_rate': 1.0164835164835165e-06, 'epoch': 7.97}\n"
     ]
    },
    {
     "data": {
      "application/vnd.jupyter.widget-view+json": {
       "model_id": "72482d9c143b4e6b91afec162cf73043",
       "version_major": 2,
       "version_minor": 0
      },
      "text/plain": [
       "  0%|          | 0/409 [00:00<?, ?it/s]"
      ]
     },
     "metadata": {},
     "output_type": "display_data"
    },
    {
     "name": "stdout",
     "output_type": "stream",
     "text": [
      "{'eval_loss': 0.5858271718025208, 'eval_balanced_accuracy': 0.89, 'eval_precision': 0.96, 'eval_recall': 0.78, 'eval_f1': 0.86, 'eval_runtime': 5.891, 'eval_samples_per_second': 555.084, 'eval_steps_per_second': 69.428, 'epoch': 8.0}\n",
      "{'loss': 0.4464, 'learning_rate': 9.706959706959708e-07, 'epoch': 8.06}\n",
      "{'loss': 1.1321, 'learning_rate': 9.24908424908425e-07, 'epoch': 8.15}\n",
      "{'loss': 0.9864, 'learning_rate': 8.791208791208792e-07, 'epoch': 8.24}\n",
      "{'loss': 0.478, 'learning_rate': 8.333333333333333e-07, 'epoch': 8.33}\n",
      "{'loss': 0.5767, 'learning_rate': 7.875457875457876e-07, 'epoch': 8.42}\n",
      "{'loss': 0.9921, 'learning_rate': 7.417582417582418e-07, 'epoch': 8.52}\n",
      "{'loss': 0.3777, 'learning_rate': 6.95970695970696e-07, 'epoch': 8.61}\n",
      "{'loss': 0.3848, 'learning_rate': 6.501831501831502e-07, 'epoch': 8.7}\n",
      "{'loss': 0.7407, 'learning_rate': 6.043956043956044e-07, 'epoch': 8.79}\n",
      "{'loss': 0.6456, 'learning_rate': 5.586080586080586e-07, 'epoch': 8.88}\n",
      "{'loss': 0.4816, 'learning_rate': 5.128205128205128e-07, 'epoch': 8.97}\n"
     ]
    },
    {
     "data": {
      "application/vnd.jupyter.widget-view+json": {
       "model_id": "61a4b9643c604b339df380807e6add63",
       "version_major": 2,
       "version_minor": 0
      },
      "text/plain": [
       "  0%|          | 0/409 [00:00<?, ?it/s]"
      ]
     },
     "metadata": {},
     "output_type": "display_data"
    },
    {
     "name": "stdout",
     "output_type": "stream",
     "text": [
      "{'eval_loss': 0.7882546782493591, 'eval_balanced_accuracy': 0.9, 'eval_precision': 0.97, 'eval_recall': 0.8, 'eval_f1': 0.88, 'eval_runtime': 5.908, 'eval_samples_per_second': 553.487, 'eval_steps_per_second': 69.228, 'epoch': 9.0}\n",
      "{'loss': 0.6295, 'learning_rate': 4.670329670329671e-07, 'epoch': 9.07}\n",
      "{'loss': 0.5307, 'learning_rate': 4.212454212454213e-07, 'epoch': 9.16}\n",
      "{'loss': 2.2981, 'learning_rate': 3.754578754578755e-07, 'epoch': 9.25}\n",
      "{'loss': 0.6644, 'learning_rate': 3.296703296703297e-07, 'epoch': 9.34}\n",
      "{'loss': 0.6916, 'learning_rate': 2.838827838827839e-07, 'epoch': 9.43}\n",
      "{'loss': 0.512, 'learning_rate': 2.3809523809523811e-07, 'epoch': 9.52}\n",
      "{'loss': 0.3328, 'learning_rate': 1.9230769230769234e-07, 'epoch': 9.62}\n",
      "{'loss': 0.3453, 'learning_rate': 1.4652014652014654e-07, 'epoch': 9.71}\n",
      "{'loss': 0.3585, 'learning_rate': 1.0073260073260075e-07, 'epoch': 9.8}\n",
      "{'loss': 0.4645, 'learning_rate': 5.494505494505495e-08, 'epoch': 9.89}\n",
      "{'loss': 0.3105, 'learning_rate': 9.157509157509159e-09, 'epoch': 9.98}\n"
     ]
    },
    {
     "data": {
      "application/vnd.jupyter.widget-view+json": {
       "model_id": "a1fda21408b64f719975de5ca393daa3",
       "version_major": 2,
       "version_minor": 0
      },
      "text/plain": [
       "  0%|          | 0/409 [00:00<?, ?it/s]"
      ]
     },
     "metadata": {},
     "output_type": "display_data"
    },
    {
     "name": "stdout",
     "output_type": "stream",
     "text": [
      "{'eval_loss': 0.6361491084098816, 'eval_balanced_accuracy': 0.91, 'eval_precision': 0.97, 'eval_recall': 0.81, 'eval_f1': 0.89, 'eval_runtime': 5.953, 'eval_samples_per_second': 549.303, 'eval_steps_per_second': 68.705, 'epoch': 10.0}\n",
      "{'train_runtime': 1397.8839, 'train_samples_per_second': 124.946, 'train_steps_per_second': 15.624, 'train_loss': 10.464081988622855, 'epoch': 10.0}\n"
     ]
    },
    {
     "data": {
      "text/plain": [
       "TrainOutput(global_step=21840, training_loss=10.464081988622855, metrics={'train_runtime': 1397.8839, 'train_samples_per_second': 124.946, 'train_steps_per_second': 15.624, 'train_loss': 10.464081988622855, 'epoch': 10.0})"
      ]
     },
     "execution_count": 36,
     "metadata": {},
     "output_type": "execute_result"
    }
   ],
   "source": [
    "trainer.train()"
   ]
  },
  {
   "cell_type": "code",
   "execution_count": 37,
   "metadata": {},
   "outputs": [
    {
     "data": {
      "image/png": "[encoded data removed]",
      "text/plain": [
       "<Figure size 640x480 with 1 Axes>"
      ]
     },
     "metadata": {},
     "output_type": "display_data"
    }
   ],
   "source": [
    "plot_save_results(trainer,name)"
   ]
  },
  {
   "cell_type": "code",
   "execution_count": 38,
   "metadata": {},
   "outputs": [
    {
     "name": "stdout",
     "output_type": "stream",
     "text": [
      "Building Twitter Dataset...Dropped out 19 samples\n"
     ]
    },
    {
     "name": "stderr",
     "output_type": "stream",
     "text": [
      "Testing: 100%|██████████| 109/109 [00:01<00:00, 58.04it/s]\n"
     ]
    },
    {
     "name": "stdout",
     "output_type": "stream",
     "text": [
      "Evaluation for dataset well_answering\n",
      "Test model loss=0.09219170261291208\n",
      "Balanced_accuracy: 0.9265326925877384\n",
      "Precision: 0.9574468085106383\n",
      "Recall: 0.8571428571428571\n",
      "F1: 0.9045226130653266\n",
      "Roc_auc: 0.9265326925877385\n",
      "Number of ones in predictions: 94\n",
      "Number of predictions: 1086\n",
      "\n",
      "Building Twitter Dataset...Dropped out 62 samples\n"
     ]
    },
    {
     "name": "stderr",
     "output_type": "stream",
     "text": [
      "Testing: 100%|██████████| 212/212 [00:03<00:00, 55.21it/s]\n",
      "c:\\ProgramData\\Anaconda3\\envs\\modern_nlp\\lib\\site-packages\\sklearn\\metrics\\_classification.py:1987: UserWarning: y_pred contains classes not in y_true\n",
      "  warnings.warn(\"y_pred contains classes not in y_true\")\n"
     ]
    },
    {
     "name": "stdout",
     "output_type": "stream",
     "text": [
      "Evaluation for dataset well_answering only ones\n",
      "Test model loss=0.6186041415027643\n",
      "Balanced_accuracy: 0.7431539187913125\n",
      "Precision: 1.0\n",
      "Recall: 0.7431539187913125\n",
      "F1: 0.8526543878656555\n",
      "Impossible to define ROC_AUC - only one class presents!\n",
      "Number of ones in predictions: 1574\n",
      "Number of predictions: 2118\n",
      "\n",
      "Building Twitter Dataset...Dropped out 117 samples\n"
     ]
    },
    {
     "name": "stderr",
     "output_type": "stream",
     "text": [
      "Testing: 100%|██████████| 989/989 [00:17<00:00, 57.18it/s]\n",
      "c:\\ProgramData\\Anaconda3\\envs\\modern_nlp\\lib\\site-packages\\sklearn\\metrics\\_classification.py:1987: UserWarning: y_pred contains classes not in y_true\n",
      "  warnings.warn(\"y_pred contains classes not in y_true\")\n",
      "c:\\ProgramData\\Anaconda3\\envs\\modern_nlp\\lib\\site-packages\\sklearn\\metrics\\_classification.py:1318: UndefinedMetricWarning: Recall is ill-defined and being set to 0.0 due to no true samples. Use `zero_division` parameter to control this behavior.\n",
      "  _warn_prf(average, modifier, msg_start, len(result))\n"
     ]
    },
    {
     "name": "stdout",
     "output_type": "stream",
     "text": [
      "Evaluation for dataset well_answering only zeros\n",
      "Test model loss=0.014929613589274943\n",
      "Balanced_accuracy: 0.9910958211069514\n",
      "Precision: 0.0\n",
      "Recall: 0.0\n",
      "F1: 0.0\n",
      "Impossible to define ROC_AUC - only one class presents!\n",
      "Number of ones in predictions: 88\n",
      "Number of predictions: 9883\n",
      "\n",
      "Building Twitter Dataset...Dropped out 91 samples\n"
     ]
    },
    {
     "name": "stderr",
     "output_type": "stream",
     "text": [
      "Testing: 100%|██████████| 991/991 [00:19<00:00, 50.69it/s]\n"
     ]
    },
    {
     "name": "stdout",
     "output_type": "stream",
     "text": [
      "Evaluation for dataset low_answering\n",
      "Test model loss=0.2740567227790437\n",
      "Balanced_accuracy: 0.7309047369368382\n",
      "Precision: 0.14093959731543623\n",
      "Recall: 0.5547169811320755\n",
      "F1: 0.22477064220183485\n",
      "Roc_auc: 0.7309047369368383\n",
      "Number of ones in predictions: 1043\n",
      "Number of predictions: 9909\n",
      "\n",
      "Building Twitter Dataset...Dropped out 38 samples\n"
     ]
    },
    {
     "name": "stderr",
     "output_type": "stream",
     "text": [
      "Testing: 100%|██████████| 127/127 [00:02<00:00, 53.79it/s]\n",
      "c:\\ProgramData\\Anaconda3\\envs\\modern_nlp\\lib\\site-packages\\sklearn\\metrics\\_classification.py:1987: UserWarning: y_pred contains classes not in y_true\n",
      "  warnings.warn(\"y_pred contains classes not in y_true\")\n"
     ]
    },
    {
     "name": "stdout",
     "output_type": "stream",
     "text": [
      "Evaluation for dataset low_answering only ones\n",
      "Test model loss=1.2452733875313418\n",
      "Balanced_accuracy: 0.5322834645669291\n",
      "Precision: 1.0\n",
      "Recall: 0.5322834645669291\n",
      "F1: 0.6947584789311408\n",
      "Impossible to define ROC_AUC - only one class presents!\n",
      "Number of ones in predictions: 676\n",
      "Number of predictions: 1270\n",
      "\n",
      "Building Twitter Dataset...Dropped out 84 samples\n"
     ]
    },
    {
     "name": "stderr",
     "output_type": "stream",
     "text": [
      "Testing: 100%|██████████| 992/992 [00:18<00:00, 54.44it/s]\n",
      "c:\\ProgramData\\Anaconda3\\envs\\modern_nlp\\lib\\site-packages\\sklearn\\metrics\\_classification.py:1987: UserWarning: y_pred contains classes not in y_true\n",
      "  warnings.warn(\"y_pred contains classes not in y_true\")\n",
      "c:\\ProgramData\\Anaconda3\\envs\\modern_nlp\\lib\\site-packages\\sklearn\\metrics\\_classification.py:1318: UndefinedMetricWarning: Recall is ill-defined and being set to 0.0 due to no true samples. Use `zero_division` parameter to control this behavior.\n",
      "  _warn_prf(average, modifier, msg_start, len(result))\n",
      "c:\\ProgramData\\Anaconda3\\envs\\modern_nlp\\lib\\site-packages\\ipykernel_launcher.py:37: UserWarning: FixedFormatter should only be used together with FixedLocator\n"
     ]
    },
    {
     "name": "stdout",
     "output_type": "stream",
     "text": [
      "Evaluation for dataset low_answering only zeros\n",
      "Test model loss=0.036377893208375284\n",
      "Balanced_accuracy: 0.977511093182735\n",
      "Precision: 0.0\n",
      "Recall: 0.0\n",
      "F1: 0.0\n",
      "Impossible to define ROC_AUC - only one class presents!\n",
      "Number of ones in predictions: 223\n",
      "Number of predictions: 9916\n",
      "\n"
     ]
    },
    {
     "data": {
      "image/png": "[encoded data removed]",
      "text/plain": [
       "<Figure size 640x480 with 1 Axes>"
      ]
     },
     "metadata": {},
     "output_type": "display_data"
    }
   ],
   "source": [
    "a=evaluate_all_datasets(trainer)"
   ]
  },
  {
   "cell_type": "markdown",
   "metadata": {},
   "source": [
    "### Other NGOs"
   ]
  },
  {
   "cell_type": "code",
   "execution_count": 39,
   "metadata": {},
   "outputs": [],
   "source": [
    "name=\"other_ngo\""
   ]
  },
  {
   "cell_type": "code",
   "execution_count": 40,
   "metadata": {},
   "outputs": [
    {
     "name": "stderr",
     "output_type": "stream",
     "text": [
      "Some weights of the model checkpoint at distilbert-base-uncased were not used when initializing DistilBertModel: ['vocab_layer_norm.weight', 'vocab_layer_norm.bias', 'vocab_transform.bias', 'vocab_transform.weight', 'vocab_projector.weight', 'vocab_projector.bias']\n",
      "- This IS expected if you are initializing DistilBertModel from the checkpoint of a model trained on another task or with another architecture (e.g. initializing a BertForSequenceClassification model from a BertForPreTraining model).\n",
      "- This IS NOT expected if you are initializing DistilBertModel from the checkpoint of a model that you expect to be exactly identical (initializing a BertForSequenceClassification model from a BertForSequenceClassification model).\n"
     ]
    },
    {
     "name": "stdout",
     "output_type": "stream",
     "text": [
      "Building Twitter Dataset...Dropped out 14 samples\n",
      "Building Twitter Dataset...Dropped out 2 samples\n"
     ]
    }
   ],
   "source": [
    "trainer=training(name,10)"
   ]
  },
  {
   "cell_type": "code",
   "execution_count": 41,
   "metadata": {},
   "outputs": [
    {
     "name": "stderr",
     "output_type": "stream",
     "text": [
      "c:\\ProgramData\\Anaconda3\\envs\\modern_nlp\\lib\\site-packages\\transformers\\optimization.py:395: FutureWarning: This implementation of AdamW is deprecated and will be removed in a future version. Use the PyTorch implementation torch.optim.AdamW instead, or set `no_deprecation_warning=True` to disable this warning\n",
      "  FutureWarning,\n"
     ]
    },
    {
     "data": {
      "application/vnd.jupyter.widget-view+json": {
       "model_id": "d0b85190ba0e4df5b47c4de8768917f1",
       "version_major": 2,
       "version_minor": 0
      },
      "text/plain": [
       "  0%|          | 0/13490 [00:00<?, ?it/s]"
      ]
     },
     "metadata": {},
     "output_type": "display_data"
    },
    {
     "name": "stdout",
     "output_type": "stream",
     "text": [
      "{'loss': 50.6408, 'learning_rate': 4.925871015567087e-06, 'epoch': 0.15}\n",
      "{'loss': 5.2407, 'learning_rate': 4.851742031134174e-06, 'epoch': 0.3}\n",
      "{'loss': 4.6244, 'learning_rate': 4.77761304670126e-06, 'epoch': 0.44}\n",
      "{'loss': 0.8885, 'learning_rate': 4.703484062268348e-06, 'epoch': 0.59}\n",
      "{'loss': 1.3383, 'learning_rate': 4.629355077835434e-06, 'epoch': 0.74}\n",
      "{'loss': 13.2697, 'learning_rate': 4.555226093402521e-06, 'epoch': 0.89}\n"
     ]
    },
    {
     "data": {
      "application/vnd.jupyter.widget-view+json": {
       "model_id": "928b15dbc38f48b1a2cfaa09de84803b",
       "version_major": 2,
       "version_minor": 0
      },
      "text/plain": [
       "  0%|          | 0/253 [00:00<?, ?it/s]"
      ]
     },
     "metadata": {},
     "output_type": "display_data"
    },
    {
     "name": "stdout",
     "output_type": "stream",
     "text": [
      "{'eval_loss': 1.9955247640609741, 'eval_balanced_accuracy': 0.64, 'eval_precision': 0.89, 'eval_recall': 0.28, 'eval_f1': 0.42, 'eval_runtime': 3.6432, 'eval_samples_per_second': 555.558, 'eval_steps_per_second': 69.445, 'epoch': 1.0}\n",
      "{'loss': 3.235, 'learning_rate': 4.481097108969607e-06, 'epoch': 1.04}\n",
      "{'loss': 4.3322, 'learning_rate': 4.406968124536694e-06, 'epoch': 1.19}\n",
      "{'loss': 2.4085, 'learning_rate': 4.332839140103781e-06, 'epoch': 1.33}\n",
      "{'loss': 1.7706, 'learning_rate': 4.258710155670868e-06, 'epoch': 1.48}\n",
      "{'loss': 1.5138, 'learning_rate': 4.1845811712379545e-06, 'epoch': 1.63}\n",
      "{'loss': 0.7269, 'learning_rate': 4.110452186805041e-06, 'epoch': 1.78}\n",
      "{'loss': 0.7101, 'learning_rate': 4.036323202372128e-06, 'epoch': 1.93}\n"
     ]
    },
    {
     "data": {
      "application/vnd.jupyter.widget-view+json": {
       "model_id": "24d7dd8839094f97ab4d97e2968a65e3",
       "version_major": 2,
       "version_minor": 0
      },
      "text/plain": [
       "  0%|          | 0/253 [00:00<?, ?it/s]"
      ]
     },
     "metadata": {},
     "output_type": "display_data"
    },
    {
     "name": "stdout",
     "output_type": "stream",
     "text": [
      "{'eval_loss': 2.888314723968506, 'eval_balanced_accuracy': 0.64, 'eval_precision': 0.95, 'eval_recall': 0.29, 'eval_f1': 0.44, 'eval_runtime': 3.651, 'eval_samples_per_second': 554.369, 'eval_steps_per_second': 69.296, 'epoch': 2.0}\n",
      "{'loss': 1.1198, 'learning_rate': 3.962194217939215e-06, 'epoch': 2.08}\n",
      "{'loss': 5.3686, 'learning_rate': 3.888065233506301e-06, 'epoch': 2.22}\n",
      "{'loss': 2.2815, 'learning_rate': 3.813936249073388e-06, 'epoch': 2.37}\n",
      "{'loss': 1.1758, 'learning_rate': 3.739807264640475e-06, 'epoch': 2.52}\n",
      "{'loss': 0.6484, 'learning_rate': 3.6656782802075615e-06, 'epoch': 2.67}\n",
      "{'loss': 0.6494, 'learning_rate': 3.5915492957746485e-06, 'epoch': 2.82}\n",
      "{'loss': 3.0916, 'learning_rate': 3.517420311341735e-06, 'epoch': 2.97}\n"
     ]
    },
    {
     "data": {
      "application/vnd.jupyter.widget-view+json": {
       "model_id": "bc39b6349ae94e57b9bca11f34758c88",
       "version_major": 2,
       "version_minor": 0
      },
      "text/plain": [
       "  0%|          | 0/253 [00:00<?, ?it/s]"
      ]
     },
     "metadata": {},
     "output_type": "display_data"
    },
    {
     "name": "stdout",
     "output_type": "stream",
     "text": [
      "{'eval_loss': 1.2683442831039429, 'eval_balanced_accuracy': 0.7, 'eval_precision': 0.82, 'eval_recall': 0.41, 'eval_f1': 0.54, 'eval_runtime': 3.633, 'eval_samples_per_second': 557.115, 'eval_steps_per_second': 69.639, 'epoch': 3.0}\n",
      "{'loss': 1.4986, 'learning_rate': 3.4432913269088213e-06, 'epoch': 3.11}\n",
      "{'loss': 0.9772, 'learning_rate': 3.3691623424759083e-06, 'epoch': 3.26}\n",
      "{'loss': 1.283, 'learning_rate': 3.295033358042995e-06, 'epoch': 3.41}\n",
      "{'loss': 1.7113, 'learning_rate': 3.220904373610082e-06, 'epoch': 3.56}\n",
      "{'loss': 1.3176, 'learning_rate': 3.1467753891771684e-06, 'epoch': 3.71}\n",
      "{'loss': 0.7525, 'learning_rate': 3.072646404744255e-06, 'epoch': 3.85}\n"
     ]
    },
    {
     "data": {
      "application/vnd.jupyter.widget-view+json": {
       "model_id": "0a9ceda930204d1ea17f805ef56275d4",
       "version_major": 2,
       "version_minor": 0
      },
      "text/plain": [
       "  0%|          | 0/253 [00:00<?, ?it/s]"
      ]
     },
     "metadata": {},
     "output_type": "display_data"
    },
    {
     "name": "stdout",
     "output_type": "stream",
     "text": [
      "{'eval_loss': 0.7339244484901428, 'eval_balanced_accuracy': 0.69, 'eval_precision': 1.0, 'eval_recall': 0.38, 'eval_f1': 0.55, 'eval_runtime': 3.6375, 'eval_samples_per_second': 556.425, 'eval_steps_per_second': 69.553, 'epoch': 4.0}\n",
      "{'loss': 1.1335, 'learning_rate': 2.998517420311342e-06, 'epoch': 4.0}\n",
      "{'loss': 0.7489, 'learning_rate': 2.9243884358784286e-06, 'epoch': 4.15}\n",
      "{'loss': 1.0605, 'learning_rate': 2.8502594514455156e-06, 'epoch': 4.3}\n",
      "{'loss': 2.1851, 'learning_rate': 2.7761304670126022e-06, 'epoch': 4.45}\n",
      "{'loss': 1.0941, 'learning_rate': 2.702001482579689e-06, 'epoch': 4.6}\n",
      "{'loss': 1.1369, 'learning_rate': 2.627872498146776e-06, 'epoch': 4.74}\n",
      "{'loss': 3.2358, 'learning_rate': 2.5537435137138624e-06, 'epoch': 4.89}\n"
     ]
    },
    {
     "data": {
      "application/vnd.jupyter.widget-view+json": {
       "model_id": "c8cfdf126f48494e9a47741d983d657a",
       "version_major": 2,
       "version_minor": 0
      },
      "text/plain": [
       "  0%|          | 0/253 [00:00<?, ?it/s]"
      ]
     },
     "metadata": {},
     "output_type": "display_data"
    },
    {
     "name": "stdout",
     "output_type": "stream",
     "text": [
      "{'eval_loss': 0.6224941611289978, 'eval_balanced_accuracy': 0.77, 'eval_precision': 0.89, 'eval_recall': 0.54, 'eval_f1': 0.67, 'eval_runtime': 3.6949, 'eval_samples_per_second': 547.779, 'eval_steps_per_second': 68.472, 'epoch': 5.0}\n",
      "{'loss': 0.8315, 'learning_rate': 2.479614529280949e-06, 'epoch': 5.04}\n",
      "{'loss': 2.0693, 'learning_rate': 2.4054855448480356e-06, 'epoch': 5.19}\n",
      "{'loss': 0.6481, 'learning_rate': 2.3313565604151226e-06, 'epoch': 5.34}\n",
      "{'loss': 0.7279, 'learning_rate': 2.257227575982209e-06, 'epoch': 5.49}\n",
      "{'loss': 0.7234, 'learning_rate': 2.1830985915492958e-06, 'epoch': 5.63}\n",
      "{'loss': 1.6169, 'learning_rate': 2.1089696071163828e-06, 'epoch': 5.78}\n",
      "{'loss': 0.9657, 'learning_rate': 2.0348406226834694e-06, 'epoch': 5.93}\n"
     ]
    },
    {
     "data": {
      "application/vnd.jupyter.widget-view+json": {
       "model_id": "0df9e724994f48bd83dc163eecfe6ff3",
       "version_major": 2,
       "version_minor": 0
      },
      "text/plain": [
       "  0%|          | 0/253 [00:00<?, ?it/s]"
      ]
     },
     "metadata": {},
     "output_type": "display_data"
    },
    {
     "name": "stdout",
     "output_type": "stream",
     "text": [
      "{'eval_loss': 0.9141387939453125, 'eval_balanced_accuracy': 0.78, 'eval_precision': 0.96, 'eval_recall': 0.56, 'eval_f1': 0.71, 'eval_runtime': 3.635, 'eval_samples_per_second': 556.809, 'eval_steps_per_second': 69.601, 'epoch': 6.0}\n",
      "{'loss': 0.9708, 'learning_rate': 1.9607116382505564e-06, 'epoch': 6.08}\n",
      "{'loss': 1.0509, 'learning_rate': 1.886582653817643e-06, 'epoch': 6.23}\n",
      "{'loss': 1.4683, 'learning_rate': 1.8124536693847295e-06, 'epoch': 6.38}\n",
      "{'loss': 0.7234, 'learning_rate': 1.7383246849518161e-06, 'epoch': 6.52}\n",
      "{'loss': 0.5986, 'learning_rate': 1.664195700518903e-06, 'epoch': 6.67}\n",
      "{'loss': 1.005, 'learning_rate': 1.5900667160859897e-06, 'epoch': 6.82}\n",
      "{'loss': 0.8471, 'learning_rate': 1.5159377316530765e-06, 'epoch': 6.97}\n"
     ]
    },
    {
     "data": {
      "application/vnd.jupyter.widget-view+json": {
       "model_id": "064adab8576d4731b986b576a18d7596",
       "version_major": 2,
       "version_minor": 0
      },
      "text/plain": [
       "  0%|          | 0/253 [00:00<?, ?it/s]"
      ]
     },
     "metadata": {},
     "output_type": "display_data"
    },
    {
     "name": "stdout",
     "output_type": "stream",
     "text": [
      "{'eval_loss': 1.0090954303741455, 'eval_balanced_accuracy': 0.85, 'eval_precision': 0.89, 'eval_recall': 0.7, 'eval_f1': 0.79, 'eval_runtime': 3.593, 'eval_samples_per_second': 563.317, 'eval_steps_per_second': 70.415, 'epoch': 7.0}\n",
      "{'loss': 0.7495, 'learning_rate': 1.441808747220163e-06, 'epoch': 7.12}\n",
      "{'loss': 0.9961, 'learning_rate': 1.36767976278725e-06, 'epoch': 7.26}\n",
      "{'loss': 0.7752, 'learning_rate': 1.2935507783543367e-06, 'epoch': 7.41}\n",
      "{'loss': 0.642, 'learning_rate': 1.2194217939214235e-06, 'epoch': 7.56}\n",
      "{'loss': 0.4658, 'learning_rate': 1.14529280948851e-06, 'epoch': 7.71}\n",
      "{'loss': 1.1255, 'learning_rate': 1.0711638250555969e-06, 'epoch': 7.86}\n"
     ]
    },
    {
     "data": {
      "application/vnd.jupyter.widget-view+json": {
       "model_id": "3da703f8daa44b478107f93bb480e54f",
       "version_major": 2,
       "version_minor": 0
      },
      "text/plain": [
       "  0%|          | 0/253 [00:00<?, ?it/s]"
      ]
     },
     "metadata": {},
     "output_type": "display_data"
    },
    {
     "name": "stdout",
     "output_type": "stream",
     "text": [
      "{'eval_loss': 0.43802350759506226, 'eval_balanced_accuracy': 0.87, 'eval_precision': 0.96, 'eval_recall': 0.74, 'eval_f1': 0.83, 'eval_runtime': 3.701, 'eval_samples_per_second': 546.879, 'eval_steps_per_second': 68.36, 'epoch': 8.0}\n",
      "{'loss': 1.9888, 'learning_rate': 9.970348406226837e-07, 'epoch': 8.01}\n",
      "{'loss': 0.8538, 'learning_rate': 9.229058561897703e-07, 'epoch': 8.15}\n",
      "{'loss': 0.6815, 'learning_rate': 8.487768717568571e-07, 'epoch': 8.3}\n",
      "{'loss': 0.5166, 'learning_rate': 7.746478873239437e-07, 'epoch': 8.45}\n",
      "{'loss': 0.7762, 'learning_rate': 7.005189028910304e-07, 'epoch': 8.6}\n",
      "{'loss': 0.514, 'learning_rate': 6.263899184581172e-07, 'epoch': 8.75}\n",
      "{'loss': 0.5339, 'learning_rate': 5.522609340252038e-07, 'epoch': 8.9}\n"
     ]
    },
    {
     "data": {
      "application/vnd.jupyter.widget-view+json": {
       "model_id": "b19a4b6dbee64d4ca4f4c4cad974fde2",
       "version_major": 2,
       "version_minor": 0
      },
      "text/plain": [
       "  0%|          | 0/253 [00:00<?, ?it/s]"
      ]
     },
     "metadata": {},
     "output_type": "display_data"
    },
    {
     "name": "stdout",
     "output_type": "stream",
     "text": [
      "{'eval_loss': 0.487823486328125, 'eval_balanced_accuracy': 0.88, 'eval_precision': 0.92, 'eval_recall': 0.77, 'eval_f1': 0.84, 'eval_runtime': 3.638, 'eval_samples_per_second': 556.349, 'eval_steps_per_second': 69.544, 'epoch': 9.0}\n",
      "{'loss': 0.8548, 'learning_rate': 4.781319495922906e-07, 'epoch': 9.04}\n",
      "{'loss': 0.7777, 'learning_rate': 4.040029651593774e-07, 'epoch': 9.19}\n",
      "{'loss': 1.3112, 'learning_rate': 3.2987398072646407e-07, 'epoch': 9.34}\n",
      "{'loss': 0.8664, 'learning_rate': 2.557449962935508e-07, 'epoch': 9.49}\n",
      "{'loss': 0.6058, 'learning_rate': 1.8161601186063753e-07, 'epoch': 9.64}\n",
      "{'loss': 0.344, 'learning_rate': 1.0748702742772425e-07, 'epoch': 9.79}\n",
      "{'loss': 0.4966, 'learning_rate': 3.3358042994810974e-08, 'epoch': 9.93}\n"
     ]
    },
    {
     "data": {
      "application/vnd.jupyter.widget-view+json": {
       "model_id": "8ac4b60460b643aaa1dadc8e9027feca",
       "version_major": 2,
       "version_minor": 0
      },
      "text/plain": [
       "  0%|          | 0/253 [00:00<?, ?it/s]"
      ]
     },
     "metadata": {},
     "output_type": "display_data"
    },
    {
     "name": "stdout",
     "output_type": "stream",
     "text": [
      "{'eval_loss': 0.40800711512565613, 'eval_balanced_accuracy': 0.88, 'eval_precision': 0.95, 'eval_recall': 0.77, 'eval_f1': 0.85, 'eval_runtime': 3.72, 'eval_samples_per_second': 544.086, 'eval_steps_per_second': 68.011, 'epoch': 10.0}\n",
      "{'train_runtime': 851.4516, 'train_samples_per_second': 126.737, 'train_steps_per_second': 15.844, 'train_loss': 2.2759132116613254, 'epoch': 10.0}\n"
     ]
    },
    {
     "data": {
      "text/plain": [
       "TrainOutput(global_step=13490, training_loss=2.2759132116613254, metrics={'train_runtime': 851.4516, 'train_samples_per_second': 126.737, 'train_steps_per_second': 15.844, 'train_loss': 2.2759132116613254, 'epoch': 10.0})"
      ]
     },
     "execution_count": 41,
     "metadata": {},
     "output_type": "execute_result"
    }
   ],
   "source": [
    "trainer.train()"
   ]
  },
  {
   "cell_type": "code",
   "execution_count": 42,
   "metadata": {},
   "outputs": [
    {
     "data": {
      "image/png": "[encoded data removed]",
      "text/plain": [
       "<Figure size 640x480 with 1 Axes>"
      ]
     },
     "metadata": {},
     "output_type": "display_data"
    }
   ],
   "source": [
    "plot_save_results(trainer,name)"
   ]
  },
  {
   "cell_type": "code",
   "execution_count": 43,
   "metadata": {},
   "outputs": [
    {
     "name": "stdout",
     "output_type": "stream",
     "text": [
      "Building Twitter Dataset...Dropped out 1 samples\n"
     ]
    },
    {
     "name": "stderr",
     "output_type": "stream",
     "text": [
      "Testing: 100%|██████████| 68/68 [00:01<00:00, 58.93it/s]\n"
     ]
    },
    {
     "name": "stdout",
     "output_type": "stream",
     "text": [
      "Evaluation for dataset well_answering\n",
      "Test model loss=0.1921585758237223\n",
      "Balanced_accuracy: 0.8571032954860149\n",
      "Precision: 0.9428571428571428\n",
      "Recall: 0.717391304347826\n",
      "F1: 0.8148148148148148\n",
      "Roc_auc: 0.857103295486015\n",
      "Number of ones in predictions: 35\n",
      "Number of predictions: 674\n",
      "\n",
      "Building Twitter Dataset...Dropped out 0 samples\n"
     ]
    },
    {
     "name": "stderr",
     "output_type": "stream",
     "text": [
      "Testing: 100%|██████████| 92/92 [00:01<00:00, 49.33it/s]\n",
      "c:\\ProgramData\\Anaconda3\\envs\\modern_nlp\\lib\\site-packages\\sklearn\\metrics\\_classification.py:1987: UserWarning: y_pred contains classes not in y_true\n",
      "  warnings.warn(\"y_pred contains classes not in y_true\")\n"
     ]
    },
    {
     "name": "stdout",
     "output_type": "stream",
     "text": [
      "Evaluation for dataset well_answering only ones\n",
      "Test model loss=0.5774736751167887\n",
      "Balanced_accuracy: 0.7088331515812432\n",
      "Precision: 1.0\n",
      "Recall: 0.7088331515812432\n",
      "F1: 0.8296107211231653\n",
      "Impossible to define ROC_AUC - only one class presents!\n",
      "Number of ones in predictions: 650\n",
      "Number of predictions: 917\n",
      "\n",
      "Building Twitter Dataset...Dropped out 17 samples\n"
     ]
    },
    {
     "name": "stderr",
     "output_type": "stream",
     "text": [
      "Testing: 100%|██████████| 999/999 [00:17<00:00, 58.71it/s]\n",
      "c:\\ProgramData\\Anaconda3\\envs\\modern_nlp\\lib\\site-packages\\sklearn\\metrics\\_classification.py:1987: UserWarning: y_pred contains classes not in y_true\n",
      "  warnings.warn(\"y_pred contains classes not in y_true\")\n",
      "c:\\ProgramData\\Anaconda3\\envs\\modern_nlp\\lib\\site-packages\\sklearn\\metrics\\_classification.py:1318: UndefinedMetricWarning: Recall is ill-defined and being set to 0.0 due to no true samples. Use `zero_division` parameter to control this behavior.\n",
      "  _warn_prf(average, modifier, msg_start, len(result))\n"
     ]
    },
    {
     "name": "stdout",
     "output_type": "stream",
     "text": [
      "Evaluation for dataset well_answering only zeros\n",
      "Test model loss=0.012530643626832202\n",
      "Balanced_accuracy: 0.991185014524692\n",
      "Precision: 0.0\n",
      "Recall: 0.0\n",
      "F1: 0.0\n",
      "Impossible to define ROC_AUC - only one class presents!\n",
      "Number of ones in predictions: 88\n",
      "Number of predictions: 9983\n",
      "\n",
      "Building Twitter Dataset...Dropped out 21 samples\n"
     ]
    },
    {
     "name": "stderr",
     "output_type": "stream",
     "text": [
      "Testing: 100%|██████████| 998/998 [00:18<00:00, 55.24it/s]\n"
     ]
    },
    {
     "name": "stdout",
     "output_type": "stream",
     "text": [
      "Evaluation for dataset low_answering\n",
      "Test model loss=1.3464788821791536\n",
      "Balanced_accuracy: 0.6046988110384768\n",
      "Precision: 0.008835341365461847\n",
      "Recall: 0.9565217391304348\n",
      "F1: 0.017508953442101075\n",
      "Roc_auc: 0.6046988110384768\n",
      "Number of ones in predictions: 7470\n",
      "Number of predictions: 9979\n",
      "\n",
      "Building Twitter Dataset...Dropped out 0 samples\n"
     ]
    },
    {
     "name": "stderr",
     "output_type": "stream",
     "text": [
      "Testing: 100%|██████████| 21/21 [00:00<00:00, 59.50it/s]\n",
      "c:\\ProgramData\\Anaconda3\\envs\\modern_nlp\\lib\\site-packages\\sklearn\\metrics\\_classification.py:1987: UserWarning: y_pred contains classes not in y_true\n",
      "  warnings.warn(\"y_pred contains classes not in y_true\")\n"
     ]
    },
    {
     "name": "stdout",
     "output_type": "stream",
     "text": [
      "Evaluation for dataset low_answering only ones\n",
      "Test model loss=0.05977905271500941\n",
      "Balanced_accuracy: 0.9509803921568627\n",
      "Precision: 1.0\n",
      "Recall: 0.9509803921568627\n",
      "F1: 0.9748743718592965\n",
      "Impossible to define ROC_AUC - only one class presents!\n",
      "Number of ones in predictions: 194\n",
      "Number of predictions: 204\n",
      "\n",
      "Building Twitter Dataset...Dropped out 22 samples\n"
     ]
    },
    {
     "name": "stderr",
     "output_type": "stream",
     "text": [
      "Testing: 100%|██████████| 998/998 [00:15<00:00, 65.91it/s]\n",
      "c:\\ProgramData\\Anaconda3\\envs\\modern_nlp\\lib\\site-packages\\sklearn\\metrics\\_classification.py:1987: UserWarning: y_pred contains classes not in y_true\n",
      "  warnings.warn(\"y_pred contains classes not in y_true\")\n",
      "c:\\ProgramData\\Anaconda3\\envs\\modern_nlp\\lib\\site-packages\\sklearn\\metrics\\_classification.py:1318: UndefinedMetricWarning: Recall is ill-defined and being set to 0.0 due to no true samples. Use `zero_division` parameter to control this behavior.\n",
      "  _warn_prf(average, modifier, msg_start, len(result))\n",
      "c:\\ProgramData\\Anaconda3\\envs\\modern_nlp\\lib\\site-packages\\ipykernel_launcher.py:37: UserWarning: FixedFormatter should only be used together with FixedLocator\n"
     ]
    },
    {
     "name": "stdout",
     "output_type": "stream",
     "text": [
      "Evaluation for dataset low_answering only zeros\n",
      "Test model loss=0.79724808670924\n",
      "Balanced_accuracy: 0.575265584285428\n",
      "Precision: 0.0\n",
      "Recall: 0.0\n",
      "F1: 0.0\n",
      "Impossible to define ROC_AUC - only one class presents!\n",
      "Number of ones in predictions: 4238\n",
      "Number of predictions: 9978\n",
      "\n"
     ]
    },
    {
     "data": {
      "image/png": "[encoded data removed]",
      "text/plain": [
       "<Figure size 640x480 with 1 Axes>"
      ]
     },
     "metadata": {},
     "output_type": "display_data"
    }
   ],
   "source": [
    "a=evaluate_all_datasets(trainer)"
   ]
  },
  {
   "cell_type": "code",
   "execution_count": null,
   "metadata": {},
   "outputs": [],
   "source": []
  }
 ],
 "metadata": {
  "kernelspec": {
   "display_name": "modern_nlp",
   "language": "python",
   "name": "python3"
  },
  "language_info": {
   "codemirror_mode": {
    "name": "ipython",
    "version": 3
   },
   "file_extension": ".py",
   "mimetype": "text/x-python",
   "name": "python",
   "nbconvert_exporter": "python",
   "pygments_lexer": "ipython3",
   "version": "3.7.0"
  },
  "orig_nbformat": 4
 },
 "nbformat": 4,
 "nbformat_minor": 2
}
