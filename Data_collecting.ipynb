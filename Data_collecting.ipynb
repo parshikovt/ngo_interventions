{
 "cells": [
  {
   "cell_type": "code",
   "execution_count": null,
   "metadata": {},
   "outputs": [],
   "source": [
    "import twarc\n",
    "import os\n",
    "import pandas as pd"
   ]
  },
  {
   "cell_type": "code",
   "execution_count": null,
   "metadata": {},
   "outputs": [],
   "source": [
    "#names of the organizations, may replace with needed Banks, NGOs, Airlines\n",
    "s=\"\"\"@ICRC_Nairobi\n",
    "@ICRC_library\n",
    "@RedCrossLebanon\n",
    "@RedCross\n",
    "@BritishRedCross\n",
    "@RedCrossAU\n",
    "@irishredcross\n",
    "@philredcross\n",
    "@IFRC_Europe\n",
    "@NepalRedCross\"\"\""
   ]
  },
  {
   "cell_type": "code",
   "execution_count": null,
   "metadata": {},
   "outputs": [],
   "source": [
    "#Dwonload all tweets of the organisation\n",
    "fscript=open(\"download/download.sh\",'w')\n",
    "for ind,org in enumerate(s.split('\\n')):\n",
    "    fngo=open(\"download/ngos{0}.txt\".format(ind),'w')\n",
    "    fngo.write(org.replace(\"@\",\"\"))\n",
    "    fngo.close()\n",
    "    fscript.write(\"twarc2 timelines --use-search download/ngos{0}.txt download{1}.jsonl\\n\".format(ind,org.replace(\"@\",\"\")))\n",
    "fscript.close()"
   ]
  },
  {
   "cell_type": "code",
   "execution_count": null,
   "metadata": {},
   "outputs": [],
   "source": [
    "# %sh download.sh"
   ]
  },
  {
   "cell_type": "code",
   "execution_count": null,
   "metadata": {},
   "outputs": [],
   "source": [
    "#dehydrate downloaded tweets to get their ids in case of further need\n",
    "fscript=open(\"dehydrate/dehydrate.sh\",'w')\n",
    "for file in os.listdir('download'):\n",
    "    if file.split('.')[1]=='jsonl':\n",
    "        fscript.write(\"twarc2 dehydrate download/{0} dehydrate/{1}.txt\\n\".format(file,file.split('.')[0]))\n",
    "        # fscript.write(\"twarc2 conversations --archive {0}.txt > {1} \\n\".format(file.split('.')[0]))\n",
    "fscript.close()"
   ]
  },
  {
   "cell_type": "code",
   "execution_count": null,
   "metadata": {},
   "outputs": [],
   "source": [
    "# %sh dehydrate.sh"
   ]
  },
  {
   "cell_type": "code",
   "execution_count": null,
   "metadata": {},
   "outputs": [],
   "source": [
    "#download back tweets based on their ids\n",
    "fscript=open(\"hydrate/hydrate.sh\",'w')\n",
    "for file in os.listdir('dehydrate'):\n",
    "    if file.split('.')[1]=='txt':\n",
    "        fscript.write(\"twarc2 hydrate dehydrate/{0} hydrate/{1}.json\\n\".format(file,file.split('.')[0]))\n",
    "        # fscript.write(\"twarc2 conversations --archive {0}.txt > {1} \\n\".format(file.split('.')[0]))\n",
    "fscript.close()"
   ]
  },
  {
   "cell_type": "code",
   "execution_count": null,
   "metadata": {},
   "outputs": [],
   "source": [
    "# %sh hydrate.sh"
   ]
  },
  {
   "cell_type": "code",
   "execution_count": null,
   "metadata": {},
   "outputs": [],
   "source": [
    "#process the tweets to get the conversation_ids\n",
    "for file in os.listdir('hydrate'):\n",
    "    if file.split('.')[1]=='json':\n",
    "        df=pd.read_json('hydrate/'+file,lines=True)\n",
    "        conversation_ids=[]\n",
    "        for line in df['data']:\n",
    "            for element in line:\n",
    "                conversation_ids.append(element['id'])\n",
    "        for line in df['includes']:\n",
    "            for element in line[\"tweets\"]:\n",
    "                conversation_ids.append(element['conversation_id'])\n",
    "        print(len(set(conversation_ids)))\n",
    "        with open(\"hydrate/{0}.txt\".format(file.split('.')[0]), 'w') as fp:\n",
    "            for id in set(conversation_ids):\n",
    "                fp.write(\"%s\\n\" % id)"
   ]
  },
  {
   "cell_type": "code",
   "execution_count": null,
   "metadata": {},
   "outputs": [],
   "source": [
    "#download the conversations\n",
    "fscript=open(\"conversations/conversations.sh\",'w')\n",
    "for file in os.listdir('hydrate'):\n",
    "    if file.split('.')[1]=='txt':\n",
    "        fscript.write(\"twarc2 conversations --archive hydrate/{0} conversations/{1}.json\\n\".format(file,file.split('.')[0]))\n",
    "fscript.close()"
   ]
  },
  {
   "cell_type": "code",
   "execution_count": null,
   "metadata": {},
   "outputs": [],
   "source": [
    "# %sh conversations.sh"
   ]
  }
 ],
 "metadata": {
  "kernelspec": {
   "display_name": "Python 3.8.9 64-bit",
   "language": "python",
   "name": "python3"
  },
  "language_info": {
   "codemirror_mode": {
    "name": "ipython",
    "version": 3
   },
   "file_extension": ".py",
   "mimetype": "text/x-python",
   "name": "python",
   "nbconvert_exporter": "python",
   "pygments_lexer": "ipython3",
   "version": "3.8.9"
  },
  "orig_nbformat": 4,
  "vscode": {
   "interpreter": {
    "hash": "31f2aee4e71d21fbe5cf8b01ff0e069b9275f58929596ceb00d14d90e3e16cd6"
   }
  }
 },
 "nbformat": 4,
 "nbformat_minor": 2
}
