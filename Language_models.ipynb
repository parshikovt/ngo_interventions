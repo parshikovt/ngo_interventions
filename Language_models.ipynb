{
 "cells": [
  {
   "cell_type": "code",
   "execution_count": 91,
   "metadata": {},
   "outputs": [],
   "source": [
    "import torch\n",
    "from datasets import load_dataset\n",
    "from transformers import AutoTokenizer, DistilBertForSequenceClassification\n",
    "from transformers import Trainer, TrainingArguments,DataCollatorForLanguageModeling\n",
    "\n",
    "from copy import deepcopy\n",
    "from torch.utils.data import Dataset\n",
    "import tqdm\n",
    "import csv\n",
    "from torch.utils.data import DataLoader\n",
    "\n",
    "import pandas as pd\n",
    "from sklearn.metrics import accuracy_score,balanced_accuracy_score,precision_score,recall_score,f1_score,roc_auc_score\n",
    "\n",
    "from sklearn.utils import compute_class_weight\n",
    "\n",
    "import evaluate\n",
    "\n",
    "accuracy = evaluate.load(\"accuracy\")\n",
    "balanced_accuracy = evaluate.load(\"hyperml/balanced_accuracy\")\n",
    "precision = evaluate.load(\"precision\")\n",
    "recall = evaluate.load(\"recall\")\n",
    "f1 = evaluate.load(\"f1\")\n",
    "roc_auc = evaluate.load(\"roc_auc\")\n",
    "\n",
    "import numpy as np\n",
    "def compute_metrics(eval_pred):\n",
    "    # print(eval_pred)\n",
    "    predictions, labels = eval_pred\n",
    "    predictions = np.argmax(predictions, axis=1)\n",
    "    return {\"balanced_accuracy\":round(balanced_accuracy.compute(predictions=predictions, references=labels)['balanced_accuracy'],2),\"precision\":round(precision.compute(predictions=predictions, references=labels)['precision'],2),\"recall\":round(recall.compute(predictions=predictions, references=labels)['recall'],2),\"f1\":round(f1.compute(predictions=predictions, references=labels)['f1'],2)} #,round(roc_auc.compute(predictions=predictions, references=labels)['roc_auc'],2))\n",
    "\n",
    "import matplotlib.pyplot as plt\n"
   ]
  },
  {
   "cell_type": "markdown",
   "metadata": {},
   "source": [
    "### Language models"
   ]
  },
  {
   "cell_type": "code",
   "execution_count": 92,
   "metadata": {},
   "outputs": [],
   "source": [
    "class TwitterDataset(Dataset):\n",
    "    \"\"\"\n",
    "    Implement TwitterDataset in Pytorch\n",
    "    \"\"\"\n",
    "    def __init__(self, path, tokenizer, device):\n",
    "        \n",
    "        self.label_to_id = {\"no_answer\": 0, \"answer\": 1}\n",
    "        self.id_to_label = {0: \"no_answer\", 1: \"answer\"}\n",
    "        \n",
    "        self.tokenizer = tokenizer\n",
    "        self.pad_id=tokenizer.encode(tokenizer.pad_token,add_special_tokens=False)[0]\n",
    "        self.text_samples = []\n",
    "        self.labels = []\n",
    "        self.samples=[]\n",
    "        \n",
    "        print(\"Building Twitter Dataset...\")\n",
    "        \n",
    "        with open(path, \"r\") as read_obj:\n",
    "            reader = csv.reader(read_obj)\n",
    "            for ind,sample in enumerate(reader):\n",
    "                if ind!=0:\n",
    "                    # print(sample[4])\n",
    "                \n",
    "                    self.text_samples.append(sample[4])\n",
    "                    # tokens=tokenizer(sample[4],return_tensors=\"pt\")\n",
    "                    # tokens['input_ids']=tokens['input_ids'].squeeze(0)\n",
    "                    # tokens['attention_mask']=tokens['attention_mask'].squeeze(0)\n",
    "                    label=torch.tensor(int(sample[8]))\n",
    "                    tokenized=tokenizer(sample[4],return_tensors=\"pt\",padding=True,truncation=True)\n",
    "                    # print(sample[4])\n",
    "                    dictionary={\"text\": sample[4], \"label\": int(sample[8])}\n",
    "                    tokenized['input_ids']=tokenized['input_ids'].squeeze(0).to(device)\n",
    "                    tokenized['attention_mask']=tokenized['attention_mask'].squeeze(0).to(device)\n",
    "                    \n",
    "                    for key in tokenized.keys():\n",
    "                        dictionary[key]=tokenized[key]\n",
    "                    self.samples.append(dictionary)\n",
    "\n",
    "\n",
    "    def __len__(self):\n",
    "        return len(self.samples)\n",
    "    \n",
    "    def __getitem__(self, index):\n",
    "        return deepcopy(self.samples[index])\n",
    "    \n",
    "    \n",
    "    \n",
    "    def collate_fn(self, batch):\n",
    "        \n",
    "        batch_text = [sample['text'] for sample in batch]\n",
    "        batch_ids=self.tokenizer(batch_text,return_tensors=\"pt\",padding=True) #for sample in batch_padded]\n",
    "        \n",
    "        tensor_batch_ids = batch_ids #torch.tensor(batch_ids)\n",
    "        \n",
    "        batch_labels = [sample['label'] for sample in batch]\n",
    "        tensor_labels = torch.tensor(batch_labels).long()\n",
    "        \n",
    "        return tensor_batch_ids, tensor_labels\n",
    "    "
   ]
  },
  {
   "cell_type": "code",
   "execution_count": 93,
   "metadata": {},
   "outputs": [
    {
     "name": "stdout",
     "output_type": "stream",
     "text": [
      "cuda\n"
     ]
    }
   ],
   "source": [
    "if torch.cuda.is_available():\n",
    "    device='cuda'\n",
    "else:\n",
    "    device='cpu'\n",
    "print(device)"
   ]
  },
  {
   "cell_type": "code",
   "execution_count": 109,
   "metadata": {},
   "outputs": [],
   "source": [
    "def evaluation(model,dataset_name, eval_data,device):\n",
    "    # this function should be called in the train loop to monitor the performance in validation set while training.\n",
    "    \n",
    "    model.eval()\n",
    "    \n",
    "    with torch.no_grad():\n",
    "        epoch_loss=0\n",
    "        predictions=[]\n",
    "        targets=[]\n",
    "        for data in tqdm.tqdm(eval_data,desc=\"Testing\"):\n",
    "            # YOUR CODE HERE\n",
    "            loss=0\n",
    "            \n",
    "            inputs,labels=data\n",
    "\n",
    "            out=model(**inputs.to(device), labels=labels.to(device))\n",
    "            model_loss=out.loss\n",
    "            targets.extend(labels.tolist())\n",
    "            predictions.extend(out.logits.argmax(dim=-1).tolist())\n",
    "            loss+=model_loss\n",
    "                \n",
    "            epoch_loss+=loss.item()/len(data)\n",
    "\n",
    "\n",
    "        print(\"Evaluation for dataset \"+dataset_name)\n",
    "        ba=balanced_accuracy_score(targets, predictions)\n",
    "        pr=precision_score(targets, predictions)\n",
    "        rec=recall_score(targets, predictions)\n",
    "        f1=f1_score(targets, predictions)\n",
    "        print(f\"Test model loss={epoch_loss / len(eval_data)}\")\n",
    "        print(f\"Balanced_accuracy: {ba}\")\n",
    "        print(f\"Precision: {pr}\")\n",
    "        print(f\"Recall: {rec}\")\n",
    "        print(f\"F1: {f1}\")\n",
    "        try:\n",
    "            print(f\"Roc_auc: {roc_auc_score(targets, predictions)}\")\n",
    "        except:\n",
    "            print(\"Impossible to define ROC_AUC - only one class presents!\")\n",
    "    print(f\"Number of ones in predictions: {sum(predictions)}\")\n",
    "    print(f\"Number of predictions: {len(predictions)}\\n\")\n",
    "    return predictions,targets,ba,pr,rec,f1"
   ]
  },
  {
   "cell_type": "code",
   "execution_count": 158,
   "metadata": {},
   "outputs": [],
   "source": [
    "def evaluate_all_datasets(model):\n",
    "    well_answering=TwitterDataset(f\"./data/test_wa_{name}.csv\",tokenizer,device)\n",
    "    well_answering_data_loader=DataLoader(well_answering,batch_size=10,shuffle=False,collate_fn=train_data.collate_fn)\n",
    "    wa=evaluation(model,\"well_answering\",well_answering_data_loader,device)\n",
    "    \n",
    "    wa_only_ones=TwitterDataset(f\"./data/oo_wa_{name}.csv\",tokenizer,device)\n",
    "    wa_only_ones_data_loader=DataLoader(wa_only_ones,batch_size=10,shuffle=False,collate_fn=train_data.collate_fn)\n",
    "    wa_oo=evaluation(model,\"well_answering only ones\",wa_only_ones_data_loader,device)\n",
    "    \n",
    "    wa_only_zeros=TwitterDataset(f\"./data/oz_wa_{name}.csv\",tokenizer,device)\n",
    "    wa_only_zeros_data_loader=DataLoader(wa_only_zeros,batch_size=10,shuffle=False,collate_fn=train_data.collate_fn)\n",
    "    wa_oz=evaluation(model,\"well_answering only zeros\",wa_only_zeros_data_loader,device)\n",
    "    \n",
    "    low_answering=TwitterDataset(f\"./data/la_10k_{name}.csv\",tokenizer,device)\n",
    "    low_answering_data_loader=DataLoader(low_answering,batch_size=10,shuffle=False,collate_fn=train_data.collate_fn)\n",
    "    la=evaluation(model,\"low_answering\",low_answering_data_loader,device)\n",
    "\n",
    "    only_ones=TwitterDataset(f\"./data/oo_{name}.csv\",tokenizer,device)\n",
    "    only_ones_data_loader=DataLoader(only_ones,batch_size=10,shuffle=False,collate_fn=train_data.collate_fn)\n",
    "    oo=evaluation(model,\"low_answering only ones\",only_ones_data_loader,device)\n",
    "    \n",
    "    only_zeros=TwitterDataset(f\"./data/oz_10k_{name}.csv\",tokenizer,device)\n",
    "    only_zeros_data_loader=DataLoader(only_zeros,batch_size=10,shuffle=False,collate_fn=train_data.collate_fn)\n",
    "    oz=evaluation(model,\"low_answering only zeros\",only_zeros_data_loader,device)\n",
    "    \n",
    "    \n",
    "    metrics=[\"balanced_accuracy\",\"precision\",\"recall\",\"f1\"]\n",
    "    fig, ax = plt.subplots()\n",
    "    ax.bar(np.arange(4),[wa[2],wa[3],wa[4],wa[5]],width=0.15,align='edge')\n",
    "    ax.bar(np.arange(4)+0.15,[wa_oo[2],wa_oo[3],wa_oo[4],wa_oo[5]],width=0.15,align='edge')\n",
    "    ax.bar(np.arange(4)+0.3,[wa_oz[2],wa_oz[3],wa_oz[4],wa_oz[5]],width=0.15,align='edge')\n",
    "    ax.bar(np.arange(4)+0.45,[la[2],la[3],la[4],la[5]],width=0.15,align='edge')\n",
    "    ax.bar(np.arange(4)+0.60,[oo[2],oo[3],oo[4],oo[5]],width=0.15,align='edge')\n",
    "    ax.bar(np.arange(4)+0.75,[oz[2],oz[3],oz[4],oz[5]],width=0.15,align='edge')\n",
    "    labels = [item.get_text() for item in ax.get_xticklabels()]\n",
    "    labels = [metrics[ind//2-1] if (ind%2==0) and (ind!=len(labels)-1) and (ind!=0) else '' for ind,label in enumerate(labels) ]\n",
    "    ax.set_xticklabels(labels)\n",
    "    # plt.plot(metrics, [wa[2],wa[3],wa[4],wa[5]],'1')\n",
    "    # plt.plot(metrics,[wa_oo[2],wa_oo[3],wa_oo[4],wa_oo[5]],'2')\n",
    "    # plt.plot(metrics,[wa_oz[2],wa_oz[3],wa_oz[4],wa_oz[5]],'3')\n",
    "    # plt.plot(metrics,[la[2],la[3],la[4],la[5]],'4')\n",
    "    # plt.plot(metrics,[oo[2],oo[3],oo[4],oo[5]],'8')\n",
    "    # plt.plot(metrics,[oz[2],oz[3],oz[4],oz[5]],'s')\n",
    "    ax.legend([\"wa\",\"wa_oo\",\"wa_oz\",\"la\",\"la_oo\",\"la_oz\"])\n",
    "    plt.xlabel(\"metrics\")\n",
    "    plt.ylabel(\"value\")\n",
    "    plt.title(name)\n",
    "    \n",
    "    return wa[0:2],wa_oo[:2],wa_oz[:2],la[:2],oo[:2],oz[:2]"
   ]
  },
  {
   "cell_type": "code",
   "execution_count": 118,
   "metadata": {},
   "outputs": [],
   "source": [
    "def training(name,num_epochs):\n",
    "    run_name = f\"well-answering-{name}\"\n",
    "    tokenizer = AutoTokenizer.from_pretrained(\"distilbert-base-uncased\")\n",
    "    model = DistilBertForSequenceClassification.from_pretrained(\"distilbert-base-uncased\",num_labels=2)\n",
    "    model=model.to(device)\n",
    "    \n",
    "    train_data=TwitterDataset(f\"./data/train_wa_{name}.csv\",tokenizer,device)\n",
    "    test_data=TwitterDataset(f\"./data/eval_wa_{name}.csv\",tokenizer,device)\n",
    "    \n",
    "    labels=[]\n",
    "    for i in train_data:\n",
    "        labels.append(i['label'])\n",
    "    # for i in test_data:\n",
    "    #     labels.append(i['label'])\n",
    "        \n",
    "    class_weights=compute_class_weight('balanced',classes=np.unique(labels),y=np.array(labels))\n",
    "    class_weights=torch.tensor(class_weights,dtype=torch.float,device=device)\n",
    "    \n",
    "    class CustomTrainer(Trainer):\n",
    "        def compute_loss(self, model, inputs, return_outputs=False):\n",
    "            # print(inputs)\n",
    "            labels = inputs.get(\"labels\")\n",
    "            # forward pass\n",
    "            outputs = model(**inputs)\n",
    "            logits = outputs.get(\"logits\")\n",
    "            # # compute custom loss (suppose one has 3 labels with different weights)\n",
    "            loss_fct = torch.nn.CrossEntropyLoss(weight=class_weights,reduction='mean') #weight=torch.tensor([1.0, 2.0, 3.0])\n",
    "            loss = loss_fct(logits.view(-1, self.model.config.num_labels), labels.view(-1))\n",
    "            return (loss, outputs) if return_outputs else loss\n",
    "        \n",
    "    training_args = TrainingArguments(\n",
    "        output_dir=f\"models/{run_name}\",\n",
    "        num_train_epochs=num_epochs,\n",
    "        evaluation_strategy = \"epoch\",\n",
    "        logging_steps=100,\n",
    "        per_device_train_batch_size=8,\n",
    "        learning_rate=0.000005,\n",
    "        weight_decay=0.01)\n",
    "    \n",
    "    trainer = CustomTrainer(model=model,\n",
    "                        args=training_args,\n",
    "                        train_dataset=train_data,\n",
    "                        eval_dataset=test_data,\n",
    "                        tokenizer=tokenizer,\n",
    "                        compute_metrics=compute_metrics\n",
    "                        )\n",
    "    \n",
    "    return trainer"
   ]
  },
  {
   "cell_type": "code",
   "execution_count": 97,
   "metadata": {},
   "outputs": [],
   "source": [
    "def plot_save_results(trainer,name):\n",
    "    train_epoch=[]\n",
    "    train_loss=[]\n",
    "\n",
    "    eval_epoch=[]\n",
    "    eval_loss=[]\n",
    "    eval_acc=[]\n",
    "    eval_f1=[]\n",
    "    for i in trainer.state.log_history:\n",
    "        try:\n",
    "            if 'eval_loss' in i.keys():\n",
    "                eval_loss.append(i['eval_loss'])\n",
    "                eval_epoch.append(i['epoch'])\n",
    "                eval_acc.append(i['eval_balanced_accuracy'])\n",
    "                eval_f1.append(i['eval_f1'])\n",
    "            else:\n",
    "                train_loss.append(i['loss'])\n",
    "                train_epoch.append(i['epoch'])\n",
    "        except:\n",
    "            pass\n",
    "    \n",
    "    f=open(name+'.txt','a')\n",
    "    f.write(str(trainer.state.log_history))\n",
    "    f.close()\n",
    "\n",
    "    plt.plot(train_epoch,train_loss)\n",
    "    plt.plot(eval_epoch,eval_loss,'ro-.')\n",
    "    plt.plot(eval_epoch,eval_acc,'go--')\n",
    "    plt.plot(eval_epoch,eval_f1,'mo:')\n",
    "    plt.legend([\"train_loss\",\"eval_loss\",\"eval_balanced_accuracy\",\"eval_f1\"])\n",
    "    plt.xlabel(\"#epoch\")\n",
    "    plt.ylabel(\"loss\")\n",
    "    plt.title(name)\n",
    "    None"
   ]
  },
  {
   "attachments": {},
   "cell_type": "markdown",
   "metadata": {},
   "source": [
    "### NGOs"
   ]
  },
  {
   "cell_type": "code",
   "execution_count": 98,
   "metadata": {},
   "outputs": [],
   "source": [
    "name=\"ngos\""
   ]
  },
  {
   "cell_type": "code",
   "execution_count": 100,
   "metadata": {},
   "outputs": [
    {
     "name": "stderr",
     "output_type": "stream",
     "text": [
      "Some weights of the model checkpoint at distilbert-base-uncased were not used when initializing DistilBertForSequenceClassification: ['vocab_projector.weight', 'vocab_layer_norm.bias', 'vocab_projector.bias', 'vocab_layer_norm.weight', 'vocab_transform.weight', 'vocab_transform.bias']\n",
      "- This IS expected if you are initializing DistilBertForSequenceClassification from the checkpoint of a model trained on another task or with another architecture (e.g. initializing a BertForSequenceClassification model from a BertForPreTraining model).\n",
      "- This IS NOT expected if you are initializing DistilBertForSequenceClassification from the checkpoint of a model that you expect to be exactly identical (initializing a BertForSequenceClassification model from a BertForSequenceClassification model).\n",
      "Some weights of DistilBertForSequenceClassification were not initialized from the model checkpoint at distilbert-base-uncased and are newly initialized: ['pre_classifier.bias', 'pre_classifier.weight', 'classifier.weight', 'classifier.bias']\n",
      "You should probably TRAIN this model on a down-stream task to be able to use it for predictions and inference.\n"
     ]
    },
    {
     "name": "stdout",
     "output_type": "stream",
     "text": [
      "Building Twitter Dataset...\n",
      "Building Twitter Dataset...\n"
     ]
    }
   ],
   "source": [
    "trainer=training(name,10)"
   ]
  },
  {
   "cell_type": "code",
   "execution_count": 101,
   "metadata": {},
   "outputs": [
    {
     "name": "stderr",
     "output_type": "stream",
     "text": [
      "c:\\ProgramData\\Anaconda3\\envs\\modern_nlp\\lib\\site-packages\\transformers\\optimization.py:395: FutureWarning: This implementation of AdamW is deprecated and will be removed in a future version. Use the PyTorch implementation torch.optim.AdamW instead, or set `no_deprecation_warning=True` to disable this warning\n",
      "  FutureWarning,\n"
     ]
    },
    {
     "data": {
      "application/vnd.jupyter.widget-view+json": {
       "model_id": "38de747f15fd47b09c8e53d9f681b806",
       "version_major": 2,
       "version_minor": 0
      },
      "text/plain": [
       "  0%|          | 0/41220 [00:00<?, ?it/s]"
      ]
     },
     "metadata": {},
     "output_type": "display_data"
    },
    {
     "name": "stderr",
     "output_type": "stream",
     "text": [
      "You're using a DistilBertTokenizerFast tokenizer. Please note that with a fast tokenizer, using the `__call__` method is faster than using a method to encode the text followed by a call to the `pad` method to get a padded encoding.\n"
     ]
    },
    {
     "name": "stdout",
     "output_type": "stream",
     "text": [
      "{'loss': 0.6598, 'learning_rate': 4.9878699660359055e-06, 'epoch': 0.02}\n",
      "{'loss': 0.6439, 'learning_rate': 4.975739932071811e-06, 'epoch': 0.05}\n",
      "{'loss': 0.7112, 'learning_rate': 4.963609898107715e-06, 'epoch': 0.07}\n",
      "{'loss': 0.9999, 'learning_rate': 4.95147986414362e-06, 'epoch': 0.1}\n",
      "{'loss': 0.911, 'learning_rate': 4.939349830179525e-06, 'epoch': 0.12}\n",
      "{'loss': 0.9366, 'learning_rate': 4.92721979621543e-06, 'epoch': 0.15}\n",
      "{'loss': 1.0067, 'learning_rate': 4.915089762251335e-06, 'epoch': 0.17}\n",
      "{'loss': 0.891, 'learning_rate': 4.90295972828724e-06, 'epoch': 0.19}\n",
      "{'loss': 0.9437, 'learning_rate': 4.890829694323144e-06, 'epoch': 0.22}\n",
      "{'loss': 0.9007, 'learning_rate': 4.878699660359049e-06, 'epoch': 0.24}\n",
      "{'loss': 0.9309, 'learning_rate': 4.866569626394954e-06, 'epoch': 0.27}\n",
      "{'loss': 0.9191, 'learning_rate': 4.854439592430859e-06, 'epoch': 0.29}\n",
      "{'loss': 0.9689, 'learning_rate': 4.842309558466764e-06, 'epoch': 0.32}\n",
      "{'loss': 0.6748, 'learning_rate': 4.830179524502669e-06, 'epoch': 0.34}\n",
      "{'loss': 1.0901, 'learning_rate': 4.818049490538574e-06, 'epoch': 0.36}\n",
      "{'loss': 0.8592, 'learning_rate': 4.805919456574478e-06, 'epoch': 0.39}\n",
      "{'loss': 0.7574, 'learning_rate': 4.7937894226103835e-06, 'epoch': 0.41}\n",
      "{'loss': 0.9714, 'learning_rate': 4.781659388646289e-06, 'epoch': 0.44}\n",
      "{'loss': 0.8478, 'learning_rate': 4.769529354682194e-06, 'epoch': 0.46}\n",
      "{'loss': 0.7607, 'learning_rate': 4.757399320718099e-06, 'epoch': 0.49}\n",
      "{'loss': 0.9366, 'learning_rate': 4.745269286754003e-06, 'epoch': 0.51}\n",
      "{'loss': 0.656, 'learning_rate': 4.733139252789908e-06, 'epoch': 0.53}\n",
      "{'loss': 0.8919, 'learning_rate': 4.7210092188258135e-06, 'epoch': 0.56}\n",
      "{'loss': 0.8585, 'learning_rate': 4.708879184861719e-06, 'epoch': 0.58}\n",
      "{'loss': 0.7919, 'learning_rate': 4.696749150897623e-06, 'epoch': 0.61}\n",
      "{'loss': 0.7034, 'learning_rate': 4.684619116933527e-06, 'epoch': 0.63}\n",
      "{'loss': 0.7454, 'learning_rate': 4.672489082969432e-06, 'epoch': 0.66}\n",
      "{'loss': 0.7573, 'learning_rate': 4.6603590490053375e-06, 'epoch': 0.68}\n",
      "{'loss': 0.7576, 'learning_rate': 4.648229015041243e-06, 'epoch': 0.7}\n",
      "{'loss': 0.8077, 'learning_rate': 4.636098981077147e-06, 'epoch': 0.73}\n",
      "{'loss': 0.8049, 'learning_rate': 4.623968947113052e-06, 'epoch': 0.75}\n",
      "{'loss': 0.7939, 'learning_rate': 4.611838913148957e-06, 'epoch': 0.78}\n",
      "{'loss': 0.8126, 'learning_rate': 4.599708879184862e-06, 'epoch': 0.8}\n",
      "{'loss': 0.9242, 'learning_rate': 4.5875788452207674e-06, 'epoch': 0.82}\n",
      "{'loss': 0.8155, 'learning_rate': 4.575448811256672e-06, 'epoch': 0.85}\n",
      "{'loss': 0.7084, 'learning_rate': 4.563318777292577e-06, 'epoch': 0.87}\n",
      "{'loss': 0.7947, 'learning_rate': 4.551188743328482e-06, 'epoch': 0.9}\n",
      "{'loss': 0.807, 'learning_rate': 4.539058709364387e-06, 'epoch': 0.92}\n",
      "{'loss': 0.7748, 'learning_rate': 4.526928675400291e-06, 'epoch': 0.95}\n",
      "{'loss': 0.7348, 'learning_rate': 4.5147986414361966e-06, 'epoch': 0.97}\n",
      "{'loss': 0.6669, 'learning_rate': 4.502668607472102e-06, 'epoch': 0.99}\n"
     ]
    },
    {
     "data": {
      "application/vnd.jupyter.widget-view+json": {
       "model_id": "03b37e1d6f0d4559ad5b7ad91d5b342d",
       "version_major": 2,
       "version_minor": 0
      },
      "text/plain": [
       "  0%|          | 0/773 [00:00<?, ?it/s]"
      ]
     },
     "metadata": {},
     "output_type": "display_data"
    },
    {
     "name": "stdout",
     "output_type": "stream",
     "text": [
      "{'eval_loss': 0.8365477919578552, 'eval_balanced_accuracy': 0.66, 'eval_precision': 0.92, 'eval_recall': 0.32, 'eval_f1': 0.48, 'eval_runtime': 11.5415, 'eval_samples_per_second': 535.634, 'eval_steps_per_second': 66.976, 'epoch': 1.0}\n",
      "{'loss': 0.8515, 'learning_rate': 4.490538573508006e-06, 'epoch': 1.02}\n",
      "{'loss': 0.7661, 'learning_rate': 4.478408539543911e-06, 'epoch': 1.04}\n",
      "{'loss': 0.7101, 'learning_rate': 4.466278505579815e-06, 'epoch': 1.07}\n",
      "{'loss': 0.7482, 'learning_rate': 4.4541484716157205e-06, 'epoch': 1.09}\n",
      "{'loss': 0.7522, 'learning_rate': 4.442018437651626e-06, 'epoch': 1.12}\n",
      "{'loss': 0.8038, 'learning_rate': 4.429888403687531e-06, 'epoch': 1.14}\n",
      "{'loss': 0.5901, 'learning_rate': 4.417758369723435e-06, 'epoch': 1.16}\n",
      "{'loss': 0.6102, 'learning_rate': 4.40562833575934e-06, 'epoch': 1.19}\n",
      "{'loss': 0.8144, 'learning_rate': 4.393498301795245e-06, 'epoch': 1.21}\n",
      "{'loss': 0.6711, 'learning_rate': 4.3813682678311505e-06, 'epoch': 1.24}\n",
      "{'loss': 0.6673, 'learning_rate': 4.369238233867056e-06, 'epoch': 1.26}\n",
      "{'loss': 0.7295, 'learning_rate': 4.35710819990296e-06, 'epoch': 1.29}\n",
      "{'loss': 0.8004, 'learning_rate': 4.344978165938865e-06, 'epoch': 1.31}\n",
      "{'loss': 0.7897, 'learning_rate': 4.33284813197477e-06, 'epoch': 1.33}\n",
      "{'loss': 0.7124, 'learning_rate': 4.320718098010675e-06, 'epoch': 1.36}\n",
      "{'loss': 0.7705, 'learning_rate': 4.30858806404658e-06, 'epoch': 1.38}\n",
      "{'loss': 0.8666, 'learning_rate': 4.296458030082485e-06, 'epoch': 1.41}\n",
      "{'loss': 0.6164, 'learning_rate': 4.284327996118389e-06, 'epoch': 1.43}\n",
      "{'loss': 0.8111, 'learning_rate': 4.272197962154294e-06, 'epoch': 1.46}\n",
      "{'loss': 0.7675, 'learning_rate': 4.260067928190199e-06, 'epoch': 1.48}\n",
      "{'loss': 0.7292, 'learning_rate': 4.247937894226104e-06, 'epoch': 1.5}\n",
      "{'loss': 0.7029, 'learning_rate': 4.235807860262009e-06, 'epoch': 1.53}\n",
      "{'loss': 0.7038, 'learning_rate': 4.223677826297914e-06, 'epoch': 1.55}\n",
      "{'loss': 0.8461, 'learning_rate': 4.211547792333819e-06, 'epoch': 1.58}\n",
      "{'loss': 0.7247, 'learning_rate': 4.199417758369724e-06, 'epoch': 1.6}\n",
      "{'loss': 0.8866, 'learning_rate': 4.1872877244056285e-06, 'epoch': 1.63}\n",
      "{'loss': 0.7442, 'learning_rate': 4.175157690441534e-06, 'epoch': 1.65}\n",
      "{'loss': 0.7235, 'learning_rate': 4.163027656477439e-06, 'epoch': 1.67}\n",
      "{'loss': 0.6529, 'learning_rate': 4.150897622513344e-06, 'epoch': 1.7}\n",
      "{'loss': 0.7746, 'learning_rate': 4.138767588549248e-06, 'epoch': 1.72}\n",
      "{'loss': 0.8542, 'learning_rate': 4.126637554585153e-06, 'epoch': 1.75}\n",
      "{'loss': 0.727, 'learning_rate': 4.1145075206210584e-06, 'epoch': 1.77}\n",
      "{'loss': 0.6625, 'learning_rate': 4.102377486656964e-06, 'epoch': 1.8}\n",
      "{'loss': 0.817, 'learning_rate': 4.090247452692868e-06, 'epoch': 1.82}\n",
      "{'loss': 0.7155, 'learning_rate': 4.078117418728772e-06, 'epoch': 1.84}\n",
      "{'loss': 0.6255, 'learning_rate': 4.065987384764677e-06, 'epoch': 1.87}\n",
      "{'loss': 0.8817, 'learning_rate': 4.0538573508005824e-06, 'epoch': 1.89}\n",
      "{'loss': 0.6615, 'learning_rate': 4.0417273168364876e-06, 'epoch': 1.92}\n",
      "{'loss': 0.6899, 'learning_rate': 4.029597282872392e-06, 'epoch': 1.94}\n",
      "{'loss': 0.7567, 'learning_rate': 4.017467248908297e-06, 'epoch': 1.97}\n",
      "{'loss': 0.8157, 'learning_rate': 4.005337214944202e-06, 'epoch': 1.99}\n"
     ]
    },
    {
     "data": {
      "application/vnd.jupyter.widget-view+json": {
       "model_id": "b1bdac32a8a64879b9b08e7aa36a2901",
       "version_major": 2,
       "version_minor": 0
      },
      "text/plain": [
       "  0%|          | 0/773 [00:00<?, ?it/s]"
      ]
     },
     "metadata": {},
     "output_type": "display_data"
    },
    {
     "name": "stdout",
     "output_type": "stream",
     "text": [
      "{'eval_loss': 0.7106090188026428, 'eval_balanced_accuracy': 0.69, 'eval_precision': 0.87, 'eval_recall': 0.38, 'eval_f1': 0.53, 'eval_runtime': 11.6454, 'eval_samples_per_second': 530.854, 'eval_steps_per_second': 66.378, 'epoch': 2.0}\n",
      "{'loss': 0.7369, 'learning_rate': 3.993207180980107e-06, 'epoch': 2.01}\n",
      "{'loss': 0.5901, 'learning_rate': 3.981077147016012e-06, 'epoch': 2.04}\n",
      "{'loss': 0.6783, 'learning_rate': 3.968947113051917e-06, 'epoch': 2.06}\n",
      "{'loss': 0.6761, 'learning_rate': 3.956817079087822e-06, 'epoch': 2.09}\n",
      "{'loss': 0.7096, 'learning_rate': 3.944687045123727e-06, 'epoch': 2.11}\n",
      "{'loss': 0.6831, 'learning_rate': 3.932557011159632e-06, 'epoch': 2.13}\n",
      "{'loss': 0.7687, 'learning_rate': 3.920426977195536e-06, 'epoch': 2.16}\n",
      "{'loss': 0.6887, 'learning_rate': 3.9082969432314415e-06, 'epoch': 2.18}\n",
      "{'loss': 0.5911, 'learning_rate': 3.896166909267347e-06, 'epoch': 2.21}\n",
      "{'loss': 0.7745, 'learning_rate': 3.884036875303251e-06, 'epoch': 2.23}\n",
      "{'loss': 0.5962, 'learning_rate': 3.871906841339156e-06, 'epoch': 2.26}\n",
      "{'loss': 0.905, 'learning_rate': 3.85977680737506e-06, 'epoch': 2.28}\n",
      "{'loss': 0.7002, 'learning_rate': 3.8476467734109655e-06, 'epoch': 2.3}\n",
      "{'loss': 0.6901, 'learning_rate': 3.835516739446871e-06, 'epoch': 2.33}\n",
      "{'loss': 0.603, 'learning_rate': 3.823386705482776e-06, 'epoch': 2.35}\n",
      "{'loss': 0.8062, 'learning_rate': 3.8112566715186805e-06, 'epoch': 2.38}\n",
      "{'loss': 0.7793, 'learning_rate': 3.7991266375545856e-06, 'epoch': 2.4}\n",
      "{'loss': 0.7759, 'learning_rate': 3.7869966035904904e-06, 'epoch': 2.43}\n",
      "{'loss': 0.8231, 'learning_rate': 3.7748665696263955e-06, 'epoch': 2.45}\n",
      "{'loss': 0.6797, 'learning_rate': 3.7627365356623e-06, 'epoch': 2.47}\n",
      "{'loss': 0.7752, 'learning_rate': 3.7506065016982053e-06, 'epoch': 2.5}\n",
      "{'loss': 0.6356, 'learning_rate': 3.73847646773411e-06, 'epoch': 2.52}\n",
      "{'loss': 0.5603, 'learning_rate': 3.726346433770015e-06, 'epoch': 2.55}\n",
      "{'loss': 0.6647, 'learning_rate': 3.71421639980592e-06, 'epoch': 2.57}\n",
      "{'loss': 0.7077, 'learning_rate': 3.702086365841825e-06, 'epoch': 2.6}\n",
      "{'loss': 0.6829, 'learning_rate': 3.6899563318777298e-06, 'epoch': 2.62}\n",
      "{'loss': 0.8133, 'learning_rate': 3.677826297913634e-06, 'epoch': 2.64}\n",
      "{'loss': 0.6317, 'learning_rate': 3.665696263949539e-06, 'epoch': 2.67}\n",
      "{'loss': 0.8315, 'learning_rate': 3.653566229985444e-06, 'epoch': 2.69}\n",
      "{'loss': 0.7346, 'learning_rate': 3.641436196021349e-06, 'epoch': 2.72}\n",
      "{'loss': 0.7302, 'learning_rate': 3.6293061620572537e-06, 'epoch': 2.74}\n",
      "{'loss': 0.6097, 'learning_rate': 3.617176128093159e-06, 'epoch': 2.77}\n",
      "{'loss': 0.6232, 'learning_rate': 3.605046094129064e-06, 'epoch': 2.79}\n",
      "{'loss': 0.8183, 'learning_rate': 3.5929160601649687e-06, 'epoch': 2.81}\n",
      "{'loss': 0.6593, 'learning_rate': 3.580786026200874e-06, 'epoch': 2.84}\n",
      "{'loss': 0.5907, 'learning_rate': 3.5686559922367786e-06, 'epoch': 2.86}\n",
      "{'loss': 0.8577, 'learning_rate': 3.5565259582726837e-06, 'epoch': 2.89}\n",
      "{'loss': 0.6886, 'learning_rate': 3.5443959243085884e-06, 'epoch': 2.91}\n",
      "{'loss': 0.7401, 'learning_rate': 3.5322658903444936e-06, 'epoch': 2.94}\n",
      "{'loss': 0.746, 'learning_rate': 3.5201358563803983e-06, 'epoch': 2.96}\n",
      "{'loss': 0.7244, 'learning_rate': 3.5080058224163034e-06, 'epoch': 2.98}\n"
     ]
    },
    {
     "data": {
      "application/vnd.jupyter.widget-view+json": {
       "model_id": "24ab33413c2c419383e315ef8b00bda1",
       "version_major": 2,
       "version_minor": 0
      },
      "text/plain": [
       "  0%|          | 0/773 [00:00<?, ?it/s]"
      ]
     },
     "metadata": {},
     "output_type": "display_data"
    },
    {
     "name": "stdout",
     "output_type": "stream",
     "text": [
      "{'eval_loss': 0.7313843965530396, 'eval_balanced_accuracy': 0.69, 'eval_precision': 0.94, 'eval_recall': 0.39, 'eval_f1': 0.55, 'eval_runtime': 12.5723, 'eval_samples_per_second': 491.715, 'eval_steps_per_second': 61.484, 'epoch': 3.0}\n",
      "{'loss': 0.646, 'learning_rate': 3.495875788452208e-06, 'epoch': 3.01}\n",
      "{'loss': 0.5957, 'learning_rate': 3.4837457544881124e-06, 'epoch': 3.03}\n",
      "{'loss': 0.7089, 'learning_rate': 3.4716157205240176e-06, 'epoch': 3.06}\n",
      "{'loss': 0.6203, 'learning_rate': 3.4594856865599223e-06, 'epoch': 3.08}\n",
      "{'loss': 0.7394, 'learning_rate': 3.4473556525958274e-06, 'epoch': 3.11}\n",
      "{'loss': 0.7349, 'learning_rate': 3.435225618631732e-06, 'epoch': 3.13}\n",
      "{'loss': 0.6975, 'learning_rate': 3.4230955846676373e-06, 'epoch': 3.15}\n",
      "{'loss': 0.7212, 'learning_rate': 3.410965550703542e-06, 'epoch': 3.18}\n",
      "{'loss': 0.6658, 'learning_rate': 3.398835516739447e-06, 'epoch': 3.2}\n",
      "{'loss': 0.4998, 'learning_rate': 3.3867054827753522e-06, 'epoch': 3.23}\n",
      "{'loss': 0.6601, 'learning_rate': 3.374575448811257e-06, 'epoch': 3.25}\n",
      "{'loss': 0.5293, 'learning_rate': 3.362445414847162e-06, 'epoch': 3.28}\n",
      "{'loss': 0.8502, 'learning_rate': 3.350315380883067e-06, 'epoch': 3.3}\n",
      "{'loss': 0.7809, 'learning_rate': 3.338185346918972e-06, 'epoch': 3.32}\n",
      "{'loss': 0.6857, 'learning_rate': 3.3260553129548767e-06, 'epoch': 3.35}\n",
      "{'loss': 0.5287, 'learning_rate': 3.313925278990782e-06, 'epoch': 3.37}\n",
      "{'loss': 0.6058, 'learning_rate': 3.3017952450266865e-06, 'epoch': 3.4}\n",
      "{'loss': 0.7218, 'learning_rate': 3.2896652110625916e-06, 'epoch': 3.42}\n",
      "{'loss': 0.7953, 'learning_rate': 3.277535177098496e-06, 'epoch': 3.44}\n",
      "{'loss': 0.6685, 'learning_rate': 3.2654051431344006e-06, 'epoch': 3.47}\n",
      "{'loss': 0.6533, 'learning_rate': 3.2532751091703058e-06, 'epoch': 3.49}\n",
      "{'loss': 0.4955, 'learning_rate': 3.2411450752062105e-06, 'epoch': 3.52}\n",
      "{'loss': 0.6859, 'learning_rate': 3.2290150412421156e-06, 'epoch': 3.54}\n",
      "{'loss': 0.7498, 'learning_rate': 3.2168850072780203e-06, 'epoch': 3.57}\n",
      "{'loss': 0.7214, 'learning_rate': 3.2047549733139255e-06, 'epoch': 3.59}\n",
      "{'loss': 0.6537, 'learning_rate': 3.1926249393498306e-06, 'epoch': 3.61}\n",
      "{'loss': 0.7391, 'learning_rate': 3.1804949053857353e-06, 'epoch': 3.64}\n",
      "{'loss': 0.5756, 'learning_rate': 3.1683648714216405e-06, 'epoch': 3.66}\n",
      "{'loss': 0.6312, 'learning_rate': 3.156234837457545e-06, 'epoch': 3.69}\n",
      "{'loss': 0.5421, 'learning_rate': 3.1441048034934503e-06, 'epoch': 3.71}\n",
      "{'loss': 0.5557, 'learning_rate': 3.131974769529355e-06, 'epoch': 3.74}\n",
      "{'loss': 0.5786, 'learning_rate': 3.11984473556526e-06, 'epoch': 3.76}\n",
      "{'loss': 0.5596, 'learning_rate': 3.107714701601165e-06, 'epoch': 3.78}\n",
      "{'loss': 0.7243, 'learning_rate': 3.09558466763707e-06, 'epoch': 3.81}\n",
      "{'loss': 0.6081, 'learning_rate': 3.0834546336729743e-06, 'epoch': 3.83}\n",
      "{'loss': 0.6879, 'learning_rate': 3.071324599708879e-06, 'epoch': 3.86}\n",
      "{'loss': 0.6176, 'learning_rate': 3.059194565744784e-06, 'epoch': 3.88}\n",
      "{'loss': 0.4744, 'learning_rate': 3.047064531780689e-06, 'epoch': 3.91}\n",
      "{'loss': 0.594, 'learning_rate': 3.034934497816594e-06, 'epoch': 3.93}\n",
      "{'loss': 0.7553, 'learning_rate': 3.0228044638524987e-06, 'epoch': 3.95}\n",
      "{'loss': 0.7657, 'learning_rate': 3.010674429888404e-06, 'epoch': 3.98}\n"
     ]
    },
    {
     "data": {
      "application/vnd.jupyter.widget-view+json": {
       "model_id": "73c6ac2f53454fee8be3732c1e56cf65",
       "version_major": 2,
       "version_minor": 0
      },
      "text/plain": [
       "  0%|          | 0/773 [00:00<?, ?it/s]"
      ]
     },
     "metadata": {},
     "output_type": "display_data"
    },
    {
     "name": "stdout",
     "output_type": "stream",
     "text": [
      "{'eval_loss': 0.594247043132782, 'eval_balanced_accuracy': 0.75, 'eval_precision': 0.96, 'eval_recall': 0.49, 'eval_f1': 0.65, 'eval_runtime': 11.7878, 'eval_samples_per_second': 524.439, 'eval_steps_per_second': 65.576, 'epoch': 4.0}\n",
      "{'loss': 0.722, 'learning_rate': 2.998544395924309e-06, 'epoch': 4.0}\n",
      "{'loss': 0.5491, 'learning_rate': 2.9864143619602137e-06, 'epoch': 4.03}\n",
      "{'loss': 0.5706, 'learning_rate': 2.974284327996119e-06, 'epoch': 4.05}\n",
      "{'loss': 0.6097, 'learning_rate': 2.9621542940320236e-06, 'epoch': 4.08}\n",
      "{'loss': 0.5972, 'learning_rate': 2.9500242600679287e-06, 'epoch': 4.1}\n",
      "{'loss': 0.5785, 'learning_rate': 2.9378942261038334e-06, 'epoch': 4.12}\n",
      "{'loss': 0.4923, 'learning_rate': 2.9257641921397385e-06, 'epoch': 4.15}\n",
      "{'loss': 0.5546, 'learning_rate': 2.9136341581756433e-06, 'epoch': 4.17}\n",
      "{'loss': 0.4994, 'learning_rate': 2.9015041242115484e-06, 'epoch': 4.2}\n",
      "{'loss': 0.4797, 'learning_rate': 2.889374090247453e-06, 'epoch': 4.22}\n",
      "{'loss': 0.6323, 'learning_rate': 2.8772440562833574e-06, 'epoch': 4.25}\n",
      "{'loss': 0.6481, 'learning_rate': 2.8651140223192625e-06, 'epoch': 4.27}\n",
      "{'loss': 0.8088, 'learning_rate': 2.8529839883551672e-06, 'epoch': 4.29}\n",
      "{'loss': 0.6808, 'learning_rate': 2.8408539543910724e-06, 'epoch': 4.32}\n",
      "{'loss': 0.5532, 'learning_rate': 2.828723920426977e-06, 'epoch': 4.34}\n",
      "{'loss': 0.6697, 'learning_rate': 2.8165938864628822e-06, 'epoch': 4.37}\n",
      "{'loss': 0.6917, 'learning_rate': 2.8044638524987874e-06, 'epoch': 4.39}\n",
      "{'loss': 0.6889, 'learning_rate': 2.792333818534692e-06, 'epoch': 4.42}\n",
      "{'loss': 0.81, 'learning_rate': 2.7802037845705972e-06, 'epoch': 4.44}\n",
      "{'loss': 0.4369, 'learning_rate': 2.768073750606502e-06, 'epoch': 4.46}\n",
      "{'loss': 0.466, 'learning_rate': 2.755943716642407e-06, 'epoch': 4.49}\n",
      "{'loss': 0.6484, 'learning_rate': 2.7438136826783118e-06, 'epoch': 4.51}\n",
      "{'loss': 0.5573, 'learning_rate': 2.731683648714217e-06, 'epoch': 4.54}\n",
      "{'loss': 0.6353, 'learning_rate': 2.7195536147501216e-06, 'epoch': 4.56}\n",
      "{'loss': 0.5169, 'learning_rate': 2.7074235807860268e-06, 'epoch': 4.59}\n",
      "{'loss': 0.5241, 'learning_rate': 2.6952935468219315e-06, 'epoch': 4.61}\n",
      "{'loss': 0.6267, 'learning_rate': 2.6831635128578366e-06, 'epoch': 4.63}\n",
      "{'loss': 0.6694, 'learning_rate': 2.671033478893741e-06, 'epoch': 4.66}\n",
      "{'loss': 0.7114, 'learning_rate': 2.6589034449296456e-06, 'epoch': 4.68}\n",
      "{'loss': 0.6943, 'learning_rate': 2.6467734109655508e-06, 'epoch': 4.71}\n",
      "{'loss': 0.6074, 'learning_rate': 2.6346433770014555e-06, 'epoch': 4.73}\n",
      "{'loss': 0.6664, 'learning_rate': 2.6225133430373606e-06, 'epoch': 4.75}\n",
      "{'loss': 0.6754, 'learning_rate': 2.6103833090732657e-06, 'epoch': 4.78}\n",
      "{'loss': 0.551, 'learning_rate': 2.5982532751091705e-06, 'epoch': 4.8}\n",
      "{'loss': 0.602, 'learning_rate': 2.5861232411450756e-06, 'epoch': 4.83}\n",
      "{'loss': 0.4361, 'learning_rate': 2.5739932071809803e-06, 'epoch': 4.85}\n",
      "{'loss': 0.7276, 'learning_rate': 2.5618631732168854e-06, 'epoch': 4.88}\n",
      "{'loss': 0.6984, 'learning_rate': 2.54973313925279e-06, 'epoch': 4.9}\n",
      "{'loss': 0.4746, 'learning_rate': 2.5376031052886953e-06, 'epoch': 4.92}\n",
      "{'loss': 0.5456, 'learning_rate': 2.5254730713246e-06, 'epoch': 4.95}\n",
      "{'loss': 0.6485, 'learning_rate': 2.513343037360505e-06, 'epoch': 4.97}\n",
      "{'loss': 0.6899, 'learning_rate': 2.50121300339641e-06, 'epoch': 5.0}\n"
     ]
    },
    {
     "data": {
      "application/vnd.jupyter.widget-view+json": {
       "model_id": "acb92c357b9044099802829becef2667",
       "version_major": 2,
       "version_minor": 0
      },
      "text/plain": [
       "  0%|          | 0/773 [00:00<?, ?it/s]"
      ]
     },
     "metadata": {},
     "output_type": "display_data"
    },
    {
     "name": "stdout",
     "output_type": "stream",
     "text": [
      "{'eval_loss': 0.49495020508766174, 'eval_balanced_accuracy': 0.82, 'eval_precision': 0.93, 'eval_recall': 0.64, 'eval_f1': 0.76, 'eval_runtime': 11.6036, 'eval_samples_per_second': 532.766, 'eval_steps_per_second': 66.617, 'epoch': 5.0}\n",
      "{'loss': 0.5796, 'learning_rate': 2.4890829694323146e-06, 'epoch': 5.02}\n",
      "{'loss': 0.5293, 'learning_rate': 2.4769529354682197e-06, 'epoch': 5.05}\n",
      "{'loss': 0.4958, 'learning_rate': 2.4648229015041244e-06, 'epoch': 5.07}\n",
      "{'loss': 0.539, 'learning_rate': 2.4526928675400296e-06, 'epoch': 5.09}\n",
      "{'loss': 0.6578, 'learning_rate': 2.4405628335759343e-06, 'epoch': 5.12}\n",
      "{'loss': 0.6587, 'learning_rate': 2.428432799611839e-06, 'epoch': 5.14}\n",
      "{'loss': 0.6177, 'learning_rate': 2.4163027656477437e-06, 'epoch': 5.17}\n",
      "{'loss': 0.5402, 'learning_rate': 2.404172731683649e-06, 'epoch': 5.19}\n",
      "{'loss': 0.5393, 'learning_rate': 2.392042697719554e-06, 'epoch': 5.22}\n",
      "{'loss': 0.6298, 'learning_rate': 2.3799126637554587e-06, 'epoch': 5.24}\n",
      "{'loss': 0.5066, 'learning_rate': 2.367782629791364e-06, 'epoch': 5.26}\n",
      "{'loss': 0.5413, 'learning_rate': 2.3556525958272685e-06, 'epoch': 5.29}\n",
      "{'loss': 0.4085, 'learning_rate': 2.3435225618631737e-06, 'epoch': 5.31}\n",
      "{'loss': 0.5719, 'learning_rate': 2.3313925278990784e-06, 'epoch': 5.34}\n",
      "{'loss': 0.6358, 'learning_rate': 2.319262493934983e-06, 'epoch': 5.36}\n",
      "{'loss': 0.4384, 'learning_rate': 2.3071324599708882e-06, 'epoch': 5.39}\n",
      "{'loss': 0.5958, 'learning_rate': 2.295002426006793e-06, 'epoch': 5.41}\n",
      "{'loss': 0.4561, 'learning_rate': 2.282872392042698e-06, 'epoch': 5.43}\n",
      "{'loss': 0.5387, 'learning_rate': 2.270742358078603e-06, 'epoch': 5.46}\n",
      "{'loss': 0.5399, 'learning_rate': 2.258612324114508e-06, 'epoch': 5.48}\n",
      "{'loss': 0.5128, 'learning_rate': 2.2464822901504126e-06, 'epoch': 5.51}\n",
      "{'loss': 0.6268, 'learning_rate': 2.2343522561863178e-06, 'epoch': 5.53}\n",
      "{'loss': 0.4746, 'learning_rate': 2.222222222222222e-06, 'epoch': 5.56}\n",
      "{'loss': 0.7076, 'learning_rate': 2.210092188258127e-06, 'epoch': 5.58}\n",
      "{'loss': 0.548, 'learning_rate': 2.1979621542940323e-06, 'epoch': 5.6}\n",
      "{'loss': 0.3767, 'learning_rate': 2.185832120329937e-06, 'epoch': 5.63}\n",
      "{'loss': 0.6088, 'learning_rate': 2.173702086365842e-06, 'epoch': 5.65}\n",
      "{'loss': 0.4546, 'learning_rate': 2.161572052401747e-06, 'epoch': 5.68}\n",
      "{'loss': 0.4854, 'learning_rate': 2.149442018437652e-06, 'epoch': 5.7}\n",
      "{'loss': 0.4268, 'learning_rate': 2.1373119844735568e-06, 'epoch': 5.73}\n",
      "{'loss': 0.5305, 'learning_rate': 2.1251819505094615e-06, 'epoch': 5.75}\n",
      "{'loss': 0.4695, 'learning_rate': 2.1130519165453666e-06, 'epoch': 5.77}\n",
      "{'loss': 0.7148, 'learning_rate': 2.1009218825812713e-06, 'epoch': 5.8}\n",
      "{'loss': 0.4441, 'learning_rate': 2.0887918486171765e-06, 'epoch': 5.82}\n",
      "{'loss': 0.4884, 'learning_rate': 2.076661814653081e-06, 'epoch': 5.85}\n",
      "{'loss': 0.4788, 'learning_rate': 2.0645317806889863e-06, 'epoch': 5.87}\n",
      "{'loss': 0.5397, 'learning_rate': 2.052401746724891e-06, 'epoch': 5.9}\n",
      "{'loss': 0.4644, 'learning_rate': 2.040271712760796e-06, 'epoch': 5.92}\n",
      "{'loss': 0.4574, 'learning_rate': 2.028141678796701e-06, 'epoch': 5.94}\n",
      "{'loss': 0.5851, 'learning_rate': 2.0160116448326056e-06, 'epoch': 5.97}\n",
      "{'loss': 0.4544, 'learning_rate': 2.0038816108685107e-06, 'epoch': 5.99}\n"
     ]
    },
    {
     "data": {
      "application/vnd.jupyter.widget-view+json": {
       "model_id": "774e246bb7f74001a9ef7faa027cea2a",
       "version_major": 2,
       "version_minor": 0
      },
      "text/plain": [
       "  0%|          | 0/773 [00:00<?, ?it/s]"
      ]
     },
     "metadata": {},
     "output_type": "display_data"
    },
    {
     "name": "stdout",
     "output_type": "stream",
     "text": [
      "{'eval_loss': 0.4313172996044159, 'eval_balanced_accuracy': 0.85, 'eval_precision': 0.97, 'eval_recall': 0.7, 'eval_f1': 0.81, 'eval_runtime': 11.5997, 'eval_samples_per_second': 532.944, 'eval_steps_per_second': 66.64, 'epoch': 6.0}\n",
      "{'loss': 0.4736, 'learning_rate': 1.9917515769044154e-06, 'epoch': 6.02}\n",
      "{'loss': 0.473, 'learning_rate': 1.9796215429403206e-06, 'epoch': 6.04}\n",
      "{'loss': 0.3784, 'learning_rate': 1.9674915089762253e-06, 'epoch': 6.07}\n",
      "{'loss': 0.5103, 'learning_rate': 1.9553614750121304e-06, 'epoch': 6.09}\n",
      "{'loss': 0.5498, 'learning_rate': 1.943231441048035e-06, 'epoch': 6.11}\n",
      "{'loss': 0.4833, 'learning_rate': 1.9311014070839403e-06, 'epoch': 6.14}\n",
      "{'loss': 0.4167, 'learning_rate': 1.9189713731198446e-06, 'epoch': 6.16}\n",
      "{'loss': 0.5723, 'learning_rate': 1.9068413391557497e-06, 'epoch': 6.19}\n",
      "{'loss': 0.4348, 'learning_rate': 1.8947113051916546e-06, 'epoch': 6.21}\n",
      "{'loss': 0.4597, 'learning_rate': 1.8825812712275595e-06, 'epoch': 6.23}\n",
      "{'loss': 0.4388, 'learning_rate': 1.8704512372634645e-06, 'epoch': 6.26}\n",
      "{'loss': 0.4761, 'learning_rate': 1.8583212032993694e-06, 'epoch': 6.28}\n",
      "{'loss': 0.5357, 'learning_rate': 1.8461911693352743e-06, 'epoch': 6.31}\n",
      "{'loss': 0.599, 'learning_rate': 1.8340611353711792e-06, 'epoch': 6.33}\n",
      "{'loss': 0.566, 'learning_rate': 1.821931101407084e-06, 'epoch': 6.36}\n",
      "{'loss': 0.2935, 'learning_rate': 1.8098010674429889e-06, 'epoch': 6.38}\n",
      "{'loss': 0.3352, 'learning_rate': 1.7976710334788938e-06, 'epoch': 6.4}\n",
      "{'loss': 0.5528, 'learning_rate': 1.7855409995147987e-06, 'epoch': 6.43}\n",
      "{'loss': 0.5457, 'learning_rate': 1.7734109655507037e-06, 'epoch': 6.45}\n",
      "{'loss': 0.3416, 'learning_rate': 1.7612809315866086e-06, 'epoch': 6.48}\n",
      "{'loss': 0.5036, 'learning_rate': 1.7491508976225135e-06, 'epoch': 6.5}\n",
      "{'loss': 0.5958, 'learning_rate': 1.7370208636584184e-06, 'epoch': 6.53}\n",
      "{'loss': 0.4928, 'learning_rate': 1.7248908296943234e-06, 'epoch': 6.55}\n",
      "{'loss': 0.5114, 'learning_rate': 1.712760795730228e-06, 'epoch': 6.57}\n",
      "{'loss': 0.3863, 'learning_rate': 1.700630761766133e-06, 'epoch': 6.6}\n",
      "{'loss': 0.5149, 'learning_rate': 1.688500727802038e-06, 'epoch': 6.62}\n",
      "{'loss': 0.6154, 'learning_rate': 1.6763706938379428e-06, 'epoch': 6.65}\n",
      "{'loss': 0.4565, 'learning_rate': 1.6642406598738478e-06, 'epoch': 6.67}\n",
      "{'loss': 0.3941, 'learning_rate': 1.6521106259097527e-06, 'epoch': 6.7}\n",
      "{'loss': 0.4372, 'learning_rate': 1.6399805919456576e-06, 'epoch': 6.72}\n",
      "{'loss': 0.4175, 'learning_rate': 1.6278505579815625e-06, 'epoch': 6.74}\n",
      "{'loss': 0.6552, 'learning_rate': 1.6157205240174673e-06, 'epoch': 6.77}\n",
      "{'loss': 0.4623, 'learning_rate': 1.6035904900533722e-06, 'epoch': 6.79}\n",
      "{'loss': 0.4902, 'learning_rate': 1.5914604560892771e-06, 'epoch': 6.82}\n",
      "{'loss': 0.3724, 'learning_rate': 1.579330422125182e-06, 'epoch': 6.84}\n",
      "{'loss': 0.5939, 'learning_rate': 1.567200388161087e-06, 'epoch': 6.87}\n",
      "{'loss': 0.4359, 'learning_rate': 1.5550703541969919e-06, 'epoch': 6.89}\n",
      "{'loss': 0.4597, 'learning_rate': 1.5429403202328968e-06, 'epoch': 6.91}\n",
      "{'loss': 0.4578, 'learning_rate': 1.5308102862688017e-06, 'epoch': 6.94}\n",
      "{'loss': 0.5039, 'learning_rate': 1.5186802523047064e-06, 'epoch': 6.96}\n",
      "{'loss': 0.4002, 'learning_rate': 1.5065502183406114e-06, 'epoch': 6.99}\n"
     ]
    },
    {
     "data": {
      "application/vnd.jupyter.widget-view+json": {
       "model_id": "19d4694dead24081abbc99b551dbeb8e",
       "version_major": 2,
       "version_minor": 0
      },
      "text/plain": [
       "  0%|          | 0/773 [00:00<?, ?it/s]"
      ]
     },
     "metadata": {},
     "output_type": "display_data"
    },
    {
     "name": "stdout",
     "output_type": "stream",
     "text": [
      "{'eval_loss': 0.3261067569255829, 'eval_balanced_accuracy': 0.88, 'eval_precision': 0.95, 'eval_recall': 0.77, 'eval_f1': 0.85, 'eval_runtime': 11.8406, 'eval_samples_per_second': 522.104, 'eval_steps_per_second': 65.284, 'epoch': 7.0}\n",
      "{'loss': 0.5179, 'learning_rate': 1.4944201843765163e-06, 'epoch': 7.01}\n",
      "{'loss': 0.3164, 'learning_rate': 1.4822901504124212e-06, 'epoch': 7.04}\n",
      "{'loss': 0.2695, 'learning_rate': 1.4701601164483261e-06, 'epoch': 7.06}\n",
      "{'loss': 0.5004, 'learning_rate': 1.458030082484231e-06, 'epoch': 7.08}\n",
      "{'loss': 0.3968, 'learning_rate': 1.445900048520136e-06, 'epoch': 7.11}\n",
      "{'loss': 0.3589, 'learning_rate': 1.433770014556041e-06, 'epoch': 7.13}\n",
      "{'loss': 0.4667, 'learning_rate': 1.4216399805919458e-06, 'epoch': 7.16}\n",
      "{'loss': 0.3943, 'learning_rate': 1.4095099466278506e-06, 'epoch': 7.18}\n",
      "{'loss': 0.4082, 'learning_rate': 1.3973799126637555e-06, 'epoch': 7.21}\n",
      "{'loss': 0.3916, 'learning_rate': 1.3852498786996604e-06, 'epoch': 7.23}\n",
      "{'loss': 0.5366, 'learning_rate': 1.3731198447355653e-06, 'epoch': 7.25}\n",
      "{'loss': 0.509, 'learning_rate': 1.3609898107714703e-06, 'epoch': 7.28}\n",
      "{'loss': 0.438, 'learning_rate': 1.3488597768073752e-06, 'epoch': 7.3}\n",
      "{'loss': 0.3941, 'learning_rate': 1.3367297428432801e-06, 'epoch': 7.33}\n",
      "{'loss': 0.3779, 'learning_rate': 1.324599708879185e-06, 'epoch': 7.35}\n",
      "{'loss': 0.3863, 'learning_rate': 1.3124696749150897e-06, 'epoch': 7.38}\n",
      "{'loss': 0.333, 'learning_rate': 1.3003396409509947e-06, 'epoch': 7.4}\n",
      "{'loss': 0.4992, 'learning_rate': 1.2882096069868996e-06, 'epoch': 7.42}\n",
      "{'loss': 0.5142, 'learning_rate': 1.2760795730228045e-06, 'epoch': 7.45}\n",
      "{'loss': 0.296, 'learning_rate': 1.2639495390587094e-06, 'epoch': 7.47}\n",
      "{'loss': 0.4953, 'learning_rate': 1.2518195050946144e-06, 'epoch': 7.5}\n",
      "{'loss': 0.3805, 'learning_rate': 1.2396894711305193e-06, 'epoch': 7.52}\n",
      "{'loss': 0.4762, 'learning_rate': 1.2275594371664242e-06, 'epoch': 7.54}\n",
      "{'loss': 0.4502, 'learning_rate': 1.2154294032023291e-06, 'epoch': 7.57}\n",
      "{'loss': 0.2582, 'learning_rate': 1.203299369238234e-06, 'epoch': 7.59}\n",
      "{'loss': 0.5038, 'learning_rate': 1.1911693352741388e-06, 'epoch': 7.62}\n",
      "{'loss': 0.5989, 'learning_rate': 1.1790393013100437e-06, 'epoch': 7.64}\n",
      "{'loss': 0.4778, 'learning_rate': 1.1669092673459486e-06, 'epoch': 7.67}\n",
      "{'loss': 0.2871, 'learning_rate': 1.1547792333818536e-06, 'epoch': 7.69}\n",
      "{'loss': 0.2916, 'learning_rate': 1.1426491994177585e-06, 'epoch': 7.71}\n",
      "{'loss': 0.5353, 'learning_rate': 1.1305191654536634e-06, 'epoch': 7.74}\n",
      "{'loss': 0.4663, 'learning_rate': 1.1183891314895683e-06, 'epoch': 7.76}\n",
      "{'loss': 0.492, 'learning_rate': 1.1062590975254733e-06, 'epoch': 7.79}\n",
      "{'loss': 0.4152, 'learning_rate': 1.0941290635613782e-06, 'epoch': 7.81}\n",
      "{'loss': 0.433, 'learning_rate': 1.081999029597283e-06, 'epoch': 7.84}\n",
      "{'loss': 0.3011, 'learning_rate': 1.0698689956331878e-06, 'epoch': 7.86}\n",
      "{'loss': 0.2873, 'learning_rate': 1.0577389616690927e-06, 'epoch': 7.88}\n",
      "{'loss': 0.3883, 'learning_rate': 1.0456089277049977e-06, 'epoch': 7.91}\n",
      "{'loss': 0.3991, 'learning_rate': 1.0334788937409026e-06, 'epoch': 7.93}\n",
      "{'loss': 0.5103, 'learning_rate': 1.0213488597768075e-06, 'epoch': 7.96}\n",
      "{'loss': 0.3471, 'learning_rate': 1.0092188258127124e-06, 'epoch': 7.98}\n"
     ]
    },
    {
     "data": {
      "application/vnd.jupyter.widget-view+json": {
       "model_id": "0bc55a73507640cf864f53ce9b975ae4",
       "version_major": 2,
       "version_minor": 0
      },
      "text/plain": [
       "  0%|          | 0/773 [00:00<?, ?it/s]"
      ]
     },
     "metadata": {},
     "output_type": "display_data"
    },
    {
     "name": "stdout",
     "output_type": "stream",
     "text": [
      "{'eval_loss': 0.29819348454475403, 'eval_balanced_accuracy': 0.9, 'eval_precision': 0.98, 'eval_recall': 0.8, 'eval_f1': 0.88, 'eval_runtime': 12.0359, 'eval_samples_per_second': 513.63, 'eval_steps_per_second': 64.225, 'epoch': 8.0}\n",
      "{'loss': 0.5312, 'learning_rate': 9.970887918486174e-07, 'epoch': 8.01}\n",
      "{'loss': 0.423, 'learning_rate': 9.84958757884522e-07, 'epoch': 8.03}\n",
      "{'loss': 0.5574, 'learning_rate': 9.72828723920427e-07, 'epoch': 8.05}\n",
      "{'loss': 0.3517, 'learning_rate': 9.60698689956332e-07, 'epoch': 8.08}\n",
      "{'loss': 0.2818, 'learning_rate': 9.485686559922369e-07, 'epoch': 8.1}\n",
      "{'loss': 0.3643, 'learning_rate': 9.364386220281417e-07, 'epoch': 8.13}\n",
      "{'loss': 0.4352, 'learning_rate': 9.243085880640466e-07, 'epoch': 8.15}\n",
      "{'loss': 0.2852, 'learning_rate': 9.121785540999515e-07, 'epoch': 8.18}\n",
      "{'loss': 0.3393, 'learning_rate': 9.000485201358565e-07, 'epoch': 8.2}\n",
      "{'loss': 0.4397, 'learning_rate': 8.879184861717613e-07, 'epoch': 8.22}\n",
      "{'loss': 0.3881, 'learning_rate': 8.757884522076662e-07, 'epoch': 8.25}\n",
      "{'loss': 0.4269, 'learning_rate': 8.636584182435711e-07, 'epoch': 8.27}\n",
      "{'loss': 0.4221, 'learning_rate': 8.51528384279476e-07, 'epoch': 8.3}\n",
      "{'loss': 0.34, 'learning_rate': 8.393983503153809e-07, 'epoch': 8.32}\n",
      "{'loss': 0.3461, 'learning_rate': 8.272683163512858e-07, 'epoch': 8.35}\n",
      "{'loss': 0.3193, 'learning_rate': 8.151382823871907e-07, 'epoch': 8.37}\n",
      "{'loss': 0.4359, 'learning_rate': 8.030082484230956e-07, 'epoch': 8.39}\n",
      "{'loss': 0.2789, 'learning_rate': 7.908782144590005e-07, 'epoch': 8.42}\n",
      "{'loss': 0.4746, 'learning_rate': 7.787481804949054e-07, 'epoch': 8.44}\n",
      "{'loss': 0.3828, 'learning_rate': 7.666181465308103e-07, 'epoch': 8.47}\n",
      "{'loss': 0.3363, 'learning_rate': 7.544881125667152e-07, 'epoch': 8.49}\n",
      "{'loss': 0.3899, 'learning_rate': 7.423580786026202e-07, 'epoch': 8.52}\n",
      "{'loss': 0.4126, 'learning_rate': 7.30228044638525e-07, 'epoch': 8.54}\n",
      "{'loss': 0.3368, 'learning_rate': 7.180980106744299e-07, 'epoch': 8.56}\n",
      "{'loss': 0.3492, 'learning_rate': 7.059679767103348e-07, 'epoch': 8.59}\n",
      "{'loss': 0.2203, 'learning_rate': 6.938379427462398e-07, 'epoch': 8.61}\n",
      "{'loss': 0.2872, 'learning_rate': 6.817079087821446e-07, 'epoch': 8.64}\n",
      "{'loss': 0.3154, 'learning_rate': 6.695778748180495e-07, 'epoch': 8.66}\n",
      "{'loss': 0.37, 'learning_rate': 6.574478408539544e-07, 'epoch': 8.69}\n",
      "{'loss': 0.3965, 'learning_rate': 6.453178068898593e-07, 'epoch': 8.71}\n",
      "{'loss': 0.3798, 'learning_rate': 6.331877729257642e-07, 'epoch': 8.73}\n",
      "{'loss': 0.3708, 'learning_rate': 6.210577389616691e-07, 'epoch': 8.76}\n",
      "{'loss': 0.3504, 'learning_rate': 6.08927704997574e-07, 'epoch': 8.78}\n",
      "{'loss': 0.5917, 'learning_rate': 5.967976710334789e-07, 'epoch': 8.81}\n",
      "{'loss': 0.2276, 'learning_rate': 5.846676370693839e-07, 'epoch': 8.83}\n",
      "{'loss': 0.3123, 'learning_rate': 5.725376031052887e-07, 'epoch': 8.85}\n",
      "{'loss': 0.486, 'learning_rate': 5.604075691411936e-07, 'epoch': 8.88}\n",
      "{'loss': 0.3367, 'learning_rate': 5.482775351770985e-07, 'epoch': 8.9}\n",
      "{'loss': 0.2539, 'learning_rate': 5.361475012130035e-07, 'epoch': 8.93}\n",
      "{'loss': 0.4932, 'learning_rate': 5.240174672489083e-07, 'epoch': 8.95}\n",
      "{'loss': 0.3739, 'learning_rate': 5.118874332848132e-07, 'epoch': 8.98}\n"
     ]
    },
    {
     "data": {
      "application/vnd.jupyter.widget-view+json": {
       "model_id": "e745347e83a94c5c8efc35f5d85833bb",
       "version_major": 2,
       "version_minor": 0
      },
      "text/plain": [
       "  0%|          | 0/773 [00:00<?, ?it/s]"
      ]
     },
     "metadata": {},
     "output_type": "display_data"
    },
    {
     "name": "stdout",
     "output_type": "stream",
     "text": [
      "{'eval_loss': 0.2542320191860199, 'eval_balanced_accuracy': 0.92, 'eval_precision': 0.99, 'eval_recall': 0.83, 'eval_f1': 0.9, 'eval_runtime': 11.7323, 'eval_samples_per_second': 526.922, 'eval_steps_per_second': 65.887, 'epoch': 9.0}\n",
      "{'loss': 0.3828, 'learning_rate': 4.997573993207181e-07, 'epoch': 9.0}\n",
      "{'loss': 0.3825, 'learning_rate': 4.876273653566231e-07, 'epoch': 9.02}\n",
      "{'loss': 0.2454, 'learning_rate': 4.7549733139252793e-07, 'epoch': 9.05}\n",
      "{'loss': 0.4497, 'learning_rate': 4.6336729742843285e-07, 'epoch': 9.07}\n",
      "{'loss': 0.2628, 'learning_rate': 4.512372634643378e-07, 'epoch': 9.1}\n",
      "{'loss': 0.2182, 'learning_rate': 4.3910722950024265e-07, 'epoch': 9.12}\n",
      "{'loss': 0.3392, 'learning_rate': 4.269771955361476e-07, 'epoch': 9.15}\n",
      "{'loss': 0.427, 'learning_rate': 4.1484716157205245e-07, 'epoch': 9.17}\n",
      "{'loss': 0.2735, 'learning_rate': 4.0271712760795737e-07, 'epoch': 9.19}\n",
      "{'loss': 0.3595, 'learning_rate': 3.9058709364386224e-07, 'epoch': 9.22}\n",
      "{'loss': 0.2522, 'learning_rate': 3.7845705967976717e-07, 'epoch': 9.24}\n",
      "{'loss': 0.2883, 'learning_rate': 3.6632702571567204e-07, 'epoch': 9.27}\n",
      "{'loss': 0.3074, 'learning_rate': 3.5419699175157697e-07, 'epoch': 9.29}\n",
      "{'loss': 0.2809, 'learning_rate': 3.4206695778748184e-07, 'epoch': 9.32}\n",
      "{'loss': 0.4301, 'learning_rate': 3.2993692382338676e-07, 'epoch': 9.34}\n",
      "{'loss': 0.3013, 'learning_rate': 3.1780688985929163e-07, 'epoch': 9.36}\n",
      "{'loss': 0.5651, 'learning_rate': 3.056768558951965e-07, 'epoch': 9.39}\n",
      "{'loss': 0.1272, 'learning_rate': 2.9354682193110143e-07, 'epoch': 9.41}\n",
      "{'loss': 0.3697, 'learning_rate': 2.8141678796700636e-07, 'epoch': 9.44}\n",
      "{'loss': 0.2703, 'learning_rate': 2.6928675400291123e-07, 'epoch': 9.46}\n",
      "{'loss': 0.2886, 'learning_rate': 2.5715672003881615e-07, 'epoch': 9.49}\n",
      "{'loss': 0.212, 'learning_rate': 2.45026686074721e-07, 'epoch': 9.51}\n",
      "{'loss': 0.2666, 'learning_rate': 2.3289665211062595e-07, 'epoch': 9.53}\n",
      "{'loss': 0.4557, 'learning_rate': 2.2076661814653085e-07, 'epoch': 9.56}\n",
      "{'loss': 0.4137, 'learning_rate': 2.0863658418243575e-07, 'epoch': 9.58}\n",
      "{'loss': 0.3612, 'learning_rate': 1.9650655021834065e-07, 'epoch': 9.61}\n",
      "{'loss': 0.3021, 'learning_rate': 1.8437651625424554e-07, 'epoch': 9.63}\n",
      "{'loss': 0.3495, 'learning_rate': 1.7224648229015044e-07, 'epoch': 9.66}\n",
      "{'loss': 0.3448, 'learning_rate': 1.6011644832605534e-07, 'epoch': 9.68}\n",
      "{'loss': 0.2259, 'learning_rate': 1.4798641436196024e-07, 'epoch': 9.7}\n",
      "{'loss': 0.4426, 'learning_rate': 1.3585638039786514e-07, 'epoch': 9.73}\n",
      "{'loss': 0.3542, 'learning_rate': 1.2372634643377004e-07, 'epoch': 9.75}\n",
      "{'loss': 0.4378, 'learning_rate': 1.1159631246967492e-07, 'epoch': 9.78}\n",
      "{'loss': 0.3442, 'learning_rate': 9.946627850557982e-08, 'epoch': 9.8}\n",
      "{'loss': 0.4374, 'learning_rate': 8.733624454148472e-08, 'epoch': 9.83}\n",
      "{'loss': 0.3217, 'learning_rate': 7.520621057738963e-08, 'epoch': 9.85}\n",
      "{'loss': 0.4319, 'learning_rate': 6.307617661329453e-08, 'epoch': 9.87}\n",
      "{'loss': 0.1898, 'learning_rate': 5.094614264919942e-08, 'epoch': 9.9}\n",
      "{'loss': 0.4711, 'learning_rate': 3.881610868510432e-08, 'epoch': 9.92}\n",
      "{'loss': 0.2864, 'learning_rate': 2.6686074721009223e-08, 'epoch': 9.95}\n",
      "{'loss': 0.4388, 'learning_rate': 1.4556040756914122e-08, 'epoch': 9.97}\n",
      "{'loss': 0.3086, 'learning_rate': 2.42600679281902e-09, 'epoch': 10.0}\n"
     ]
    },
    {
     "data": {
      "application/vnd.jupyter.widget-view+json": {
       "model_id": "0dd313ce9b4d4dbb9673cf4ab582f0ec",
       "version_major": 2,
       "version_minor": 0
      },
      "text/plain": [
       "  0%|          | 0/773 [00:00<?, ?it/s]"
      ]
     },
     "metadata": {},
     "output_type": "display_data"
    },
    {
     "name": "stdout",
     "output_type": "stream",
     "text": [
      "{'eval_loss': 0.25176677107810974, 'eval_balanced_accuracy': 0.92, 'eval_precision': 0.98, 'eval_recall': 0.84, 'eval_f1': 0.9, 'eval_runtime': 12.3091, 'eval_samples_per_second': 502.229, 'eval_steps_per_second': 62.799, 'epoch': 10.0}\n",
      "{'train_runtime': 2845.6204, 'train_samples_per_second': 115.859, 'train_steps_per_second': 14.485, 'train_loss': 0.568393988773581, 'epoch': 10.0}\n"
     ]
    },
    {
     "data": {
      "text/plain": [
       "TrainOutput(global_step=41220, training_loss=0.568393988773581, metrics={'train_runtime': 2845.6204, 'train_samples_per_second': 115.859, 'train_steps_per_second': 14.485, 'train_loss': 0.568393988773581, 'epoch': 10.0})"
      ]
     },
     "execution_count": 101,
     "metadata": {},
     "output_type": "execute_result"
    }
   ],
   "source": [
    "trainer.train()"
   ]
  },
  {
   "cell_type": "code",
   "execution_count": 102,
   "metadata": {},
   "outputs": [
    {
     "data": {
      "image/png": "[encoded data removed]",
      "text/plain": [
       "<Figure size 640x480 with 1 Axes>"
      ]
     },
     "metadata": {},
     "output_type": "display_data"
    }
   ],
   "source": [
    "plot_save_results(trainer,name)"
   ]
  },
  {
   "cell_type": "code",
   "execution_count": 159,
   "metadata": {},
   "outputs": [
    {
     "name": "stdout",
     "output_type": "stream",
     "text": [
      "Building Twitter Dataset...\n"
     ]
    },
    {
     "name": "stderr",
     "output_type": "stream",
     "text": [
      "Testing: 100%|██████████| 207/207 [00:03<00:00, 53.09it/s]\n"
     ]
    },
    {
     "name": "stdout",
     "output_type": "stream",
     "text": [
      "Evaluation for dataset well_answering\n",
      "Test model loss=0.034112379051408064\n",
      "Balanced_accuracy: 0.9195305938345724\n",
      "Precision: 0.9727891156462585\n",
      "Recall: 0.8411764705882353\n",
      "F1: 0.9022082018927444\n",
      "Roc_auc: 0.9195305938345724\n",
      "Number of ones in predictions: 147\n",
      "Number of predictions: 2061\n",
      "\n",
      "Building Twitter Dataset...\n"
     ]
    },
    {
     "name": "stderr",
     "output_type": "stream",
     "text": [
      "Testing: 100%|██████████| 339/339 [00:06<00:00, 54.65it/s]\n",
      "c:\\ProgramData\\Anaconda3\\envs\\modern_nlp\\lib\\site-packages\\sklearn\\metrics\\_classification.py:1987: UserWarning: y_pred contains classes not in y_true\n",
      "  warnings.warn(\"y_pred contains classes not in y_true\")\n"
     ]
    },
    {
     "name": "stdout",
     "output_type": "stream",
     "text": [
      "Evaluation for dataset well_answering only ones\n",
      "Test model loss=0.6334961261429947\n",
      "Balanced_accuracy: 0.76357733175915\n",
      "Precision: 1.0\n",
      "Recall: 0.76357733175915\n",
      "F1: 0.8659414225941422\n",
      "Impossible to define ROC_AUC - only one class presents!\n",
      "Number of ones in predictions: 2587\n",
      "Number of predictions: 3388\n",
      "\n",
      "Building Twitter Dataset...\n"
     ]
    },
    {
     "name": "stderr",
     "output_type": "stream",
     "text": [
      "Testing: 100%|██████████| 1000/1000 [00:18<00:00, 54.71it/s]\n",
      "c:\\ProgramData\\Anaconda3\\envs\\modern_nlp\\lib\\site-packages\\sklearn\\metrics\\_classification.py:1987: UserWarning: y_pred contains classes not in y_true\n",
      "  warnings.warn(\"y_pred contains classes not in y_true\")\n",
      "c:\\ProgramData\\Anaconda3\\envs\\modern_nlp\\lib\\site-packages\\sklearn\\metrics\\_classification.py:1318: UndefinedMetricWarning: Recall is ill-defined and being set to 0.0 due to no true samples. Use `zero_division` parameter to control this behavior.\n",
      "  _warn_prf(average, modifier, msg_start, len(result))\n"
     ]
    },
    {
     "name": "stdout",
     "output_type": "stream",
     "text": [
      "Evaluation for dataset well_answering only zeros\n",
      "Test model loss=0.01765322955348529\n",
      "Balanced_accuracy: 0.9939\n",
      "Precision: 0.0\n",
      "Recall: 0.0\n",
      "F1: 0.0\n",
      "Impossible to define ROC_AUC - only one class presents!\n",
      "Number of ones in predictions: 61\n",
      "Number of predictions: 10000\n",
      "\n",
      "Building Twitter Dataset...\n"
     ]
    },
    {
     "name": "stderr",
     "output_type": "stream",
     "text": [
      "Testing: 100%|██████████| 1000/1000 [00:19<00:00, 50.06it/s]\n"
     ]
    },
    {
     "name": "stdout",
     "output_type": "stream",
     "text": [
      "Evaluation for dataset low_answering\n",
      "Test model loss=1.4938871094934585\n",
      "Balanced_accuracy: 0.6464552600972633\n",
      "Precision: 0.03260869565217391\n",
      "Recall: 0.6464088397790055\n",
      "F1: 0.0620854338020695\n",
      "Roc_auc: 0.6464552600972632\n",
      "Number of ones in predictions: 3588\n",
      "Number of predictions: 10000\n",
      "\n",
      "Building Twitter Dataset...\n"
     ]
    },
    {
     "name": "stderr",
     "output_type": "stream",
     "text": [
      "Testing: 100%|██████████| 122/122 [00:02<00:00, 51.26it/s]\n",
      "c:\\ProgramData\\Anaconda3\\envs\\modern_nlp\\lib\\site-packages\\sklearn\\metrics\\_classification.py:1987: UserWarning: y_pred contains classes not in y_true\n",
      "  warnings.warn(\"y_pred contains classes not in y_true\")\n"
     ]
    },
    {
     "name": "stdout",
     "output_type": "stream",
     "text": [
      "Evaluation for dataset low_answering only ones\n",
      "Test model loss=1.1333505284804635\n",
      "Balanced_accuracy: 0.6368852459016393\n",
      "Precision: 1.0\n",
      "Recall: 0.6368852459016393\n",
      "F1: 0.7781672508763144\n",
      "Impossible to define ROC_AUC - only one class presents!\n",
      "Number of ones in predictions: 777\n",
      "Number of predictions: 1220\n",
      "\n",
      "Building Twitter Dataset...\n"
     ]
    },
    {
     "name": "stderr",
     "output_type": "stream",
     "text": [
      "Testing: 100%|██████████| 1000/1000 [00:18<00:00, 53.05it/s]\n",
      "c:\\ProgramData\\Anaconda3\\envs\\modern_nlp\\lib\\site-packages\\sklearn\\metrics\\_classification.py:1987: UserWarning: y_pred contains classes not in y_true\n",
      "  warnings.warn(\"y_pred contains classes not in y_true\")\n",
      "c:\\ProgramData\\Anaconda3\\envs\\modern_nlp\\lib\\site-packages\\sklearn\\metrics\\_classification.py:1318: UndefinedMetricWarning: Recall is ill-defined and being set to 0.0 due to no true samples. Use `zero_division` parameter to control this behavior.\n",
      "  _warn_prf(average, modifier, msg_start, len(result))\n",
      "c:\\ProgramData\\Anaconda3\\envs\\modern_nlp\\lib\\site-packages\\ipykernel_launcher.py:37: UserWarning: FixedFormatter should only be used together with FixedLocator\n"
     ]
    },
    {
     "name": "stdout",
     "output_type": "stream",
     "text": [
      "Evaluation for dataset low_answering only zeros\n",
      "Test model loss=0.06880675866590172\n",
      "Balanced_accuracy: 0.9783\n",
      "Precision: 0.0\n",
      "Recall: 0.0\n",
      "F1: 0.0\n",
      "Impossible to define ROC_AUC - only one class presents!\n",
      "Number of ones in predictions: 217\n",
      "Number of predictions: 10000\n",
      "\n"
     ]
    },
    {
     "data": {
      "image/png": "[encoded data removed]",
      "text/plain": [
       "<Figure size 640x480 with 1 Axes>"
      ]
     },
     "metadata": {},
     "output_type": "display_data"
    }
   ],
   "source": [
    "a=evaluate_all_datasets(trainer.model)"
   ]
  },
  {
   "attachments": {},
   "cell_type": "markdown",
   "metadata": {},
   "source": [
    "### Banks"
   ]
  },
  {
   "cell_type": "code",
   "execution_count": 161,
   "metadata": {},
   "outputs": [],
   "source": [
    "name=\"banks\""
   ]
  },
  {
   "cell_type": "code",
   "execution_count": 162,
   "metadata": {},
   "outputs": [
    {
     "name": "stderr",
     "output_type": "stream",
     "text": [
      "Some weights of the model checkpoint at distilbert-base-uncased were not used when initializing DistilBertForSequenceClassification: ['vocab_projector.weight', 'vocab_layer_norm.bias', 'vocab_projector.bias', 'vocab_layer_norm.weight', 'vocab_transform.weight', 'vocab_transform.bias']\n",
      "- This IS expected if you are initializing DistilBertForSequenceClassification from the checkpoint of a model trained on another task or with another architecture (e.g. initializing a BertForSequenceClassification model from a BertForPreTraining model).\n",
      "- This IS NOT expected if you are initializing DistilBertForSequenceClassification from the checkpoint of a model that you expect to be exactly identical (initializing a BertForSequenceClassification model from a BertForSequenceClassification model).\n",
      "Some weights of DistilBertForSequenceClassification were not initialized from the model checkpoint at distilbert-base-uncased and are newly initialized: ['pre_classifier.bias', 'pre_classifier.weight', 'classifier.weight', 'classifier.bias']\n",
      "You should probably TRAIN this model on a down-stream task to be able to use it for predictions and inference.\n"
     ]
    },
    {
     "name": "stdout",
     "output_type": "stream",
     "text": [
      "Building Twitter Dataset...\n",
      "Building Twitter Dataset...\n"
     ]
    }
   ],
   "source": [
    "trainer=training(name,10)"
   ]
  },
  {
   "cell_type": "code",
   "execution_count": 163,
   "metadata": {},
   "outputs": [
    {
     "name": "stderr",
     "output_type": "stream",
     "text": [
      "c:\\ProgramData\\Anaconda3\\envs\\modern_nlp\\lib\\site-packages\\transformers\\optimization.py:395: FutureWarning: This implementation of AdamW is deprecated and will be removed in a future version. Use the PyTorch implementation torch.optim.AdamW instead, or set `no_deprecation_warning=True` to disable this warning\n",
      "  FutureWarning,\n"
     ]
    },
    {
     "data": {
      "application/vnd.jupyter.widget-view+json": {
       "model_id": "4f8f5c330d774e9c9e13fd39dc5c5635",
       "version_major": 2,
       "version_minor": 0
      },
      "text/plain": [
       "  0%|          | 0/11540 [00:00<?, ?it/s]"
      ]
     },
     "metadata": {},
     "output_type": "display_data"
    },
    {
     "name": "stderr",
     "output_type": "stream",
     "text": [
      "You're using a DistilBertTokenizerFast tokenizer. Please note that with a fast tokenizer, using the `__call__` method is faster than using a method to encode the text followed by a call to the `pad` method to get a padded encoding.\n"
     ]
    },
    {
     "name": "stdout",
     "output_type": "stream",
     "text": [
      "{'loss': 0.6705, 'learning_rate': 4.956672443674177e-06, 'epoch': 0.09}\n",
      "{'loss': 0.5518, 'learning_rate': 4.913344887348354e-06, 'epoch': 0.17}\n",
      "{'loss': 0.5156, 'learning_rate': 4.8700173310225305e-06, 'epoch': 0.26}\n",
      "{'loss': 0.5011, 'learning_rate': 4.826689774696707e-06, 'epoch': 0.35}\n",
      "{'loss': 0.4826, 'learning_rate': 4.783362218370884e-06, 'epoch': 0.43}\n",
      "{'loss': 0.5119, 'learning_rate': 4.740034662045061e-06, 'epoch': 0.52}\n",
      "{'loss': 0.4956, 'learning_rate': 4.696707105719238e-06, 'epoch': 0.61}\n",
      "{'loss': 0.4567, 'learning_rate': 4.653379549393415e-06, 'epoch': 0.69}\n",
      "{'loss': 0.4861, 'learning_rate': 4.6100519930675915e-06, 'epoch': 0.78}\n",
      "{'loss': 0.455, 'learning_rate': 4.566724436741768e-06, 'epoch': 0.87}\n",
      "{'loss': 0.4775, 'learning_rate': 4.523396880415945e-06, 'epoch': 0.95}\n"
     ]
    },
    {
     "data": {
      "application/vnd.jupyter.widget-view+json": {
       "model_id": "951210d29a614986a684b08435c1b6fc",
       "version_major": 2,
       "version_minor": 0
      },
      "text/plain": [
       "  0%|          | 0/217 [00:00<?, ?it/s]"
      ]
     },
     "metadata": {},
     "output_type": "display_data"
    },
    {
     "name": "stdout",
     "output_type": "stream",
     "text": [
      "{'eval_loss': 0.3926566243171692, 'eval_balanced_accuracy': 0.8, 'eval_precision': 0.7, 'eval_recall': 0.67, 'eval_f1': 0.68, 'eval_runtime': 3.5059, 'eval_samples_per_second': 493.734, 'eval_steps_per_second': 61.895, 'epoch': 1.0}\n",
      "{'loss': 0.4767, 'learning_rate': 4.4800693240901216e-06, 'epoch': 1.04}\n",
      "{'loss': 0.447, 'learning_rate': 4.436741767764298e-06, 'epoch': 1.13}\n",
      "{'loss': 0.4254, 'learning_rate': 4.393414211438475e-06, 'epoch': 1.21}\n",
      "{'loss': 0.4724, 'learning_rate': 4.350086655112652e-06, 'epoch': 1.3}\n",
      "{'loss': 0.4396, 'learning_rate': 4.306759098786829e-06, 'epoch': 1.39}\n",
      "{'loss': 0.4935, 'learning_rate': 4.263431542461005e-06, 'epoch': 1.47}\n",
      "{'loss': 0.407, 'learning_rate': 4.2201039861351825e-06, 'epoch': 1.56}\n",
      "{'loss': 0.4728, 'learning_rate': 4.176776429809359e-06, 'epoch': 1.65}\n",
      "{'loss': 0.4141, 'learning_rate': 4.133448873483536e-06, 'epoch': 1.73}\n",
      "{'loss': 0.4603, 'learning_rate': 4.090121317157713e-06, 'epoch': 1.82}\n",
      "{'loss': 0.5181, 'learning_rate': 4.04679376083189e-06, 'epoch': 1.91}\n",
      "{'loss': 0.446, 'learning_rate': 4.003466204506066e-06, 'epoch': 1.99}\n"
     ]
    },
    {
     "data": {
      "application/vnd.jupyter.widget-view+json": {
       "model_id": "647fd860caf44089846274b3585ede9a",
       "version_major": 2,
       "version_minor": 0
      },
      "text/plain": [
       "  0%|          | 0/217 [00:00<?, ?it/s]"
      ]
     },
     "metadata": {},
     "output_type": "display_data"
    },
    {
     "name": "stdout",
     "output_type": "stream",
     "text": [
      "{'eval_loss': 0.5562893152236938, 'eval_balanced_accuracy': 0.78, 'eval_precision': 0.76, 'eval_recall': 0.59, 'eval_f1': 0.67, 'eval_runtime': 3.3873, 'eval_samples_per_second': 511.029, 'eval_steps_per_second': 64.063, 'epoch': 2.0}\n",
      "{'loss': 0.4318, 'learning_rate': 3.960138648180243e-06, 'epoch': 2.08}\n",
      "{'loss': 0.4255, 'learning_rate': 3.91681109185442e-06, 'epoch': 2.17}\n",
      "{'loss': 0.492, 'learning_rate': 3.873483535528596e-06, 'epoch': 2.25}\n",
      "{'loss': 0.4603, 'learning_rate': 3.830155979202773e-06, 'epoch': 2.34}\n",
      "{'loss': 0.4441, 'learning_rate': 3.7868284228769504e-06, 'epoch': 2.43}\n",
      "{'loss': 0.4469, 'learning_rate': 3.743500866551127e-06, 'epoch': 2.51}\n",
      "{'loss': 0.3728, 'learning_rate': 3.7001733102253033e-06, 'epoch': 2.6}\n",
      "{'loss': 0.3645, 'learning_rate': 3.6568457538994805e-06, 'epoch': 2.69}\n",
      "{'loss': 0.5164, 'learning_rate': 3.6135181975736573e-06, 'epoch': 2.77}\n",
      "{'loss': 0.4764, 'learning_rate': 3.5701906412478338e-06, 'epoch': 2.86}\n",
      "{'loss': 0.4343, 'learning_rate': 3.526863084922011e-06, 'epoch': 2.95}\n"
     ]
    },
    {
     "data": {
      "application/vnd.jupyter.widget-view+json": {
       "model_id": "e80bcb26dacc4f3daab24b8c8b42c6bd",
       "version_major": 2,
       "version_minor": 0
      },
      "text/plain": [
       "  0%|          | 0/217 [00:00<?, ?it/s]"
      ]
     },
     "metadata": {},
     "output_type": "display_data"
    },
    {
     "name": "stdout",
     "output_type": "stream",
     "text": [
      "{'eval_loss': 0.38256996870040894, 'eval_balanced_accuracy': 0.85, 'eval_precision': 0.76, 'eval_recall': 0.75, 'eval_f1': 0.76, 'eval_runtime': 3.3877, 'eval_samples_per_second': 510.971, 'eval_steps_per_second': 64.056, 'epoch': 3.0}\n",
      "{'loss': 0.4764, 'learning_rate': 3.4835355285961874e-06, 'epoch': 3.03}\n",
      "{'loss': 0.3732, 'learning_rate': 3.4402079722703643e-06, 'epoch': 3.12}\n",
      "{'loss': 0.3641, 'learning_rate': 3.396880415944541e-06, 'epoch': 3.21}\n",
      "{'loss': 0.3468, 'learning_rate': 3.353552859618718e-06, 'epoch': 3.29}\n",
      "{'loss': 0.4871, 'learning_rate': 3.3102253032928943e-06, 'epoch': 3.38}\n",
      "{'loss': 0.3753, 'learning_rate': 3.2668977469670716e-06, 'epoch': 3.47}\n",
      "{'loss': 0.3995, 'learning_rate': 3.223570190641248e-06, 'epoch': 3.55}\n",
      "{'loss': 0.4107, 'learning_rate': 3.180242634315425e-06, 'epoch': 3.64}\n",
      "{'loss': 0.38, 'learning_rate': 3.1369150779896017e-06, 'epoch': 3.73}\n",
      "{'loss': 0.3557, 'learning_rate': 3.0935875216637785e-06, 'epoch': 3.81}\n",
      "{'loss': 0.4755, 'learning_rate': 3.050259965337955e-06, 'epoch': 3.9}\n",
      "{'loss': 0.4527, 'learning_rate': 3.006932409012132e-06, 'epoch': 3.99}\n"
     ]
    },
    {
     "data": {
      "application/vnd.jupyter.widget-view+json": {
       "model_id": "d54b2da8428f47c4b89a87312dbd707e",
       "version_major": 2,
       "version_minor": 0
      },
      "text/plain": [
       "  0%|          | 0/217 [00:00<?, ?it/s]"
      ]
     },
     "metadata": {},
     "output_type": "display_data"
    },
    {
     "name": "stdout",
     "output_type": "stream",
     "text": [
      "{'eval_loss': 0.27875110507011414, 'eval_balanced_accuracy': 0.9, 'eval_precision': 0.78, 'eval_recall': 0.85, 'eval_f1': 0.81, 'eval_runtime': 3.3739, 'eval_samples_per_second': 513.06, 'eval_steps_per_second': 64.318, 'epoch': 4.0}\n",
      "{'loss': 0.3538, 'learning_rate': 2.9636048526863086e-06, 'epoch': 4.07}\n",
      "{'loss': 0.3153, 'learning_rate': 2.9202772963604854e-06, 'epoch': 4.16}\n",
      "{'loss': 0.407, 'learning_rate': 2.8769497400346622e-06, 'epoch': 4.25}\n",
      "{'loss': 0.3382, 'learning_rate': 2.833622183708839e-06, 'epoch': 4.33}\n",
      "{'loss': 0.4077, 'learning_rate': 2.7902946273830155e-06, 'epoch': 4.42}\n",
      "{'loss': 0.458, 'learning_rate': 2.7469670710571927e-06, 'epoch': 4.51}\n",
      "{'loss': 0.3515, 'learning_rate': 2.703639514731369e-06, 'epoch': 4.59}\n",
      "{'loss': 0.4501, 'learning_rate': 2.660311958405546e-06, 'epoch': 4.68}\n",
      "{'loss': 0.331, 'learning_rate': 2.6169844020797232e-06, 'epoch': 4.77}\n",
      "{'loss': 0.383, 'learning_rate': 2.5736568457538996e-06, 'epoch': 4.85}\n",
      "{'loss': 0.3404, 'learning_rate': 2.530329289428076e-06, 'epoch': 4.94}\n"
     ]
    },
    {
     "data": {
      "application/vnd.jupyter.widget-view+json": {
       "model_id": "f14d02deb95740f5a1bd2c6fa68b87a5",
       "version_major": 2,
       "version_minor": 0
      },
      "text/plain": [
       "  0%|          | 0/217 [00:00<?, ?it/s]"
      ]
     },
     "metadata": {},
     "output_type": "display_data"
    },
    {
     "name": "stdout",
     "output_type": "stream",
     "text": [
      "{'eval_loss': 0.23944883048534393, 'eval_balanced_accuracy': 0.92, 'eval_precision': 0.77, 'eval_recall': 0.9, 'eval_f1': 0.83, 'eval_runtime': 3.3765, 'eval_samples_per_second': 512.655, 'eval_steps_per_second': 64.267, 'epoch': 5.0}\n",
      "{'loss': 0.3418, 'learning_rate': 2.4870017331022533e-06, 'epoch': 5.03}\n",
      "{'loss': 0.3958, 'learning_rate': 2.44367417677643e-06, 'epoch': 5.11}\n",
      "{'loss': 0.3085, 'learning_rate': 2.400346620450607e-06, 'epoch': 5.2}\n",
      "{'loss': 0.3144, 'learning_rate': 2.357019064124784e-06, 'epoch': 5.29}\n",
      "{'loss': 0.3334, 'learning_rate': 2.31369150779896e-06, 'epoch': 5.37}\n",
      "{'loss': 0.3459, 'learning_rate': 2.270363951473137e-06, 'epoch': 5.46}\n",
      "{'loss': 0.3648, 'learning_rate': 2.227036395147314e-06, 'epoch': 5.55}\n",
      "{'loss': 0.3259, 'learning_rate': 2.1837088388214907e-06, 'epoch': 5.63}\n",
      "{'loss': 0.3378, 'learning_rate': 2.1403812824956675e-06, 'epoch': 5.72}\n",
      "{'loss': 0.2996, 'learning_rate': 2.0970537261698444e-06, 'epoch': 5.81}\n",
      "{'loss': 0.3049, 'learning_rate': 2.0537261698440208e-06, 'epoch': 5.89}\n",
      "{'loss': 0.3462, 'learning_rate': 2.0103986135181976e-06, 'epoch': 5.98}\n"
     ]
    },
    {
     "data": {
      "application/vnd.jupyter.widget-view+json": {
       "model_id": "09bf47cf9fdf4d12811a58c9af49f259",
       "version_major": 2,
       "version_minor": 0
      },
      "text/plain": [
       "  0%|          | 0/217 [00:00<?, ?it/s]"
      ]
     },
     "metadata": {},
     "output_type": "display_data"
    },
    {
     "name": "stdout",
     "output_type": "stream",
     "text": [
      "{'eval_loss': 0.24646863341331482, 'eval_balanced_accuracy': 0.93, 'eval_precision': 0.82, 'eval_recall': 0.89, 'eval_f1': 0.85, 'eval_runtime': 3.4037, 'eval_samples_per_second': 508.561, 'eval_steps_per_second': 63.754, 'epoch': 6.0}\n",
      "{'loss': 0.3288, 'learning_rate': 1.9670710571923744e-06, 'epoch': 6.07}\n",
      "{'loss': 0.318, 'learning_rate': 1.9237435008665513e-06, 'epoch': 6.15}\n",
      "{'loss': 0.3027, 'learning_rate': 1.880415944540728e-06, 'epoch': 6.24}\n",
      "{'loss': 0.2974, 'learning_rate': 1.837088388214905e-06, 'epoch': 6.33}\n",
      "{'loss': 0.3908, 'learning_rate': 1.7937608318890818e-06, 'epoch': 6.41}\n",
      "{'loss': 0.2791, 'learning_rate': 1.7504332755632584e-06, 'epoch': 6.5}\n",
      "{'loss': 0.3154, 'learning_rate': 1.7071057192374352e-06, 'epoch': 6.59}\n",
      "{'loss': 0.3221, 'learning_rate': 1.663778162911612e-06, 'epoch': 6.67}\n",
      "{'loss': 0.303, 'learning_rate': 1.6204506065857887e-06, 'epoch': 6.76}\n",
      "{'loss': 0.3225, 'learning_rate': 1.5771230502599655e-06, 'epoch': 6.85}\n",
      "{'loss': 0.384, 'learning_rate': 1.5337954939341423e-06, 'epoch': 6.93}\n"
     ]
    },
    {
     "data": {
      "application/vnd.jupyter.widget-view+json": {
       "model_id": "c897ae9383904d92975a9cf6c884a907",
       "version_major": 2,
       "version_minor": 0
      },
      "text/plain": [
       "  0%|          | 0/217 [00:00<?, ?it/s]"
      ]
     },
     "metadata": {},
     "output_type": "display_data"
    },
    {
     "name": "stdout",
     "output_type": "stream",
     "text": [
      "{'eval_loss': 0.2058088779449463, 'eval_balanced_accuracy': 0.94, 'eval_precision': 0.83, 'eval_recall': 0.92, 'eval_f1': 0.87, 'eval_runtime': 3.3937, 'eval_samples_per_second': 510.063, 'eval_steps_per_second': 63.942, 'epoch': 7.0}\n",
      "{'loss': 0.2881, 'learning_rate': 1.490467937608319e-06, 'epoch': 7.02}\n",
      "{'loss': 0.3315, 'learning_rate': 1.4471403812824958e-06, 'epoch': 7.11}\n",
      "{'loss': 0.3075, 'learning_rate': 1.4038128249566726e-06, 'epoch': 7.19}\n",
      "{'loss': 0.2881, 'learning_rate': 1.3604852686308492e-06, 'epoch': 7.28}\n",
      "{'loss': 0.2994, 'learning_rate': 1.317157712305026e-06, 'epoch': 7.37}\n",
      "{'loss': 0.2543, 'learning_rate': 1.273830155979203e-06, 'epoch': 7.45}\n",
      "{'loss': 0.3233, 'learning_rate': 1.2305025996533797e-06, 'epoch': 7.54}\n",
      "{'loss': 0.2561, 'learning_rate': 1.1871750433275564e-06, 'epoch': 7.63}\n",
      "{'loss': 0.3643, 'learning_rate': 1.1438474870017332e-06, 'epoch': 7.71}\n",
      "{'loss': 0.2946, 'learning_rate': 1.10051993067591e-06, 'epoch': 7.8}\n",
      "{'loss': 0.3044, 'learning_rate': 1.0571923743500866e-06, 'epoch': 7.89}\n",
      "{'loss': 0.2709, 'learning_rate': 1.0138648180242635e-06, 'epoch': 7.97}\n"
     ]
    },
    {
     "data": {
      "application/vnd.jupyter.widget-view+json": {
       "model_id": "1753fa5b1e7c47cc95b0996930ff1714",
       "version_major": 2,
       "version_minor": 0
      },
      "text/plain": [
       "  0%|          | 0/217 [00:00<?, ?it/s]"
      ]
     },
     "metadata": {},
     "output_type": "display_data"
    },
    {
     "name": "stdout",
     "output_type": "stream",
     "text": [
      "{'eval_loss': 0.206107035279274, 'eval_balanced_accuracy': 0.94, 'eval_precision': 0.85, 'eval_recall': 0.91, 'eval_f1': 0.88, 'eval_runtime': 3.3992, 'eval_samples_per_second': 509.243, 'eval_steps_per_second': 63.839, 'epoch': 8.0}\n",
      "{'loss': 0.25, 'learning_rate': 9.705372616984403e-07, 'epoch': 8.06}\n",
      "{'loss': 0.246, 'learning_rate': 9.27209705372617e-07, 'epoch': 8.15}\n",
      "{'loss': 0.3832, 'learning_rate': 8.838821490467939e-07, 'epoch': 8.23}\n",
      "{'loss': 0.2566, 'learning_rate': 8.405545927209706e-07, 'epoch': 8.32}\n",
      "{'loss': 0.2373, 'learning_rate': 7.972270363951473e-07, 'epoch': 8.41}\n",
      "{'loss': 0.2035, 'learning_rate': 7.538994800693242e-07, 'epoch': 8.49}\n",
      "{'loss': 0.226, 'learning_rate': 7.105719237435009e-07, 'epoch': 8.58}\n",
      "{'loss': 0.2569, 'learning_rate': 6.672443674176777e-07, 'epoch': 8.67}\n",
      "{'loss': 0.3085, 'learning_rate': 6.239168110918544e-07, 'epoch': 8.75}\n",
      "{'loss': 0.2787, 'learning_rate': 5.805892547660313e-07, 'epoch': 8.84}\n",
      "{'loss': 0.2693, 'learning_rate': 5.37261698440208e-07, 'epoch': 8.93}\n"
     ]
    },
    {
     "data": {
      "application/vnd.jupyter.widget-view+json": {
       "model_id": "2547c6ab8ca54bc892f4f24349439fb1",
       "version_major": 2,
       "version_minor": 0
      },
      "text/plain": [
       "  0%|          | 0/217 [00:00<?, ?it/s]"
      ]
     },
     "metadata": {},
     "output_type": "display_data"
    },
    {
     "name": "stdout",
     "output_type": "stream",
     "text": [
      "{'eval_loss': 0.19017842411994934, 'eval_balanced_accuracy': 0.95, 'eval_precision': 0.86, 'eval_recall': 0.92, 'eval_f1': 0.89, 'eval_runtime': 3.3957, 'eval_samples_per_second': 509.766, 'eval_steps_per_second': 63.905, 'epoch': 9.0}\n",
      "{'loss': 0.2363, 'learning_rate': 4.939341421143848e-07, 'epoch': 9.01}\n",
      "{'loss': 0.2548, 'learning_rate': 4.5060658578856156e-07, 'epoch': 9.1}\n",
      "{'loss': 0.2335, 'learning_rate': 4.072790294627384e-07, 'epoch': 9.19}\n",
      "{'loss': 0.2563, 'learning_rate': 3.6395147313691506e-07, 'epoch': 9.27}\n",
      "{'loss': 0.3186, 'learning_rate': 3.206239168110919e-07, 'epoch': 9.36}\n",
      "{'loss': 0.253, 'learning_rate': 2.772963604852686e-07, 'epoch': 9.45}\n",
      "{'loss': 0.219, 'learning_rate': 2.3396880415944543e-07, 'epoch': 9.53}\n",
      "{'loss': 0.3037, 'learning_rate': 1.9064124783362218e-07, 'epoch': 9.62}\n",
      "{'loss': 0.276, 'learning_rate': 1.47313691507799e-07, 'epoch': 9.71}\n",
      "{'loss': 0.273, 'learning_rate': 1.0398613518197575e-07, 'epoch': 9.79}\n",
      "{'loss': 0.2516, 'learning_rate': 6.065857885615252e-08, 'epoch': 9.88}\n",
      "{'loss': 0.2195, 'learning_rate': 1.733102253032929e-08, 'epoch': 9.97}\n"
     ]
    },
    {
     "data": {
      "application/vnd.jupyter.widget-view+json": {
       "model_id": "f197aa9696124f15b95901acdc35bbbd",
       "version_major": 2,
       "version_minor": 0
      },
      "text/plain": [
       "  0%|          | 0/217 [00:00<?, ?it/s]"
      ]
     },
     "metadata": {},
     "output_type": "display_data"
    },
    {
     "name": "stdout",
     "output_type": "stream",
     "text": [
      "{'eval_loss': 0.17837612330913544, 'eval_balanced_accuracy': 0.95, 'eval_precision': 0.86, 'eval_recall': 0.94, 'eval_f1': 0.89, 'eval_runtime': 3.456, 'eval_samples_per_second': 500.868, 'eval_steps_per_second': 62.789, 'epoch': 10.0}\n",
      "{'train_runtime': 804.6349, 'train_samples_per_second': 114.735, 'train_steps_per_second': 14.342, 'train_loss': 0.36638809878450124, 'epoch': 10.0}\n"
     ]
    },
    {
     "data": {
      "text/plain": [
       "TrainOutput(global_step=11540, training_loss=0.36638809878450124, metrics={'train_runtime': 804.6349, 'train_samples_per_second': 114.735, 'train_steps_per_second': 14.342, 'train_loss': 0.36638809878450124, 'epoch': 10.0})"
      ]
     },
     "execution_count": 163,
     "metadata": {},
     "output_type": "execute_result"
    }
   ],
   "source": [
    "trainer.train()"
   ]
  },
  {
   "cell_type": "code",
   "execution_count": 164,
   "metadata": {},
   "outputs": [
    {
     "data": {
      "image/png": "[encoded data removed]",
      "text/plain": [
       "<Figure size 640x480 with 1 Axes>"
      ]
     },
     "metadata": {},
     "output_type": "display_data"
    }
   ],
   "source": [
    "plot_save_results(trainer,name)"
   ]
  },
  {
   "cell_type": "code",
   "execution_count": 165,
   "metadata": {},
   "outputs": [
    {
     "name": "stdout",
     "output_type": "stream",
     "text": [
      "Building Twitter Dataset...\n"
     ]
    },
    {
     "name": "stderr",
     "output_type": "stream",
     "text": [
      "Testing: 100%|██████████| 58/58 [00:01<00:00, 47.15it/s]\n"
     ]
    },
    {
     "name": "stdout",
     "output_type": "stream",
     "text": [
      "Evaluation for dataset well_answering\n",
      "Test model loss=0.06959537407513788\n",
      "Balanced_accuracy: 0.9474021551896807\n",
      "Precision: 0.875\n",
      "Recall: 0.9245283018867925\n",
      "F1: 0.8990825688073395\n",
      "Roc_auc: 0.9474021551896807\n",
      "Number of ones in predictions: 112\n",
      "Number of predictions: 577\n",
      "\n",
      "Building Twitter Dataset...\n"
     ]
    },
    {
     "name": "stderr",
     "output_type": "stream",
     "text": [
      "Testing: 100%|██████████| 211/211 [00:03<00:00, 53.10it/s]\n",
      "c:\\ProgramData\\Anaconda3\\envs\\modern_nlp\\lib\\site-packages\\sklearn\\metrics\\_classification.py:1987: UserWarning: y_pred contains classes not in y_true\n",
      "  warnings.warn(\"y_pred contains classes not in y_true\")\n"
     ]
    },
    {
     "name": "stdout",
     "output_type": "stream",
     "text": [
      "Evaluation for dataset well_answering only ones\n",
      "Test model loss=0.2957417168422774\n",
      "Balanced_accuracy: 0.8606752258678079\n",
      "Precision: 1.0\n",
      "Recall: 0.8606752258678079\n",
      "F1: 0.9251213902376693\n",
      "Impossible to define ROC_AUC - only one class presents!\n",
      "Number of ones in predictions: 1810\n",
      "Number of predictions: 2103\n",
      "\n",
      "Building Twitter Dataset...\n"
     ]
    },
    {
     "name": "stderr",
     "output_type": "stream",
     "text": [
      "Testing: 100%|██████████| 944/944 [00:17<00:00, 53.73it/s]\n",
      "c:\\ProgramData\\Anaconda3\\envs\\modern_nlp\\lib\\site-packages\\sklearn\\metrics\\_classification.py:1987: UserWarning: y_pred contains classes not in y_true\n",
      "  warnings.warn(\"y_pred contains classes not in y_true\")\n",
      "c:\\ProgramData\\Anaconda3\\envs\\modern_nlp\\lib\\site-packages\\sklearn\\metrics\\_classification.py:1318: UndefinedMetricWarning: Recall is ill-defined and being set to 0.0 due to no true samples. Use `zero_division` parameter to control this behavior.\n",
      "  _warn_prf(average, modifier, msg_start, len(result))\n"
     ]
    },
    {
     "name": "stdout",
     "output_type": "stream",
     "text": [
      "Evaluation for dataset well_answering only zeros\n",
      "Test model loss=0.07373737706291002\n",
      "Balanced_accuracy: 0.9569778531312917\n",
      "Precision: 0.0\n",
      "Recall: 0.0\n",
      "F1: 0.0\n",
      "Impossible to define ROC_AUC - only one class presents!\n",
      "Number of ones in predictions: 406\n",
      "Number of predictions: 9437\n",
      "\n",
      "Building Twitter Dataset...\n"
     ]
    },
    {
     "name": "stderr",
     "output_type": "stream",
     "text": [
      "Testing: 100%|██████████| 1000/1000 [00:19<00:00, 50.81it/s]\n"
     ]
    },
    {
     "name": "stdout",
     "output_type": "stream",
     "text": [
      "Evaluation for dataset low_answering\n",
      "Test model loss=0.3987127682826249\n",
      "Balanced_accuracy: 0.6281857813547954\n",
      "Precision: 0.012691466083150985\n",
      "Recall: 0.48333333333333334\n",
      "F1: 0.024733475479744138\n",
      "Roc_auc: 0.6281857813547954\n",
      "Number of ones in predictions: 2285\n",
      "Number of predictions: 10000\n",
      "\n",
      "Building Twitter Dataset...\n"
     ]
    },
    {
     "name": "stderr",
     "output_type": "stream",
     "text": [
      "Testing: 100%|██████████| 7/7 [00:00<00:00, 83.33it/s]\n",
      "c:\\ProgramData\\Anaconda3\\envs\\modern_nlp\\lib\\site-packages\\sklearn\\metrics\\_classification.py:1987: UserWarning: y_pred contains classes not in y_true\n",
      "  warnings.warn(\"y_pred contains classes not in y_true\")\n"
     ]
    },
    {
     "name": "stdout",
     "output_type": "stream",
     "text": [
      "Evaluation for dataset low_answering only ones\n",
      "Test model loss=1.213645100593567\n",
      "Balanced_accuracy: 0.4918032786885246\n",
      "Precision: 1.0\n",
      "Recall: 0.4918032786885246\n",
      "F1: 0.6593406593406593\n",
      "Impossible to define ROC_AUC - only one class presents!\n",
      "Number of ones in predictions: 30\n",
      "Number of predictions: 61\n",
      "\n",
      "Building Twitter Dataset...\n"
     ]
    },
    {
     "name": "stderr",
     "output_type": "stream",
     "text": [
      "Testing: 100%|██████████| 1000/1000 [00:18<00:00, 53.14it/s]\n",
      "c:\\ProgramData\\Anaconda3\\envs\\modern_nlp\\lib\\site-packages\\sklearn\\metrics\\_classification.py:1987: UserWarning: y_pred contains classes not in y_true\n",
      "  warnings.warn(\"y_pred contains classes not in y_true\")\n",
      "c:\\ProgramData\\Anaconda3\\envs\\modern_nlp\\lib\\site-packages\\sklearn\\metrics\\_classification.py:1318: UndefinedMetricWarning: Recall is ill-defined and being set to 0.0 due to no true samples. Use `zero_division` parameter to control this behavior.\n",
      "  _warn_prf(average, modifier, msg_start, len(result))\n",
      "c:\\ProgramData\\Anaconda3\\envs\\modern_nlp\\lib\\site-packages\\ipykernel_launcher.py:37: UserWarning: FixedFormatter should only be used together with FixedLocator\n"
     ]
    },
    {
     "name": "stdout",
     "output_type": "stream",
     "text": [
      "Evaluation for dataset low_answering only zeros\n",
      "Test model loss=0.39389534514345\n",
      "Balanced_accuracy: 0.7738\n",
      "Precision: 0.0\n",
      "Recall: 0.0\n",
      "F1: 0.0\n",
      "Impossible to define ROC_AUC - only one class presents!\n",
      "Number of ones in predictions: 2262\n",
      "Number of predictions: 10000\n",
      "\n"
     ]
    },
    {
     "data": {
      "image/png": "[encoded data removed]",
      "text/plain": [
       "<Figure size 640x480 with 1 Axes>"
      ]
     },
     "metadata": {},
     "output_type": "display_data"
    }
   ],
   "source": [
    "a=evaluate_all_datasets(trainer.model)"
   ]
  },
  {
   "attachments": {},
   "cell_type": "markdown",
   "metadata": {},
   "source": [
    "### Airlines"
   ]
  },
  {
   "cell_type": "code",
   "execution_count": 166,
   "metadata": {},
   "outputs": [],
   "source": [
    "name=\"airlines\""
   ]
  },
  {
   "cell_type": "code",
   "execution_count": 167,
   "metadata": {},
   "outputs": [
    {
     "name": "stderr",
     "output_type": "stream",
     "text": [
      "Some weights of the model checkpoint at distilbert-base-uncased were not used when initializing DistilBertForSequenceClassification: ['vocab_projector.weight', 'vocab_layer_norm.bias', 'vocab_projector.bias', 'vocab_layer_norm.weight', 'vocab_transform.weight', 'vocab_transform.bias']\n",
      "- This IS expected if you are initializing DistilBertForSequenceClassification from the checkpoint of a model trained on another task or with another architecture (e.g. initializing a BertForSequenceClassification model from a BertForPreTraining model).\n",
      "- This IS NOT expected if you are initializing DistilBertForSequenceClassification from the checkpoint of a model that you expect to be exactly identical (initializing a BertForSequenceClassification model from a BertForSequenceClassification model).\n",
      "Some weights of DistilBertForSequenceClassification were not initialized from the model checkpoint at distilbert-base-uncased and are newly initialized: ['pre_classifier.bias', 'pre_classifier.weight', 'classifier.weight', 'classifier.bias']\n",
      "You should probably TRAIN this model on a down-stream task to be able to use it for predictions and inference.\n"
     ]
    },
    {
     "name": "stdout",
     "output_type": "stream",
     "text": [
      "Building Twitter Dataset...\n",
      "Building Twitter Dataset...\n"
     ]
    }
   ],
   "source": [
    "trainer=training(name,10)"
   ]
  },
  {
   "cell_type": "code",
   "execution_count": 168,
   "metadata": {},
   "outputs": [
    {
     "name": "stderr",
     "output_type": "stream",
     "text": [
      "c:\\ProgramData\\Anaconda3\\envs\\modern_nlp\\lib\\site-packages\\transformers\\optimization.py:395: FutureWarning: This implementation of AdamW is deprecated and will be removed in a future version. Use the PyTorch implementation torch.optim.AdamW instead, or set `no_deprecation_warning=True` to disable this warning\n",
      "  FutureWarning,\n"
     ]
    },
    {
     "data": {
      "application/vnd.jupyter.widget-view+json": {
       "model_id": "4c3c7b74223a427884bb6e5faed26591",
       "version_major": 2,
       "version_minor": 0
      },
      "text/plain": [
       "  0%|          | 0/9180 [00:00<?, ?it/s]"
      ]
     },
     "metadata": {},
     "output_type": "display_data"
    },
    {
     "name": "stderr",
     "output_type": "stream",
     "text": [
      "You're using a DistilBertTokenizerFast tokenizer. Please note that with a fast tokenizer, using the `__call__` method is faster than using a method to encode the text followed by a call to the `pad` method to get a padded encoding.\n"
     ]
    },
    {
     "name": "stdout",
     "output_type": "stream",
     "text": [
      "{'loss': 0.6878, 'learning_rate': 4.945533769063181e-06, 'epoch': 0.11}\n",
      "{'loss': 0.6687, 'learning_rate': 4.891067538126362e-06, 'epoch': 0.22}\n",
      "{'loss': 0.648, 'learning_rate': 4.836601307189543e-06, 'epoch': 0.33}\n",
      "{'loss': 0.6305, 'learning_rate': 4.782135076252723e-06, 'epoch': 0.44}\n",
      "{'loss': 0.6229, 'learning_rate': 4.727668845315904e-06, 'epoch': 0.54}\n",
      "{'loss': 0.616, 'learning_rate': 4.673202614379085e-06, 'epoch': 0.65}\n",
      "{'loss': 0.6062, 'learning_rate': 4.618736383442266e-06, 'epoch': 0.76}\n",
      "{'loss': 0.5986, 'learning_rate': 4.564270152505447e-06, 'epoch': 0.87}\n",
      "{'loss': 0.5948, 'learning_rate': 4.509803921568628e-06, 'epoch': 0.98}\n"
     ]
    },
    {
     "data": {
      "application/vnd.jupyter.widget-view+json": {
       "model_id": "9fe216c682ac44fba1147d076204c558",
       "version_major": 2,
       "version_minor": 0
      },
      "text/plain": [
       "  0%|          | 0/172 [00:00<?, ?it/s]"
      ]
     },
     "metadata": {},
     "output_type": "display_data"
    },
    {
     "name": "stdout",
     "output_type": "stream",
     "text": [
      "{'eval_loss': 0.5795722007751465, 'eval_balanced_accuracy': 0.7, 'eval_precision': 0.63, 'eval_recall': 0.65, 'eval_f1': 0.64, 'eval_runtime': 2.7541, 'eval_samples_per_second': 499.62, 'eval_steps_per_second': 62.453, 'epoch': 1.0}\n",
      "{'loss': 0.5808, 'learning_rate': 4.455337690631808e-06, 'epoch': 1.09}\n",
      "{'loss': 0.5799, 'learning_rate': 4.400871459694989e-06, 'epoch': 1.2}\n",
      "{'loss': 0.5678, 'learning_rate': 4.34640522875817e-06, 'epoch': 1.31}\n",
      "{'loss': 0.5705, 'learning_rate': 4.291938997821351e-06, 'epoch': 1.42}\n",
      "{'loss': 0.5689, 'learning_rate': 4.237472766884531e-06, 'epoch': 1.53}\n",
      "{'loss': 0.5577, 'learning_rate': 4.183006535947713e-06, 'epoch': 1.63}\n",
      "{'loss': 0.5701, 'learning_rate': 4.128540305010893e-06, 'epoch': 1.74}\n",
      "{'loss': 0.5652, 'learning_rate': 4.074074074074074e-06, 'epoch': 1.85}\n",
      "{'loss': 0.5911, 'learning_rate': 4.019607843137255e-06, 'epoch': 1.96}\n"
     ]
    },
    {
     "data": {
      "application/vnd.jupyter.widget-view+json": {
       "model_id": "abdb592cad8c45cba6d61948cf97fa3c",
       "version_major": 2,
       "version_minor": 0
      },
      "text/plain": [
       "  0%|          | 0/172 [00:00<?, ?it/s]"
      ]
     },
     "metadata": {},
     "output_type": "display_data"
    },
    {
     "name": "stdout",
     "output_type": "stream",
     "text": [
      "{'eval_loss': 0.5387794971466064, 'eval_balanced_accuracy': 0.73, 'eval_precision': 0.66, 'eval_recall': 0.71, 'eval_f1': 0.69, 'eval_runtime': 2.8427, 'eval_samples_per_second': 484.046, 'eval_steps_per_second': 60.506, 'epoch': 2.0}\n",
      "{'loss': 0.528, 'learning_rate': 3.965141612200436e-06, 'epoch': 2.07}\n",
      "{'loss': 0.5488, 'learning_rate': 3.910675381263617e-06, 'epoch': 2.18}\n",
      "{'loss': 0.5347, 'learning_rate': 3.856209150326798e-06, 'epoch': 2.29}\n",
      "{'loss': 0.5526, 'learning_rate': 3.8017429193899785e-06, 'epoch': 2.4}\n",
      "{'loss': 0.5192, 'learning_rate': 3.747276688453159e-06, 'epoch': 2.51}\n",
      "{'loss': 0.5315, 'learning_rate': 3.6928104575163404e-06, 'epoch': 2.61}\n",
      "{'loss': 0.5328, 'learning_rate': 3.638344226579521e-06, 'epoch': 2.72}\n",
      "{'loss': 0.5432, 'learning_rate': 3.5838779956427015e-06, 'epoch': 2.83}\n",
      "{'loss': 0.5391, 'learning_rate': 3.529411764705883e-06, 'epoch': 2.94}\n"
     ]
    },
    {
     "data": {
      "application/vnd.jupyter.widget-view+json": {
       "model_id": "a26466dbd27644118508635b0dc4a840",
       "version_major": 2,
       "version_minor": 0
      },
      "text/plain": [
       "  0%|          | 0/172 [00:00<?, ?it/s]"
      ]
     },
     "metadata": {},
     "output_type": "display_data"
    },
    {
     "name": "stdout",
     "output_type": "stream",
     "text": [
      "{'eval_loss': 0.5373644232749939, 'eval_balanced_accuracy': 0.74, 'eval_precision': 0.74, 'eval_recall': 0.63, 'eval_f1': 0.68, 'eval_runtime': 3.0196, 'eval_samples_per_second': 455.685, 'eval_steps_per_second': 56.961, 'epoch': 3.0}\n",
      "{'loss': 0.5125, 'learning_rate': 3.4749455337690634e-06, 'epoch': 3.05}\n",
      "{'loss': 0.5029, 'learning_rate': 3.420479302832244e-06, 'epoch': 3.16}\n",
      "{'loss': 0.5076, 'learning_rate': 3.3660130718954253e-06, 'epoch': 3.27}\n",
      "{'loss': 0.4953, 'learning_rate': 3.311546840958606e-06, 'epoch': 3.38}\n",
      "{'loss': 0.4767, 'learning_rate': 3.257080610021787e-06, 'epoch': 3.49}\n",
      "{'loss': 0.4899, 'learning_rate': 3.2026143790849674e-06, 'epoch': 3.59}\n",
      "{'loss': 0.5305, 'learning_rate': 3.1481481481481483e-06, 'epoch': 3.7}\n",
      "{'loss': 0.529, 'learning_rate': 3.0936819172113293e-06, 'epoch': 3.81}\n",
      "{'loss': 0.5073, 'learning_rate': 3.03921568627451e-06, 'epoch': 3.92}\n"
     ]
    },
    {
     "data": {
      "application/vnd.jupyter.widget-view+json": {
       "model_id": "591263fe2dcb486dabc334fa2cd7e345",
       "version_major": 2,
       "version_minor": 0
      },
      "text/plain": [
       "  0%|          | 0/172 [00:00<?, ?it/s]"
      ]
     },
     "metadata": {},
     "output_type": "display_data"
    },
    {
     "name": "stdout",
     "output_type": "stream",
     "text": [
      "{'eval_loss': 0.46023088693618774, 'eval_balanced_accuracy': 0.8, 'eval_precision': 0.68, 'eval_recall': 0.86, 'eval_f1': 0.76, 'eval_runtime': 2.8497, 'eval_samples_per_second': 482.857, 'eval_steps_per_second': 60.357, 'epoch': 4.0}\n",
      "{'loss': 0.4887, 'learning_rate': 2.984749455337691e-06, 'epoch': 4.03}\n",
      "{'loss': 0.4879, 'learning_rate': 2.9302832244008717e-06, 'epoch': 4.14}\n",
      "{'loss': 0.4496, 'learning_rate': 2.8758169934640523e-06, 'epoch': 4.25}\n",
      "{'loss': 0.4881, 'learning_rate': 2.8213507625272337e-06, 'epoch': 4.36}\n",
      "{'loss': 0.4419, 'learning_rate': 2.766884531590414e-06, 'epoch': 4.47}\n",
      "{'loss': 0.4692, 'learning_rate': 2.7124183006535947e-06, 'epoch': 4.58}\n",
      "{'loss': 0.4805, 'learning_rate': 2.657952069716776e-06, 'epoch': 4.68}\n",
      "{'loss': 0.4644, 'learning_rate': 2.6034858387799566e-06, 'epoch': 4.79}\n",
      "{'loss': 0.4488, 'learning_rate': 2.549019607843137e-06, 'epoch': 4.9}\n"
     ]
    },
    {
     "data": {
      "application/vnd.jupyter.widget-view+json": {
       "model_id": "096a7f27217d47b4bb92d5eb07a22b0d",
       "version_major": 2,
       "version_minor": 0
      },
      "text/plain": [
       "  0%|          | 0/172 [00:00<?, ?it/s]"
      ]
     },
     "metadata": {},
     "output_type": "display_data"
    },
    {
     "name": "stdout",
     "output_type": "stream",
     "text": [
      "{'eval_loss': 0.4411988854408264, 'eval_balanced_accuracy': 0.81, 'eval_precision': 0.78, 'eval_recall': 0.76, 'eval_f1': 0.77, 'eval_runtime': 2.8106, 'eval_samples_per_second': 489.578, 'eval_steps_per_second': 61.197, 'epoch': 5.0}\n",
      "{'loss': 0.4676, 'learning_rate': 2.494553376906318e-06, 'epoch': 5.01}\n",
      "{'loss': 0.4278, 'learning_rate': 2.440087145969499e-06, 'epoch': 5.12}\n",
      "{'loss': 0.4416, 'learning_rate': 2.38562091503268e-06, 'epoch': 5.23}\n",
      "{'loss': 0.4459, 'learning_rate': 2.3311546840958606e-06, 'epoch': 5.34}\n",
      "{'loss': 0.4013, 'learning_rate': 2.2766884531590415e-06, 'epoch': 5.45}\n",
      "{'loss': 0.402, 'learning_rate': 2.222222222222222e-06, 'epoch': 5.56}\n",
      "{'loss': 0.4267, 'learning_rate': 2.167755991285403e-06, 'epoch': 5.66}\n",
      "{'loss': 0.473, 'learning_rate': 2.113289760348584e-06, 'epoch': 5.77}\n",
      "{'loss': 0.4665, 'learning_rate': 2.058823529411765e-06, 'epoch': 5.88}\n",
      "{'loss': 0.4472, 'learning_rate': 2.004357298474946e-06, 'epoch': 5.99}\n"
     ]
    },
    {
     "data": {
      "application/vnd.jupyter.widget-view+json": {
       "model_id": "6fc76bdce8f24ec0ae22c665f0b657c0",
       "version_major": 2,
       "version_minor": 0
      },
      "text/plain": [
       "  0%|          | 0/172 [00:00<?, ?it/s]"
      ]
     },
     "metadata": {},
     "output_type": "display_data"
    },
    {
     "name": "stdout",
     "output_type": "stream",
     "text": [
      "{'eval_loss': 0.38192006945610046, 'eval_balanced_accuracy': 0.85, 'eval_precision': 0.79, 'eval_recall': 0.86, 'eval_f1': 0.82, 'eval_runtime': 3.0176, 'eval_samples_per_second': 455.995, 'eval_steps_per_second': 56.999, 'epoch': 6.0}\n",
      "{'loss': 0.3899, 'learning_rate': 1.9498910675381264e-06, 'epoch': 6.1}\n",
      "{'loss': 0.3904, 'learning_rate': 1.8954248366013072e-06, 'epoch': 6.21}\n",
      "{'loss': 0.3837, 'learning_rate': 1.8409586056644881e-06, 'epoch': 6.32}\n",
      "{'loss': 0.4288, 'learning_rate': 1.786492374727669e-06, 'epoch': 6.43}\n",
      "{'loss': 0.4381, 'learning_rate': 1.7320261437908499e-06, 'epoch': 6.54}\n",
      "{'loss': 0.3787, 'learning_rate': 1.6775599128540306e-06, 'epoch': 6.64}\n",
      "{'loss': 0.3998, 'learning_rate': 1.6230936819172113e-06, 'epoch': 6.75}\n",
      "{'loss': 0.4015, 'learning_rate': 1.5686274509803923e-06, 'epoch': 6.86}\n",
      "{'loss': 0.4294, 'learning_rate': 1.5141612200435733e-06, 'epoch': 6.97}\n"
     ]
    },
    {
     "data": {
      "application/vnd.jupyter.widget-view+json": {
       "model_id": "7087f2e4b8284e51956c0dbf5314cbba",
       "version_major": 2,
       "version_minor": 0
      },
      "text/plain": [
       "  0%|          | 0/172 [00:00<?, ?it/s]"
      ]
     },
     "metadata": {},
     "output_type": "display_data"
    },
    {
     "name": "stdout",
     "output_type": "stream",
     "text": [
      "{'eval_loss': 0.3589138090610504, 'eval_balanced_accuracy': 0.86, 'eval_precision': 0.83, 'eval_recall': 0.84, 'eval_f1': 0.83, 'eval_runtime': 3.0754, 'eval_samples_per_second': 447.428, 'eval_steps_per_second': 55.929, 'epoch': 7.0}\n",
      "{'loss': 0.4332, 'learning_rate': 1.4596949891067538e-06, 'epoch': 7.08}\n",
      "{'loss': 0.4069, 'learning_rate': 1.4052287581699348e-06, 'epoch': 7.19}\n",
      "{'loss': 0.3548, 'learning_rate': 1.3507625272331157e-06, 'epoch': 7.3}\n",
      "{'loss': 0.3922, 'learning_rate': 1.2962962962962962e-06, 'epoch': 7.41}\n",
      "{'loss': 0.3777, 'learning_rate': 1.2418300653594772e-06, 'epoch': 7.52}\n",
      "{'loss': 0.3625, 'learning_rate': 1.187363834422658e-06, 'epoch': 7.63}\n",
      "{'loss': 0.3336, 'learning_rate': 1.132897603485839e-06, 'epoch': 7.73}\n",
      "{'loss': 0.3886, 'learning_rate': 1.0784313725490197e-06, 'epoch': 7.84}\n",
      "{'loss': 0.3434, 'learning_rate': 1.0239651416122006e-06, 'epoch': 7.95}\n"
     ]
    },
    {
     "data": {
      "application/vnd.jupyter.widget-view+json": {
       "model_id": "939bfde8fbb147cdbce30efc55f54312",
       "version_major": 2,
       "version_minor": 0
      },
      "text/plain": [
       "  0%|          | 0/172 [00:00<?, ?it/s]"
      ]
     },
     "metadata": {},
     "output_type": "display_data"
    },
    {
     "name": "stdout",
     "output_type": "stream",
     "text": [
      "{'eval_loss': 0.32215961813926697, 'eval_balanced_accuracy': 0.89, 'eval_precision': 0.83, 'eval_recall': 0.9, 'eval_f1': 0.86, 'eval_runtime': 3.2182, 'eval_samples_per_second': 427.569, 'eval_steps_per_second': 53.446, 'epoch': 8.0}\n",
      "{'loss': 0.3876, 'learning_rate': 9.694989106753814e-07, 'epoch': 8.06}\n",
      "{'loss': 0.3448, 'learning_rate': 9.150326797385621e-07, 'epoch': 8.17}\n",
      "{'loss': 0.3874, 'learning_rate': 8.605664488017431e-07, 'epoch': 8.28}\n",
      "{'loss': 0.3293, 'learning_rate': 8.061002178649238e-07, 'epoch': 8.39}\n",
      "{'loss': 0.3761, 'learning_rate': 7.516339869281046e-07, 'epoch': 8.5}\n",
      "{'loss': 0.352, 'learning_rate': 6.971677559912855e-07, 'epoch': 8.61}\n",
      "{'loss': 0.3622, 'learning_rate': 6.427015250544663e-07, 'epoch': 8.71}\n",
      "{'loss': 0.3516, 'learning_rate': 5.882352941176471e-07, 'epoch': 8.82}\n",
      "{'loss': 0.3356, 'learning_rate': 5.33769063180828e-07, 'epoch': 8.93}\n"
     ]
    },
    {
     "data": {
      "application/vnd.jupyter.widget-view+json": {
       "model_id": "7ff3fa1a60684d85a320fd4528922b04",
       "version_major": 2,
       "version_minor": 0
      },
      "text/plain": [
       "  0%|          | 0/172 [00:00<?, ?it/s]"
      ]
     },
     "metadata": {},
     "output_type": "display_data"
    },
    {
     "name": "stdout",
     "output_type": "stream",
     "text": [
      "{'eval_loss': 0.31202808022499084, 'eval_balanced_accuracy': 0.89, 'eval_precision': 0.84, 'eval_recall': 0.9, 'eval_f1': 0.87, 'eval_runtime': 3.212, 'eval_samples_per_second': 428.393, 'eval_steps_per_second': 53.549, 'epoch': 9.0}\n",
      "{'loss': 0.3403, 'learning_rate': 4.793028322440087e-07, 'epoch': 9.04}\n",
      "{'loss': 0.3171, 'learning_rate': 4.248366013071896e-07, 'epoch': 9.15}\n",
      "{'loss': 0.3219, 'learning_rate': 3.7037037037037036e-07, 'epoch': 9.26}\n",
      "{'loss': 0.3454, 'learning_rate': 3.159041394335512e-07, 'epoch': 9.37}\n",
      "{'loss': 0.3733, 'learning_rate': 2.6143790849673207e-07, 'epoch': 9.48}\n",
      "{'loss': 0.359, 'learning_rate': 2.0697167755991287e-07, 'epoch': 9.59}\n",
      "{'loss': 0.3321, 'learning_rate': 1.525054466230937e-07, 'epoch': 9.69}\n",
      "{'loss': 0.3525, 'learning_rate': 9.803921568627452e-08, 'epoch': 9.8}\n",
      "{'loss': 0.3348, 'learning_rate': 4.3572984749455345e-08, 'epoch': 9.91}\n"
     ]
    },
    {
     "data": {
      "application/vnd.jupyter.widget-view+json": {
       "model_id": "e63393ebf9ac439e9c4ca7ca4e70b589",
       "version_major": 2,
       "version_minor": 0
      },
      "text/plain": [
       "  0%|          | 0/172 [00:00<?, ?it/s]"
      ]
     },
     "metadata": {},
     "output_type": "display_data"
    },
    {
     "name": "stdout",
     "output_type": "stream",
     "text": [
      "{'eval_loss': 0.3127799332141876, 'eval_balanced_accuracy': 0.89, 'eval_precision': 0.86, 'eval_recall': 0.89, 'eval_f1': 0.87, 'eval_runtime': 2.7701, 'eval_samples_per_second': 496.725, 'eval_steps_per_second': 62.091, 'epoch': 10.0}\n",
      "{'train_runtime': 655.365, 'train_samples_per_second': 112.014, 'train_steps_per_second': 14.007, 'train_loss': 0.46245740109279526, 'epoch': 10.0}\n"
     ]
    },
    {
     "data": {
      "text/plain": [
       "TrainOutput(global_step=9180, training_loss=0.46245740109279526, metrics={'train_runtime': 655.365, 'train_samples_per_second': 112.014, 'train_steps_per_second': 14.007, 'train_loss': 0.46245740109279526, 'epoch': 10.0})"
      ]
     },
     "execution_count": 168,
     "metadata": {},
     "output_type": "execute_result"
    }
   ],
   "source": [
    "trainer.train()"
   ]
  },
  {
   "cell_type": "code",
   "execution_count": 169,
   "metadata": {},
   "outputs": [
    {
     "data": {
      "image/png": "[encoded data removed]",
      "text/plain": [
       "<Figure size 640x480 with 1 Axes>"
      ]
     },
     "metadata": {},
     "output_type": "display_data"
    }
   ],
   "source": [
    "plot_save_results(trainer,name)"
   ]
  },
  {
   "cell_type": "code",
   "execution_count": 170,
   "metadata": {},
   "outputs": [
    {
     "name": "stdout",
     "output_type": "stream",
     "text": [
      "Building Twitter Dataset...\n"
     ]
    },
    {
     "name": "stderr",
     "output_type": "stream",
     "text": [
      "Testing: 100%|██████████| 46/46 [00:01<00:00, 43.68it/s]\n"
     ]
    },
    {
     "name": "stdout",
     "output_type": "stream",
     "text": [
      "Evaluation for dataset well_answering\n",
      "Test model loss=0.13007177430731448\n",
      "Balanced_accuracy: 0.9156225296442688\n",
      "Precision: 0.8882978723404256\n",
      "Recall: 0.907608695652174\n",
      "F1: 0.8978494623655915\n",
      "Roc_auc: 0.9156225296442686\n",
      "Number of ones in predictions: 188\n",
      "Number of predictions: 459\n",
      "\n",
      "Building Twitter Dataset...\n"
     ]
    },
    {
     "name": "stderr",
     "output_type": "stream",
     "text": [
      "Testing: 100%|██████████| 357/357 [00:06<00:00, 53.97it/s]\n",
      "c:\\ProgramData\\Anaconda3\\envs\\modern_nlp\\lib\\site-packages\\sklearn\\metrics\\_classification.py:1987: UserWarning: y_pred contains classes not in y_true\n",
      "  warnings.warn(\"y_pred contains classes not in y_true\")\n"
     ]
    },
    {
     "name": "stdout",
     "output_type": "stream",
     "text": [
      "Evaluation for dataset well_answering only ones\n",
      "Test model loss=0.2463774082383939\n",
      "Balanced_accuracy: 0.8306700308382394\n",
      "Precision: 1.0\n",
      "Recall: 0.8306700308382394\n",
      "F1: 0.9075038284839203\n",
      "Impossible to define ROC_AUC - only one class presents!\n",
      "Number of ones in predictions: 2963\n",
      "Number of predictions: 3567\n",
      "\n",
      "Building Twitter Dataset...\n"
     ]
    },
    {
     "name": "stderr",
     "output_type": "stream",
     "text": [
      "Testing: 100%|██████████| 561/561 [00:10<00:00, 51.67it/s]\n",
      "c:\\ProgramData\\Anaconda3\\envs\\modern_nlp\\lib\\site-packages\\sklearn\\metrics\\_classification.py:1987: UserWarning: y_pred contains classes not in y_true\n",
      "  warnings.warn(\"y_pred contains classes not in y_true\")\n",
      "c:\\ProgramData\\Anaconda3\\envs\\modern_nlp\\lib\\site-packages\\sklearn\\metrics\\_classification.py:1318: UndefinedMetricWarning: Recall is ill-defined and being set to 0.0 due to no true samples. Use `zero_division` parameter to control this behavior.\n",
      "  _warn_prf(average, modifier, msg_start, len(result))\n"
     ]
    },
    {
     "name": "stdout",
     "output_type": "stream",
     "text": [
      "Evaluation for dataset well_answering only zeros\n",
      "Test model loss=0.15664546126948004\n",
      "Balanced_accuracy: 0.8750222856124086\n",
      "Precision: 0.0\n",
      "Recall: 0.0\n",
      "F1: 0.0\n",
      "Impossible to define ROC_AUC - only one class presents!\n",
      "Number of ones in predictions: 701\n",
      "Number of predictions: 5609\n",
      "\n",
      "Building Twitter Dataset...\n"
     ]
    },
    {
     "name": "stderr",
     "output_type": "stream",
     "text": [
      "Testing: 100%|██████████| 948/948 [00:16<00:00, 57.37it/s]\n"
     ]
    },
    {
     "name": "stdout",
     "output_type": "stream",
     "text": [
      "Evaluation for dataset low_answering\n",
      "Test model loss=0.5123920179903507\n",
      "Balanced_accuracy: 0.6494590010006533\n",
      "Precision: 0.3045489591364688\n",
      "Recall: 0.7829534192269574\n",
      "F1: 0.43852345267832366\n",
      "Roc_auc: 0.6494590010006533\n",
      "Number of ones in predictions: 5188\n",
      "Number of predictions: 9472\n",
      "\n",
      "Building Twitter Dataset...\n"
     ]
    },
    {
     "name": "stderr",
     "output_type": "stream",
     "text": [
      "Testing: 100%|██████████| 202/202 [00:03<00:00, 63.17it/s]\n",
      "c:\\ProgramData\\Anaconda3\\envs\\modern_nlp\\lib\\site-packages\\sklearn\\metrics\\_classification.py:1987: UserWarning: y_pred contains classes not in y_true\n",
      "  warnings.warn(\"y_pred contains classes not in y_true\")\n"
     ]
    },
    {
     "name": "stdout",
     "output_type": "stream",
     "text": [
      "Evaluation for dataset low_answering only ones\n",
      "Test model loss=0.2820023210202851\n",
      "Balanced_accuracy: 0.7829534192269574\n",
      "Precision: 1.0\n",
      "Recall: 0.7829534192269574\n",
      "F1: 0.8782657031684269\n",
      "Impossible to define ROC_AUC - only one class presents!\n",
      "Number of ones in predictions: 1580\n",
      "Number of predictions: 2018\n",
      "\n",
      "Building Twitter Dataset...\n"
     ]
    },
    {
     "name": "stderr",
     "output_type": "stream",
     "text": [
      "Testing: 100%|██████████| 746/746 [00:12<00:00, 60.48it/s]\n",
      "c:\\ProgramData\\Anaconda3\\envs\\modern_nlp\\lib\\site-packages\\sklearn\\metrics\\_classification.py:1987: UserWarning: y_pred contains classes not in y_true\n",
      "  warnings.warn(\"y_pred contains classes not in y_true\")\n",
      "c:\\ProgramData\\Anaconda3\\envs\\modern_nlp\\lib\\site-packages\\sklearn\\metrics\\_classification.py:1318: UndefinedMetricWarning: Recall is ill-defined and being set to 0.0 due to no true samples. Use `zero_division` parameter to control this behavior.\n",
      "  _warn_prf(average, modifier, msg_start, len(result))\n",
      "c:\\ProgramData\\Anaconda3\\envs\\modern_nlp\\lib\\site-packages\\ipykernel_launcher.py:37: UserWarning: FixedFormatter should only be used together with FixedLocator\n"
     ]
    },
    {
     "name": "stdout",
     "output_type": "stream",
     "text": [
      "Evaluation for dataset low_answering only zeros\n",
      "Test model loss=0.5750411134762514\n",
      "Balanced_accuracy: 0.5159645827743493\n",
      "Precision: 0.0\n",
      "Recall: 0.0\n",
      "F1: 0.0\n",
      "Impossible to define ROC_AUC - only one class presents!\n",
      "Number of ones in predictions: 3608\n",
      "Number of predictions: 7454\n",
      "\n"
     ]
    },
    {
     "data": {
      "image/png": "[encoded data removed]",
      "text/plain": [
       "<Figure size 640x480 with 1 Axes>"
      ]
     },
     "metadata": {},
     "output_type": "display_data"
    }
   ],
   "source": [
    "a=evaluate_all_datasets(trainer.model)"
   ]
  },
  {
   "attachments": {},
   "cell_type": "markdown",
   "metadata": {},
   "source": [
    "### ICRC"
   ]
  },
  {
   "cell_type": "code",
   "execution_count": 171,
   "metadata": {},
   "outputs": [],
   "source": [
    "name=\"icrc\""
   ]
  },
  {
   "cell_type": "code",
   "execution_count": 172,
   "metadata": {},
   "outputs": [
    {
     "name": "stderr",
     "output_type": "stream",
     "text": [
      "Some weights of the model checkpoint at distilbert-base-uncased were not used when initializing DistilBertForSequenceClassification: ['vocab_projector.weight', 'vocab_layer_norm.bias', 'vocab_projector.bias', 'vocab_layer_norm.weight', 'vocab_transform.weight', 'vocab_transform.bias']\n",
      "- This IS expected if you are initializing DistilBertForSequenceClassification from the checkpoint of a model trained on another task or with another architecture (e.g. initializing a BertForSequenceClassification model from a BertForPreTraining model).\n",
      "- This IS NOT expected if you are initializing DistilBertForSequenceClassification from the checkpoint of a model that you expect to be exactly identical (initializing a BertForSequenceClassification model from a BertForSequenceClassification model).\n",
      "Some weights of DistilBertForSequenceClassification were not initialized from the model checkpoint at distilbert-base-uncased and are newly initialized: ['pre_classifier.bias', 'pre_classifier.weight', 'classifier.weight', 'classifier.bias']\n",
      "You should probably TRAIN this model on a down-stream task to be able to use it for predictions and inference.\n"
     ]
    },
    {
     "name": "stdout",
     "output_type": "stream",
     "text": [
      "Building Twitter Dataset...\n",
      "Building Twitter Dataset...\n"
     ]
    }
   ],
   "source": [
    "trainer=training(name,10)"
   ]
  },
  {
   "cell_type": "code",
   "execution_count": 173,
   "metadata": {},
   "outputs": [
    {
     "name": "stderr",
     "output_type": "stream",
     "text": [
      "c:\\ProgramData\\Anaconda3\\envs\\modern_nlp\\lib\\site-packages\\transformers\\optimization.py:395: FutureWarning: This implementation of AdamW is deprecated and will be removed in a future version. Use the PyTorch implementation torch.optim.AdamW instead, or set `no_deprecation_warning=True` to disable this warning\n",
      "  FutureWarning,\n"
     ]
    },
    {
     "data": {
      "application/vnd.jupyter.widget-view+json": {
       "model_id": "facc7e6697ec4141b81c28039a142677",
       "version_major": 2,
       "version_minor": 0
      },
      "text/plain": [
       "  0%|          | 0/22110 [00:00<?, ?it/s]"
      ]
     },
     "metadata": {},
     "output_type": "display_data"
    },
    {
     "name": "stderr",
     "output_type": "stream",
     "text": [
      "You're using a DistilBertTokenizerFast tokenizer. Please note that with a fast tokenizer, using the `__call__` method is faster than using a method to encode the text followed by a call to the `pad` method to get a padded encoding.\n"
     ]
    },
    {
     "name": "stdout",
     "output_type": "stream",
     "text": [
      "{'loss': 0.6543, 'learning_rate': 4.977385798281321e-06, 'epoch': 0.05}\n",
      "{'loss': 0.6333, 'learning_rate': 4.954771596562642e-06, 'epoch': 0.09}\n",
      "{'loss': 0.6337, 'learning_rate': 4.932157394843962e-06, 'epoch': 0.14}\n",
      "{'loss': 0.9048, 'learning_rate': 4.9095431931252826e-06, 'epoch': 0.18}\n",
      "{'loss': 0.7416, 'learning_rate': 4.886928991406603e-06, 'epoch': 0.23}\n",
      "{'loss': 0.8796, 'learning_rate': 4.864314789687924e-06, 'epoch': 0.27}\n",
      "{'loss': 0.7754, 'learning_rate': 4.841700587969245e-06, 'epoch': 0.32}\n",
      "{'loss': 0.6972, 'learning_rate': 4.8190863862505664e-06, 'epoch': 0.36}\n",
      "{'loss': 0.9303, 'learning_rate': 4.796472184531886e-06, 'epoch': 0.41}\n",
      "{'loss': 0.7787, 'learning_rate': 4.773857982813207e-06, 'epoch': 0.45}\n",
      "{'loss': 0.7839, 'learning_rate': 4.751243781094528e-06, 'epoch': 0.5}\n",
      "{'loss': 0.7387, 'learning_rate': 4.728629579375849e-06, 'epoch': 0.54}\n",
      "{'loss': 0.7694, 'learning_rate': 4.706015377657169e-06, 'epoch': 0.59}\n",
      "{'loss': 0.8138, 'learning_rate': 4.683401175938489e-06, 'epoch': 0.63}\n",
      "{'loss': 0.7615, 'learning_rate': 4.66078697421981e-06, 'epoch': 0.68}\n",
      "{'loss': 0.7086, 'learning_rate': 4.638172772501131e-06, 'epoch': 0.72}\n",
      "{'loss': 0.8266, 'learning_rate': 4.6155585707824515e-06, 'epoch': 0.77}\n",
      "{'loss': 0.7053, 'learning_rate': 4.592944369063772e-06, 'epoch': 0.81}\n",
      "{'loss': 0.7877, 'learning_rate': 4.570330167345093e-06, 'epoch': 0.86}\n",
      "{'loss': 0.7256, 'learning_rate': 4.547715965626414e-06, 'epoch': 0.9}\n",
      "{'loss': 0.7579, 'learning_rate': 4.5251017639077345e-06, 'epoch': 0.95}\n",
      "{'loss': 0.7277, 'learning_rate': 4.502487562189055e-06, 'epoch': 1.0}\n"
     ]
    },
    {
     "data": {
      "application/vnd.jupyter.widget-view+json": {
       "model_id": "17a09f50386d415d86c4faa7039c6147",
       "version_major": 2,
       "version_minor": 0
      },
      "text/plain": [
       "  0%|          | 0/415 [00:00<?, ?it/s]"
      ]
     },
     "metadata": {},
     "output_type": "display_data"
    },
    {
     "name": "stdout",
     "output_type": "stream",
     "text": [
      "{'eval_loss': 0.7573389410972595, 'eval_balanced_accuracy': 0.67, 'eval_precision': 0.91, 'eval_recall': 0.35, 'eval_f1': 0.51, 'eval_runtime': 6.2994, 'eval_samples_per_second': 526.237, 'eval_steps_per_second': 65.879, 'epoch': 1.0}\n",
      "{'loss': 0.723, 'learning_rate': 4.479873360470376e-06, 'epoch': 1.04}\n",
      "{'loss': 0.6625, 'learning_rate': 4.457259158751697e-06, 'epoch': 1.09}\n",
      "{'loss': 0.7646, 'learning_rate': 4.434644957033017e-06, 'epoch': 1.13}\n",
      "{'loss': 0.7943, 'learning_rate': 4.4120307553143375e-06, 'epoch': 1.18}\n",
      "{'loss': 0.6819, 'learning_rate': 4.389416553595658e-06, 'epoch': 1.22}\n",
      "{'loss': 0.9207, 'learning_rate': 4.366802351876979e-06, 'epoch': 1.27}\n",
      "{'loss': 0.6613, 'learning_rate': 4.3441881501583e-06, 'epoch': 1.31}\n",
      "{'loss': 0.7089, 'learning_rate': 4.3215739484396205e-06, 'epoch': 1.36}\n",
      "{'loss': 0.8027, 'learning_rate': 4.298959746720941e-06, 'epoch': 1.4}\n",
      "{'loss': 0.7314, 'learning_rate': 4.276345545002262e-06, 'epoch': 1.45}\n",
      "{'loss': 0.7409, 'learning_rate': 4.253731343283583e-06, 'epoch': 1.49}\n",
      "{'loss': 0.8562, 'learning_rate': 4.2311171415649035e-06, 'epoch': 1.54}\n",
      "{'loss': 0.7383, 'learning_rate': 4.208502939846224e-06, 'epoch': 1.58}\n",
      "{'loss': 0.7734, 'learning_rate': 4.185888738127544e-06, 'epoch': 1.63}\n",
      "{'loss': 0.6327, 'learning_rate': 4.163274536408865e-06, 'epoch': 1.67}\n",
      "{'loss': 0.7266, 'learning_rate': 4.140660334690186e-06, 'epoch': 1.72}\n",
      "{'loss': 0.8321, 'learning_rate': 4.118046132971506e-06, 'epoch': 1.76}\n",
      "{'loss': 0.735, 'learning_rate': 4.095431931252827e-06, 'epoch': 1.81}\n",
      "{'loss': 0.6131, 'learning_rate': 4.072817729534148e-06, 'epoch': 1.85}\n",
      "{'loss': 0.6928, 'learning_rate': 4.050203527815469e-06, 'epoch': 1.9}\n",
      "{'loss': 0.7542, 'learning_rate': 4.027589326096789e-06, 'epoch': 1.94}\n",
      "{'loss': 0.7088, 'learning_rate': 4.00497512437811e-06, 'epoch': 1.99}\n"
     ]
    },
    {
     "data": {
      "application/vnd.jupyter.widget-view+json": {
       "model_id": "15b954441b5d4d938f4f8bb58c9ad7f1",
       "version_major": 2,
       "version_minor": 0
      },
      "text/plain": [
       "  0%|          | 0/415 [00:00<?, ?it/s]"
      ]
     },
     "metadata": {},
     "output_type": "display_data"
    },
    {
     "name": "stdout",
     "output_type": "stream",
     "text": [
      "{'eval_loss': 0.7692996859550476, 'eval_balanced_accuracy': 0.69, 'eval_precision': 0.93, 'eval_recall': 0.39, 'eval_f1': 0.55, 'eval_runtime': 6.3957, 'eval_samples_per_second': 518.314, 'eval_steps_per_second': 64.887, 'epoch': 2.0}\n",
      "{'loss': 0.6042, 'learning_rate': 3.982360922659431e-06, 'epoch': 2.04}\n",
      "{'loss': 0.5828, 'learning_rate': 3.959746720940751e-06, 'epoch': 2.08}\n",
      "{'loss': 0.7981, 'learning_rate': 3.937132519222072e-06, 'epoch': 2.13}\n",
      "{'loss': 0.6744, 'learning_rate': 3.914518317503392e-06, 'epoch': 2.17}\n",
      "{'loss': 0.6906, 'learning_rate': 3.891904115784713e-06, 'epoch': 2.22}\n",
      "{'loss': 0.6793, 'learning_rate': 3.869289914066034e-06, 'epoch': 2.26}\n",
      "{'loss': 0.6003, 'learning_rate': 3.846675712347355e-06, 'epoch': 2.31}\n",
      "{'loss': 0.5937, 'learning_rate': 3.8240615106286745e-06, 'epoch': 2.35}\n",
      "{'loss': 0.7626, 'learning_rate': 3.8014473089099957e-06, 'epoch': 2.4}\n",
      "{'loss': 0.7177, 'learning_rate': 3.7788331071913164e-06, 'epoch': 2.44}\n",
      "{'loss': 0.6363, 'learning_rate': 3.756218905472637e-06, 'epoch': 2.49}\n",
      "{'loss': 0.6352, 'learning_rate': 3.733604703753958e-06, 'epoch': 2.53}\n",
      "{'loss': 0.6786, 'learning_rate': 3.7109905020352783e-06, 'epoch': 2.58}\n",
      "{'loss': 0.6569, 'learning_rate': 3.688376300316599e-06, 'epoch': 2.62}\n",
      "{'loss': 0.8583, 'learning_rate': 3.6657620985979198e-06, 'epoch': 2.67}\n",
      "{'loss': 0.6235, 'learning_rate': 3.6431478968792405e-06, 'epoch': 2.71}\n",
      "{'loss': 0.6045, 'learning_rate': 3.6205336951605613e-06, 'epoch': 2.76}\n",
      "{'loss': 0.7038, 'learning_rate': 3.597919493441882e-06, 'epoch': 2.8}\n",
      "{'loss': 0.6963, 'learning_rate': 3.5753052917232024e-06, 'epoch': 2.85}\n",
      "{'loss': 0.6681, 'learning_rate': 3.552691090004523e-06, 'epoch': 2.89}\n",
      "{'loss': 0.7852, 'learning_rate': 3.530076888285844e-06, 'epoch': 2.94}\n",
      "{'loss': 0.602, 'learning_rate': 3.5074626865671646e-06, 'epoch': 2.99}\n"
     ]
    },
    {
     "data": {
      "application/vnd.jupyter.widget-view+json": {
       "model_id": "b7fd0c53e3a847e18d876681588ed9b0",
       "version_major": 2,
       "version_minor": 0
      },
      "text/plain": [
       "  0%|          | 0/415 [00:00<?, ?it/s]"
      ]
     },
     "metadata": {},
     "output_type": "display_data"
    },
    {
     "name": "stdout",
     "output_type": "stream",
     "text": [
      "{'eval_loss': 0.6297149062156677, 'eval_balanced_accuracy': 0.74, 'eval_precision': 0.9, 'eval_recall': 0.49, 'eval_f1': 0.63, 'eval_runtime': 6.6039, 'eval_samples_per_second': 501.974, 'eval_steps_per_second': 62.841, 'epoch': 3.0}\n",
      "{'loss': 0.6028, 'learning_rate': 3.4848484848484854e-06, 'epoch': 3.03}\n",
      "{'loss': 0.5449, 'learning_rate': 3.4622342831298057e-06, 'epoch': 3.08}\n",
      "{'loss': 0.5002, 'learning_rate': 3.4396200814111265e-06, 'epoch': 3.12}\n",
      "{'loss': 0.5849, 'learning_rate': 3.4170058796924472e-06, 'epoch': 3.17}\n",
      "{'loss': 0.7171, 'learning_rate': 3.394391677973768e-06, 'epoch': 3.21}\n",
      "{'loss': 0.7182, 'learning_rate': 3.3717774762550887e-06, 'epoch': 3.26}\n",
      "{'loss': 0.6588, 'learning_rate': 3.349163274536409e-06, 'epoch': 3.3}\n",
      "{'loss': 0.6151, 'learning_rate': 3.32654907281773e-06, 'epoch': 3.35}\n",
      "{'loss': 0.7644, 'learning_rate': 3.3039348710990506e-06, 'epoch': 3.39}\n",
      "{'loss': 0.5677, 'learning_rate': 3.2813206693803713e-06, 'epoch': 3.44}\n",
      "{'loss': 0.6117, 'learning_rate': 3.258706467661692e-06, 'epoch': 3.48}\n",
      "{'loss': 0.5995, 'learning_rate': 3.236092265943013e-06, 'epoch': 3.53}\n",
      "{'loss': 0.5597, 'learning_rate': 3.213478064224333e-06, 'epoch': 3.57}\n",
      "{'loss': 0.6512, 'learning_rate': 3.190863862505654e-06, 'epoch': 3.62}\n",
      "{'loss': 0.6357, 'learning_rate': 3.1682496607869747e-06, 'epoch': 3.66}\n",
      "{'loss': 0.634, 'learning_rate': 3.1456354590682954e-06, 'epoch': 3.71}\n",
      "{'loss': 0.6613, 'learning_rate': 3.123021257349616e-06, 'epoch': 3.75}\n",
      "{'loss': 0.5818, 'learning_rate': 3.100407055630936e-06, 'epoch': 3.8}\n",
      "{'loss': 0.7642, 'learning_rate': 3.077792853912257e-06, 'epoch': 3.84}\n",
      "{'loss': 0.6294, 'learning_rate': 3.055178652193578e-06, 'epoch': 3.89}\n",
      "{'loss': 0.7257, 'learning_rate': 3.0325644504748988e-06, 'epoch': 3.93}\n",
      "{'loss': 0.5822, 'learning_rate': 3.0099502487562195e-06, 'epoch': 3.98}\n"
     ]
    },
    {
     "data": {
      "application/vnd.jupyter.widget-view+json": {
       "model_id": "9b423de5ed0c43f6a6c585609881d973",
       "version_major": 2,
       "version_minor": 0
      },
      "text/plain": [
       "  0%|          | 0/415 [00:00<?, ?it/s]"
      ]
     },
     "metadata": {},
     "output_type": "display_data"
    },
    {
     "name": "stdout",
     "output_type": "stream",
     "text": [
      "{'eval_loss': 0.5663646459579468, 'eval_balanced_accuracy': 0.78, 'eval_precision': 0.95, 'eval_recall': 0.56, 'eval_f1': 0.71, 'eval_runtime': 6.1549, 'eval_samples_per_second': 538.596, 'eval_steps_per_second': 67.426, 'epoch': 4.0}\n",
      "{'loss': 0.5288, 'learning_rate': 2.9873360470375394e-06, 'epoch': 4.03}\n",
      "{'loss': 0.5692, 'learning_rate': 2.96472184531886e-06, 'epoch': 4.07}\n",
      "{'loss': 0.5908, 'learning_rate': 2.942107643600181e-06, 'epoch': 4.12}\n",
      "{'loss': 0.6623, 'learning_rate': 2.9194934418815017e-06, 'epoch': 4.16}\n",
      "{'loss': 0.53, 'learning_rate': 2.8968792401628224e-06, 'epoch': 4.21}\n",
      "{'loss': 0.6058, 'learning_rate': 2.8742650384441436e-06, 'epoch': 4.25}\n",
      "{'loss': 0.4691, 'learning_rate': 2.8516508367254635e-06, 'epoch': 4.3}\n",
      "{'loss': 0.5684, 'learning_rate': 2.8290366350067843e-06, 'epoch': 4.34}\n",
      "{'loss': 0.5752, 'learning_rate': 2.806422433288105e-06, 'epoch': 4.39}\n",
      "{'loss': 0.4771, 'learning_rate': 2.7838082315694258e-06, 'epoch': 4.43}\n",
      "{'loss': 0.4613, 'learning_rate': 2.7611940298507465e-06, 'epoch': 4.48}\n",
      "{'loss': 0.5433, 'learning_rate': 2.738579828132067e-06, 'epoch': 4.52}\n",
      "{'loss': 0.5978, 'learning_rate': 2.7159656264133876e-06, 'epoch': 4.57}\n",
      "{'loss': 0.5059, 'learning_rate': 2.6933514246947084e-06, 'epoch': 4.61}\n",
      "{'loss': 0.5591, 'learning_rate': 2.670737222976029e-06, 'epoch': 4.66}\n",
      "{'loss': 0.5835, 'learning_rate': 2.64812302125735e-06, 'epoch': 4.7}\n",
      "{'loss': 0.5002, 'learning_rate': 2.6255088195386706e-06, 'epoch': 4.75}\n",
      "{'loss': 0.6166, 'learning_rate': 2.602894617819991e-06, 'epoch': 4.79}\n",
      "{'loss': 0.7042, 'learning_rate': 2.5802804161013117e-06, 'epoch': 4.84}\n",
      "{'loss': 0.484, 'learning_rate': 2.5576662143826325e-06, 'epoch': 4.88}\n",
      "{'loss': 0.7245, 'learning_rate': 2.535052012663953e-06, 'epoch': 4.93}\n",
      "{'loss': 0.4394, 'learning_rate': 2.512437810945274e-06, 'epoch': 4.98}\n"
     ]
    },
    {
     "data": {
      "application/vnd.jupyter.widget-view+json": {
       "model_id": "2166f0bcbbbd4ad7a99b2196712ee9fc",
       "version_major": 2,
       "version_minor": 0
      },
      "text/plain": [
       "  0%|          | 0/415 [00:00<?, ?it/s]"
      ]
     },
     "metadata": {},
     "output_type": "display_data"
    },
    {
     "name": "stdout",
     "output_type": "stream",
     "text": [
      "{'eval_loss': 0.43225806951522827, 'eval_balanced_accuracy': 0.84, 'eval_precision': 0.94, 'eval_recall': 0.69, 'eval_f1': 0.79, 'eval_runtime': 6.2016, 'eval_samples_per_second': 534.536, 'eval_steps_per_second': 66.918, 'epoch': 5.0}\n",
      "{'loss': 0.4901, 'learning_rate': 2.4898236092265947e-06, 'epoch': 5.02}\n",
      "{'loss': 0.4577, 'learning_rate': 2.467209407507915e-06, 'epoch': 5.07}\n",
      "{'loss': 0.5328, 'learning_rate': 2.444595205789236e-06, 'epoch': 5.11}\n",
      "{'loss': 0.577, 'learning_rate': 2.4219810040705565e-06, 'epoch': 5.16}\n",
      "{'loss': 0.5401, 'learning_rate': 2.399366802351877e-06, 'epoch': 5.2}\n",
      "{'loss': 0.5744, 'learning_rate': 2.376752600633198e-06, 'epoch': 5.25}\n",
      "{'loss': 0.4668, 'learning_rate': 2.354138398914519e-06, 'epoch': 5.29}\n",
      "{'loss': 0.3518, 'learning_rate': 2.331524197195839e-06, 'epoch': 5.34}\n",
      "{'loss': 0.4216, 'learning_rate': 2.30890999547716e-06, 'epoch': 5.38}\n",
      "{'loss': 0.446, 'learning_rate': 2.2862957937584802e-06, 'epoch': 5.43}\n",
      "{'loss': 0.3821, 'learning_rate': 2.263681592039801e-06, 'epoch': 5.47}\n",
      "{'loss': 0.4921, 'learning_rate': 2.2410673903211217e-06, 'epoch': 5.52}\n",
      "{'loss': 0.3996, 'learning_rate': 2.2184531886024425e-06, 'epoch': 5.56}\n",
      "{'loss': 0.6163, 'learning_rate': 2.1958389868837632e-06, 'epoch': 5.61}\n",
      "{'loss': 0.4363, 'learning_rate': 2.173224785165084e-06, 'epoch': 5.65}\n",
      "{'loss': 0.5994, 'learning_rate': 2.1506105834464043e-06, 'epoch': 5.7}\n",
      "{'loss': 0.4683, 'learning_rate': 2.127996381727725e-06, 'epoch': 5.74}\n",
      "{'loss': 0.476, 'learning_rate': 2.105382180009046e-06, 'epoch': 5.79}\n",
      "{'loss': 0.5849, 'learning_rate': 2.0827679782903666e-06, 'epoch': 5.83}\n",
      "{'loss': 0.5376, 'learning_rate': 2.0601537765716873e-06, 'epoch': 5.88}\n",
      "{'loss': 0.4557, 'learning_rate': 2.0375395748530077e-06, 'epoch': 5.92}\n",
      "{'loss': 0.3576, 'learning_rate': 2.0149253731343284e-06, 'epoch': 5.97}\n"
     ]
    },
    {
     "data": {
      "application/vnd.jupyter.widget-view+json": {
       "model_id": "1660a548df6642b0af89ed8290979978",
       "version_major": 2,
       "version_minor": 0
      },
      "text/plain": [
       "  0%|          | 0/415 [00:00<?, ?it/s]"
      ]
     },
     "metadata": {},
     "output_type": "display_data"
    },
    {
     "name": "stdout",
     "output_type": "stream",
     "text": [
      "{'eval_loss': 0.3840974271297455, 'eval_balanced_accuracy': 0.88, 'eval_precision': 0.96, 'eval_recall': 0.76, 'eval_f1': 0.85, 'eval_runtime': 6.3019, 'eval_samples_per_second': 526.03, 'eval_steps_per_second': 65.853, 'epoch': 6.0}\n",
      "{'loss': 0.3413, 'learning_rate': 1.992311171415649e-06, 'epoch': 6.02}\n",
      "{'loss': 0.355, 'learning_rate': 1.96969696969697e-06, 'epoch': 6.06}\n",
      "{'loss': 0.5646, 'learning_rate': 1.9470827679782907e-06, 'epoch': 6.11}\n",
      "{'loss': 0.3343, 'learning_rate': 1.9244685662596114e-06, 'epoch': 6.15}\n",
      "{'loss': 0.3751, 'learning_rate': 1.9018543645409318e-06, 'epoch': 6.2}\n",
      "{'loss': 0.5285, 'learning_rate': 1.8792401628222525e-06, 'epoch': 6.24}\n",
      "{'loss': 0.4533, 'learning_rate': 1.856625961103573e-06, 'epoch': 6.29}\n",
      "{'loss': 0.3974, 'learning_rate': 1.8340117593848938e-06, 'epoch': 6.33}\n",
      "{'loss': 0.3102, 'learning_rate': 1.8113975576662146e-06, 'epoch': 6.38}\n",
      "{'loss': 0.2295, 'learning_rate': 1.788783355947535e-06, 'epoch': 6.42}\n",
      "{'loss': 0.309, 'learning_rate': 1.7661691542288559e-06, 'epoch': 6.47}\n",
      "{'loss': 0.5873, 'learning_rate': 1.7435549525101766e-06, 'epoch': 6.51}\n",
      "{'loss': 0.5113, 'learning_rate': 1.7209407507914972e-06, 'epoch': 6.56}\n",
      "{'loss': 0.4891, 'learning_rate': 1.698326549072818e-06, 'epoch': 6.6}\n",
      "{'loss': 0.4435, 'learning_rate': 1.6757123473541384e-06, 'epoch': 6.65}\n",
      "{'loss': 0.4423, 'learning_rate': 1.6530981456354592e-06, 'epoch': 6.69}\n",
      "{'loss': 0.4855, 'learning_rate': 1.63048394391678e-06, 'epoch': 6.74}\n",
      "{'loss': 0.3342, 'learning_rate': 1.6078697421981005e-06, 'epoch': 6.78}\n",
      "{'loss': 0.4503, 'learning_rate': 1.5852555404794212e-06, 'epoch': 6.83}\n",
      "{'loss': 0.3529, 'learning_rate': 1.562641338760742e-06, 'epoch': 6.87}\n",
      "{'loss': 0.3457, 'learning_rate': 1.5400271370420625e-06, 'epoch': 6.92}\n",
      "{'loss': 0.5228, 'learning_rate': 1.5174129353233833e-06, 'epoch': 6.97}\n"
     ]
    },
    {
     "data": {
      "application/vnd.jupyter.widget-view+json": {
       "model_id": "9b7a99b76e6e498c8cef129deee18066",
       "version_major": 2,
       "version_minor": 0
      },
      "text/plain": [
       "  0%|          | 0/415 [00:00<?, ?it/s]"
      ]
     },
     "metadata": {},
     "output_type": "display_data"
    },
    {
     "name": "stdout",
     "output_type": "stream",
     "text": [
      "{'eval_loss': 0.28946003317832947, 'eval_balanced_accuracy': 0.92, 'eval_precision': 0.96, 'eval_recall': 0.84, 'eval_f1': 0.9, 'eval_runtime': 6.443, 'eval_samples_per_second': 514.512, 'eval_steps_per_second': 64.411, 'epoch': 7.0}\n",
      "{'loss': 0.3865, 'learning_rate': 1.494798733604704e-06, 'epoch': 7.01}\n",
      "{'loss': 0.4057, 'learning_rate': 1.4721845318860246e-06, 'epoch': 7.06}\n",
      "{'loss': 0.3351, 'learning_rate': 1.4495703301673453e-06, 'epoch': 7.1}\n",
      "{'loss': 0.4854, 'learning_rate': 1.4269561284486657e-06, 'epoch': 7.15}\n",
      "{'loss': 0.2795, 'learning_rate': 1.4043419267299866e-06, 'epoch': 7.19}\n",
      "{'loss': 0.2931, 'learning_rate': 1.3817277250113074e-06, 'epoch': 7.24}\n",
      "{'loss': 0.3347, 'learning_rate': 1.3591135232926277e-06, 'epoch': 7.28}\n",
      "{'loss': 0.3831, 'learning_rate': 1.3364993215739485e-06, 'epoch': 7.33}\n",
      "{'loss': 0.2713, 'learning_rate': 1.3138851198552694e-06, 'epoch': 7.37}\n",
      "{'loss': 0.4507, 'learning_rate': 1.2912709181365898e-06, 'epoch': 7.42}\n",
      "{'loss': 0.2662, 'learning_rate': 1.2686567164179105e-06, 'epoch': 7.46}\n",
      "{'loss': 0.3158, 'learning_rate': 1.2460425146992313e-06, 'epoch': 7.51}\n",
      "{'loss': 0.3258, 'learning_rate': 1.2234283129805518e-06, 'epoch': 7.55}\n",
      "{'loss': 0.4341, 'learning_rate': 1.2008141112618726e-06, 'epoch': 7.6}\n",
      "{'loss': 0.4092, 'learning_rate': 1.1781999095431933e-06, 'epoch': 7.64}\n",
      "{'loss': 0.3069, 'learning_rate': 1.1555857078245139e-06, 'epoch': 7.69}\n",
      "{'loss': 0.4181, 'learning_rate': 1.1329715061058346e-06, 'epoch': 7.73}\n",
      "{'loss': 0.3232, 'learning_rate': 1.1103573043871552e-06, 'epoch': 7.78}\n",
      "{'loss': 0.4484, 'learning_rate': 1.087743102668476e-06, 'epoch': 7.82}\n",
      "{'loss': 0.3021, 'learning_rate': 1.0651289009497967e-06, 'epoch': 7.87}\n",
      "{'loss': 0.3936, 'learning_rate': 1.0425146992311172e-06, 'epoch': 7.91}\n",
      "{'loss': 0.3221, 'learning_rate': 1.0199004975124378e-06, 'epoch': 7.96}\n"
     ]
    },
    {
     "data": {
      "application/vnd.jupyter.widget-view+json": {
       "model_id": "79eb4aac20964c5ca5a29e24267f61ac",
       "version_major": 2,
       "version_minor": 0
      },
      "text/plain": [
       "  0%|          | 0/415 [00:00<?, ?it/s]"
      ]
     },
     "metadata": {},
     "output_type": "display_data"
    },
    {
     "name": "stdout",
     "output_type": "stream",
     "text": [
      "{'eval_loss': 0.24256780743598938, 'eval_balanced_accuracy': 0.93, 'eval_precision': 0.96, 'eval_recall': 0.86, 'eval_f1': 0.91, 'eval_runtime': 6.3014, 'eval_samples_per_second': 526.076, 'eval_steps_per_second': 65.859, 'epoch': 8.0}\n",
      "{'loss': 0.3975, 'learning_rate': 9.972862957937585e-07, 'epoch': 8.01}\n",
      "{'loss': 0.3674, 'learning_rate': 9.746720940750793e-07, 'epoch': 8.05}\n",
      "{'loss': 0.3222, 'learning_rate': 9.520578923563999e-07, 'epoch': 8.1}\n",
      "{'loss': 0.1988, 'learning_rate': 9.294436906377204e-07, 'epoch': 8.14}\n",
      "{'loss': 0.4473, 'learning_rate': 9.068294889190413e-07, 'epoch': 8.19}\n",
      "{'loss': 0.2236, 'learning_rate': 8.842152872003618e-07, 'epoch': 8.23}\n",
      "{'loss': 0.3678, 'learning_rate': 8.616010854816825e-07, 'epoch': 8.28}\n",
      "{'loss': 0.2601, 'learning_rate': 8.389868837630034e-07, 'epoch': 8.32}\n",
      "{'loss': 0.3684, 'learning_rate': 8.163726820443239e-07, 'epoch': 8.37}\n",
      "{'loss': 0.2766, 'learning_rate': 7.937584803256445e-07, 'epoch': 8.41}\n",
      "{'loss': 0.4395, 'learning_rate': 7.711442786069652e-07, 'epoch': 8.46}\n",
      "{'loss': 0.464, 'learning_rate': 7.485300768882859e-07, 'epoch': 8.5}\n",
      "{'loss': 0.1618, 'learning_rate': 7.259158751696066e-07, 'epoch': 8.55}\n",
      "{'loss': 0.2997, 'learning_rate': 7.033016734509272e-07, 'epoch': 8.59}\n",
      "{'loss': 0.25, 'learning_rate': 6.806874717322479e-07, 'epoch': 8.64}\n",
      "{'loss': 0.2211, 'learning_rate': 6.580732700135686e-07, 'epoch': 8.68}\n",
      "{'loss': 0.2711, 'learning_rate': 6.354590682948893e-07, 'epoch': 8.73}\n",
      "{'loss': 0.328, 'learning_rate': 6.128448665762099e-07, 'epoch': 8.77}\n",
      "{'loss': 0.3406, 'learning_rate': 5.902306648575306e-07, 'epoch': 8.82}\n",
      "{'loss': 0.2862, 'learning_rate': 5.676164631388512e-07, 'epoch': 8.86}\n",
      "{'loss': 0.3845, 'learning_rate': 5.450022614201719e-07, 'epoch': 8.91}\n",
      "{'loss': 0.2224, 'learning_rate': 5.223880597014925e-07, 'epoch': 8.96}\n"
     ]
    },
    {
     "data": {
      "application/vnd.jupyter.widget-view+json": {
       "model_id": "949a35437ad74eb0af4a5ae88279a210",
       "version_major": 2,
       "version_minor": 0
      },
      "text/plain": [
       "  0%|          | 0/415 [00:00<?, ?it/s]"
      ]
     },
     "metadata": {},
     "output_type": "display_data"
    },
    {
     "name": "stdout",
     "output_type": "stream",
     "text": [
      "{'eval_loss': 0.23415331542491913, 'eval_balanced_accuracy': 0.94, 'eval_precision': 0.97, 'eval_recall': 0.87, 'eval_f1': 0.92, 'eval_runtime': 6.4756, 'eval_samples_per_second': 511.923, 'eval_steps_per_second': 64.087, 'epoch': 9.0}\n",
      "{'loss': 0.4316, 'learning_rate': 4.997738579828133e-07, 'epoch': 9.0}\n",
      "{'loss': 0.2051, 'learning_rate': 4.771596562641339e-07, 'epoch': 9.05}\n",
      "{'loss': 0.3159, 'learning_rate': 4.5454545454545457e-07, 'epoch': 9.09}\n",
      "{'loss': 0.2169, 'learning_rate': 4.319312528267752e-07, 'epoch': 9.14}\n",
      "{'loss': 0.3943, 'learning_rate': 4.093170511080959e-07, 'epoch': 9.18}\n",
      "{'loss': 0.4066, 'learning_rate': 3.8670284938941657e-07, 'epoch': 9.23}\n",
      "{'loss': 0.3288, 'learning_rate': 3.6408864767073727e-07, 'epoch': 9.27}\n",
      "{'loss': 0.2731, 'learning_rate': 3.414744459520579e-07, 'epoch': 9.32}\n",
      "{'loss': 0.1858, 'learning_rate': 3.188602442333786e-07, 'epoch': 9.36}\n",
      "{'loss': 0.355, 'learning_rate': 2.9624604251469926e-07, 'epoch': 9.41}\n",
      "{'loss': 0.4216, 'learning_rate': 2.736318407960199e-07, 'epoch': 9.45}\n",
      "{'loss': 0.4788, 'learning_rate': 2.510176390773406e-07, 'epoch': 9.5}\n",
      "{'loss': 0.2429, 'learning_rate': 2.2840343735866126e-07, 'epoch': 9.54}\n",
      "{'loss': 0.27, 'learning_rate': 2.0578923563998193e-07, 'epoch': 9.59}\n",
      "{'loss': 0.2647, 'learning_rate': 1.8317503392130258e-07, 'epoch': 9.63}\n",
      "{'loss': 0.2982, 'learning_rate': 1.6056083220262325e-07, 'epoch': 9.68}\n",
      "{'loss': 0.3159, 'learning_rate': 1.3794663048394393e-07, 'epoch': 9.72}\n",
      "{'loss': 0.4134, 'learning_rate': 1.1533242876526459e-07, 'epoch': 9.77}\n",
      "{'loss': 0.3112, 'learning_rate': 9.271822704658526e-08, 'epoch': 9.81}\n",
      "{'loss': 0.2487, 'learning_rate': 7.010402532790594e-08, 'epoch': 9.86}\n",
      "{'loss': 0.3314, 'learning_rate': 4.74898236092266e-08, 'epoch': 9.91}\n",
      "{'loss': 0.2672, 'learning_rate': 2.4875621890547265e-08, 'epoch': 9.95}\n",
      "{'loss': 0.3777, 'learning_rate': 2.2614201718679334e-09, 'epoch': 10.0}\n"
     ]
    },
    {
     "data": {
      "application/vnd.jupyter.widget-view+json": {
       "model_id": "12cf0047013d497b9ee7a56823ceb305",
       "version_major": 2,
       "version_minor": 0
      },
      "text/plain": [
       "  0%|          | 0/415 [00:00<?, ?it/s]"
      ]
     },
     "metadata": {},
     "output_type": "display_data"
    },
    {
     "name": "stdout",
     "output_type": "stream",
     "text": [
      "{'eval_loss': 0.23602992296218872, 'eval_balanced_accuracy': 0.94, 'eval_precision': 0.99, 'eval_recall': 0.87, 'eval_f1': 0.93, 'eval_runtime': 6.3484, 'eval_samples_per_second': 522.183, 'eval_steps_per_second': 65.371, 'epoch': 10.0}\n",
      "{'train_runtime': 1518.8109, 'train_samples_per_second': 116.42, 'train_steps_per_second': 14.557, 'train_loss': 0.5247791058226766, 'epoch': 10.0}\n"
     ]
    },
    {
     "data": {
      "text/plain": [
       "TrainOutput(global_step=22110, training_loss=0.5247791058226766, metrics={'train_runtime': 1518.8109, 'train_samples_per_second': 116.42, 'train_steps_per_second': 14.557, 'train_loss': 0.5247791058226766, 'epoch': 10.0})"
      ]
     },
     "execution_count": 173,
     "metadata": {},
     "output_type": "execute_result"
    }
   ],
   "source": [
    "trainer.train()"
   ]
  },
  {
   "cell_type": "code",
   "execution_count": 174,
   "metadata": {},
   "outputs": [
    {
     "data": {
      "image/png": "[encoded data removed]",
      "text/plain": [
       "<Figure size 640x480 with 1 Axes>"
      ]
     },
     "metadata": {},
     "output_type": "display_data"
    }
   ],
   "source": [
    "plot_save_results(trainer,name)"
   ]
  },
  {
   "cell_type": "code",
   "execution_count": 175,
   "metadata": {},
   "outputs": [
    {
     "name": "stdout",
     "output_type": "stream",
     "text": [
      "Building Twitter Dataset...\n"
     ]
    },
    {
     "name": "stderr",
     "output_type": "stream",
     "text": [
      "Testing: 100%|██████████| 111/111 [00:02<00:00, 49.62it/s]\n"
     ]
    },
    {
     "name": "stdout",
     "output_type": "stream",
     "text": [
      "Evaluation for dataset well_answering\n",
      "Test model loss=0.02586008222282839\n",
      "Balanced_accuracy: 0.9480971288371135\n",
      "Precision: 0.9896907216494846\n",
      "Recall: 0.897196261682243\n",
      "F1: 0.9411764705882352\n",
      "Roc_auc: 0.9480971288371136\n",
      "Number of ones in predictions: 97\n",
      "Number of predictions: 1105\n",
      "\n",
      "Building Twitter Dataset...\n"
     ]
    },
    {
     "name": "stderr",
     "output_type": "stream",
     "text": [
      "Testing: 100%|██████████| 218/218 [00:04<00:00, 51.59it/s]\n",
      "c:\\ProgramData\\Anaconda3\\envs\\modern_nlp\\lib\\site-packages\\sklearn\\metrics\\_classification.py:1987: UserWarning: y_pred contains classes not in y_true\n",
      "  warnings.warn(\"y_pred contains classes not in y_true\")\n"
     ]
    },
    {
     "name": "stdout",
     "output_type": "stream",
     "text": [
      "Evaluation for dataset well_answering only ones\n",
      "Test model loss=0.5855099893772462\n",
      "Balanced_accuracy: 0.7793577981651376\n",
      "Precision: 1.0\n",
      "Recall: 0.7793577981651376\n",
      "F1: 0.8759989688063934\n",
      "Impossible to define ROC_AUC - only one class presents!\n",
      "Number of ones in predictions: 1699\n",
      "Number of predictions: 2180\n",
      "\n",
      "Building Twitter Dataset...\n"
     ]
    },
    {
     "name": "stderr",
     "output_type": "stream",
     "text": [
      "Testing: 100%|██████████| 1000/1000 [00:19<00:00, 51.37it/s]\n",
      "c:\\ProgramData\\Anaconda3\\envs\\modern_nlp\\lib\\site-packages\\sklearn\\metrics\\_classification.py:1987: UserWarning: y_pred contains classes not in y_true\n",
      "  warnings.warn(\"y_pred contains classes not in y_true\")\n",
      "c:\\ProgramData\\Anaconda3\\envs\\modern_nlp\\lib\\site-packages\\sklearn\\metrics\\_classification.py:1318: UndefinedMetricWarning: Recall is ill-defined and being set to 0.0 due to no true samples. Use `zero_division` parameter to control this behavior.\n",
      "  _warn_prf(average, modifier, msg_start, len(result))\n"
     ]
    },
    {
     "name": "stdout",
     "output_type": "stream",
     "text": [
      "Evaluation for dataset well_answering only zeros\n",
      "Test model loss=0.023661587908456568\n",
      "Balanced_accuracy: 0.9921\n",
      "Precision: 0.0\n",
      "Recall: 0.0\n",
      "F1: 0.0\n",
      "Impossible to define ROC_AUC - only one class presents!\n",
      "Number of ones in predictions: 79\n",
      "Number of predictions: 10000\n",
      "\n",
      "Building Twitter Dataset...\n"
     ]
    },
    {
     "name": "stderr",
     "output_type": "stream",
     "text": [
      "Testing: 100%|██████████| 1000/1000 [00:21<00:00, 47.22it/s]\n"
     ]
    },
    {
     "name": "stdout",
     "output_type": "stream",
     "text": [
      "Evaluation for dataset low_answering\n",
      "Test model loss=0.4451545643415884\n",
      "Balanced_accuracy: 0.749032507739938\n",
      "Precision: 0.13513513513513514\n",
      "Recall: 0.6066176470588235\n",
      "F1: 0.22103148024112523\n",
      "Roc_auc: 0.749032507739938\n",
      "Number of ones in predictions: 1221\n",
      "Number of predictions: 10000\n",
      "\n",
      "Building Twitter Dataset...\n"
     ]
    },
    {
     "name": "stderr",
     "output_type": "stream",
     "text": [
      "Testing: 100%|██████████| 131/131 [00:02<00:00, 51.21it/s]\n",
      "c:\\ProgramData\\Anaconda3\\envs\\modern_nlp\\lib\\site-packages\\sklearn\\metrics\\_classification.py:1987: UserWarning: y_pred contains classes not in y_true\n",
      "  warnings.warn(\"y_pred contains classes not in y_true\")\n"
     ]
    },
    {
     "name": "stdout",
     "output_type": "stream",
     "text": [
      "Evaluation for dataset low_answering only ones\n",
      "Test model loss=1.1722148260488134\n",
      "Balanced_accuracy: 0.5840978593272171\n",
      "Precision: 1.0\n",
      "Recall: 0.5840978593272171\n",
      "F1: 0.7374517374517374\n",
      "Impossible to define ROC_AUC - only one class presents!\n",
      "Number of ones in predictions: 764\n",
      "Number of predictions: 1308\n",
      "\n",
      "Building Twitter Dataset...\n"
     ]
    },
    {
     "name": "stderr",
     "output_type": "stream",
     "text": [
      "Testing: 100%|██████████| 1000/1000 [00:19<00:00, 52.56it/s]\n",
      "c:\\ProgramData\\Anaconda3\\envs\\modern_nlp\\lib\\site-packages\\sklearn\\metrics\\_classification.py:1987: UserWarning: y_pred contains classes not in y_true\n",
      "  warnings.warn(\"y_pred contains classes not in y_true\")\n",
      "c:\\ProgramData\\Anaconda3\\envs\\modern_nlp\\lib\\site-packages\\sklearn\\metrics\\_classification.py:1318: UndefinedMetricWarning: Recall is ill-defined and being set to 0.0 due to no true samples. Use `zero_division` parameter to control this behavior.\n",
      "  _warn_prf(average, modifier, msg_start, len(result))\n",
      "c:\\ProgramData\\Anaconda3\\envs\\modern_nlp\\lib\\site-packages\\ipykernel_launcher.py:37: UserWarning: FixedFormatter should only be used together with FixedLocator\n"
     ]
    },
    {
     "name": "stdout",
     "output_type": "stream",
     "text": [
      "Evaluation for dataset low_answering only zeros\n",
      "Test model loss=0.08574406095256563\n",
      "Balanced_accuracy: 0.9703\n",
      "Precision: 0.0\n",
      "Recall: 0.0\n",
      "F1: 0.0\n",
      "Impossible to define ROC_AUC - only one class presents!\n",
      "Number of ones in predictions: 297\n",
      "Number of predictions: 10000\n",
      "\n"
     ]
    },
    {
     "data": {
      "image/png": "[encoded data removed]",
      "text/plain": [
       "<Figure size 640x480 with 1 Axes>"
      ]
     },
     "metadata": {},
     "output_type": "display_data"
    }
   ],
   "source": [
    "a=evaluate_all_datasets(trainer.model)"
   ]
  },
  {
   "attachments": {},
   "cell_type": "markdown",
   "metadata": {},
   "source": [
    "### Other NGOs"
   ]
  },
  {
   "cell_type": "code",
   "execution_count": 176,
   "metadata": {},
   "outputs": [],
   "source": [
    "name=\"other_ngo\""
   ]
  },
  {
   "cell_type": "code",
   "execution_count": 177,
   "metadata": {},
   "outputs": [
    {
     "name": "stderr",
     "output_type": "stream",
     "text": [
      "Some weights of the model checkpoint at distilbert-base-uncased were not used when initializing DistilBertForSequenceClassification: ['vocab_projector.weight', 'vocab_layer_norm.bias', 'vocab_projector.bias', 'vocab_layer_norm.weight', 'vocab_transform.weight', 'vocab_transform.bias']\n",
      "- This IS expected if you are initializing DistilBertForSequenceClassification from the checkpoint of a model trained on another task or with another architecture (e.g. initializing a BertForSequenceClassification model from a BertForPreTraining model).\n",
      "- This IS NOT expected if you are initializing DistilBertForSequenceClassification from the checkpoint of a model that you expect to be exactly identical (initializing a BertForSequenceClassification model from a BertForSequenceClassification model).\n",
      "Some weights of DistilBertForSequenceClassification were not initialized from the model checkpoint at distilbert-base-uncased and are newly initialized: ['pre_classifier.bias', 'pre_classifier.weight', 'classifier.weight', 'classifier.bias']\n",
      "You should probably TRAIN this model on a down-stream task to be able to use it for predictions and inference.\n"
     ]
    },
    {
     "name": "stdout",
     "output_type": "stream",
     "text": [
      "Building Twitter Dataset...\n",
      "Building Twitter Dataset...\n"
     ]
    }
   ],
   "source": [
    "trainer=training(name,10)"
   ]
  },
  {
   "cell_type": "code",
   "execution_count": 178,
   "metadata": {},
   "outputs": [
    {
     "name": "stderr",
     "output_type": "stream",
     "text": [
      "c:\\ProgramData\\Anaconda3\\envs\\modern_nlp\\lib\\site-packages\\transformers\\optimization.py:395: FutureWarning: This implementation of AdamW is deprecated and will be removed in a future version. Use the PyTorch implementation torch.optim.AdamW instead, or set `no_deprecation_warning=True` to disable this warning\n",
      "  FutureWarning,\n"
     ]
    },
    {
     "data": {
      "application/vnd.jupyter.widget-view+json": {
       "model_id": "567ae0356138412ca1e1f86f712fdd6e",
       "version_major": 2,
       "version_minor": 0
      },
      "text/plain": [
       "  0%|          | 0/13510 [00:00<?, ?it/s]"
      ]
     },
     "metadata": {},
     "output_type": "display_data"
    },
    {
     "name": "stderr",
     "output_type": "stream",
     "text": [
      "You're using a DistilBertTokenizerFast tokenizer. Please note that with a fast tokenizer, using the `__call__` method is faster than using a method to encode the text followed by a call to the `pad` method to get a padded encoding.\n"
     ]
    },
    {
     "name": "stdout",
     "output_type": "stream",
     "text": [
      "{'loss': 0.6798, 'learning_rate': 4.96299037749815e-06, 'epoch': 0.07}\n",
      "{'loss': 0.7092, 'learning_rate': 4.9259807549963e-06, 'epoch': 0.15}\n",
      "{'loss': 0.9544, 'learning_rate': 4.888971132494449e-06, 'epoch': 0.22}\n",
      "{'loss': 0.9082, 'learning_rate': 4.8519615099925984e-06, 'epoch': 0.3}\n",
      "{'loss': 1.0924, 'learning_rate': 4.814951887490748e-06, 'epoch': 0.37}\n",
      "{'loss': 1.1128, 'learning_rate': 4.777942264988897e-06, 'epoch': 0.44}\n",
      "{'loss': 0.9767, 'learning_rate': 4.740932642487048e-06, 'epoch': 0.52}\n",
      "{'loss': 1.1132, 'learning_rate': 4.7039230199851965e-06, 'epoch': 0.59}\n",
      "{'loss': 1.0381, 'learning_rate': 4.666913397483346e-06, 'epoch': 0.67}\n",
      "{'loss': 0.8592, 'learning_rate': 4.629903774981496e-06, 'epoch': 0.74}\n",
      "{'loss': 1.1183, 'learning_rate': 4.592894152479645e-06, 'epoch': 0.81}\n",
      "{'loss': 0.9107, 'learning_rate': 4.5558845299777945e-06, 'epoch': 0.89}\n",
      "{'loss': 0.7617, 'learning_rate': 4.518874907475944e-06, 'epoch': 0.96}\n"
     ]
    },
    {
     "data": {
      "application/vnd.jupyter.widget-view+json": {
       "model_id": "93e7fc0bc060457faf09dfcc657fabab",
       "version_major": 2,
       "version_minor": 0
      },
      "text/plain": [
       "  0%|          | 0/254 [00:00<?, ?it/s]"
      ]
     },
     "metadata": {},
     "output_type": "display_data"
    },
    {
     "name": "stderr",
     "output_type": "stream",
     "text": [
      "c:\\ProgramData\\Anaconda3\\envs\\modern_nlp\\lib\\site-packages\\sklearn\\metrics\\_classification.py:1318: UndefinedMetricWarning: Precision is ill-defined and being set to 0.0 due to no predicted samples. Use `zero_division` parameter to control this behavior.\n",
      "  _warn_prf(average, modifier, msg_start, len(result))\n"
     ]
    },
    {
     "name": "stdout",
     "output_type": "stream",
     "text": [
      "{'eval_loss': 0.852306604385376, 'eval_balanced_accuracy': 0.5, 'eval_precision': 0.0, 'eval_recall': 0.0, 'eval_f1': 0.0, 'eval_runtime': 3.9387, 'eval_samples_per_second': 514.378, 'eval_steps_per_second': 64.488, 'epoch': 1.0}\n",
      "{'loss': 0.9561, 'learning_rate': 4.481865284974093e-06, 'epoch': 1.04}\n",
      "{'loss': 0.8053, 'learning_rate': 4.444855662472244e-06, 'epoch': 1.11}\n",
      "{'loss': 0.9173, 'learning_rate': 4.4078460399703925e-06, 'epoch': 1.18}\n",
      "{'loss': 0.7421, 'learning_rate': 4.370836417468542e-06, 'epoch': 1.26}\n",
      "{'loss': 0.8253, 'learning_rate': 4.333826794966692e-06, 'epoch': 1.33}\n",
      "{'loss': 0.8167, 'learning_rate': 4.296817172464841e-06, 'epoch': 1.41}\n",
      "{'loss': 0.6286, 'learning_rate': 4.259807549962991e-06, 'epoch': 1.48}\n",
      "{'loss': 0.6859, 'learning_rate': 4.22279792746114e-06, 'epoch': 1.55}\n",
      "{'loss': 0.7233, 'learning_rate': 4.18578830495929e-06, 'epoch': 1.63}\n",
      "{'loss': 0.8096, 'learning_rate': 4.14877868245744e-06, 'epoch': 1.7}\n",
      "{'loss': 0.7795, 'learning_rate': 4.1117690599555885e-06, 'epoch': 1.78}\n",
      "{'loss': 1.0091, 'learning_rate': 4.074759437453738e-06, 'epoch': 1.85}\n",
      "{'loss': 0.8647, 'learning_rate': 4.037749814951888e-06, 'epoch': 1.92}\n",
      "{'loss': 0.7948, 'learning_rate': 4.000740192450037e-06, 'epoch': 2.0}\n"
     ]
    },
    {
     "data": {
      "application/vnd.jupyter.widget-view+json": {
       "model_id": "05cb8dcda37c4409ba989ccfd749091b",
       "version_major": 2,
       "version_minor": 0
      },
      "text/plain": [
       "  0%|          | 0/254 [00:00<?, ?it/s]"
      ]
     },
     "metadata": {},
     "output_type": "display_data"
    },
    {
     "name": "stdout",
     "output_type": "stream",
     "text": [
      "{'eval_loss': 0.7655171155929565, 'eval_balanced_accuracy': 0.67, 'eval_precision': 0.86, 'eval_recall': 0.35, 'eval_f1': 0.5, 'eval_runtime': 4.2025, 'eval_samples_per_second': 482.091, 'eval_steps_per_second': 60.44, 'epoch': 2.0}\n",
      "{'loss': 0.5815, 'learning_rate': 3.963730569948187e-06, 'epoch': 2.07}\n",
      "{'loss': 0.7179, 'learning_rate': 3.926720947446336e-06, 'epoch': 2.15}\n",
      "{'loss': 0.5475, 'learning_rate': 3.889711324944486e-06, 'epoch': 2.22}\n",
      "{'loss': 0.6998, 'learning_rate': 3.852701702442636e-06, 'epoch': 2.29}\n",
      "{'loss': 0.7998, 'learning_rate': 3.815692079940785e-06, 'epoch': 2.37}\n",
      "{'loss': 0.8005, 'learning_rate': 3.7786824574389347e-06, 'epoch': 2.44}\n",
      "{'loss': 0.5716, 'learning_rate': 3.741672834937084e-06, 'epoch': 2.52}\n",
      "{'loss': 0.691, 'learning_rate': 3.7046632124352333e-06, 'epoch': 2.59}\n",
      "{'loss': 0.7595, 'learning_rate': 3.667653589933383e-06, 'epoch': 2.66}\n",
      "{'loss': 0.7825, 'learning_rate': 3.6306439674315323e-06, 'epoch': 2.74}\n",
      "{'loss': 0.6574, 'learning_rate': 3.5936343449296816e-06, 'epoch': 2.81}\n",
      "{'loss': 0.7844, 'learning_rate': 3.5566247224278318e-06, 'epoch': 2.89}\n",
      "{'loss': 0.696, 'learning_rate': 3.519615099925981e-06, 'epoch': 2.96}\n"
     ]
    },
    {
     "data": {
      "application/vnd.jupyter.widget-view+json": {
       "model_id": "452b94300e404807a73f724da74eea0d",
       "version_major": 2,
       "version_minor": 0
      },
      "text/plain": [
       "  0%|          | 0/254 [00:00<?, ?it/s]"
      ]
     },
     "metadata": {},
     "output_type": "display_data"
    },
    {
     "name": "stdout",
     "output_type": "stream",
     "text": [
      "{'eval_loss': 0.7749547362327576, 'eval_balanced_accuracy': 0.69, 'eval_precision': 0.93, 'eval_recall': 0.38, 'eval_f1': 0.54, 'eval_runtime': 4.0825, 'eval_samples_per_second': 496.262, 'eval_steps_per_second': 62.216, 'epoch': 3.0}\n",
      "{'loss': 0.6062, 'learning_rate': 3.4826054774241308e-06, 'epoch': 3.03}\n",
      "{'loss': 0.7833, 'learning_rate': 3.44559585492228e-06, 'epoch': 3.11}\n",
      "{'loss': 0.4773, 'learning_rate': 3.4085862324204294e-06, 'epoch': 3.18}\n",
      "{'loss': 0.6105, 'learning_rate': 3.371576609918579e-06, 'epoch': 3.26}\n",
      "{'loss': 0.6349, 'learning_rate': 3.3345669874167288e-06, 'epoch': 3.33}\n",
      "{'loss': 0.6236, 'learning_rate': 3.297557364914878e-06, 'epoch': 3.4}\n",
      "{'loss': 0.6724, 'learning_rate': 3.260547742413028e-06, 'epoch': 3.48}\n",
      "{'loss': 0.6817, 'learning_rate': 3.223538119911177e-06, 'epoch': 3.55}\n",
      "{'loss': 0.6974, 'learning_rate': 3.186528497409327e-06, 'epoch': 3.63}\n",
      "{'loss': 0.6022, 'learning_rate': 3.149518874907476e-06, 'epoch': 3.7}\n",
      "{'loss': 0.8298, 'learning_rate': 3.1125092524056254e-06, 'epoch': 3.77}\n",
      "{'loss': 0.7336, 'learning_rate': 3.0754996299037755e-06, 'epoch': 3.85}\n",
      "{'loss': 0.7575, 'learning_rate': 3.038490007401925e-06, 'epoch': 3.92}\n",
      "{'loss': 0.6574, 'learning_rate': 3.0014803849000745e-06, 'epoch': 4.0}\n"
     ]
    },
    {
     "data": {
      "application/vnd.jupyter.widget-view+json": {
       "model_id": "d1107dce2a9648a1b1aa055f4a91dbe9",
       "version_major": 2,
       "version_minor": 0
      },
      "text/plain": [
       "  0%|          | 0/254 [00:00<?, ?it/s]"
      ]
     },
     "metadata": {},
     "output_type": "display_data"
    },
    {
     "name": "stdout",
     "output_type": "stream",
     "text": [
      "{'eval_loss': 0.6743004322052002, 'eval_balanced_accuracy': 0.71, 'eval_precision': 0.9, 'eval_recall': 0.43, 'eval_f1': 0.58, 'eval_runtime': 3.9214, 'eval_samples_per_second': 516.656, 'eval_steps_per_second': 64.773, 'epoch': 4.0}\n",
      "{'loss': 0.4996, 'learning_rate': 2.964470762398224e-06, 'epoch': 4.07}\n",
      "{'loss': 0.5922, 'learning_rate': 2.927461139896373e-06, 'epoch': 4.15}\n",
      "{'loss': 0.5412, 'learning_rate': 2.890451517394523e-06, 'epoch': 4.22}\n",
      "{'loss': 0.7325, 'learning_rate': 2.853441894892672e-06, 'epoch': 4.29}\n",
      "{'loss': 0.5806, 'learning_rate': 2.8164322723908214e-06, 'epoch': 4.37}\n",
      "{'loss': 0.6577, 'learning_rate': 2.7794226498889716e-06, 'epoch': 4.44}\n",
      "{'loss': 0.5633, 'learning_rate': 2.742413027387121e-06, 'epoch': 4.52}\n",
      "{'loss': 0.3657, 'learning_rate': 2.7054034048852706e-06, 'epoch': 4.59}\n",
      "{'loss': 0.807, 'learning_rate': 2.66839378238342e-06, 'epoch': 4.66}\n",
      "{'loss': 0.711, 'learning_rate': 2.631384159881569e-06, 'epoch': 4.74}\n",
      "{'loss': 0.6001, 'learning_rate': 2.5943745373797193e-06, 'epoch': 4.81}\n",
      "{'loss': 0.5828, 'learning_rate': 2.5573649148778686e-06, 'epoch': 4.89}\n",
      "{'loss': 0.8681, 'learning_rate': 2.520355292376018e-06, 'epoch': 4.96}\n"
     ]
    },
    {
     "data": {
      "application/vnd.jupyter.widget-view+json": {
       "model_id": "04bf9141e3aa43d0a2529b448ca3cfc7",
       "version_major": 2,
       "version_minor": 0
      },
      "text/plain": [
       "  0%|          | 0/254 [00:00<?, ?it/s]"
      ]
     },
     "metadata": {},
     "output_type": "display_data"
    },
    {
     "name": "stdout",
     "output_type": "stream",
     "text": [
      "{'eval_loss': 0.5266098976135254, 'eval_balanced_accuracy': 0.76, 'eval_precision': 0.9, 'eval_recall': 0.53, 'eval_f1': 0.67, 'eval_runtime': 4.058, 'eval_samples_per_second': 499.261, 'eval_steps_per_second': 62.592, 'epoch': 5.0}\n",
      "{'loss': 0.5309, 'learning_rate': 2.4833456698741676e-06, 'epoch': 5.03}\n",
      "{'loss': 0.4779, 'learning_rate': 2.446336047372317e-06, 'epoch': 5.11}\n",
      "{'loss': 0.6031, 'learning_rate': 2.4093264248704666e-06, 'epoch': 5.18}\n",
      "{'loss': 0.6255, 'learning_rate': 2.372316802368616e-06, 'epoch': 5.26}\n",
      "{'loss': 0.6172, 'learning_rate': 2.3353071798667656e-06, 'epoch': 5.33}\n",
      "{'loss': 0.6096, 'learning_rate': 2.298297557364915e-06, 'epoch': 5.4}\n",
      "{'loss': 0.4745, 'learning_rate': 2.2612879348630647e-06, 'epoch': 5.48}\n",
      "{'loss': 0.6812, 'learning_rate': 2.224278312361214e-06, 'epoch': 5.55}\n",
      "{'loss': 0.6469, 'learning_rate': 2.1872686898593637e-06, 'epoch': 5.63}\n",
      "{'loss': 0.6881, 'learning_rate': 2.150259067357513e-06, 'epoch': 5.7}\n",
      "{'loss': 0.5345, 'learning_rate': 2.1132494448556627e-06, 'epoch': 5.77}\n",
      "{'loss': 0.6488, 'learning_rate': 2.076239822353812e-06, 'epoch': 5.85}\n",
      "{'loss': 0.47, 'learning_rate': 2.0392301998519617e-06, 'epoch': 5.92}\n",
      "{'loss': 0.6532, 'learning_rate': 2.0022205773501114e-06, 'epoch': 6.0}\n"
     ]
    },
    {
     "data": {
      "application/vnd.jupyter.widget-view+json": {
       "model_id": "e66dda87bdf4436998e3ded246a74a4b",
       "version_major": 2,
       "version_minor": 0
      },
      "text/plain": [
       "  0%|          | 0/254 [00:00<?, ?it/s]"
      ]
     },
     "metadata": {},
     "output_type": "display_data"
    },
    {
     "name": "stdout",
     "output_type": "stream",
     "text": [
      "{'eval_loss': 0.5103117227554321, 'eval_balanced_accuracy': 0.81, 'eval_precision': 0.96, 'eval_recall': 0.61, 'eval_f1': 0.75, 'eval_runtime': 3.9481, 'eval_samples_per_second': 513.153, 'eval_steps_per_second': 64.334, 'epoch': 6.0}\n",
      "{'loss': 0.5156, 'learning_rate': 1.9652109548482607e-06, 'epoch': 6.07}\n",
      "{'loss': 0.5142, 'learning_rate': 1.9282013323464104e-06, 'epoch': 6.14}\n",
      "{'loss': 0.5013, 'learning_rate': 1.8911917098445597e-06, 'epoch': 6.22}\n",
      "{'loss': 0.4312, 'learning_rate': 1.8541820873427094e-06, 'epoch': 6.29}\n",
      "{'loss': 0.6098, 'learning_rate': 1.8171724648408587e-06, 'epoch': 6.37}\n",
      "{'loss': 0.4069, 'learning_rate': 1.7801628423390082e-06, 'epoch': 6.44}\n",
      "{'loss': 0.6791, 'learning_rate': 1.743153219837158e-06, 'epoch': 6.51}\n",
      "{'loss': 0.519, 'learning_rate': 1.7061435973353074e-06, 'epoch': 6.59}\n",
      "{'loss': 0.5981, 'learning_rate': 1.6691339748334567e-06, 'epoch': 6.66}\n",
      "{'loss': 0.5877, 'learning_rate': 1.6321243523316062e-06, 'epoch': 6.74}\n",
      "{'loss': 0.526, 'learning_rate': 1.595114729829756e-06, 'epoch': 6.81}\n",
      "{'loss': 0.5586, 'learning_rate': 1.5581051073279055e-06, 'epoch': 6.88}\n",
      "{'loss': 0.2128, 'learning_rate': 1.5210954848260548e-06, 'epoch': 6.96}\n"
     ]
    },
    {
     "data": {
      "application/vnd.jupyter.widget-view+json": {
       "model_id": "f78eb10e1ba14856a700ddee5e064cc1",
       "version_major": 2,
       "version_minor": 0
      },
      "text/plain": [
       "  0%|          | 0/254 [00:00<?, ?it/s]"
      ]
     },
     "metadata": {},
     "output_type": "display_data"
    },
    {
     "name": "stdout",
     "output_type": "stream",
     "text": [
      "{'eval_loss': 0.423846036195755, 'eval_balanced_accuracy': 0.85, 'eval_precision': 0.96, 'eval_recall': 0.71, 'eval_f1': 0.82, 'eval_runtime': 3.9522, 'eval_samples_per_second': 512.623, 'eval_steps_per_second': 64.268, 'epoch': 7.0}\n",
      "{'loss': 0.4387, 'learning_rate': 1.4840858623242045e-06, 'epoch': 7.03}\n",
      "{'loss': 0.5962, 'learning_rate': 1.447076239822354e-06, 'epoch': 7.11}\n",
      "{'loss': 0.436, 'learning_rate': 1.4100666173205035e-06, 'epoch': 7.18}\n",
      "{'loss': 0.4693, 'learning_rate': 1.3730569948186528e-06, 'epoch': 7.25}\n",
      "{'loss': 0.4958, 'learning_rate': 1.3360473723168025e-06, 'epoch': 7.33}\n",
      "{'loss': 0.3613, 'learning_rate': 1.299037749814952e-06, 'epoch': 7.4}\n",
      "{'loss': 0.5562, 'learning_rate': 1.2620281273131015e-06, 'epoch': 7.48}\n",
      "{'loss': 0.5361, 'learning_rate': 1.225018504811251e-06, 'epoch': 7.55}\n",
      "{'loss': 0.6443, 'learning_rate': 1.1880088823094005e-06, 'epoch': 7.62}\n",
      "{'loss': 0.3759, 'learning_rate': 1.15099925980755e-06, 'epoch': 7.7}\n",
      "{'loss': 0.3671, 'learning_rate': 1.1139896373056995e-06, 'epoch': 7.77}\n",
      "{'loss': 0.3999, 'learning_rate': 1.076980014803849e-06, 'epoch': 7.85}\n",
      "{'loss': 0.4105, 'learning_rate': 1.0399703923019988e-06, 'epoch': 7.92}\n",
      "{'loss': 0.5631, 'learning_rate': 1.002960769800148e-06, 'epoch': 7.99}\n"
     ]
    },
    {
     "data": {
      "application/vnd.jupyter.widget-view+json": {
       "model_id": "3baecdf026fe456485bee92e61350668",
       "version_major": 2,
       "version_minor": 0
      },
      "text/plain": [
       "  0%|          | 0/254 [00:00<?, ?it/s]"
      ]
     },
     "metadata": {},
     "output_type": "display_data"
    },
    {
     "name": "stdout",
     "output_type": "stream",
     "text": [
      "{'eval_loss': 0.38883310556411743, 'eval_balanced_accuracy': 0.86, 'eval_precision': 0.96, 'eval_recall': 0.72, 'eval_f1': 0.82, 'eval_runtime': 4.0115, 'eval_samples_per_second': 505.043, 'eval_steps_per_second': 63.317, 'epoch': 8.0}\n",
      "{'loss': 0.5824, 'learning_rate': 9.659511472982978e-07, 'epoch': 8.07}\n",
      "{'loss': 0.2492, 'learning_rate': 9.289415247964472e-07, 'epoch': 8.14}\n",
      "{'loss': 0.4829, 'learning_rate': 8.919319022945968e-07, 'epoch': 8.22}\n",
      "{'loss': 0.2818, 'learning_rate': 8.549222797927462e-07, 'epoch': 8.29}\n",
      "{'loss': 0.5188, 'learning_rate': 8.179126572908958e-07, 'epoch': 8.36}\n",
      "{'loss': 0.3792, 'learning_rate': 7.809030347890452e-07, 'epoch': 8.44}\n",
      "{'loss': 0.418, 'learning_rate': 7.438934122871948e-07, 'epoch': 8.51}\n",
      "{'loss': 0.5681, 'learning_rate': 7.068837897853442e-07, 'epoch': 8.59}\n",
      "{'loss': 0.5112, 'learning_rate': 6.698741672834938e-07, 'epoch': 8.66}\n",
      "{'loss': 0.3748, 'learning_rate': 6.328645447816432e-07, 'epoch': 8.73}\n",
      "{'loss': 0.3906, 'learning_rate': 5.958549222797927e-07, 'epoch': 8.81}\n",
      "{'loss': 0.3507, 'learning_rate': 5.588452997779423e-07, 'epoch': 8.88}\n",
      "{'loss': 0.5249, 'learning_rate': 5.218356772760918e-07, 'epoch': 8.96}\n"
     ]
    },
    {
     "data": {
      "application/vnd.jupyter.widget-view+json": {
       "model_id": "355b9fb1b8364be281f46a3d42afc24e",
       "version_major": 2,
       "version_minor": 0
      },
      "text/plain": [
       "  0%|          | 0/254 [00:00<?, ?it/s]"
      ]
     },
     "metadata": {},
     "output_type": "display_data"
    },
    {
     "name": "stdout",
     "output_type": "stream",
     "text": [
      "{'eval_loss': 0.43894049525260925, 'eval_balanced_accuracy': 0.85, 'eval_precision': 0.98, 'eval_recall': 0.7, 'eval_f1': 0.82, 'eval_runtime': 3.9097, 'eval_samples_per_second': 518.204, 'eval_steps_per_second': 64.967, 'epoch': 9.0}\n",
      "{'loss': 0.4824, 'learning_rate': 4.848260547742413e-07, 'epoch': 9.03}\n",
      "{'loss': 0.3244, 'learning_rate': 4.478164322723909e-07, 'epoch': 9.1}\n",
      "{'loss': 0.5549, 'learning_rate': 4.108068097705404e-07, 'epoch': 9.18}\n",
      "{'loss': 0.4289, 'learning_rate': 3.737971872686899e-07, 'epoch': 9.25}\n",
      "{'loss': 0.4624, 'learning_rate': 3.367875647668394e-07, 'epoch': 9.33}\n",
      "{'loss': 0.2904, 'learning_rate': 2.997779422649889e-07, 'epoch': 9.4}\n",
      "{'loss': 0.441, 'learning_rate': 2.6276831976313847e-07, 'epoch': 9.47}\n",
      "{'loss': 0.4217, 'learning_rate': 2.2575869726128798e-07, 'epoch': 9.55}\n",
      "{'loss': 0.4612, 'learning_rate': 1.8874907475943748e-07, 'epoch': 9.62}\n",
      "{'loss': 0.5155, 'learning_rate': 1.5173945225758699e-07, 'epoch': 9.7}\n",
      "{'loss': 0.3151, 'learning_rate': 1.147298297557365e-07, 'epoch': 9.77}\n",
      "{'loss': 0.4051, 'learning_rate': 7.772020725388601e-08, 'epoch': 9.84}\n",
      "{'loss': 0.5063, 'learning_rate': 4.071058475203553e-08, 'epoch': 9.92}\n",
      "{'loss': 0.3342, 'learning_rate': 3.700962250185048e-09, 'epoch': 9.99}\n"
     ]
    },
    {
     "data": {
      "application/vnd.jupyter.widget-view+json": {
       "model_id": "7659e3288e084cd3bf1ab01e59ae0b1c",
       "version_major": 2,
       "version_minor": 0
      },
      "text/plain": [
       "  0%|          | 0/254 [00:00<?, ?it/s]"
      ]
     },
     "metadata": {},
     "output_type": "display_data"
    },
    {
     "name": "stdout",
     "output_type": "stream",
     "text": [
      "{'eval_loss': 0.4271170198917389, 'eval_balanced_accuracy': 0.86, 'eval_precision': 0.98, 'eval_recall': 0.72, 'eval_f1': 0.83, 'eval_runtime': 4.073, 'eval_samples_per_second': 497.422, 'eval_steps_per_second': 62.362, 'epoch': 10.0}\n",
      "{'train_runtime': 918.7429, 'train_samples_per_second': 117.606, 'train_steps_per_second': 14.705, 'train_loss': 0.6167643979070453, 'epoch': 10.0}\n"
     ]
    },
    {
     "data": {
      "text/plain": [
       "TrainOutput(global_step=13510, training_loss=0.6167643979070453, metrics={'train_runtime': 918.7429, 'train_samples_per_second': 117.606, 'train_steps_per_second': 14.705, 'train_loss': 0.6167643979070453, 'epoch': 10.0})"
      ]
     },
     "execution_count": 178,
     "metadata": {},
     "output_type": "execute_result"
    }
   ],
   "source": [
    "trainer.train()"
   ]
  },
  {
   "cell_type": "code",
   "execution_count": 179,
   "metadata": {},
   "outputs": [
    {
     "data": {
      "image/png": "[encoded data removed]",
      "text/plain": [
       "<Figure size 640x480 with 1 Axes>"
      ]
     },
     "metadata": {},
     "output_type": "display_data"
    }
   ],
   "source": [
    "plot_save_results(trainer,name)"
   ]
  },
  {
   "cell_type": "code",
   "execution_count": 180,
   "metadata": {},
   "outputs": [
    {
     "name": "stdout",
     "output_type": "stream",
     "text": [
      "Building Twitter Dataset...\n"
     ]
    },
    {
     "name": "stderr",
     "output_type": "stream",
     "text": [
      "Testing: 100%|██████████| 68/68 [00:01<00:00, 49.15it/s]\n"
     ]
    },
    {
     "name": "stdout",
     "output_type": "stream",
     "text": [
      "Evaluation for dataset well_answering\n",
      "Test model loss=0.06128070251083152\n",
      "Balanced_accuracy: 0.8470311743969032\n",
      "Precision: 0.9696969696969697\n",
      "Recall: 0.6956521739130435\n",
      "F1: 0.810126582278481\n",
      "Roc_auc: 0.8470311743969032\n",
      "Number of ones in predictions: 33\n",
      "Number of predictions: 675\n",
      "\n",
      "Building Twitter Dataset...\n"
     ]
    },
    {
     "name": "stderr",
     "output_type": "stream",
     "text": [
      "Testing: 100%|██████████| 92/92 [00:01<00:00, 51.83it/s]\n",
      "c:\\ProgramData\\Anaconda3\\envs\\modern_nlp\\lib\\site-packages\\sklearn\\metrics\\_classification.py:1987: UserWarning: y_pred contains classes not in y_true\n",
      "  warnings.warn(\"y_pred contains classes not in y_true\")\n"
     ]
    },
    {
     "name": "stdout",
     "output_type": "stream",
     "text": [
      "Evaluation for dataset well_answering only ones\n",
      "Test model loss=0.8536335927403896\n",
      "Balanced_accuracy: 0.6608505997818975\n",
      "Precision: 1.0\n",
      "Recall: 0.6608505997818975\n",
      "F1: 0.7957977675640184\n",
      "Impossible to define ROC_AUC - only one class presents!\n",
      "Number of ones in predictions: 606\n",
      "Number of predictions: 917\n",
      "\n",
      "Building Twitter Dataset...\n"
     ]
    },
    {
     "name": "stderr",
     "output_type": "stream",
     "text": [
      "Testing: 100%|██████████| 1000/1000 [00:17<00:00, 56.45it/s]\n",
      "c:\\ProgramData\\Anaconda3\\envs\\modern_nlp\\lib\\site-packages\\sklearn\\metrics\\_classification.py:1987: UserWarning: y_pred contains classes not in y_true\n",
      "  warnings.warn(\"y_pred contains classes not in y_true\")\n",
      "c:\\ProgramData\\Anaconda3\\envs\\modern_nlp\\lib\\site-packages\\sklearn\\metrics\\_classification.py:1318: UndefinedMetricWarning: Recall is ill-defined and being set to 0.0 due to no true samples. Use `zero_division` parameter to control this behavior.\n",
      "  _warn_prf(average, modifier, msg_start, len(result))\n"
     ]
    },
    {
     "name": "stdout",
     "output_type": "stream",
     "text": [
      "Evaluation for dataset well_answering only zeros\n",
      "Test model loss=0.011411050008580788\n",
      "Balanced_accuracy: 0.996\n",
      "Precision: 0.0\n",
      "Recall: 0.0\n",
      "F1: 0.0\n",
      "Impossible to define ROC_AUC - only one class presents!\n",
      "Number of ones in predictions: 40\n",
      "Number of predictions: 10000\n",
      "\n",
      "Building Twitter Dataset...\n"
     ]
    },
    {
     "name": "stderr",
     "output_type": "stream",
     "text": [
      "Testing: 100%|██████████| 1000/1000 [00:18<00:00, 53.14it/s]\n"
     ]
    },
    {
     "name": "stdout",
     "output_type": "stream",
     "text": [
      "Evaluation for dataset low_answering\n",
      "Test model loss=3.132541338920593\n",
      "Balanced_accuracy: 0.6099193128237009\n",
      "Precision: 0.008940666486047142\n",
      "Recall: 0.9565217391304348\n",
      "F1: 0.01771574285330828\n",
      "Roc_auc: 0.6099193128237009\n",
      "Number of ones in predictions: 7382\n",
      "Number of predictions: 10000\n",
      "\n",
      "Building Twitter Dataset...\n"
     ]
    },
    {
     "name": "stderr",
     "output_type": "stream",
     "text": [
      "Testing: 100%|██████████| 21/21 [00:00<00:00, 57.38it/s]\n",
      "c:\\ProgramData\\Anaconda3\\envs\\modern_nlp\\lib\\site-packages\\sklearn\\metrics\\_classification.py:1987: UserWarning: y_pred contains classes not in y_true\n",
      "  warnings.warn(\"y_pred contains classes not in y_true\")\n"
     ]
    },
    {
     "name": "stdout",
     "output_type": "stream",
     "text": [
      "Evaluation for dataset low_answering only ones\n",
      "Test model loss=0.11521104452168358\n",
      "Balanced_accuracy: 0.9264705882352942\n",
      "Precision: 1.0\n",
      "Recall: 0.9264705882352942\n",
      "F1: 0.9618320610687023\n",
      "Impossible to define ROC_AUC - only one class presents!\n",
      "Number of ones in predictions: 189\n",
      "Number of predictions: 204\n",
      "\n",
      "Building Twitter Dataset...\n"
     ]
    },
    {
     "name": "stderr",
     "output_type": "stream",
     "text": [
      "Testing: 100%|██████████| 1000/1000 [00:16<00:00, 62.45it/s]\n",
      "c:\\ProgramData\\Anaconda3\\envs\\modern_nlp\\lib\\site-packages\\sklearn\\metrics\\_classification.py:1987: UserWarning: y_pred contains classes not in y_true\n",
      "  warnings.warn(\"y_pred contains classes not in y_true\")\n",
      "c:\\ProgramData\\Anaconda3\\envs\\modern_nlp\\lib\\site-packages\\sklearn\\metrics\\_classification.py:1318: UndefinedMetricWarning: Recall is ill-defined and being set to 0.0 due to no true samples. Use `zero_division` parameter to control this behavior.\n",
      "  _warn_prf(average, modifier, msg_start, len(result))\n",
      "c:\\ProgramData\\Anaconda3\\envs\\modern_nlp\\lib\\site-packages\\ipykernel_launcher.py:37: UserWarning: FixedFormatter should only be used together with FixedLocator\n"
     ]
    },
    {
     "name": "stdout",
     "output_type": "stream",
     "text": [
      "Evaluation for dataset low_answering only zeros\n",
      "Test model loss=1.8480098823740554\n",
      "Balanced_accuracy: 0.575\n",
      "Precision: 0.0\n",
      "Recall: 0.0\n",
      "F1: 0.0\n",
      "Impossible to define ROC_AUC - only one class presents!\n",
      "Number of ones in predictions: 4250\n",
      "Number of predictions: 10000\n",
      "\n"
     ]
    },
    {
     "data": {
      "image/png": "[encoded data removed]",
      "text/plain": [
       "<Figure size 640x480 with 1 Axes>"
      ]
     },
     "metadata": {},
     "output_type": "display_data"
    }
   ],
   "source": [
    "a=evaluate_all_datasets(trainer.model)"
   ]
  }
 ],
 "metadata": {
  "kernelspec": {
   "display_name": "modern_nlp",
   "language": "python",
   "name": "python3"
  },
  "language_info": {
   "codemirror_mode": {
    "name": "ipython",
    "version": 3
   },
   "file_extension": ".py",
   "mimetype": "text/x-python",
   "name": "python",
   "nbconvert_exporter": "python",
   "pygments_lexer": "ipython3",
   "version": "3.7.0"
  },
  "orig_nbformat": 4,
  "vscode": {
   "interpreter": {
    "hash": "2303e3373459ebdbcb3b554d40642bbf8ad02f41f6ee14c75d5a4fa0e40e147b"
   }
  }
 },
 "nbformat": 4,
 "nbformat_minor": 2
}
