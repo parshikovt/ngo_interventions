{
 "cells": [
  {
   "cell_type": "code",
   "execution_count": 1,
   "metadata": {},
   "outputs": [],
   "source": [
    "import os\n",
    "import pandas as pd"
   ]
  },
  {
   "attachments": {},
   "cell_type": "markdown",
   "metadata": {},
   "source": [
    "#### Dropping tweets from other organisations"
   ]
  },
  {
   "cell_type": "code",
   "execution_count": 9,
   "metadata": {},
   "outputs": [],
   "source": [
    "all_ids = pd.read_csv(\"all_ids.txt\",sep=\"\\t\")\n",
    "all_ids['username']=all_ids['username'].apply(lambda x:x.replace(\"@\",\"\"))"
   ]
  },
  {
   "cell_type": "code",
   "execution_count": 32,
   "metadata": {},
   "outputs": [],
   "source": [
    "ngo_id={}\n",
    "for file in os.listdir(\"parsed_conversations\"):\n",
    "    if \"all\" in file:\n",
    "        ngo_id[file.split(\"_all\")[0]]=all_ids[all_ids.username==file.split(\"_all\")[0]]['User id'].values[0]"
   ]
  },
  {
   "cell_type": "code",
   "execution_count": 44,
   "metadata": {},
   "outputs": [],
   "source": [
    "for file in os.listdir(\"parsed_conversations\"):\n",
    "    if \"all\" in file:\n",
    "        df=pd.read_csv(\"parsed_conversations/\"+file)\n",
    "        author=ngo_id[file.split(\"_all\")[0]]\n",
    "        other_ngo=[i for i in ngo_id.values() if i!=ngo_id[file.split(\"_all\")[0]]]\n",
    "        df=df[~df.author_id.isin(other_ngo)].copy()\n",
    "        df.to_csv(\"parsed_conversations/\"+file,index=False)"
   ]
  },
  {
   "cell_type": "code",
   "execution_count": null,
   "metadata": {},
   "outputs": [],
   "source": []
  }
 ],
 "metadata": {
  "kernelspec": {
   "display_name": "semester_project",
   "language": "python",
   "name": "python3"
  },
  "language_info": {
   "codemirror_mode": {
    "name": "ipython",
    "version": 3
   },
   "file_extension": ".py",
   "mimetype": "text/x-python",
   "name": "python",
   "nbconvert_exporter": "python",
   "pygments_lexer": "ipython3",
   "version": "3.9.16"
  },
  "orig_nbformat": 4,
  "vscode": {
   "interpreter": {
    "hash": "a9215884f317b28951366236cef9f8992a096a5b1fa6c5fa4d454321ff0331c5"
   }
  }
 },
 "nbformat": 4,
 "nbformat_minor": 2
}
