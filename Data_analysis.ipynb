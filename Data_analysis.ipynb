{
 "cells": [
  {
   "cell_type": "code",
   "execution_count": 74,
   "metadata": {},
   "outputs": [
    {
     "name": "stderr",
     "output_type": "stream",
     "text": [
      "[nltk_data] Downloading package wordnet to\n",
      "[nltk_data]     C:\\Users\\tihon\\AppData\\Roaming\\nltk_data...\n",
      "[nltk_data]   Package wordnet is already up-to-date!\n",
      "[nltk_data] Downloading package stopwords to\n",
      "[nltk_data]     C:\\Users\\tihon\\AppData\\Roaming\\nltk_data...\n",
      "[nltk_data]   Package stopwords is already up-to-date!\n"
     ]
    },
    {
     "data": {
      "text/plain": [
       "True"
      ]
     },
     "execution_count": 74,
     "metadata": {},
     "output_type": "execute_result"
    }
   ],
   "source": [
    "import pandas as pd\n",
    "import os\n",
    "import nltk\n",
    "nltk.download('stopwords')"
   ]
  },
  {
   "cell_type": "code",
   "execution_count": 83,
   "metadata": {},
   "outputs": [],
   "source": [
    "stop_words = nltk.corpus.stopwords.words('english')\n",
    "stop_words.append('uh')\n",
    "import string\n",
    "puncs = string.punctuation\n",
    "import re"
   ]
  },
  {
   "cell_type": "code",
   "execution_count": 16,
   "metadata": {},
   "outputs": [],
   "source": [
    "for ind,file in enumerate(os.listdir(\"labeled\")):\n",
    "    if ind==0:\n",
    "        df=pd.read_csv(\"labeled/\"+file,index_col=0)\n",
    "    else:\n",
    "        df1=pd.read_csv(\"labeled/\"+file,index_col=0)\n",
    "        df=pd.concat([df,df1])\n"
   ]
  },
  {
   "cell_type": "code",
   "execution_count": 64,
   "metadata": {},
   "outputs": [],
   "source": [
    "df=df.dropna(subset='text').copy()"
   ]
  },
  {
   "cell_type": "code",
   "execution_count": 112,
   "metadata": {},
   "outputs": [],
   "source": [
    "df[\"text_new\"]=df[\"text\"].apply(lambda x: [word for word in [re.sub(f\"[{puncs}]\",\"\",token).lower() for token in x.split() if token[0]!='@'] if word not in stop_words+['rt','']])\n",
    "df[\"num_mentions\"]=df[\"text\"].apply(lambda x: len([i for i in x.split() if i[0]=='@']))\n",
    "df[\"num_links\"]=df[\"text\"].apply(lambda x: len([i for i in x.split() if 'http'in i]))"
   ]
  },
  {
   "attachments": {},
   "cell_type": "markdown",
   "metadata": {},
   "source": [
    "### How often do NGOs answer"
   ]
  },
  {
   "cell_type": "code",
   "execution_count": 166,
   "metadata": {},
   "outputs": [
    {
     "data": {
      "text/html": [
       "<div>\n",
       "<style scoped>\n",
       "    .dataframe tbody tr th:only-of-type {\n",
       "        vertical-align: middle;\n",
       "    }\n",
       "\n",
       "    .dataframe tbody tr th {\n",
       "        vertical-align: top;\n",
       "    }\n",
       "\n",
       "    .dataframe thead th {\n",
       "        text-align: right;\n",
       "    }\n",
       "</style>\n",
       "<table border=\"1\" class=\"dataframe\">\n",
       "  <thead>\n",
       "    <tr style=\"text-align: right;\">\n",
       "      <th></th>\n",
       "      <th></th>\n",
       "      <th>id</th>\n",
       "    </tr>\n",
       "    <tr>\n",
       "      <th>relatedNGO</th>\n",
       "      <th>label</th>\n",
       "      <th></th>\n",
       "    </tr>\n",
       "  </thead>\n",
       "  <tbody>\n",
       "    <tr>\n",
       "      <th rowspan=\"2\" valign=\"top\">BritishRedCross</th>\n",
       "      <th>0.0</th>\n",
       "      <td>18652</td>\n",
       "    </tr>\n",
       "    <tr>\n",
       "      <th>1.0</th>\n",
       "      <td>1702</td>\n",
       "    </tr>\n",
       "    <tr>\n",
       "      <th rowspan=\"2\" valign=\"top\">CatholicRelief</th>\n",
       "      <th>0.0</th>\n",
       "      <td>1071</td>\n",
       "    </tr>\n",
       "    <tr>\n",
       "      <th>1.0</th>\n",
       "      <td>19</td>\n",
       "    </tr>\n",
       "    <tr>\n",
       "      <th rowspan=\"2\" valign=\"top\">Ch_JesusChrist</th>\n",
       "      <th>0.0</th>\n",
       "      <td>16566</td>\n",
       "    </tr>\n",
       "    <tr>\n",
       "      <th>1.0</th>\n",
       "      <td>19</td>\n",
       "    </tr>\n",
       "    <tr>\n",
       "      <th rowspan=\"2\" valign=\"top\">Habitat_org</th>\n",
       "      <th>0.0</th>\n",
       "      <td>4737</td>\n",
       "    </tr>\n",
       "    <tr>\n",
       "      <th>1.0</th>\n",
       "      <td>250</td>\n",
       "    </tr>\n",
       "    <tr>\n",
       "      <th rowspan=\"2\" valign=\"top\">ICRC_Nairobi</th>\n",
       "      <th>0.0</th>\n",
       "      <td>1336</td>\n",
       "    </tr>\n",
       "    <tr>\n",
       "      <th>1.0</th>\n",
       "      <td>104</td>\n",
       "    </tr>\n",
       "    <tr>\n",
       "      <th rowspan=\"2\" valign=\"top\">IFRC_Europe</th>\n",
       "      <th>0.0</th>\n",
       "      <td>4742</td>\n",
       "    </tr>\n",
       "    <tr>\n",
       "      <th>1.0</th>\n",
       "      <td>30</td>\n",
       "    </tr>\n",
       "    <tr>\n",
       "      <th rowspan=\"2\" valign=\"top\">NepalRedCross</th>\n",
       "      <th>0.0</th>\n",
       "      <td>206</td>\n",
       "    </tr>\n",
       "    <tr>\n",
       "      <th>1.0</th>\n",
       "      <td>22</td>\n",
       "    </tr>\n",
       "    <tr>\n",
       "      <th rowspan=\"2\" valign=\"top\">RESCUEorg</th>\n",
       "      <th>0.0</th>\n",
       "      <td>2894</td>\n",
       "    </tr>\n",
       "    <tr>\n",
       "      <th>1.0</th>\n",
       "      <td>14</td>\n",
       "    </tr>\n",
       "    <tr>\n",
       "      <th rowspan=\"2\" valign=\"top\">RedCross</th>\n",
       "      <th>0.0</th>\n",
       "      <td>66318</td>\n",
       "    </tr>\n",
       "    <tr>\n",
       "      <th>1.0</th>\n",
       "      <td>1672</td>\n",
       "    </tr>\n",
       "    <tr>\n",
       "      <th rowspan=\"2\" valign=\"top\">RedCrossAU</th>\n",
       "      <th>0.0</th>\n",
       "      <td>4996</td>\n",
       "    </tr>\n",
       "    <tr>\n",
       "      <th>1.0</th>\n",
       "      <td>606</td>\n",
       "    </tr>\n",
       "    <tr>\n",
       "      <th rowspan=\"2\" valign=\"top\">RedCrossLebanon</th>\n",
       "      <th>0.0</th>\n",
       "      <td>6930</td>\n",
       "    </tr>\n",
       "    <tr>\n",
       "      <th>1.0</th>\n",
       "      <td>88</td>\n",
       "    </tr>\n",
       "    <tr>\n",
       "      <th rowspan=\"2\" valign=\"top\">SalvationArmyUS</th>\n",
       "      <th>0.0</th>\n",
       "      <td>1149</td>\n",
       "    </tr>\n",
       "    <tr>\n",
       "      <th>1.0</th>\n",
       "      <td>100</td>\n",
       "    </tr>\n",
       "    <tr>\n",
       "      <th rowspan=\"2\" valign=\"top\">SavetheChildren</th>\n",
       "      <th>0.0</th>\n",
       "      <td>4223</td>\n",
       "    </tr>\n",
       "    <tr>\n",
       "      <th>1.0</th>\n",
       "      <td>112</td>\n",
       "    </tr>\n",
       "    <tr>\n",
       "      <th rowspan=\"2\" valign=\"top\">WorldVision</th>\n",
       "      <th>0.0</th>\n",
       "      <td>4401</td>\n",
       "    </tr>\n",
       "    <tr>\n",
       "      <th>1.0</th>\n",
       "      <td>359</td>\n",
       "    </tr>\n",
       "    <tr>\n",
       "      <th rowspan=\"2\" valign=\"top\">boyscouts</th>\n",
       "      <th>0.0</th>\n",
       "      <td>8070</td>\n",
       "    </tr>\n",
       "    <tr>\n",
       "      <th>1.0</th>\n",
       "      <td>2</td>\n",
       "    </tr>\n",
       "    <tr>\n",
       "      <th rowspan=\"2\" valign=\"top\">girlscouts</th>\n",
       "      <th>0.0</th>\n",
       "      <td>2305</td>\n",
       "    </tr>\n",
       "    <tr>\n",
       "      <th>1.0</th>\n",
       "      <td>208</td>\n",
       "    </tr>\n",
       "    <tr>\n",
       "      <th rowspan=\"2\" valign=\"top\">irishredcross</th>\n",
       "      <th>0.0</th>\n",
       "      <td>1068</td>\n",
       "    </tr>\n",
       "    <tr>\n",
       "      <th>1.0</th>\n",
       "      <td>36</td>\n",
       "    </tr>\n",
       "    <tr>\n",
       "      <th rowspan=\"2\" valign=\"top\">philredcross</th>\n",
       "      <th>0.0</th>\n",
       "      <td>9300</td>\n",
       "    </tr>\n",
       "    <tr>\n",
       "      <th>1.0</th>\n",
       "      <td>452</td>\n",
       "    </tr>\n",
       "    <tr>\n",
       "      <th rowspan=\"2\" valign=\"top\">redcrosscanada</th>\n",
       "      <th>0.0</th>\n",
       "      <td>16274</td>\n",
       "    </tr>\n",
       "    <tr>\n",
       "      <th>1.0</th>\n",
       "      <td>1528</td>\n",
       "    </tr>\n",
       "    <tr>\n",
       "      <th rowspan=\"2\" valign=\"top\">ymca</th>\n",
       "      <th>0.0</th>\n",
       "      <td>1672</td>\n",
       "    </tr>\n",
       "    <tr>\n",
       "      <th>1.0</th>\n",
       "      <td>38</td>\n",
       "    </tr>\n",
       "  </tbody>\n",
       "</table>\n",
       "</div>"
      ],
      "text/plain": [
       "                          id\n",
       "relatedNGO      label       \n",
       "BritishRedCross 0.0    18652\n",
       "                1.0     1702\n",
       "CatholicRelief  0.0     1071\n",
       "                1.0       19\n",
       "Ch_JesusChrist  0.0    16566\n",
       "                1.0       19\n",
       "Habitat_org     0.0     4737\n",
       "                1.0      250\n",
       "ICRC_Nairobi    0.0     1336\n",
       "                1.0      104\n",
       "IFRC_Europe     0.0     4742\n",
       "                1.0       30\n",
       "NepalRedCross   0.0      206\n",
       "                1.0       22\n",
       "RESCUEorg       0.0     2894\n",
       "                1.0       14\n",
       "RedCross        0.0    66318\n",
       "                1.0     1672\n",
       "RedCrossAU      0.0     4996\n",
       "                1.0      606\n",
       "RedCrossLebanon 0.0     6930\n",
       "                1.0       88\n",
       "SalvationArmyUS 0.0     1149\n",
       "                1.0      100\n",
       "SavetheChildren 0.0     4223\n",
       "                1.0      112\n",
       "WorldVision     0.0     4401\n",
       "                1.0      359\n",
       "boyscouts       0.0     8070\n",
       "                1.0        2\n",
       "girlscouts      0.0     2305\n",
       "                1.0      208\n",
       "irishredcross   0.0     1068\n",
       "                1.0       36\n",
       "philredcross    0.0     9300\n",
       "                1.0      452\n",
       "redcrosscanada  0.0    16274\n",
       "                1.0     1528\n",
       "ymca            0.0     1672\n",
       "                1.0       38"
      ]
     },
     "execution_count": 166,
     "metadata": {},
     "output_type": "execute_result"
    }
   ],
   "source": [
    "df.groupby(['relatedNGO','label']).count()[['id']]"
   ]
  },
  {
   "attachments": {},
   "cell_type": "markdown",
   "metadata": {},
   "source": [
    "### Average number of mentions and links text depending on label"
   ]
  },
  {
   "cell_type": "code",
   "execution_count": 168,
   "metadata": {},
   "outputs": [
    {
     "name": "stderr",
     "output_type": "stream",
     "text": [
      "C:\\Users\\tihon\\AppData\\Local\\Temp\\ipykernel_32900\\348340680.py:1: FutureWarning: The default value of numeric_only in DataFrameGroupBy.mean is deprecated. In a future version, numeric_only will default to False. Either specify numeric_only or select only columns which should be valid for the function.\n",
      "  df.groupby(['label']).mean()[['num_mentions','num_links']]\n"
     ]
    },
    {
     "data": {
      "text/html": [
       "<div>\n",
       "<style scoped>\n",
       "    .dataframe tbody tr th:only-of-type {\n",
       "        vertical-align: middle;\n",
       "    }\n",
       "\n",
       "    .dataframe tbody tr th {\n",
       "        vertical-align: top;\n",
       "    }\n",
       "\n",
       "    .dataframe thead th {\n",
       "        text-align: right;\n",
       "    }\n",
       "</style>\n",
       "<table border=\"1\" class=\"dataframe\">\n",
       "  <thead>\n",
       "    <tr style=\"text-align: right;\">\n",
       "      <th></th>\n",
       "      <th>num_mentions</th>\n",
       "      <th>num_links</th>\n",
       "    </tr>\n",
       "    <tr>\n",
       "      <th>label</th>\n",
       "      <th></th>\n",
       "      <th></th>\n",
       "    </tr>\n",
       "  </thead>\n",
       "  <tbody>\n",
       "    <tr>\n",
       "      <th>0.0</th>\n",
       "      <td>1.767028</td>\n",
       "      <td>0.186609</td>\n",
       "    </tr>\n",
       "    <tr>\n",
       "      <th>1.0</th>\n",
       "      <td>1.913735</td>\n",
       "      <td>0.100258</td>\n",
       "    </tr>\n",
       "  </tbody>\n",
       "</table>\n",
       "</div>"
      ],
      "text/plain": [
       "       num_mentions  num_links\n",
       "label                         \n",
       "0.0        1.767028   0.186609\n",
       "1.0        1.913735   0.100258"
      ]
     },
     "execution_count": 168,
     "metadata": {},
     "output_type": "execute_result"
    }
   ],
   "source": [
    "df.groupby(['label']).mean()[['num_mentions','num_links']]"
   ]
  },
  {
   "attachments": {},
   "cell_type": "markdown",
   "metadata": {},
   "source": [
    "### Most popular words for label 0 and 1"
   ]
  },
  {
   "cell_type": "code",
   "execution_count": 115,
   "metadata": {},
   "outputs": [],
   "source": [
    "word_count_0={}\n",
    "word_count_1={}\n",
    "for line in df[df['label']==0]['text_new']:\n",
    "    for word in line:\n",
    "        word_count_0[word]=word_count_0.get(word,0)+1\n",
    "\n",
    "for line in df[df['label']==1]['text_new']:\n",
    "    for word in line:\n",
    "        word_count_1[word]=word_count_1.get(word,0)+1"
   ]
  },
  {
   "cell_type": "code",
   "execution_count": 139,
   "metadata": {},
   "outputs": [
    {
     "name": "stdout",
     "output_type": "stream",
     "text": [
      "[('police', 36536), ('iranian', 36200), ('people', 29617), ('use', 19504), ('voice', 19417)]\n"
     ]
    }
   ],
   "source": [
    "#no answer\n",
    "words_no_answer=sorted(word_count_0.items(),key=lambda x:x[1],reverse=True)\n",
    "print(words_no_answer[:5])"
   ]
  },
  {
   "cell_type": "code",
   "execution_count": 160,
   "metadata": {},
   "outputs": [
    {
     "name": "stdout",
     "output_type": "stream",
     "text": [
      "police 0.9993625836608945\n",
      "iranian 1.0\n",
      "people 0.9809269099482704\n",
      "use 0.9935940142469123\n",
      "voice 0.9997922725384296\n"
     ]
    }
   ],
   "source": [
    "#not answered having this word comparing to all having this word\n",
    "for word_count in words_no_answer[:5]:\n",
    "    word=word_count[0]\n",
    "    print(word,sum(df[df['label']==0]['text_new'].apply(lambda x: word in x))/sum(df['text_new'].apply(lambda x: word in x)))"
   ]
  },
  {
   "cell_type": "code",
   "execution_count": 156,
   "metadata": {},
   "outputs": [
    {
     "name": "stdout",
     "output_type": "stream",
     "text": [
      "[('red', 854), ('cross', 818), ('help', 711), ('donate', 691), ('blood', 634)]\n"
     ]
    }
   ],
   "source": [
    "#answered\n",
    "words_answer=sorted(word_count_1.items(),key=lambda x:x[1],reverse=True)\n",
    "print(words_answer[:5])"
   ]
  },
  {
   "cell_type": "code",
   "execution_count": 161,
   "metadata": {},
   "outputs": [
    {
     "name": "stdout",
     "output_type": "stream",
     "text": [
      "red 0.07674003569303986\n",
      "cross 0.07821813238523476\n",
      "help 0.05292181069958848\n",
      "donate 0.09933260903305913\n",
      "blood 0.10030983733539892\n"
     ]
    }
   ],
   "source": [
    "#answered having this word comparing to all having this word\n",
    "for word_count in words_answer[:5]:\n",
    "    word=word_count[0]\n",
    "    print(word,sum(df[df['label']==1]['text_new'].apply(lambda x: word in x))/sum(df['text_new'].apply(lambda x: word in x)))"
   ]
  },
  {
   "cell_type": "code",
   "execution_count": null,
   "metadata": {},
   "outputs": [],
   "source": [
    "for word_count in words_answer[:5]:\n",
    "    word=word_count[0]\n",
    "    print(word,sum(df['text_new'].apply(lambda x: word in x))/df.shape[0])"
   ]
  },
  {
   "attachments": {},
   "cell_type": "markdown",
   "metadata": {},
   "source": [
    "### Number of words in the tweet"
   ]
  },
  {
   "cell_type": "code",
   "execution_count": 125,
   "metadata": {},
   "outputs": [],
   "source": [
    "import matplotlib.pyplot as plt\n",
    "%matplotlib inline"
   ]
  },
  {
   "cell_type": "code",
   "execution_count": 133,
   "metadata": {},
   "outputs": [
    {
     "data": {
      "image/png": "[encoded data removed]",
      "text/plain": [
       "<Figure size 640x480 with 1 Axes>"
      ]
     },
     "metadata": {},
     "output_type": "display_data"
    }
   ],
   "source": [
    "df[df['label']==0][\"text_new\"].apply(lambda x:len(x)).to_frame().hist(bins=80)\n",
    "plt.title(\"Not answered\")\n",
    "plt.xlabel(\"#words in tweet\")\n",
    "plt.ylabel(\"quantity\")\n",
    "None"
   ]
  },
  {
   "cell_type": "code",
   "execution_count": 134,
   "metadata": {},
   "outputs": [
    {
     "data": {
      "image/png": "[encoded data removed]",
      "text/plain": [
       "<Figure size 640x480 with 1 Axes>"
      ]
     },
     "metadata": {},
     "output_type": "display_data"
    }
   ],
   "source": [
    "df[df['label']==1][\"text_new\"].apply(lambda x:len(x)).to_frame().hist(bins=80)\n",
    "plt.title(\"Answered\")\n",
    "plt.xlabel(\"#words in tweet\")\n",
    "plt.ylabel(\"quantity\")\n",
    "None"
   ]
  },
  {
   "cell_type": "markdown",
   "metadata": {},
   "source": [
    "## Users dataset bot labeling"
   ]
  },
  {
   "cell_type": "code",
   "execution_count": null,
   "metadata": {},
   "outputs": [],
   "source": [
    "df['possible_bot'] = df['tweet_count'].apply(lambda x: 1 if x == 1 else 0)\n",
    "df.loc[(df['followers_count'] == 0) & (df['following_count'] == 0), 'possible_bot'] = 1\n",
    "df"
   ]
  },
  {
   "cell_type": "code",
   "execution_count": null,
   "metadata": {},
   "outputs": [],
   "source": [
    "df.to_csv('users/users_bot_labeled.csv')"
   ]
  }
 ],
 "metadata": {
  "kernelspec": {
   "display_name": "semester_project",
   "language": "python",
   "name": "python3"
  },
  "language_info": {
   "codemirror_mode": {
    "name": "ipython",
    "version": 3
   },
   "file_extension": ".py",
   "mimetype": "text/x-python",
   "name": "python",
   "nbconvert_exporter": "python",
   "pygments_lexer": "ipython3",
   "version": "3.9.16"
  },
  "orig_nbformat": 4,
  "vscode": {
   "interpreter": {
    "hash": "a9215884f317b28951366236cef9f8992a096a5b1fa6c5fa4d454321ff0331c5"
   }
  }
 },
 "nbformat": 4,
 "nbformat_minor": 2
}
